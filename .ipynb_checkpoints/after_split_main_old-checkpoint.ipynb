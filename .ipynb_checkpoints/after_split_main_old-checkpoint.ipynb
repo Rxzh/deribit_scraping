{
 "cells": [
  {
   "cell_type": "code",
   "execution_count": null,
   "metadata": {},
   "outputs": [],
   "source": [
    "#!code ."
   ]
  },
  {
   "cell_type": "code",
   "execution_count": 1,
   "metadata": {
    "id": "ruy331DppbQS"
   },
   "outputs": [],
   "source": [
    "from Cryptocurrency_pricing.Market import deribit_data as dm\n",
    "from Cryptocurrency_pricing.Models.utils import *\n",
    "from Cryptocurrency_pricing.Models.BlackScholes import BlackScholes\n",
    "from Cryptocurrency_pricing.Models.Merton import Merton\n",
    "from Cryptocurrency_pricing.Models.Heston import Heston\n",
    "\n",
    "import numpy as np\n",
    "from sklearn.metrics import mean_squared_error\n",
    "import plotly.graph_objects as go   "
   ]
  },
  {
   "cell_type": "code",
   "execution_count": 2,
   "metadata": {
    "id": "seQxMDPDpbQX"
   },
   "outputs": [],
   "source": [
    "data = dm.Scraper(currency='BTC')"
   ]
  },
  {
   "cell_type": "code",
   "execution_count": 3,
   "metadata": {
    "colab": {
     "base_uri": "https://localhost:8080/"
    },
    "id": "P5U_VxlbpbQY",
    "outputId": "8bb0919c-9363-49ef-9ae1-bad0752543a2"
   },
   "outputs": [
    {
     "name": "stdout",
     "output_type": "stream",
     "text": [
      "Collecting data...\n",
      "Data Collected\n"
     ]
    }
   ],
   "source": [
    "raw_df = data.collect_data(max_workers = 15, save_csv = False)"
   ]
  },
  {
   "cell_type": "code",
   "execution_count": 4,
   "metadata": {
    "id": "lBXr2WdxpbQZ"
   },
   "outputs": [],
   "source": [
    "#raw_df.head()"
   ]
  },
  {
   "cell_type": "code",
   "execution_count": 5,
   "metadata": {
    "id": "UkXJQMJwpbQa"
   },
   "outputs": [],
   "source": [
    "BS = BlackScholes(raw_df.copy(), 'B')\n",
    "M = Merton(raw_df.copy(), 'B')\n",
    "H = Heston(raw_df.copy(), 'B')"
   ]
  },
  {
   "cell_type": "code",
   "execution_count": 7,
   "metadata": {},
   "outputs": [],
   "source": [
    "BS.initialize(reset = True)\n",
    "M.initialize(reset = True)\n",
    "H.initialize(reset = True)"
   ]
  },
  {
   "cell_type": "code",
   "execution_count": 10,
   "metadata": {},
   "outputs": [],
   "source": [
    "BS.append_imp_vol_to_df()\n",
    "#M.append_imp_vol_to_df()\n",
    "H.append_imp_vol_to_df()"
   ]
  },
  {
   "cell_type": "code",
   "execution_count": 11,
   "metadata": {},
   "outputs": [],
   "source": [
    "BS.append_price()\n",
    "#M.append_price()\n",
    "H.append_price()"
   ]
  },
  {
   "cell_type": "code",
   "execution_count": 12,
   "metadata": {},
   "outputs": [
    {
     "data": {
      "text/html": [
       "<div>\n",
       "<style scoped>\n",
       "    .dataframe tbody tr th:only-of-type {\n",
       "        vertical-align: middle;\n",
       "    }\n",
       "\n",
       "    .dataframe tbody tr th {\n",
       "        vertical-align: top;\n",
       "    }\n",
       "\n",
       "    .dataframe thead th {\n",
       "        text-align: right;\n",
       "    }\n",
       "</style>\n",
       "<table border=\"1\" class=\"dataframe\">\n",
       "  <thead>\n",
       "    <tr style=\"text-align: right;\">\n",
       "      <th></th>\n",
       "      <th>S</th>\n",
       "      <th>K</th>\n",
       "      <th>V</th>\n",
       "      <th>_T</th>\n",
       "      <th>bids</th>\n",
       "      <th>asks</th>\n",
       "      <th>last_price</th>\n",
       "      <th>mark_price</th>\n",
       "      <th>option_type</th>\n",
       "      <th>mid_iv</th>\n",
       "      <th>mark_iv</th>\n",
       "      <th>mid</th>\n",
       "      <th>moneyness</th>\n",
       "      <th>I_VOL</th>\n",
       "      <th>IV_moneyness</th>\n",
       "      <th>BS_PRICE</th>\n",
       "    </tr>\n",
       "  </thead>\n",
       "  <tbody>\n",
       "    <tr>\n",
       "      <th>330</th>\n",
       "      <td>34315.86</td>\n",
       "      <td>30000.0</td>\n",
       "      <td>8.2</td>\n",
       "      <td>0.000645</td>\n",
       "      <td>0.000000</td>\n",
       "      <td>0.001532</td>\n",
       "      <td>0.0005</td>\n",
       "      <td>0.000118</td>\n",
       "      <td>P</td>\n",
       "      <td>78.705</td>\n",
       "      <td>129.48</td>\n",
       "      <td>0.000766</td>\n",
       "      <td>1.143862</td>\n",
       "      <td>1.183667e+00</td>\n",
       "      <td>2.899115e+04</td>\n",
       "      <td>0.000765</td>\n",
       "    </tr>\n",
       "    <tr>\n",
       "      <th>181</th>\n",
       "      <td>34332.26</td>\n",
       "      <td>31000.0</td>\n",
       "      <td>52.0</td>\n",
       "      <td>0.000645</td>\n",
       "      <td>0.000500</td>\n",
       "      <td>0.001749</td>\n",
       "      <td>0.0005</td>\n",
       "      <td>0.000620</td>\n",
       "      <td>P</td>\n",
       "      <td>132.765</td>\n",
       "      <td>129.20</td>\n",
       "      <td>0.001124</td>\n",
       "      <td>1.107492</td>\n",
       "      <td>9.254924e-01</td>\n",
       "      <td>3.709621e+04</td>\n",
       "      <td>0.001123</td>\n",
       "    </tr>\n",
       "    <tr>\n",
       "      <th>45</th>\n",
       "      <td>34350.86</td>\n",
       "      <td>32000.0</td>\n",
       "      <td>24.3</td>\n",
       "      <td>0.000645</td>\n",
       "      <td>0.001567</td>\n",
       "      <td>0.003187</td>\n",
       "      <td>0.0025</td>\n",
       "      <td>0.002190</td>\n",
       "      <td>P</td>\n",
       "      <td>130.175</td>\n",
       "      <td>126.04</td>\n",
       "      <td>0.002377</td>\n",
       "      <td>1.073464</td>\n",
       "      <td>6.776612e-01</td>\n",
       "      <td>5.069032e+04</td>\n",
       "      <td>0.002373</td>\n",
       "    </tr>\n",
       "    <tr>\n",
       "      <th>243</th>\n",
       "      <td>34328.97</td>\n",
       "      <td>33000.0</td>\n",
       "      <td>43.8</td>\n",
       "      <td>0.000645</td>\n",
       "      <td>0.004831</td>\n",
       "      <td>0.006637</td>\n",
       "      <td>0.0060</td>\n",
       "      <td>0.005690</td>\n",
       "      <td>P</td>\n",
       "      <td>114.060</td>\n",
       "      <td>115.69</td>\n",
       "      <td>0.005734</td>\n",
       "      <td>1.040272</td>\n",
       "      <td>4.083210e-01</td>\n",
       "      <td>8.407348e+04</td>\n",
       "      <td>0.005719</td>\n",
       "    </tr>\n",
       "    <tr>\n",
       "      <th>33</th>\n",
       "      <td>34351.31</td>\n",
       "      <td>34000.0</td>\n",
       "      <td>20.0</td>\n",
       "      <td>0.000645</td>\n",
       "      <td>0.022581</td>\n",
       "      <td>0.025049</td>\n",
       "      <td>0.0220</td>\n",
       "      <td>0.023351</td>\n",
       "      <td>C</td>\n",
       "      <td>106.850</td>\n",
       "      <td>105.97</td>\n",
       "      <td>0.023815</td>\n",
       "      <td>1.010333</td>\n",
       "      <td>4.768374e-07</td>\n",
       "      <td>7.203988e+10</td>\n",
       "      <td>351.529184</td>\n",
       "    </tr>\n",
       "  </tbody>\n",
       "</table>\n",
       "</div>"
      ],
      "text/plain": [
       "            S        K     V        _T      bids      asks  last_price  \\\n",
       "330  34315.86  30000.0   8.2  0.000645  0.000000  0.001532      0.0005   \n",
       "181  34332.26  31000.0  52.0  0.000645  0.000500  0.001749      0.0005   \n",
       "45   34350.86  32000.0  24.3  0.000645  0.001567  0.003187      0.0025   \n",
       "243  34328.97  33000.0  43.8  0.000645  0.004831  0.006637      0.0060   \n",
       "33   34351.31  34000.0  20.0  0.000645  0.022581  0.025049      0.0220   \n",
       "\n",
       "     mark_price option_type   mid_iv  mark_iv       mid  moneyness  \\\n",
       "330    0.000118           P   78.705   129.48  0.000766   1.143862   \n",
       "181    0.000620           P  132.765   129.20  0.001124   1.107492   \n",
       "45     0.002190           P  130.175   126.04  0.002377   1.073464   \n",
       "243    0.005690           P  114.060   115.69  0.005734   1.040272   \n",
       "33     0.023351           C  106.850   105.97  0.023815   1.010333   \n",
       "\n",
       "            I_VOL  IV_moneyness    BS_PRICE  \n",
       "330  1.183667e+00  2.899115e+04    0.000765  \n",
       "181  9.254924e-01  3.709621e+04    0.001123  \n",
       "45   6.776612e-01  5.069032e+04    0.002373  \n",
       "243  4.083210e-01  8.407348e+04    0.005719  \n",
       "33   4.768374e-07  7.203988e+10  351.529184  "
      ]
     },
     "execution_count": 12,
     "metadata": {},
     "output_type": "execute_result"
    }
   ],
   "source": [
    "BS.df.head()"
   ]
  },
  {
   "cell_type": "code",
   "execution_count": 13,
   "metadata": {},
   "outputs": [
    {
     "data": {
      "text/html": [
       "<div>\n",
       "<style scoped>\n",
       "    .dataframe tbody tr th:only-of-type {\n",
       "        vertical-align: middle;\n",
       "    }\n",
       "\n",
       "    .dataframe tbody tr th {\n",
       "        vertical-align: top;\n",
       "    }\n",
       "\n",
       "    .dataframe thead th {\n",
       "        text-align: right;\n",
       "    }\n",
       "</style>\n",
       "<table border=\"1\" class=\"dataframe\">\n",
       "  <thead>\n",
       "    <tr style=\"text-align: right;\">\n",
       "      <th></th>\n",
       "      <th>S</th>\n",
       "      <th>K</th>\n",
       "      <th>V</th>\n",
       "      <th>_T</th>\n",
       "      <th>bids</th>\n",
       "      <th>asks</th>\n",
       "      <th>last_price</th>\n",
       "      <th>mark_price</th>\n",
       "      <th>option_type</th>\n",
       "      <th>mid_iv</th>\n",
       "      <th>mark_iv</th>\n",
       "      <th>mid</th>\n",
       "      <th>moneyness</th>\n",
       "      <th>I_VOL</th>\n",
       "      <th>IV_moneyness</th>\n",
       "      <th>HESTON_PRICE</th>\n",
       "    </tr>\n",
       "  </thead>\n",
       "  <tbody>\n",
       "    <tr>\n",
       "      <th>330</th>\n",
       "      <td>34315.86</td>\n",
       "      <td>30000.0</td>\n",
       "      <td>8.2</td>\n",
       "      <td>0.000645</td>\n",
       "      <td>0.000000</td>\n",
       "      <td>0.001532</td>\n",
       "      <td>0.0005</td>\n",
       "      <td>0.000118</td>\n",
       "      <td>P</td>\n",
       "      <td>78.705</td>\n",
       "      <td>129.48</td>\n",
       "      <td>0.000766</td>\n",
       "      <td>1.143862</td>\n",
       "      <td>2097151.0</td>\n",
       "      <td>0.016363</td>\n",
       "      <td>-0.000589</td>\n",
       "    </tr>\n",
       "    <tr>\n",
       "      <th>181</th>\n",
       "      <td>34332.26</td>\n",
       "      <td>31000.0</td>\n",
       "      <td>52.0</td>\n",
       "      <td>0.000645</td>\n",
       "      <td>0.000500</td>\n",
       "      <td>0.001749</td>\n",
       "      <td>0.0005</td>\n",
       "      <td>0.000620</td>\n",
       "      <td>P</td>\n",
       "      <td>132.765</td>\n",
       "      <td>129.20</td>\n",
       "      <td>0.001124</td>\n",
       "      <td>1.107492</td>\n",
       "      <td>2097151.0</td>\n",
       "      <td>0.016371</td>\n",
       "      <td>0.000640</td>\n",
       "    </tr>\n",
       "    <tr>\n",
       "      <th>45</th>\n",
       "      <td>34350.86</td>\n",
       "      <td>32000.0</td>\n",
       "      <td>24.3</td>\n",
       "      <td>0.000645</td>\n",
       "      <td>0.001567</td>\n",
       "      <td>0.003187</td>\n",
       "      <td>0.0025</td>\n",
       "      <td>0.002190</td>\n",
       "      <td>P</td>\n",
       "      <td>130.175</td>\n",
       "      <td>126.04</td>\n",
       "      <td>0.002377</td>\n",
       "      <td>1.073464</td>\n",
       "      <td>2097151.0</td>\n",
       "      <td>0.016380</td>\n",
       "      <td>-0.000631</td>\n",
       "    </tr>\n",
       "    <tr>\n",
       "      <th>243</th>\n",
       "      <td>34328.97</td>\n",
       "      <td>33000.0</td>\n",
       "      <td>43.8</td>\n",
       "      <td>0.000645</td>\n",
       "      <td>0.004831</td>\n",
       "      <td>0.006637</td>\n",
       "      <td>0.0060</td>\n",
       "      <td>0.005690</td>\n",
       "      <td>P</td>\n",
       "      <td>114.060</td>\n",
       "      <td>115.69</td>\n",
       "      <td>0.005734</td>\n",
       "      <td>1.040272</td>\n",
       "      <td>2097151.0</td>\n",
       "      <td>0.016369</td>\n",
       "      <td>0.000623</td>\n",
       "    </tr>\n",
       "    <tr>\n",
       "      <th>33</th>\n",
       "      <td>34351.31</td>\n",
       "      <td>34000.0</td>\n",
       "      <td>20.0</td>\n",
       "      <td>0.000645</td>\n",
       "      <td>0.022581</td>\n",
       "      <td>0.025049</td>\n",
       "      <td>0.0220</td>\n",
       "      <td>0.023351</td>\n",
       "      <td>C</td>\n",
       "      <td>106.850</td>\n",
       "      <td>105.97</td>\n",
       "      <td>0.023815</td>\n",
       "      <td>1.010333</td>\n",
       "      <td>2097151.0</td>\n",
       "      <td>0.016380</td>\n",
       "      <td>0.012335</td>\n",
       "    </tr>\n",
       "  </tbody>\n",
       "</table>\n",
       "</div>"
      ],
      "text/plain": [
       "            S        K     V        _T      bids      asks  last_price  \\\n",
       "330  34315.86  30000.0   8.2  0.000645  0.000000  0.001532      0.0005   \n",
       "181  34332.26  31000.0  52.0  0.000645  0.000500  0.001749      0.0005   \n",
       "45   34350.86  32000.0  24.3  0.000645  0.001567  0.003187      0.0025   \n",
       "243  34328.97  33000.0  43.8  0.000645  0.004831  0.006637      0.0060   \n",
       "33   34351.31  34000.0  20.0  0.000645  0.022581  0.025049      0.0220   \n",
       "\n",
       "     mark_price option_type   mid_iv  mark_iv       mid  moneyness      I_VOL  \\\n",
       "330    0.000118           P   78.705   129.48  0.000766   1.143862  2097151.0   \n",
       "181    0.000620           P  132.765   129.20  0.001124   1.107492  2097151.0   \n",
       "45     0.002190           P  130.175   126.04  0.002377   1.073464  2097151.0   \n",
       "243    0.005690           P  114.060   115.69  0.005734   1.040272  2097151.0   \n",
       "33     0.023351           C  106.850   105.97  0.023815   1.010333  2097151.0   \n",
       "\n",
       "     IV_moneyness  HESTON_PRICE  \n",
       "330      0.016363     -0.000589  \n",
       "181      0.016371      0.000640  \n",
       "45       0.016380     -0.000631  \n",
       "243      0.016369      0.000623  \n",
       "33       0.016380      0.012335  "
      ]
     },
     "execution_count": 13,
     "metadata": {},
     "output_type": "execute_result"
    }
   ],
   "source": [
    "H.df.head()"
   ]
  },
  {
   "cell_type": "code",
   "execution_count": null,
   "metadata": {},
   "outputs": [],
   "source": []
  },
  {
   "cell_type": "code",
   "execution_count": null,
   "metadata": {},
   "outputs": [],
   "source": []
  },
  {
   "cell_type": "code",
   "execution_count": null,
   "metadata": {},
   "outputs": [],
   "source": []
  },
  {
   "cell_type": "code",
   "execution_count": null,
   "metadata": {
    "id": "HgY3BYxZpbQa"
   },
   "outputs": [],
   "source": [
    "#option.init_merton(m = 0.625038301534241, lam =0.0010591027301815744, v = 0.511097066109511,  )\n",
    "option.init_merton(reset=True)\n",
    "option.init_heston(reset=True)"
   ]
  },
  {
   "cell_type": "code",
   "execution_count": null,
   "metadata": {
    "colab": {
     "base_uri": "https://localhost:8080/"
    },
    "id": "FSy_Tja1pbQb",
    "outputId": "e1a02df2-2e81-4fd7-bf34-3dd9b5fd5201"
   },
   "outputs": [],
   "source": [
    "option.append_imp_vol_to_df()\n",
    "option.append_loc_vol_to_df()"
   ]
  },
  {
   "cell_type": "code",
   "execution_count": null,
   "metadata": {
    "id": "vLilW9U0pbQc"
   },
   "outputs": [],
   "source": [
    "option.append_BS_price()"
   ]
  },
  {
   "cell_type": "code",
   "execution_count": null,
   "metadata": {
    "id": "BbCiGmYbpbQd"
   },
   "outputs": [],
   "source": [
    "option.df.dropna(inplace=True)\n",
    "option.df = option.df.drop(option.df[option.df.BS_PRICE >= 5].index) #a revoir\n",
    "#option.df = option.df.drop(option.df[option.df.IV_moneyness >= .5*10**6].index)"
   ]
  },
  {
   "cell_type": "code",
   "execution_count": null,
   "metadata": {
    "id": "iwnyQ-cKpbQe"
   },
   "outputs": [],
   "source": [
    "#option.optimize_merton(tol = 1e-6, max_iter = 600)\n",
    "\n"
   ]
  },
  {
   "cell_type": "code",
   "execution_count": null,
   "metadata": {
    "colab": {
     "base_uri": "https://localhost:8080/"
    },
    "id": "hhd0Q8KKpbQe",
    "outputId": "21fd2a0c-99a3-476e-c2bd-a09920d53536"
   },
   "outputs": [],
   "source": [
    "option.append_Merton_price()\n",
    "option.append_Heston_prices()"
   ]
  },
  {
   "cell_type": "code",
   "execution_count": null,
   "metadata": {
    "colab": {
     "base_uri": "https://localhost:8080/",
     "height": 542
    },
    "id": "6peleswMpbQf",
    "outputId": "20b6bf26-5489-4dcf-b750-1016aa03f578"
   },
   "outputs": [],
   "source": [
    "x = option.df['S']/option.df['K']\n",
    "\n",
    "#x = option.df['K']\n",
    "y = option.df['_T']\n",
    "z = option.df['L_VOL']\n",
    "z2 = option.df['mark_iv']/100\n",
    "\n",
    "\n",
    "fig = go.Figure(data=[go.Scatter3d(x=x, y=y, z=z , mode='markers', name='Local vol')])\n",
    "#fig = go.Figure(data=[go.Surface(x=x, y=y, z=z , name='Local vol')])\n",
    "                      #go.Scatter3d(x=x, y=y, z=z2 , mode='markers', name='Implied vol deribit')])\n",
    "\"\"\"\n",
    "fig = go.Figure(data=[go.Scatter3d(x=x, y=y, z=z , mode='markers', name='Black&Scholes model Price'),\n",
    "                      go.Scatter3d(x=x, y=y, z=z2, mode='markers', name='Real Market Price')])\n",
    "\"\"\"\n",
    "\n",
    "fig.update_scenes(xaxis_title_text='S/K', yaxis_title_text='Exp', zaxis_title_text='IV') \n",
    "fig.show()"
   ]
  },
  {
   "cell_type": "code",
   "execution_count": null,
   "metadata": {
    "colab": {
     "base_uri": "https://localhost:8080/",
     "height": 517
    },
    "id": "1doWZ77S56JM",
    "outputId": "e7530c3b-4287-48dc-fc6e-27846a45c68b"
   },
   "outputs": [],
   "source": [
    "#LINEAR INTERPOLATION\n",
    "new_df = option.df[['moneyness', '_T', 'I_VOL_BS']]\n",
    "new_df = new_df.pivot(index = '_T',columns='moneyness', values='I_VOL_BS')\n",
    "\n",
    "new_df=new_df.interpolate(method='linear',axis=1,limit_direction='both')\n",
    "z = new_df\n",
    "x = list(new_df.columns)\n",
    "y = list(new_df.index)\n",
    "\n",
    "\n",
    "fig = go.Figure(data=[go.Surface(z=z, x=x, y=y)])\n",
    "fig.update_layout(title='Implied Volatility', autosize=False,\n",
    "                  width=500, height=500,\n",
    "                  margin=dict(l=65, r=50, b=65, t=90))\n",
    "fig.update_scenes(xaxis_title_text='S/K', yaxis_title_text='Exp', zaxis_title_text='IV') \n",
    "fig.show()"
   ]
  },
  {
   "cell_type": "code",
   "execution_count": null,
   "metadata": {},
   "outputs": [],
   "source": [
    "#LINEAR INTERPOLATION\n",
    "new_df = option.df[['moneyness', '_T', 'L_VOL']]\n",
    "new_df = new_df.pivot(index = '_T',columns='moneyness', values='L_VOL')\n",
    "\n",
    "new_df=new_df.interpolate(method='linear',axis=1,limit_direction='both')\n",
    "z = new_df\n",
    "x = list(new_df.columns)\n",
    "y = list(new_df.index)\n",
    "\n",
    "\n",
    "fig = go.Figure(data=[go.Surface(z=z, x=x, y=y)])\n",
    "fig.update_layout(title='Local Volatility', autosize=False,\n",
    "                  width=500, height=500,\n",
    "                  margin=dict(l=65, r=50, b=65, t=90))\n",
    "\n",
    "fig.update_scenes(xaxis_title_text='S/K', yaxis_title_text='Exp', zaxis_title_text='Local Vol') \n",
    "fig.show()"
   ]
  },
  {
   "cell_type": "code",
   "execution_count": null,
   "metadata": {
    "colab": {
     "base_uri": "https://localhost:8080/",
     "height": 517
    },
    "id": "Og6fheux7Y7J",
    "outputId": "d46e2435-0c31-4e79-a170-29765f0ea94b"
   },
   "outputs": [],
   "source": [
    "\n",
    "new_df = option.df[['K', '_T', 'L_VOL']]\n",
    "new_df = new_df.pivot(index = '_T',columns='K', values='L_VOL')\n",
    "\n",
    "new_df=new_df.interpolate(method='spline',order=2,axis=1)\n",
    "z = new_df\n",
    "x = list(new_df.columns)\n",
    "y = list(new_df.index)\n",
    "\n",
    "\n",
    "fig = go.Figure(data=[go.Surface(z=z, x=x, y=y)])\n",
    "fig.update_layout(title='xxx', autosize=False,\n",
    "                  width=500, height=500,\n",
    "                  margin=dict(l=65, r=50, b=65, t=90))\n",
    "fig.show()\n"
   ]
  },
  {
   "cell_type": "code",
   "execution_count": null,
   "metadata": {
    "colab": {
     "base_uri": "https://localhost:8080/"
    },
    "id": "M0l310TZpbQj",
    "outputId": "54c01ce5-5157-41b6-cc35-9dfb5e921b64"
   },
   "outputs": [],
   "source": [
    "#option.init_merton(m = 0.625038301534241, lam =0.0010591027301815744, v = 0.511097066109511,  )\n",
    "option.init_merton(reset=True)\n",
    "option.append_Merton_price()\n",
    "rms = mean_squared_error(option.df['MERTON_PRICE'], option.df['mid'], squared=False)\n",
    "print('Root Mean Squared Error = {}%'.format(round(rms*100,3)))"
   ]
  },
  {
   "cell_type": "code",
   "execution_count": null,
   "metadata": {
    "id": "evZhDRJFpbQj"
   },
   "outputs": [],
   "source": [
    "option.df.dropna(inplace=True)\n",
    "#option.df = option.df.drop(option.df[option.df._T >= .08].index)"
   ]
  },
  {
   "cell_type": "code",
   "execution_count": null,
   "metadata": {
    "colab": {
     "base_uri": "https://localhost:8080/",
     "height": 576
    },
    "id": "VQ6QUEw8pbQk",
    "outputId": "33bece9a-e7d1-43d4-d4c5-05ba4b0df493"
   },
   "outputs": [],
   "source": [
    "x = option.df['K']\n",
    "y = option.df['_T']\n",
    "z = option.df['BS_PRICE']\n",
    "z2 = option.df['mid']\n",
    "z3 = option.df['MERTON_PRICE']\n",
    "z4 = option.df['HESTON_PRICE']\n",
    "\n",
    "\n",
    "#fig = go.Figure(data=[go.Scatter3d(x=x, y=y, z=z , mode='markers', name='BS price')])\n",
    "\n",
    "fig = go.Figure(data=[go.Scatter3d(x=x, y=y, z=z , mode='markers', name='Black&Scholes model Price', marker=dict(opacity=0.8)),\n",
    "                      go.Scatter3d(x=x, y=y, z=z2, mode='markers', name='Real Market Price', marker=dict(opacity=0.8)),\n",
    "                      go.Scatter3d(x=x, y=y, z=z3, mode='markers', name='Merton Model Price', marker=dict(opacity=0.8),),\n",
    "                      go.Scatter3d(x=x, y=y, z=z4, mode='markers', name='Heston Model Price', marker=dict(opacity=0.8))])\n",
    "\n",
    "\n",
    "fig.update_scenes(xaxis_title_text='Strike', yaxis_title_text='Exp', zaxis_title_text='Price') \n",
    "fig.show()\n",
    "\n",
    "rms_merton = mean_squared_error(option.df['mid'], option.df['MERTON_PRICE'], squared=False)\n",
    "rms_bs     = mean_squared_error(option.df['mid'], option.df['BS_PRICE'], squared=False)\n",
    "rms_heston = mean_squared_error(option.df['mid'], option.df['HESTON_PRICE'], squared=False)\n",
    "\n",
    "print('Root Mean Squared Error | MERTON = {} %'.format(round(rms_merton*100,6)))\n",
    "print('Root Mean Squared Error | B&S    = {} %'.format(round(rms_bs*100,6)))\n",
    "print('Root Mean Squared Error | HESTON    = {} %'.format(round(rms_heston*100,6)))"
   ]
  },
  {
   "cell_type": "code",
   "execution_count": null,
   "metadata": {},
   "outputs": [],
   "source": []
  },
  {
   "cell_type": "markdown",
   "metadata": {},
   "source": [
    "## Test optim Heston"
   ]
  },
  {
   "cell_type": "code",
   "execution_count": null,
   "metadata": {},
   "outputs": [],
   "source": [
    "x0 = np.array([0.08, 0.10, 0.8, 3, 0.25])\n",
    "res = option.optimize_heston(x0,tol = 1e-5, max_iter =300 )"
   ]
  },
  {
   "cell_type": "code",
   "execution_count": null,
   "metadata": {},
   "outputs": [],
   "source": []
  },
  {
   "cell_type": "code",
   "execution_count": null,
   "metadata": {},
   "outputs": [],
   "source": [
    "option.init_heston(theta = res)\n",
    "option.append_Heston_prices()"
   ]
  },
  {
   "cell_type": "code",
   "execution_count": null,
   "metadata": {},
   "outputs": [],
   "source": []
  },
  {
   "cell_type": "code",
   "execution_count": null,
   "metadata": {},
   "outputs": [],
   "source": [
    "np.size(option.df['S'])"
   ]
  },
  {
   "cell_type": "markdown",
   "metadata": {},
   "source": [
    "finir git\n",
    "tests unitaires\n",
    "heston + sauts"
   ]
  },
  {
   "cell_type": "code",
   "execution_count": null,
   "metadata": {},
   "outputs": [],
   "source": []
  }
 ],
 "metadata": {
  "colab": {
   "collapsed_sections": [],
   "name": "main_notebook-Copy1.ipynb",
   "provenance": []
  },
  "kernelspec": {
   "display_name": "Python 3",
   "language": "python",
   "name": "python3"
  },
  "language_info": {
   "codemirror_mode": {
    "name": "ipython",
    "version": 3
   },
   "file_extension": ".py",
   "mimetype": "text/x-python",
   "name": "python",
   "nbconvert_exporter": "python",
   "pygments_lexer": "ipython3",
   "version": "3.7.4"
  }
 },
 "nbformat": 4,
 "nbformat_minor": 1
}
