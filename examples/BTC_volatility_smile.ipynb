{
 "cells": [
  {
   "cell_type": "markdown",
   "metadata": {},
   "source": [
    "### Volatility Smile and Term Structure of Bitcoin"
   ]
  },
  {
   "cell_type": "code",
   "execution_count": 1,
   "metadata": {},
   "outputs": [],
   "source": [
    "import pandas as pd\n",
    "import numpy as np\n",
    "import matplotlib.pyplot as plt\n",
    "import sys\n",
    "import requests\n",
    "import yfinance as yf\n",
    "from sklearn.neighbors import KNeighborsRegressor\n",
    "\n",
    "# Use this function below if you want to get updated option data\n",
    "sys.path.append(\"..\")\n",
    "import deribit_data as dm"
   ]
  },
  {
   "cell_type": "markdown",
   "metadata": {},
   "source": [
    "### 1. Download and Filter Data"
   ]
  },
  {
   "cell_type": "markdown",
   "metadata": {},
   "source": [
    "#### Load and Filter Bitcoin Call Options Data"
   ]
  },
  {
   "cell_type": "code",
   "execution_count": 8,
   "metadata": {},
   "outputs": [],
   "source": [
    "# Run this command below to download the most recent data\n",
    "'''\n",
    "btc_data = dm.Options(\"BTC\")\n",
    "btc_data.collect_data(save_csv=True)\n",
    "'''\n",
    "\n",
    "# Pre-loading downloaded data\n",
    "btc_df = pd.read_csv(\"options_data.csv\", index_col=0)\n",
    "btc_df['mid_iv'] = (btc_df.bid_iv + btc_df.ask_iv)/2\n",
    "\n",
    "# We want to select the last value to get the December 2020 Call\n",
    "expiries = list(set(btc_df.expiration_timestamp))\n",
    "expiries.sort()\n",
    "date = expiries[-1]"
   ]
  },
  {
   "cell_type": "code",
   "execution_count": 9,
   "metadata": {},
   "outputs": [
    {
     "data": {
      "text/plain": [
       "Timestamp('2020-12-25 08:00:00')"
      ]
     },
     "execution_count": 9,
     "metadata": {},
     "output_type": "execute_result"
    }
   ],
   "source": [
    "# Confirm correct date\n",
    "pd.to_datetime(date, unit='ms')"
   ]
  },
  {
   "cell_type": "code",
   "execution_count": 10,
   "metadata": {},
   "outputs": [
    {
     "data": {
      "text/html": [
       "<div>\n",
       "<style scoped>\n",
       "    .dataframe tbody tr th:only-of-type {\n",
       "        vertical-align: middle;\n",
       "    }\n",
       "\n",
       "    .dataframe tbody tr th {\n",
       "        vertical-align: top;\n",
       "    }\n",
       "\n",
       "    .dataframe thead th {\n",
       "        text-align: right;\n",
       "    }\n",
       "</style>\n",
       "<table border=\"1\" class=\"dataframe\">\n",
       "  <thead>\n",
       "    <tr style=\"text-align: right;\">\n",
       "      <th></th>\n",
       "      <th>strike</th>\n",
       "      <th>mid_iv</th>\n",
       "    </tr>\n",
       "  </thead>\n",
       "  <tbody>\n",
       "    <tr>\n",
       "      <th>117</th>\n",
       "      <td>3000.0</td>\n",
       "      <td>107.045</td>\n",
       "    </tr>\n",
       "    <tr>\n",
       "      <th>29</th>\n",
       "      <td>4000.0</td>\n",
       "      <td>101.295</td>\n",
       "    </tr>\n",
       "    <tr>\n",
       "      <th>48</th>\n",
       "      <td>5000.0</td>\n",
       "      <td>98.415</td>\n",
       "    </tr>\n",
       "    <tr>\n",
       "      <th>288</th>\n",
       "      <td>6000.0</td>\n",
       "      <td>92.555</td>\n",
       "    </tr>\n",
       "    <tr>\n",
       "      <th>80</th>\n",
       "      <td>7000.0</td>\n",
       "      <td>91.085</td>\n",
       "    </tr>\n",
       "  </tbody>\n",
       "</table>\n",
       "</div>"
      ],
      "text/plain": [
       "     strike   mid_iv\n",
       "117  3000.0  107.045\n",
       "29   4000.0  101.295\n",
       "48   5000.0   98.415\n",
       "288  6000.0   92.555\n",
       "80   7000.0   91.085"
      ]
     },
     "execution_count": 10,
     "metadata": {},
     "output_type": "execute_result"
    }
   ],
   "source": [
    "# Only extract the call options for Dec. 25, 2020 expiry\n",
    "btc_call = btc_df[btc_df.option_type == 'call']\n",
    "btc_subset = btc_call[btc_call.expiration_timestamp == date].sort_values('strike')\n",
    "btc_subset[['strike', 'mid_iv',]].head()"
   ]
  },
  {
   "cell_type": "markdown",
   "metadata": {},
   "source": [
    "### 2. Simple KNN Regression\n",
    "This will be useful to help emphasis the \"smile\" in the plot."
   ]
  },
  {
   "cell_type": "code",
   "execution_count": 11,
   "metadata": {},
   "outputs": [],
   "source": [
    "# BTC Implied Volatility KNN Fit\n",
    "btc_knn = KNeighborsRegressor(n_neighbors=2)\n",
    "\n",
    "btc_knn.fit(btc_subset.strike.values.reshape(-1,1), \n",
    "            btc_subset.mid_iv.values.reshape(-1,1))\n",
    "\n",
    "btc_smoothed_fit = btc_knn.predict(btc_subset.strike.values.reshape(-1,1))"
   ]
  },
  {
   "cell_type": "code",
   "execution_count": 12,
   "metadata": {},
   "outputs": [
    {
     "data": {
      "image/png": "[encoded data removed]",
      "text/plain": [
       "<Figure size 432x288 with 1 Axes>"
      ]
     },
     "metadata": {
      "needs_background": "light"
     },
     "output_type": "display_data"
    }
   ],
   "source": [
    "plt.plot(btc_subset.strike, btc_smoothed_fit, c='r', alpha=0.50, label='KNN Fit')\n",
    "plt.scatter(btc_subset.strike, btc_subset.mid_iv, label='Mid Implied Volatility')\n",
    "plt.title(\"25DEC20_BTC_CALL\")\n",
    "plt.xlabel(\"BTC Strike ($USD)\")\n",
    "plt.ylabel(\"Implied Volatility\");"
   ]
  },
  {
   "cell_type": "markdown",
   "metadata": {},
   "source": [
    "### 3. Analyze Term Structure of ATM Options\n",
    "\n",
    "Inspired from skew.com's excellent data analytics. https://analytics.skew.com/dashboard/bitcoin-options"
   ]
  },
  {
   "cell_type": "code",
   "execution_count": 7,
   "metadata": {},
   "outputs": [
    {
     "data": {
      "image/png": "[encoded data removed]",
      "text/plain": [
       "<Figure size 432x288 with 1 Axes>"
      ]
     },
     "metadata": {
      "needs_background": "light"
     },
     "output_type": "display_data"
    }
   ],
   "source": [
    "# Consider all calls and puts near current ATM price of $9000\n",
    "atm_options = btc_df[(btc_df.strike == 9000)]\n",
    "vol_structure = atm_options.groupby(\"expiration_timestamp\").mean()\n",
    "\n",
    "plt.plot(pd.to_datetime(vol_structure.index, unit='ms').strftime('%d%b%y'), \n",
    "            vol_structure.mid_iv, marker='o')\n",
    "plt.title(\"BTC ATM Volatility Term Structure\")\n",
    "plt.xlabel(\"Maturity\")\n",
    "plt.xticks(rotation=0)\n",
    "plt.ylabel(\"Implied Volatility\")\n",
    "plt.tight_layout();"
   ]
  }
 ],
 "metadata": {
  "kernelspec": {
   "display_name": "Python 3",
   "language": "python",
   "name": "python3"
  },
  "language_info": {
   "codemirror_mode": {
    "name": "ipython",
    "version": 3
   },
   "file_extension": ".py",
   "mimetype": "text/x-python",
   "name": "python",
   "nbconvert_exporter": "python",
   "pygments_lexer": "ipython3",
   "version": "3.7.4"
  }
 },
 "nbformat": 4,
 "nbformat_minor": 4
}
