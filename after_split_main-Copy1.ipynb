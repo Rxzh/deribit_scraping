{
 "cells": [
  {
   "cell_type": "code",
   "execution_count": 1,
   "metadata": {},
   "outputs": [],
   "source": [
    "#!code ."
   ]
  },
  {
   "cell_type": "markdown",
   "metadata": {},
   "source": [
    "# Pricing d'option sur cryptomonnaies\n",
    "#### LL"
   ]
  },
  {
   "cell_type": "markdown",
   "metadata": {},
   "source": [
    "### Imports\n",
    "\n",
    "Les imports se font de la manière suivante\n",
    "- Le scraper se trouve dans le module Market\n",
    "- Les modèles sont dans le module Models\n",
    "- Des fonctions utiles se trouvent dans le sous-module utils du module Models, on y retrouve des fonctions d'évaluations pour les modèles"
   ]
  },
  {
   "cell_type": "code",
   "execution_count": 2,
   "metadata": {
    "id": "ruy331DppbQS"
   },
   "outputs": [],
   "source": [
    "from Cryptocurrency_pricing.Market import deribit_data as dm\n",
    "from Cryptocurrency_pricing.Models.utils import *\n",
    "from Cryptocurrency_pricing.Models import BlackScholes, Merton, Heston\n",
    "\n",
    "import numpy as np\n",
    "import plotly.graph_objects as go   "
   ]
  },
  {
   "cell_type": "markdown",
   "metadata": {},
   "source": [
    "### Scraping\n",
    "\n",
    "Pour effectuer le scraping de données depuis deribit, il faut instancier la classe Scraper du module deribit_data, l'argument $\\verb+currency+$ permet de choisir la cryptomonnaie sur laquelle on veut récupérer les données du marché (BTC, ETH, etc...) "
   ]
  },
  {
   "cell_type": "code",
   "execution_count": 3,
   "metadata": {
    "id": "seQxMDPDpbQX"
   },
   "outputs": [],
   "source": [
    "data = dm.Scraper(currency='BTC')"
   ]
  },
  {
   "cell_type": "markdown",
   "metadata": {},
   "source": [
    "Une fois le scraper initialisé, on collecte la donnée par la méthode $\\verb+collect_data+$.\n",
    "- $\\tt{max\\_workers}$ determine le nombre de threads qui vont marcher en parallèle pour scraper la donnée (20 max pour ne pas surcharger les requêtes)\n",
    "- $\\tt{save\\_csv = True}$ pour sauvegarder la donnée scrapée en csv.\n"
   ]
  },
  {
   "cell_type": "code",
   "execution_count": 4,
   "metadata": {
    "colab": {
     "base_uri": "https://localhost:8080/"
    },
    "id": "P5U_VxlbpbQY",
    "outputId": "8bb0919c-9363-49ef-9ae1-bad0752543a2"
   },
   "outputs": [
    {
     "name": "stdout",
     "output_type": "stream",
     "text": [
      "Collecting data...\n",
      "Data Collected\n"
     ]
    }
   ],
   "source": [
    "raw_df = data.collect_data(max_workers = 15, save_csv = False)"
   ]
  },
  {
   "cell_type": "code",
   "execution_count": 5,
   "metadata": {
    "id": "lBXr2WdxpbQZ"
   },
   "outputs": [
    {
     "data": {
      "text/html": [
       "<div>\n",
       "<style scoped>\n",
       "    .dataframe tbody tr th:only-of-type {\n",
       "        vertical-align: middle;\n",
       "    }\n",
       "\n",
       "    .dataframe tbody tr th {\n",
       "        vertical-align: top;\n",
       "    }\n",
       "\n",
       "    .dataframe thead th {\n",
       "        text-align: right;\n",
       "    }\n",
       "</style>\n",
       "<table border=\"1\" class=\"dataframe\">\n",
       "  <thead>\n",
       "    <tr style=\"text-align: right;\">\n",
       "      <th></th>\n",
       "      <th>underlying_price</th>\n",
       "      <th>underlying_index</th>\n",
       "      <th>timestamp</th>\n",
       "      <th>stats</th>\n",
       "      <th>state</th>\n",
       "      <th>settlement_price</th>\n",
       "      <th>open_interest</th>\n",
       "      <th>min_price</th>\n",
       "      <th>max_price</th>\n",
       "      <th>mark_price</th>\n",
       "      <th>...</th>\n",
       "      <th>change_id</th>\n",
       "      <th>bids</th>\n",
       "      <th>bid_iv</th>\n",
       "      <th>best_bid_price</th>\n",
       "      <th>best_bid_amount</th>\n",
       "      <th>best_ask_price</th>\n",
       "      <th>best_ask_amount</th>\n",
       "      <th>asks</th>\n",
       "      <th>ask_iv</th>\n",
       "      <th>option_type</th>\n",
       "    </tr>\n",
       "  </thead>\n",
       "  <tbody>\n",
       "    <tr>\n",
       "      <th>0</th>\n",
       "      <td>32751.42</td>\n",
       "      <td>BTC-24SEP21</td>\n",
       "      <td>1625748933402</td>\n",
       "      <td>{'volume': 1.2, 'price_change': 0.0, 'low': 0....</td>\n",
       "      <td>open</td>\n",
       "      <td>0.32</td>\n",
       "      <td>545.5</td>\n",
       "      <td>0.245</td>\n",
       "      <td>0.4055</td>\n",
       "      <td>0.313144</td>\n",
       "      <td>...</td>\n",
       "      <td>32830765789</td>\n",
       "      <td>[[0.3075, 0.6], [0.0005, 0.3]]</td>\n",
       "      <td>86.42</td>\n",
       "      <td>0.3075</td>\n",
       "      <td>0.6</td>\n",
       "      <td>0.656</td>\n",
       "      <td>0.1</td>\n",
       "      <td>[[0.656, 0.1], [0.7065, 0.1], [2.158, 0.5]]</td>\n",
       "      <td>282.79</td>\n",
       "      <td>P</td>\n",
       "    </tr>\n",
       "    <tr>\n",
       "      <th>1</th>\n",
       "      <td>34617.04</td>\n",
       "      <td>BTC-24JUN22</td>\n",
       "      <td>1625748934409</td>\n",
       "      <td>{'volume': None, 'price_change': None, 'low': ...</td>\n",
       "      <td>open</td>\n",
       "      <td>0.39</td>\n",
       "      <td>0.0</td>\n",
       "      <td>0.316</td>\n",
       "      <td>0.4955</td>\n",
       "      <td>0.393491</td>\n",
       "      <td>...</td>\n",
       "      <td>32830770122</td>\n",
       "      <td>[[0.3575, 9.0], [0.169, 0.5], [0.0005, 0.1]]</td>\n",
       "      <td>80.49</td>\n",
       "      <td>0.3575</td>\n",
       "      <td>9.0</td>\n",
       "      <td>0.437</td>\n",
       "      <td>9.0</td>\n",
       "      <td>[[0.437, 9.0]]</td>\n",
       "      <td>105.02</td>\n",
       "      <td>C</td>\n",
       "    </tr>\n",
       "    <tr>\n",
       "      <th>2</th>\n",
       "      <td>32567.44</td>\n",
       "      <td>BTC-9JUL21</td>\n",
       "      <td>1625748933402</td>\n",
       "      <td>{'volume': 0.2, 'price_change': 0.9524, 'low':...</td>\n",
       "      <td>open</td>\n",
       "      <td>0.05</td>\n",
       "      <td>20.7</td>\n",
       "      <td>0.019</td>\n",
       "      <td>0.0925</td>\n",
       "      <td>0.052298</td>\n",
       "      <td>...</td>\n",
       "      <td>32830771573</td>\n",
       "      <td>[[0.0495, 1.0], [0.0485, 1.3], [0.047, 4.0], [...</td>\n",
       "      <td>77.11</td>\n",
       "      <td>0.0495</td>\n",
       "      <td>1.0</td>\n",
       "      <td>0.055</td>\n",
       "      <td>1.0</td>\n",
       "      <td>[[0.055, 1.0], [0.056, 0.8], [0.0565, 4.0], [0...</td>\n",
       "      <td>129.42</td>\n",
       "      <td>C</td>\n",
       "    </tr>\n",
       "  </tbody>\n",
       "</table>\n",
       "<p>3 rows × 27 columns</p>\n",
       "</div>"
      ],
      "text/plain": [
       "   underlying_price underlying_index      timestamp  \\\n",
       "0          32751.42      BTC-24SEP21  1625748933402   \n",
       "1          34617.04      BTC-24JUN22  1625748934409   \n",
       "2          32567.44       BTC-9JUL21  1625748933402   \n",
       "\n",
       "                                               stats state  settlement_price  \\\n",
       "0  {'volume': 1.2, 'price_change': 0.0, 'low': 0....  open              0.32   \n",
       "1  {'volume': None, 'price_change': None, 'low': ...  open              0.39   \n",
       "2  {'volume': 0.2, 'price_change': 0.9524, 'low':...  open              0.05   \n",
       "\n",
       "   open_interest  min_price  max_price  mark_price  ...    change_id  \\\n",
       "0          545.5      0.245     0.4055    0.313144  ...  32830765789   \n",
       "1            0.0      0.316     0.4955    0.393491  ...  32830770122   \n",
       "2           20.7      0.019     0.0925    0.052298  ...  32830771573   \n",
       "\n",
       "                                                bids  bid_iv best_bid_price  \\\n",
       "0                     [[0.3075, 0.6], [0.0005, 0.3]]   86.42         0.3075   \n",
       "1       [[0.3575, 9.0], [0.169, 0.5], [0.0005, 0.1]]   80.49         0.3575   \n",
       "2  [[0.0495, 1.0], [0.0485, 1.3], [0.047, 4.0], [...   77.11         0.0495   \n",
       "\n",
       "   best_bid_amount best_ask_price  best_ask_amount  \\\n",
       "0              0.6          0.656              0.1   \n",
       "1              9.0          0.437              9.0   \n",
       "2              1.0          0.055              1.0   \n",
       "\n",
       "                                                asks  ask_iv  option_type  \n",
       "0        [[0.656, 0.1], [0.7065, 0.1], [2.158, 0.5]]  282.79            P  \n",
       "1                                     [[0.437, 9.0]]  105.02            C  \n",
       "2  [[0.055, 1.0], [0.056, 0.8], [0.0565, 4.0], [0...  129.42            C  \n",
       "\n",
       "[3 rows x 27 columns]"
      ]
     },
     "execution_count": 5,
     "metadata": {},
     "output_type": "execute_result"
    }
   ],
   "source": [
    "raw_df.head(3)"
   ]
  },
  {
   "cell_type": "markdown",
   "metadata": {},
   "source": [
    "La donnée brute sur les options contient beaucoup d'information, elles seront traitées en amont dans les modèles."
   ]
  },
  {
   "cell_type": "markdown",
   "metadata": {},
   "source": [
    "### Initialisation des modèles"
   ]
  },
  {
   "cell_type": "markdown",
   "metadata": {},
   "source": [
    "Les modèles s'initialisent de la façon suivante, avec deux paramètres, le dataframe brut scrapé, ainsi que le type d'option à garder : $$\\tt{ \\{C : Call, P : Put, B : Both\\} }$$"
   ]
  },
  {
   "cell_type": "code",
   "execution_count": 6,
   "metadata": {
    "id": "UkXJQMJwpbQa"
   },
   "outputs": [],
   "source": [
    "BS = BlackScholes(raw_df.copy(), 'B')\n",
    "M = Merton(raw_df.copy(), 'B')\n",
    "H = Heston(raw_df.copy(), 'B')"
   ]
  },
  {
   "cell_type": "markdown",
   "metadata": {},
   "source": [
    "Chaque modèle possède désormais un DataFrame $\\tt{df}$ trié lors de l'initialisation des modèles par la pipeline de tri du module $\\tt{utils}$, il ne contient que les informations utiles pour la suite."
   ]
  },
  {
   "cell_type": "code",
   "execution_count": 7,
   "metadata": {},
   "outputs": [
    {
     "data": {
      "text/html": [
       "<div>\n",
       "<style scoped>\n",
       "    .dataframe tbody tr th:only-of-type {\n",
       "        vertical-align: middle;\n",
       "    }\n",
       "\n",
       "    .dataframe tbody tr th {\n",
       "        vertical-align: top;\n",
       "    }\n",
       "\n",
       "    .dataframe thead th {\n",
       "        text-align: right;\n",
       "    }\n",
       "</style>\n",
       "<table border=\"1\" class=\"dataframe\">\n",
       "  <thead>\n",
       "    <tr style=\"text-align: right;\">\n",
       "      <th></th>\n",
       "      <th>S</th>\n",
       "      <th>K</th>\n",
       "      <th>V</th>\n",
       "      <th>_T</th>\n",
       "      <th>bids</th>\n",
       "      <th>asks</th>\n",
       "      <th>last_price</th>\n",
       "      <th>mark_price</th>\n",
       "      <th>option_type</th>\n",
       "      <th>mid_iv</th>\n",
       "      <th>mark_iv</th>\n",
       "      <th>mid</th>\n",
       "      <th>moneyness</th>\n",
       "    </tr>\n",
       "  </thead>\n",
       "  <tbody>\n",
       "    <tr>\n",
       "      <th>339</th>\n",
       "      <td>32558.45</td>\n",
       "      <td>70000.0</td>\n",
       "      <td>13.5</td>\n",
       "      <td>0.058569</td>\n",
       "      <td>0.000000</td>\n",
       "      <td>0.001732</td>\n",
       "      <td>0.0005</td>\n",
       "      <td>0.000470</td>\n",
       "      <td>C</td>\n",
       "      <td>63.495</td>\n",
       "      <td>116.86</td>\n",
       "      <td>0.000866</td>\n",
       "      <td>0.465121</td>\n",
       "    </tr>\n",
       "    <tr>\n",
       "      <th>270</th>\n",
       "      <td>32698.34</td>\n",
       "      <td>20000.0</td>\n",
       "      <td>6.0</td>\n",
       "      <td>0.135281</td>\n",
       "      <td>0.013634</td>\n",
       "      <td>0.017604</td>\n",
       "      <td>0.0150</td>\n",
       "      <td>0.015344</td>\n",
       "      <td>P</td>\n",
       "      <td>106.255</td>\n",
       "      <td>106.45</td>\n",
       "      <td>0.015619</td>\n",
       "      <td>1.634917</td>\n",
       "    </tr>\n",
       "    <tr>\n",
       "      <th>152</th>\n",
       "      <td>32646.63</td>\n",
       "      <td>25000.0</td>\n",
       "      <td>37.0</td>\n",
       "      <td>0.135281</td>\n",
       "      <td>0.036266</td>\n",
       "      <td>0.045839</td>\n",
       "      <td>0.0390</td>\n",
       "      <td>0.040028</td>\n",
       "      <td>P</td>\n",
       "      <td>95.840</td>\n",
       "      <td>95.85</td>\n",
       "      <td>0.041052</td>\n",
       "      <td>1.305865</td>\n",
       "    </tr>\n",
       "    <tr>\n",
       "      <th>338</th>\n",
       "      <td>32688.05</td>\n",
       "      <td>30000.0</td>\n",
       "      <td>78.6</td>\n",
       "      <td>0.135281</td>\n",
       "      <td>0.084499</td>\n",
       "      <td>0.166046</td>\n",
       "      <td>0.0917</td>\n",
       "      <td>0.089078</td>\n",
       "      <td>P</td>\n",
       "      <td>89.540</td>\n",
       "      <td>89.67</td>\n",
       "      <td>0.125273</td>\n",
       "      <td>1.089602</td>\n",
       "    </tr>\n",
       "    <tr>\n",
       "      <th>100</th>\n",
       "      <td>32631.88</td>\n",
       "      <td>35000.0</td>\n",
       "      <td>35.8</td>\n",
       "      <td>0.135281</td>\n",
       "      <td>0.094340</td>\n",
       "      <td>0.103670</td>\n",
       "      <td>0.1000</td>\n",
       "      <td>0.097285</td>\n",
       "      <td>C</td>\n",
       "      <td>85.580</td>\n",
       "      <td>85.78</td>\n",
       "      <td>0.099005</td>\n",
       "      <td>0.932339</td>\n",
       "    </tr>\n",
       "    <tr>\n",
       "      <th>219</th>\n",
       "      <td>32674.05</td>\n",
       "      <td>35000.0</td>\n",
       "      <td>23.5</td>\n",
       "      <td>0.135281</td>\n",
       "      <td>0.152621</td>\n",
       "      <td>0.181662</td>\n",
       "      <td>0.1705</td>\n",
       "      <td>0.168963</td>\n",
       "      <td>P</td>\n",
       "      <td>86.140</td>\n",
       "      <td>85.77</td>\n",
       "      <td>0.167142</td>\n",
       "      <td>0.933544</td>\n",
       "    </tr>\n",
       "    <tr>\n",
       "      <th>75</th>\n",
       "      <td>32629.45</td>\n",
       "      <td>40000.0</td>\n",
       "      <td>89.7</td>\n",
       "      <td>0.135281</td>\n",
       "      <td>0.050794</td>\n",
       "      <td>0.084427</td>\n",
       "      <td>0.0550</td>\n",
       "      <td>0.053618</td>\n",
       "      <td>C</td>\n",
       "      <td>84.990</td>\n",
       "      <td>84.88</td>\n",
       "      <td>0.067611</td>\n",
       "      <td>0.815736</td>\n",
       "    </tr>\n",
       "    <tr>\n",
       "      <th>222</th>\n",
       "      <td>32678.43</td>\n",
       "      <td>45000.0</td>\n",
       "      <td>64.5</td>\n",
       "      <td>0.135281</td>\n",
       "      <td>0.028144</td>\n",
       "      <td>0.036527</td>\n",
       "      <td>0.0325</td>\n",
       "      <td>0.029920</td>\n",
       "      <td>C</td>\n",
       "      <td>85.865</td>\n",
       "      <td>85.57</td>\n",
       "      <td>0.032335</td>\n",
       "      <td>0.726187</td>\n",
       "    </tr>\n",
       "    <tr>\n",
       "      <th>252</th>\n",
       "      <td>32694.24</td>\n",
       "      <td>50000.0</td>\n",
       "      <td>38.1</td>\n",
       "      <td>0.135281</td>\n",
       "      <td>0.015848</td>\n",
       "      <td>0.021537</td>\n",
       "      <td>0.0195</td>\n",
       "      <td>0.017713</td>\n",
       "      <td>C</td>\n",
       "      <td>87.840</td>\n",
       "      <td>87.85</td>\n",
       "      <td>0.018692</td>\n",
       "      <td>0.653885</td>\n",
       "    </tr>\n",
       "    <tr>\n",
       "      <th>352</th>\n",
       "      <td>32682.69</td>\n",
       "      <td>55000.0</td>\n",
       "      <td>26.0</td>\n",
       "      <td>0.135281</td>\n",
       "      <td>0.009952</td>\n",
       "      <td>0.027159</td>\n",
       "      <td>0.0115</td>\n",
       "      <td>0.011459</td>\n",
       "      <td>C</td>\n",
       "      <td>91.320</td>\n",
       "      <td>91.24</td>\n",
       "      <td>0.018556</td>\n",
       "      <td>0.594231</td>\n",
       "    </tr>\n",
       "    <tr>\n",
       "      <th>179</th>\n",
       "      <td>32646.56</td>\n",
       "      <td>70000.0</td>\n",
       "      <td>12.9</td>\n",
       "      <td>0.135281</td>\n",
       "      <td>0.003123</td>\n",
       "      <td>0.008000</td>\n",
       "      <td>0.0040</td>\n",
       "      <td>0.004422</td>\n",
       "      <td>C</td>\n",
       "      <td>102.580</td>\n",
       "      <td>102.37</td>\n",
       "      <td>0.005562</td>\n",
       "      <td>0.466379</td>\n",
       "    </tr>\n",
       "    <tr>\n",
       "      <th>299</th>\n",
       "      <td>32826.96</td>\n",
       "      <td>16000.0</td>\n",
       "      <td>22.4</td>\n",
       "      <td>0.211994</td>\n",
       "      <td>0.006242</td>\n",
       "      <td>0.149900</td>\n",
       "      <td>0.0120</td>\n",
       "      <td>0.011687</td>\n",
       "      <td>P</td>\n",
       "      <td>108.240</td>\n",
       "      <td>108.63</td>\n",
       "      <td>0.078071</td>\n",
       "      <td>2.051685</td>\n",
       "    </tr>\n",
       "    <tr>\n",
       "      <th>107</th>\n",
       "      <td>32754.10</td>\n",
       "      <td>18000.0</td>\n",
       "      <td>83.5</td>\n",
       "      <td>0.211994</td>\n",
       "      <td>0.014568</td>\n",
       "      <td>0.063798</td>\n",
       "      <td>0.0175</td>\n",
       "      <td>0.017995</td>\n",
       "      <td>P</td>\n",
       "      <td>103.950</td>\n",
       "      <td>104.37</td>\n",
       "      <td>0.039183</td>\n",
       "      <td>1.819672</td>\n",
       "    </tr>\n",
       "    <tr>\n",
       "      <th>125</th>\n",
       "      <td>32761.60</td>\n",
       "      <td>20000.0</td>\n",
       "      <td>16.8</td>\n",
       "      <td>0.211994</td>\n",
       "      <td>0.023743</td>\n",
       "      <td>0.040094</td>\n",
       "      <td>0.0255</td>\n",
       "      <td>0.026373</td>\n",
       "      <td>P</td>\n",
       "      <td>100.490</td>\n",
       "      <td>100.65</td>\n",
       "      <td>0.031918</td>\n",
       "      <td>1.638080</td>\n",
       "    </tr>\n",
       "    <tr>\n",
       "      <th>290</th>\n",
       "      <td>32817.35</td>\n",
       "      <td>24000.0</td>\n",
       "      <td>6.0</td>\n",
       "      <td>0.211994</td>\n",
       "      <td>0.048511</td>\n",
       "      <td>0.090632</td>\n",
       "      <td>0.0550</td>\n",
       "      <td>0.051829</td>\n",
       "      <td>P</td>\n",
       "      <td>95.070</td>\n",
       "      <td>95.17</td>\n",
       "      <td>0.069571</td>\n",
       "      <td>1.367390</td>\n",
       "    </tr>\n",
       "    <tr>\n",
       "      <th>19</th>\n",
       "      <td>32755.43</td>\n",
       "      <td>32000.0</td>\n",
       "      <td>9.6</td>\n",
       "      <td>0.211994</td>\n",
       "      <td>0.130402</td>\n",
       "      <td>0.236432</td>\n",
       "      <td>0.1765</td>\n",
       "      <td>0.174539</td>\n",
       "      <td>C</td>\n",
       "      <td>90.020</td>\n",
       "      <td>90.04</td>\n",
       "      <td>0.183417</td>\n",
       "      <td>1.023607</td>\n",
       "    </tr>\n",
       "    <tr>\n",
       "      <th>168</th>\n",
       "      <td>32768.57</td>\n",
       "      <td>32000.0</td>\n",
       "      <td>54.8</td>\n",
       "      <td>0.211994</td>\n",
       "      <td>0.142657</td>\n",
       "      <td>0.185291</td>\n",
       "      <td>0.1475</td>\n",
       "      <td>0.151246</td>\n",
       "      <td>P</td>\n",
       "      <td>90.040</td>\n",
       "      <td>90.04</td>\n",
       "      <td>0.163974</td>\n",
       "      <td>1.024018</td>\n",
       "    </tr>\n",
       "    <tr>\n",
       "      <th>47</th>\n",
       "      <td>32754.81</td>\n",
       "      <td>36000.0</td>\n",
       "      <td>18.0</td>\n",
       "      <td>0.211994</td>\n",
       "      <td>0.201982</td>\n",
       "      <td>0.242671</td>\n",
       "      <td>0.2180</td>\n",
       "      <td>0.225696</td>\n",
       "      <td>P</td>\n",
       "      <td>89.515</td>\n",
       "      <td>89.48</td>\n",
       "      <td>0.222327</td>\n",
       "      <td>0.909856</td>\n",
       "    </tr>\n",
       "    <tr>\n",
       "      <th>302</th>\n",
       "      <td>32826.96</td>\n",
       "      <td>36000.0</td>\n",
       "      <td>8.6</td>\n",
       "      <td>0.211994</td>\n",
       "      <td>0.117927</td>\n",
       "      <td>0.132395</td>\n",
       "      <td>0.1290</td>\n",
       "      <td>0.127296</td>\n",
       "      <td>C</td>\n",
       "      <td>89.255</td>\n",
       "      <td>89.47</td>\n",
       "      <td>0.125161</td>\n",
       "      <td>0.911860</td>\n",
       "    </tr>\n",
       "    <tr>\n",
       "      <th>88</th>\n",
       "      <td>32752.46</td>\n",
       "      <td>40000.0</td>\n",
       "      <td>49.5</td>\n",
       "      <td>0.211994</td>\n",
       "      <td>0.078671</td>\n",
       "      <td>0.116888</td>\n",
       "      <td>0.0930</td>\n",
       "      <td>0.091834</td>\n",
       "      <td>C</td>\n",
       "      <td>89.705</td>\n",
       "      <td>89.62</td>\n",
       "      <td>0.097779</td>\n",
       "      <td>0.818812</td>\n",
       "    </tr>\n",
       "    <tr>\n",
       "      <th>279</th>\n",
       "      <td>32818.39</td>\n",
       "      <td>48000.0</td>\n",
       "      <td>12.1</td>\n",
       "      <td>0.211994</td>\n",
       "      <td>0.039830</td>\n",
       "      <td>0.081791</td>\n",
       "      <td>0.0485</td>\n",
       "      <td>0.050328</td>\n",
       "      <td>C</td>\n",
       "      <td>91.255</td>\n",
       "      <td>91.29</td>\n",
       "      <td>0.060810</td>\n",
       "      <td>0.683716</td>\n",
       "    </tr>\n",
       "    <tr>\n",
       "      <th>242</th>\n",
       "      <td>32809.03</td>\n",
       "      <td>50000.0</td>\n",
       "      <td>10.4</td>\n",
       "      <td>0.211994</td>\n",
       "      <td>0.038213</td>\n",
       "      <td>0.063673</td>\n",
       "      <td>0.0460</td>\n",
       "      <td>0.043515</td>\n",
       "      <td>C</td>\n",
       "      <td>91.830</td>\n",
       "      <td>91.84</td>\n",
       "      <td>0.050943</td>\n",
       "      <td>0.656181</td>\n",
       "    </tr>\n",
       "    <tr>\n",
       "      <th>181</th>\n",
       "      <td>32774.81</td>\n",
       "      <td>56000.0</td>\n",
       "      <td>30.5</td>\n",
       "      <td>0.211994</td>\n",
       "      <td>0.025959</td>\n",
       "      <td>0.079206</td>\n",
       "      <td>0.0275</td>\n",
       "      <td>0.029183</td>\n",
       "      <td>C</td>\n",
       "      <td>94.065</td>\n",
       "      <td>94.01</td>\n",
       "      <td>0.052582</td>\n",
       "      <td>0.585264</td>\n",
       "    </tr>\n",
       "    <tr>\n",
       "      <th>114</th>\n",
       "      <td>32754.10</td>\n",
       "      <td>64000.0</td>\n",
       "      <td>10.9</td>\n",
       "      <td>0.211994</td>\n",
       "      <td>0.016084</td>\n",
       "      <td>0.048573</td>\n",
       "      <td>0.0190</td>\n",
       "      <td>0.018556</td>\n",
       "      <td>C</td>\n",
       "      <td>97.670</td>\n",
       "      <td>97.44</td>\n",
       "      <td>0.032328</td>\n",
       "      <td>0.511783</td>\n",
       "    </tr>\n",
       "    <tr>\n",
       "      <th>248</th>\n",
       "      <td>32809.03</td>\n",
       "      <td>72000.0</td>\n",
       "      <td>17.2</td>\n",
       "      <td>0.211994</td>\n",
       "      <td>0.006796</td>\n",
       "      <td>0.056675</td>\n",
       "      <td>0.0110</td>\n",
       "      <td>0.012777</td>\n",
       "      <td>C</td>\n",
       "      <td>101.250</td>\n",
       "      <td>100.93</td>\n",
       "      <td>0.031735</td>\n",
       "      <td>0.455681</td>\n",
       "    </tr>\n",
       "  </tbody>\n",
       "</table>\n",
       "</div>"
      ],
      "text/plain": [
       "            S        K     V        _T      bids      asks  last_price  \\\n",
       "339  32558.45  70000.0  13.5  0.058569  0.000000  0.001732      0.0005   \n",
       "270  32698.34  20000.0   6.0  0.135281  0.013634  0.017604      0.0150   \n",
       "152  32646.63  25000.0  37.0  0.135281  0.036266  0.045839      0.0390   \n",
       "338  32688.05  30000.0  78.6  0.135281  0.084499  0.166046      0.0917   \n",
       "100  32631.88  35000.0  35.8  0.135281  0.094340  0.103670      0.1000   \n",
       "219  32674.05  35000.0  23.5  0.135281  0.152621  0.181662      0.1705   \n",
       "75   32629.45  40000.0  89.7  0.135281  0.050794  0.084427      0.0550   \n",
       "222  32678.43  45000.0  64.5  0.135281  0.028144  0.036527      0.0325   \n",
       "252  32694.24  50000.0  38.1  0.135281  0.015848  0.021537      0.0195   \n",
       "352  32682.69  55000.0  26.0  0.135281  0.009952  0.027159      0.0115   \n",
       "179  32646.56  70000.0  12.9  0.135281  0.003123  0.008000      0.0040   \n",
       "299  32826.96  16000.0  22.4  0.211994  0.006242  0.149900      0.0120   \n",
       "107  32754.10  18000.0  83.5  0.211994  0.014568  0.063798      0.0175   \n",
       "125  32761.60  20000.0  16.8  0.211994  0.023743  0.040094      0.0255   \n",
       "290  32817.35  24000.0   6.0  0.211994  0.048511  0.090632      0.0550   \n",
       "19   32755.43  32000.0   9.6  0.211994  0.130402  0.236432      0.1765   \n",
       "168  32768.57  32000.0  54.8  0.211994  0.142657  0.185291      0.1475   \n",
       "47   32754.81  36000.0  18.0  0.211994  0.201982  0.242671      0.2180   \n",
       "302  32826.96  36000.0   8.6  0.211994  0.117927  0.132395      0.1290   \n",
       "88   32752.46  40000.0  49.5  0.211994  0.078671  0.116888      0.0930   \n",
       "279  32818.39  48000.0  12.1  0.211994  0.039830  0.081791      0.0485   \n",
       "242  32809.03  50000.0  10.4  0.211994  0.038213  0.063673      0.0460   \n",
       "181  32774.81  56000.0  30.5  0.211994  0.025959  0.079206      0.0275   \n",
       "114  32754.10  64000.0  10.9  0.211994  0.016084  0.048573      0.0190   \n",
       "248  32809.03  72000.0  17.2  0.211994  0.006796  0.056675      0.0110   \n",
       "\n",
       "     mark_price option_type   mid_iv  mark_iv       mid  moneyness  \n",
       "339    0.000470           C   63.495   116.86  0.000866   0.465121  \n",
       "270    0.015344           P  106.255   106.45  0.015619   1.634917  \n",
       "152    0.040028           P   95.840    95.85  0.041052   1.305865  \n",
       "338    0.089078           P   89.540    89.67  0.125273   1.089602  \n",
       "100    0.097285           C   85.580    85.78  0.099005   0.932339  \n",
       "219    0.168963           P   86.140    85.77  0.167142   0.933544  \n",
       "75     0.053618           C   84.990    84.88  0.067611   0.815736  \n",
       "222    0.029920           C   85.865    85.57  0.032335   0.726187  \n",
       "252    0.017713           C   87.840    87.85  0.018692   0.653885  \n",
       "352    0.011459           C   91.320    91.24  0.018556   0.594231  \n",
       "179    0.004422           C  102.580   102.37  0.005562   0.466379  \n",
       "299    0.011687           P  108.240   108.63  0.078071   2.051685  \n",
       "107    0.017995           P  103.950   104.37  0.039183   1.819672  \n",
       "125    0.026373           P  100.490   100.65  0.031918   1.638080  \n",
       "290    0.051829           P   95.070    95.17  0.069571   1.367390  \n",
       "19     0.174539           C   90.020    90.04  0.183417   1.023607  \n",
       "168    0.151246           P   90.040    90.04  0.163974   1.024018  \n",
       "47     0.225696           P   89.515    89.48  0.222327   0.909856  \n",
       "302    0.127296           C   89.255    89.47  0.125161   0.911860  \n",
       "88     0.091834           C   89.705    89.62  0.097779   0.818812  \n",
       "279    0.050328           C   91.255    91.29  0.060810   0.683716  \n",
       "242    0.043515           C   91.830    91.84  0.050943   0.656181  \n",
       "181    0.029183           C   94.065    94.01  0.052582   0.585264  \n",
       "114    0.018556           C   97.670    97.44  0.032328   0.511783  \n",
       "248    0.012777           C  101.250   100.93  0.031735   0.455681  "
      ]
     },
     "execution_count": 7,
     "metadata": {},
     "output_type": "execute_result"
    }
   ],
   "source": [
    "BS.df.tail(25)"
   ]
  },
  {
   "cell_type": "markdown",
   "metadata": {},
   "source": [
    "La méthode $\\tt{initialize}$ permet d'initialiser les paramètres propres à chaque modèle, depuis un vecteur $\\theta$, le booléen $\\tt{reset}$ permet de choisir de réinitialiser aux derniers paramètres calibrés enregistrés."
   ]
  },
  {
   "cell_type": "code",
   "execution_count": 8,
   "metadata": {},
   "outputs": [],
   "source": [
    "BS.initialize(reset = True)\n",
    "M.initialize(reset = True)\n",
    "H.initialize(reset = True)"
   ]
  },
  {
   "cell_type": "markdown",
   "metadata": {},
   "source": [
    "### Ajouts des volatiliés implicites"
   ]
  },
  {
   "cell_type": "markdown",
   "metadata": {},
   "source": [
    "La méthode append_imp_vol_to_df ajoute une colonne au DataFrame du modèle avec les volatilités implicites, calculées  dans le module $\\tt{common\\_all}$"
   ]
  },
  {
   "cell_type": "code",
   "execution_count": 9,
   "metadata": {},
   "outputs": [],
   "source": [
    "BS.append_imp_vol_to_df()\n",
    "M.append_imp_vol_to_df()\n",
    "H.append_imp_vol_to_df()"
   ]
  },
  {
   "cell_type": "code",
   "execution_count": 60,
   "metadata": {},
   "outputs": [
    {
     "name": "stderr",
     "output_type": "stream",
     "text": [
      "/Users/pierrebelamri/Documents/GitHub/deribit_scraping/Cryptocurrency_pricing/Models/common_all.py:196: RuntimeWarning:\n",
      "\n",
      "invalid value encountered in double_scalars\n",
      "\n"
     ]
    }
   ],
   "source": [
    "BS.append_loc_vol_to_df()\n",
    "M.append_loc_vol_to_df()\n",
    "H.append_loc_vol_to_df()"
   ]
  },
  {
   "cell_type": "markdown",
   "metadata": {},
   "source": [
    "### Ajouts des Prix respectifs de chaque modèles aux df \n",
    "\n",
    "Chaque modèle possède une méthode $\\tt{Price}$ qui calcule le prix d'une option sous ce modèle."
   ]
  },
  {
   "cell_type": "code",
   "execution_count": 10,
   "metadata": {},
   "outputs": [
    {
     "name": "stdout",
     "output_type": "stream",
     "text": [
      "Black-Scholes Price : $3626.812075362676\n",
      "Merton Price        : $3629.7543747284208\n",
      "Heston Price        : $2996.9214525019\n",
      "Market Price        : $2636.8577679300006\n"
     ]
    }
   ],
   "source": [
    "S = 34205.37\n",
    "K = 35000.0\n",
    "T = 0.067142\n",
    "v = 0.028870\n",
    "Flag = 'C'\n",
    "print(\"Black-Scholes Price : ${}\".format(S*BS.Price(S=S, K=K, T=T, sigma=v, CallPutFlag=Flag)))\n",
    "print(\"Merton Price        : ${}\".format(S*M.Price(S=S, K=K, T=T, sigma=v, CallPutFlag=Flag)))\n",
    "print(\"Heston Price        : ${}\".format(S*H.Price(S=S, K=K, T=T, sigma=v, CallPutFlag=Flag)))\n",
    "print(\"Market Price        : ${}\".format(S*0.077089))"
   ]
  },
  {
   "cell_type": "markdown",
   "metadata": {},
   "source": [
    "La vectorisation de cette fonction et son application aux lignes du DataFrame permet de calculer une liste de prix qui pourront être comparés avec ceux du marché. Cela ce fait via la méthode $\\tt{append\\_price}$."
   ]
  },
  {
   "cell_type": "code",
   "execution_count": 11,
   "metadata": {},
   "outputs": [
    {
     "data": {
      "text/html": [
       "<div>\n",
       "<style scoped>\n",
       "    .dataframe tbody tr th:only-of-type {\n",
       "        vertical-align: middle;\n",
       "    }\n",
       "\n",
       "    .dataframe tbody tr th {\n",
       "        vertical-align: top;\n",
       "    }\n",
       "\n",
       "    .dataframe thead th {\n",
       "        text-align: right;\n",
       "    }\n",
       "</style>\n",
       "<table border=\"1\" class=\"dataframe\">\n",
       "  <thead>\n",
       "    <tr style=\"text-align: right;\">\n",
       "      <th></th>\n",
       "      <th>BS_PRICE</th>\n",
       "      <th>mid</th>\n",
       "    </tr>\n",
       "  </thead>\n",
       "  <tbody>\n",
       "    <tr>\n",
       "      <th>232</th>\n",
       "      <td>0.000006</td>\n",
       "      <td>0.000952</td>\n",
       "    </tr>\n",
       "    <tr>\n",
       "      <th>254</th>\n",
       "      <td>0.000240</td>\n",
       "      <td>0.004061</td>\n",
       "    </tr>\n",
       "    <tr>\n",
       "      <th>224</th>\n",
       "      <td>0.000958</td>\n",
       "      <td>0.001192</td>\n",
       "    </tr>\n",
       "    <tr>\n",
       "      <th>358</th>\n",
       "      <td>0.001834</td>\n",
       "      <td>0.029851</td>\n",
       "    </tr>\n",
       "    <tr>\n",
       "      <th>283</th>\n",
       "      <td>0.003862</td>\n",
       "      <td>0.026545</td>\n",
       "    </tr>\n",
       "  </tbody>\n",
       "</table>\n",
       "</div>"
      ],
      "text/plain": [
       "     BS_PRICE       mid\n",
       "232  0.000006  0.000952\n",
       "254  0.000240  0.004061\n",
       "224  0.000958  0.001192\n",
       "358  0.001834  0.029851\n",
       "283  0.003862  0.026545"
      ]
     },
     "execution_count": 11,
     "metadata": {},
     "output_type": "execute_result"
    }
   ],
   "source": [
    "BS.append_price()\n",
    "M.append_price()\n",
    "H.append_price()\n",
    "\n",
    "BS.df[['BS_PRICE','mid']].head()"
   ]
  },
  {
   "cell_type": "code",
   "execution_count": 12,
   "metadata": {},
   "outputs": [],
   "source": [
    "bad_prices_indexes = H.df[H.df.mid >= 1].index\n",
    "\n",
    "\n",
    "BS.df = BS.df.drop(bad_prices_indexes)\n",
    "H.df = H.df.drop(bad_prices_indexes)\n",
    "M.df = M.df.drop(bad_prices_indexes)\n",
    "\n",
    "bad_prices_indexes =  BS.df[BS.df.BS_PRICE >= 1].index\n",
    "\n",
    "BS.df = BS.df.drop(bad_prices_indexes)\n",
    "H.df = H.df.drop(bad_prices_indexes)\n",
    "M.df = M.df.drop(bad_prices_indexes)\n",
    "\n",
    "\n",
    "bad_prices_indexes =  M.df[M.df.MERTON_PRICE >= 1].index\n",
    "\n",
    "BS.df = BS.df.drop(bad_prices_indexes)\n",
    "H.df = H.df.drop(bad_prices_indexes)\n",
    "M.df = M.df.drop(bad_prices_indexes)\n",
    "\n",
    "bad_prices_indexes =  H.df[H.df.HESTON_PRICE >= 1].index\n",
    "\n",
    "BS.df = BS.df.drop(bad_prices_indexes)\n",
    "H.df = H.df.drop(bad_prices_indexes)\n",
    "M.df = M.df.drop(bad_prices_indexes)\n",
    "\n",
    "\n"
   ]
  },
  {
   "cell_type": "code",
   "execution_count": 13,
   "metadata": {},
   "outputs": [],
   "source": [
    "#H.df[H.df.mid >= 0].index"
   ]
  },
  {
   "cell_type": "markdown",
   "metadata": {},
   "source": [
    "### Optimisation des paramètres (pour Merton et Heston)"
   ]
  },
  {
   "cell_type": "code",
   "execution_count": 14,
   "metadata": {},
   "outputs": [
    {
     "data": {
      "text/plain": [
       "array([0.80612604, 0.43853186, 0.04723601, 0.32496829, 0.17656341])"
      ]
     },
     "execution_count": 14,
     "metadata": {},
     "output_type": "execute_result"
    }
   ],
   "source": [
    "H.optimize(x0 = None, tol = 1e-4, max_iter =700, update_when_done=True )"
   ]
  },
  {
   "cell_type": "code",
   "execution_count": 15,
   "metadata": {},
   "outputs": [
    {
     "data": {
      "text/plain": [
       "array([0.01084344, 0.0010937 , 0.00020984])"
      ]
     },
     "execution_count": 15,
     "metadata": {},
     "output_type": "execute_result"
    }
   ],
   "source": [
    "M.optimize(tol = 1e-4, max_iter=700, update_when_done=True)"
   ]
  },
  {
   "cell_type": "code",
   "execution_count": 145,
   "metadata": {},
   "outputs": [
    {
     "data": {
      "application/vnd.plotly.v1+json": {
       "config": {
        "plotlyServerURL": "https://plot.ly"
       },
       "data": [
        {
         "marker": {
          "opacity": 0.8
         },
         "mode": "markers",
         "name": "Real Market Price",
         "type": "scatter3d",
         "x": [
          26000,
          28000,
          29000,
          30000,
          31000,
          32000,
          33000,
          34000,
          35000,
          36000,
          37000,
          38000,
          40000,
          30000,
          31000,
          32000,
          33000,
          34000,
          35000,
          25000,
          26000,
          28000,
          30000,
          31000,
          32000,
          33000,
          34000,
          35000,
          36000,
          37000,
          38000,
          40000,
          42000,
          45000,
          25000,
          26000,
          28000,
          30000,
          32000,
          34000,
          36000,
          38000,
          40000,
          42000,
          45000,
          50000,
          20000,
          24000,
          25000,
          26000,
          28000,
          30000,
          32000,
          34000,
          35000,
          36000,
          40000,
          45000,
          50000,
          55000,
          70000,
          20000,
          25000,
          30000,
          35000,
          40000,
          45000,
          50000,
          55000,
          70000,
          16000,
          18000,
          20000,
          24000,
          32000,
          36000,
          40000,
          48000,
          50000,
          56000,
          64000,
          72000
         ],
         "y": [
          0.0010346174882654004,
          0.0010346174882654004,
          0.0010346174882654004,
          0.0010346174882654004,
          0.0010346174882654004,
          0.0010346174882654004,
          0.0010346174882654004,
          0.0010346174882654004,
          0.0010346174882654004,
          0.0010346174882654004,
          0.0010346174882654004,
          0.0010346174882654004,
          0.0010346174882654004,
          0.003774343515662661,
          0.003774343515662661,
          0.003774343515662661,
          0.003774343515662661,
          0.003774343515662661,
          0.003774343515662661,
          0.02021269968004622,
          0.02021269968004622,
          0.02021269968004622,
          0.02021269968004622,
          0.02021269968004622,
          0.02021269968004622,
          0.02021269968004622,
          0.02021269968004622,
          0.02021269968004622,
          0.02021269968004622,
          0.02021269968004622,
          0.02021269968004622,
          0.02021269968004622,
          0.02021269968004622,
          0.02021269968004622,
          0.03939078187182704,
          0.03939078187182704,
          0.03939078187182704,
          0.03939078187182704,
          0.03939078187182704,
          0.03939078187182704,
          0.03939078187182704,
          0.03939078187182704,
          0.03939078187182704,
          0.03939078187182704,
          0.03939078187182704,
          0.03939078187182704,
          0.05856886406360787,
          0.05856886406360787,
          0.05856886406360787,
          0.05856886406360787,
          0.05856886406360787,
          0.05856886406360787,
          0.05856886406360787,
          0.05856886406360787,
          0.05856886406360787,
          0.05856886406360787,
          0.05856886406360787,
          0.05856886406360787,
          0.05856886406360787,
          0.05856886406360787,
          0.05856886406360787,
          0.13528119283073115,
          0.13528119283073115,
          0.13528119283073115,
          0.13528119283073115,
          0.13528119283073115,
          0.13528119283073115,
          0.13528119283073115,
          0.13528119283073115,
          0.13528119283073115,
          0.21199352159785445,
          0.21199352159785445,
          0.21199352159785445,
          0.21199352159785445,
          0.21199352159785445,
          0.21199352159785445,
          0.21199352159785445,
          0.21199352159785445,
          0.21199352159785445,
          0.21199352159785445,
          0.21199352159785445,
          0.21199352159785445
         ],
         "z": [
          5.7e-06,
          0.0002403,
          0.00095946,
          0.00183861,
          0.0038753,
          0.00930307,
          0.00937491,
          0.00242846,
          0.00072539,
          0.00010761,
          1.599e-05,
          1.77e-06,
          1e-08,
          0.00466631,
          0.00881971,
          0.01640267,
          0.01695014,
          0.00683446,
          0.00268143,
          0.00366258,
          0.00504185,
          0.01029788,
          0.02071735,
          0.02850563,
          0.03993986,
          0.04148772,
          0.02877023,
          0.01930142,
          0.01264453,
          0.00854913,
          0.00555161,
          0.00286828,
          0.0013527,
          0.00030744,
          0.00892555,
          0.01205006,
          0.02102054,
          0.03531954,
          0.0575821,
          0.04467046,
          0.02513883,
          0.01393152,
          0.0076541,
          0.00442408,
          0.00237509,
          0.00069557,
          0.0051123,
          0.01303257,
          0.01661725,
          0.02057849,
          0.03179251,
          0.04862205,
          0.07193914,
          0.06010959,
          0.04764194,
          0.03877439,
          0.01558219,
          0.00587258,
          0.00283571,
          0.00167067,
          0.00046995,
          0.01534417,
          0.04002768,
          0.08907795,
          0.09728535,
          0.05361775,
          0.02991998,
          0.01771265,
          0.01145919,
          0.00442211,
          0.01168674,
          0.01799513,
          0.02637319,
          0.05182888,
          0.15124585,
          0.12729558,
          0.09183438,
          0.05032786,
          0.04351485,
          0.02918264,
          0.01855595,
          0.01277666
         ]
        },
        {
         "marker": {
          "opacity": 0.8
         },
         "mode": "markers",
         "name": "BlackScholes Model Price",
         "type": "scatter3d",
         "x": [
          26000,
          28000,
          29000,
          30000,
          31000,
          32000,
          33000,
          34000,
          35000,
          36000,
          37000,
          38000,
          40000,
          30000,
          31000,
          32000,
          33000,
          34000,
          35000,
          25000,
          26000,
          28000,
          30000,
          31000,
          32000,
          33000,
          34000,
          35000,
          36000,
          37000,
          38000,
          40000,
          42000,
          45000,
          25000,
          26000,
          28000,
          30000,
          32000,
          34000,
          36000,
          38000,
          40000,
          42000,
          45000,
          50000,
          20000,
          24000,
          25000,
          26000,
          28000,
          30000,
          32000,
          34000,
          35000,
          36000,
          40000,
          45000,
          50000,
          55000,
          70000,
          20000,
          25000,
          30000,
          35000,
          40000,
          45000,
          50000,
          55000,
          70000,
          16000,
          18000,
          20000,
          24000,
          32000,
          36000,
          40000,
          48000,
          50000,
          56000,
          64000,
          72000
         ],
         "y": [
          0.0010346174882654004,
          0.0010346174882654004,
          0.0010346174882654004,
          0.0010346174882654004,
          0.0010346174882654004,
          0.0010346174882654004,
          0.0010346174882654004,
          0.0010346174882654004,
          0.0010346174882654004,
          0.0010346174882654004,
          0.0010346174882654004,
          0.0010346174882654004,
          0.0010346174882654004,
          0.003774343515662661,
          0.003774343515662661,
          0.003774343515662661,
          0.003774343515662661,
          0.003774343515662661,
          0.003774343515662661,
          0.02021269968004622,
          0.02021269968004622,
          0.02021269968004622,
          0.02021269968004622,
          0.02021269968004622,
          0.02021269968004622,
          0.02021269968004622,
          0.02021269968004622,
          0.02021269968004622,
          0.02021269968004622,
          0.02021269968004622,
          0.02021269968004622,
          0.02021269968004622,
          0.02021269968004622,
          0.02021269968004622,
          0.03939078187182704,
          0.03939078187182704,
          0.03939078187182704,
          0.03939078187182704,
          0.03939078187182704,
          0.03939078187182704,
          0.03939078187182704,
          0.03939078187182704,
          0.03939078187182704,
          0.03939078187182704,
          0.03939078187182704,
          0.03939078187182704,
          0.05856886406360787,
          0.05856886406360787,
          0.05856886406360787,
          0.05856886406360787,
          0.05856886406360787,
          0.05856886406360787,
          0.05856886406360787,
          0.05856886406360787,
          0.05856886406360787,
          0.05856886406360787,
          0.05856886406360787,
          0.05856886406360787,
          0.05856886406360787,
          0.05856886406360787,
          0.05856886406360787,
          0.13528119283073115,
          0.13528119283073115,
          0.13528119283073115,
          0.13528119283073115,
          0.13528119283073115,
          0.13528119283073115,
          0.13528119283073115,
          0.13528119283073115,
          0.13528119283073115,
          0.21199352159785445,
          0.21199352159785445,
          0.21199352159785445,
          0.21199352159785445,
          0.21199352159785445,
          0.21199352159785445,
          0.21199352159785445,
          0.21199352159785445,
          0.21199352159785445,
          0.21199352159785445,
          0.21199352159785445,
          0.21199352159785445
         ],
         "z": [
          5.691602647913069e-06,
          0.0002399078476803887,
          0.0009576933311569724,
          0.0018342447121410532,
          0.0038618929257865364,
          0.00923025963090307,
          0.00947523708314435,
          0.002438785968677859,
          0.0007275910515447126,
          0.00010788311266766645,
          1.602864210941985e-05,
          1.7740825076234144e-06,
          1.0022508773143112e-08,
          0.004628456428956262,
          0.008714203271834364,
          0.015964644553450924,
          0.017577505101137092,
          0.0069309431091229,
          0.00270784974938032,
          0.003606639473245188,
          0.004955669169937338,
          0.010060117023890758,
          0.019952521331073392,
          0.026982236850651375,
          0.035203453574975896,
          0.048882509542998775,
          0.03065005125544573,
          0.020134764415224105,
          0.01306994635220482,
          0.00879312260832088,
          0.005688253129522702,
          0.00292651198717081,
          0.0013764779868440657,
          0.0003123030654090149,
          0.008682503071778425,
          0.011679797523628244,
          0.020146814622165277,
          0.03295007474594858,
          0.044368444469494506,
          0.050109567307234926,
          0.026676416620031063,
          0.01455181861535415,
          0.007931837871509417,
          0.004561989290757074,
          0.0024379571518251264,
          0.0007112580587530573,
          0.004987613787400952,
          0.012584093506420868,
          0.01598137825613377,
          0.019688413628678347,
          0.029920934516072695,
          0.04398786489530604,
          0.05028302635764703,
          0.07110226170022216,
          0.05307248797726416,
          0.042200126903747304,
          0.016368541187657515,
          0.006087031943323495,
          0.002920636919115732,
          0.0017141469473711396,
          0.0004794177609380029,
          0.014576900596120934,
          0.03690229542942447,
          0.07267535357586574,
          0.12338354652611372,
          0.05930354003313987,
          0.03215092627282834,
          0.01878331439057246,
          0.012057602252261712,
          0.004598504188392333,
          0.011026232213080633,
          0.016842380099746035,
          0.024437968364542928,
          0.04654282878431193,
          0.06054824481858745,
          0.1689165116655964,
          0.10678277705945227,
          0.05515214342733277,
          0.04736818055636527,
          0.031340681161517336,
          0.019722203432852248,
          0.01349283409079377
         ]
        },
        {
         "marker": {
          "opacity": 0.8
         },
         "mode": "markers",
         "name": "Merton Model Price",
         "type": "scatter3d",
         "x": [
          26000,
          28000,
          29000,
          30000,
          31000,
          32000,
          33000,
          34000,
          35000,
          36000,
          37000,
          38000,
          40000,
          30000,
          31000,
          32000,
          33000,
          34000,
          35000,
          25000,
          26000,
          28000,
          30000,
          31000,
          32000,
          33000,
          34000,
          35000,
          36000,
          37000,
          38000,
          40000,
          42000,
          45000,
          25000,
          26000,
          28000,
          30000,
          32000,
          34000,
          36000,
          38000,
          40000,
          42000,
          45000,
          50000,
          20000,
          24000,
          25000,
          26000,
          28000,
          30000,
          32000,
          34000,
          35000,
          36000,
          40000,
          45000,
          50000,
          55000,
          70000,
          20000,
          25000,
          30000,
          35000,
          40000,
          45000,
          50000,
          55000,
          70000,
          16000,
          18000,
          20000,
          24000,
          32000,
          36000,
          40000,
          48000,
          50000,
          56000,
          64000,
          72000
         ],
         "y": [
          0.0010346168907900742,
          0.0010346168907900742,
          0.0010346168907900742,
          0.0010346168907900742,
          0.0010346168907900742,
          0.0010346168907900742,
          0.0010346168907900742,
          0.0010346168907900742,
          0.0010346168907900742,
          0.0010346168907900742,
          0.0010346168907900742,
          0.0010346168907900742,
          0.0010346168907900742,
          0.0037743429181873343,
          0.0037743429181873343,
          0.0037743429181873343,
          0.0037743429181873343,
          0.0037743429181873343,
          0.0037743429181873343,
          0.020212699082570895,
          0.020212699082570895,
          0.020212699082570895,
          0.020212699082570895,
          0.020212699082570895,
          0.020212699082570895,
          0.020212699082570895,
          0.020212699082570895,
          0.020212699082570895,
          0.020212699082570895,
          0.020212699082570895,
          0.020212699082570895,
          0.020212699082570895,
          0.020212699082570895,
          0.020212699082570895,
          0.039390781274351715,
          0.039390781274351715,
          0.039390781274351715,
          0.039390781274351715,
          0.039390781274351715,
          0.039390781274351715,
          0.039390781274351715,
          0.039390781274351715,
          0.039390781274351715,
          0.039390781274351715,
          0.039390781274351715,
          0.039390781274351715,
          0.05856886346613254,
          0.05856886346613254,
          0.05856886346613254,
          0.05856886346613254,
          0.05856886346613254,
          0.05856886346613254,
          0.05856886346613254,
          0.05856886346613254,
          0.05856886346613254,
          0.05856886346613254,
          0.05856886346613254,
          0.05856886346613254,
          0.05856886346613254,
          0.05856886346613254,
          0.05856886346613254,
          0.13528119223325583,
          0.13528119223325583,
          0.13528119223325583,
          0.13528119223325583,
          0.13528119223325583,
          0.13528119223325583,
          0.13528119223325583,
          0.13528119223325583,
          0.13528119223325583,
          0.2119935210003791,
          0.2119935210003791,
          0.2119935210003791,
          0.2119935210003791,
          0.2119935210003791,
          0.2119935210003791,
          0.2119935210003791,
          0.2119935210003791,
          0.2119935210003791,
          0.2119935210003791,
          0.2119935210003791,
          0.2119935210003791
         ],
         "z": [
          6.393118463296293e-06,
          0.0002550603327184647,
          0.0010118455020349333,
          0.001990101238701732,
          0.004211527439121781,
          0.009860500620533307,
          0.009475679222147142,
          0.002438815819923613,
          0.0007276619022426077,
          0.000107883149044678,
          1.602861709340956e-05,
          1.7740770079953059e-06,
          1.0022462217280917e-08,
          0.005214311743612501,
          0.010039843494174357,
          0.018264584212743275,
          0.017579895747641187,
          0.006931234076643438,
          0.0027079148823822433,
          0.003628628965182969,
          0.005009294110039671,
          0.010499053976079942,
          0.02321949073667119,
          0.03381807652775326,
          0.047406805244445724,
          0.04890597816029639,
          0.030654948039757275,
          0.020136752298802896,
          0.013070920767397761,
          0.00879366974871494,
          0.005688554091275581,
          0.002926636338487125,
          0.0013765278648476885,
          0.0003123130394969864,
          0.008737918520971492,
          0.01181609804117709,
          0.02108382839977988,
          0.039449727361887094,
          0.06880688103536944,
          0.05012362664022218,
          0.026679951574391104,
          0.014553185895183021,
          0.007932432098452782,
          0.004562277240098636,
          0.002438084616258702,
          0.0007112886445085618,
          0.004991630838044252,
          0.012633558559660736,
          0.016086593455095,
          0.019925186182285216,
          0.03140365408561609,
          0.053811045325664005,
          0.0860230745006703,
          0.07113104645207305,
          0.053085567223424224,
          0.04220806339043952,
          0.01637022035129451,
          0.006087461273954805,
          0.0029207994215737693,
          0.001714226848807981,
          0.00047943383926387105,
          0.01459352773801767,
          0.03720010870302821,
          0.09233031786045624,
          0.12344955066050005,
          0.05931573236757214,
          0.03215533925100382,
          0.018785316228105864,
          0.012058670931757613,
          0.004598789560065095,
          0.011032251218857762,
          0.01685666374592203,
          0.024472489459353243,
          0.04680648413386611,
          0.1761992377974593,
          0.16902094153914954,
          0.10681530520750897,
          0.055161284360624625,
          0.0473752998165461,
          0.03134442477405354,
          0.019724104236537914,
          0.01349394899205042
         ]
        },
        {
         "marker": {
          "opacity": 0.8
         },
         "mode": "markers",
         "name": "Heston Model Price",
         "type": "scatter3d",
         "x": [
          26000,
          28000,
          29000,
          30000,
          31000,
          32000,
          33000,
          34000,
          35000,
          36000,
          37000,
          38000,
          40000,
          30000,
          31000,
          32000,
          33000,
          34000,
          35000,
          25000,
          26000,
          28000,
          30000,
          31000,
          32000,
          33000,
          34000,
          35000,
          36000,
          37000,
          38000,
          40000,
          42000,
          45000,
          25000,
          26000,
          28000,
          30000,
          32000,
          34000,
          36000,
          38000,
          40000,
          42000,
          45000,
          50000,
          20000,
          24000,
          25000,
          26000,
          28000,
          30000,
          32000,
          34000,
          35000,
          36000,
          40000,
          45000,
          50000,
          55000,
          70000,
          20000,
          25000,
          30000,
          35000,
          40000,
          45000,
          50000,
          55000,
          70000,
          16000,
          18000,
          20000,
          24000,
          32000,
          36000,
          40000,
          48000,
          50000,
          56000,
          64000,
          72000
         ],
         "y": [
          0.00103461635207265,
          0.00103461635207265,
          0.00103461635207265,
          0.00103461635207265,
          0.00103461635207265,
          0.00103461635207265,
          0.00103461635207265,
          0.00103461635207265,
          0.00103461635207265,
          0.00103461635207265,
          0.00103461635207265,
          0.00103461635207265,
          0.00103461635207265,
          0.0037743423794699103,
          0.0037743423794699103,
          0.0037743423794699103,
          0.0037743423794699103,
          0.0037743423794699103,
          0.0037743423794699103,
          0.02021269854385347,
          0.02021269854385347,
          0.02021269854385347,
          0.02021269854385347,
          0.02021269854385347,
          0.02021269854385347,
          0.02021269854385347,
          0.02021269854385347,
          0.02021269854385347,
          0.02021269854385347,
          0.02021269854385347,
          0.02021269854385347,
          0.02021269854385347,
          0.02021269854385347,
          0.02021269854385347,
          0.0393907807356343,
          0.0393907807356343,
          0.0393907807356343,
          0.0393907807356343,
          0.0393907807356343,
          0.0393907807356343,
          0.0393907807356343,
          0.0393907807356343,
          0.0393907807356343,
          0.0393907807356343,
          0.0393907807356343,
          0.0393907807356343,
          0.058568862927415116,
          0.058568862927415116,
          0.058568862927415116,
          0.058568862927415116,
          0.058568862927415116,
          0.058568862927415116,
          0.058568862927415116,
          0.058568862927415116,
          0.058568862927415116,
          0.058568862927415116,
          0.058568862927415116,
          0.058568862927415116,
          0.058568862927415116,
          0.058568862927415116,
          0.058568862927415116,
          0.1352811916945384,
          0.1352811916945384,
          0.1352811916945384,
          0.1352811916945384,
          0.1352811916945384,
          0.1352811916945384,
          0.1352811916945384,
          0.1352811916945384,
          0.1352811916945384,
          0.2119935204616617,
          0.2119935204616617,
          0.2119935204616617,
          0.2119935204616617,
          0.2119935204616617,
          0.2119935204616617,
          0.2119935204616617,
          0.2119935204616617,
          0.2119935204616617,
          0.2119935204616617,
          0.2119935204616617,
          0.2119935204616617
         ],
         "z": [
          2.1021538348468632e-05,
          2.4016135827616758e-05,
          -1.7144540499968222e-05,
          3.944081608762119e-05,
          0.0005647066368135775,
          0.005099822069975674,
          0.006793613538543566,
          0.0011402416658271004,
          9.715399292831368e-05,
          3.096994024648454e-05,
          -3.0388088245381618e-05,
          2.7864320736752258e-05,
          -3.159014639943968e-06,
          0.0019672817932346893,
          0.006297493993080436,
          0.015114270252650205,
          0.017492852367415566,
          0.008009962562120528,
          0.0032256740869023677,
          0.0011080860428769512,
          0.0022736465256644315,
          0.008245886003849606,
          0.021577114358041386,
          0.031202214882712936,
          0.04449358362022213,
          0.0475994731589086,
          0.03562528922119994,
          0.02613466864049915,
          0.018794403913690416,
          0.013626265365271234,
          0.00916406359178747,
          0.004262860479835639,
          0.0017676434106522144,
          0.0004434386641391147,
          0.005853597175708406,
          0.00948500696713428,
          0.02097030908805125,
          0.03962900837255435,
          0.06641589418152606,
          0.05622421822820652,
          0.03683278369189202,
          0.023703504648813538,
          0.014628264360070212,
          0.008650022854578908,
          0.003928730177685763,
          0.0009414937140715985,
          0.0010511657582134536,
          0.008421963472593904,
          0.012475036304469217,
          0.017778290680260316,
          0.032817050681242486,
          0.05437040807907906,
          0.08201463787268226,
          0.07299449303675201,
          0.06135667228144244,
          0.05239235867380486,
          0.025624376837305538,
          0.00959602151903146,
          0.003386777336355043,
          0.001147506849881681,
          3.969545328905799e-05,
          0.00937921133616556,
          0.03807236402955207,
          0.09492016776290754,
          0.10947411261507793,
          0.06594352834138482,
          0.03924751150014525,
          0.02300698741277945,
          0.01334971389916895,
          0.00259998980380997,
          0.0058638200240726645,
          0.011847187625457051,
          0.02089335132610543,
          0.049993294610267795,
          0.1579013675568276,
          0.13549966590078125,
          0.0995627827188233,
          0.05443428620193511,
          0.046675994012311574,
          0.029448630151588936,
          0.016110301667322854,
          0.00904611424357995
         ]
        }
       ],
       "layout": {
        "scene": {
         "xaxis": {
          "title": {
           "text": "Strike"
          }
         },
         "yaxis": {
          "title": {
           "text": "Exp"
          }
         },
         "zaxis": {
          "title": {
           "text": "Price"
          }
         }
        },
        "template": {
         "data": {
          "bar": [
           {
            "error_x": {
             "color": "#2a3f5f"
            },
            "error_y": {
             "color": "#2a3f5f"
            },
            "marker": {
             "line": {
              "color": "#E5ECF6",
              "width": 0.5
             }
            },
            "type": "bar"
           }
          ],
          "barpolar": [
           {
            "marker": {
             "line": {
              "color": "#E5ECF6",
              "width": 0.5
             }
            },
            "type": "barpolar"
           }
          ],
          "carpet": [
           {
            "aaxis": {
             "endlinecolor": "#2a3f5f",
             "gridcolor": "white",
             "linecolor": "white",
             "minorgridcolor": "white",
             "startlinecolor": "#2a3f5f"
            },
            "baxis": {
             "endlinecolor": "#2a3f5f",
             "gridcolor": "white",
             "linecolor": "white",
             "minorgridcolor": "white",
             "startlinecolor": "#2a3f5f"
            },
            "type": "carpet"
           }
          ],
          "choropleth": [
           {
            "colorbar": {
             "outlinewidth": 0,
             "ticks": ""
            },
            "type": "choropleth"
           }
          ],
          "contour": [
           {
            "colorbar": {
             "outlinewidth": 0,
             "ticks": ""
            },
            "colorscale": [
             [
              0,
              "#0d0887"
             ],
             [
              0.1111111111111111,
              "#46039f"
             ],
             [
              0.2222222222222222,
              "#7201a8"
             ],
             [
              0.3333333333333333,
              "#9c179e"
             ],
             [
              0.4444444444444444,
              "#bd3786"
             ],
             [
              0.5555555555555556,
              "#d8576b"
             ],
             [
              0.6666666666666666,
              "#ed7953"
             ],
             [
              0.7777777777777778,
              "#fb9f3a"
             ],
             [
              0.8888888888888888,
              "#fdca26"
             ],
             [
              1,
              "#f0f921"
             ]
            ],
            "type": "contour"
           }
          ],
          "contourcarpet": [
           {
            "colorbar": {
             "outlinewidth": 0,
             "ticks": ""
            },
            "type": "contourcarpet"
           }
          ],
          "heatmap": [
           {
            "colorbar": {
             "outlinewidth": 0,
             "ticks": ""
            },
            "colorscale": [
             [
              0,
              "#0d0887"
             ],
             [
              0.1111111111111111,
              "#46039f"
             ],
             [
              0.2222222222222222,
              "#7201a8"
             ],
             [
              0.3333333333333333,
              "#9c179e"
             ],
             [
              0.4444444444444444,
              "#bd3786"
             ],
             [
              0.5555555555555556,
              "#d8576b"
             ],
             [
              0.6666666666666666,
              "#ed7953"
             ],
             [
              0.7777777777777778,
              "#fb9f3a"
             ],
             [
              0.8888888888888888,
              "#fdca26"
             ],
             [
              1,
              "#f0f921"
             ]
            ],
            "type": "heatmap"
           }
          ],
          "heatmapgl": [
           {
            "colorbar": {
             "outlinewidth": 0,
             "ticks": ""
            },
            "colorscale": [
             [
              0,
              "#0d0887"
             ],
             [
              0.1111111111111111,
              "#46039f"
             ],
             [
              0.2222222222222222,
              "#7201a8"
             ],
             [
              0.3333333333333333,
              "#9c179e"
             ],
             [
              0.4444444444444444,
              "#bd3786"
             ],
             [
              0.5555555555555556,
              "#d8576b"
             ],
             [
              0.6666666666666666,
              "#ed7953"
             ],
             [
              0.7777777777777778,
              "#fb9f3a"
             ],
             [
              0.8888888888888888,
              "#fdca26"
             ],
             [
              1,
              "#f0f921"
             ]
            ],
            "type": "heatmapgl"
           }
          ],
          "histogram": [
           {
            "marker": {
             "colorbar": {
              "outlinewidth": 0,
              "ticks": ""
             }
            },
            "type": "histogram"
           }
          ],
          "histogram2d": [
           {
            "colorbar": {
             "outlinewidth": 0,
             "ticks": ""
            },
            "colorscale": [
             [
              0,
              "#0d0887"
             ],
             [
              0.1111111111111111,
              "#46039f"
             ],
             [
              0.2222222222222222,
              "#7201a8"
             ],
             [
              0.3333333333333333,
              "#9c179e"
             ],
             [
              0.4444444444444444,
              "#bd3786"
             ],
             [
              0.5555555555555556,
              "#d8576b"
             ],
             [
              0.6666666666666666,
              "#ed7953"
             ],
             [
              0.7777777777777778,
              "#fb9f3a"
             ],
             [
              0.8888888888888888,
              "#fdca26"
             ],
             [
              1,
              "#f0f921"
             ]
            ],
            "type": "histogram2d"
           }
          ],
          "histogram2dcontour": [
           {
            "colorbar": {
             "outlinewidth": 0,
             "ticks": ""
            },
            "colorscale": [
             [
              0,
              "#0d0887"
             ],
             [
              0.1111111111111111,
              "#46039f"
             ],
             [
              0.2222222222222222,
              "#7201a8"
             ],
             [
              0.3333333333333333,
              "#9c179e"
             ],
             [
              0.4444444444444444,
              "#bd3786"
             ],
             [
              0.5555555555555556,
              "#d8576b"
             ],
             [
              0.6666666666666666,
              "#ed7953"
             ],
             [
              0.7777777777777778,
              "#fb9f3a"
             ],
             [
              0.8888888888888888,
              "#fdca26"
             ],
             [
              1,
              "#f0f921"
             ]
            ],
            "type": "histogram2dcontour"
           }
          ],
          "mesh3d": [
           {
            "colorbar": {
             "outlinewidth": 0,
             "ticks": ""
            },
            "type": "mesh3d"
           }
          ],
          "parcoords": [
           {
            "line": {
             "colorbar": {
              "outlinewidth": 0,
              "ticks": ""
             }
            },
            "type": "parcoords"
           }
          ],
          "pie": [
           {
            "automargin": true,
            "type": "pie"
           }
          ],
          "scatter": [
           {
            "marker": {
             "colorbar": {
              "outlinewidth": 0,
              "ticks": ""
             }
            },
            "type": "scatter"
           }
          ],
          "scatter3d": [
           {
            "line": {
             "colorbar": {
              "outlinewidth": 0,
              "ticks": ""
             }
            },
            "marker": {
             "colorbar": {
              "outlinewidth": 0,
              "ticks": ""
             }
            },
            "type": "scatter3d"
           }
          ],
          "scattercarpet": [
           {
            "marker": {
             "colorbar": {
              "outlinewidth": 0,
              "ticks": ""
             }
            },
            "type": "scattercarpet"
           }
          ],
          "scattergeo": [
           {
            "marker": {
             "colorbar": {
              "outlinewidth": 0,
              "ticks": ""
             }
            },
            "type": "scattergeo"
           }
          ],
          "scattergl": [
           {
            "marker": {
             "colorbar": {
              "outlinewidth": 0,
              "ticks": ""
             }
            },
            "type": "scattergl"
           }
          ],
          "scattermapbox": [
           {
            "marker": {
             "colorbar": {
              "outlinewidth": 0,
              "ticks": ""
             }
            },
            "type": "scattermapbox"
           }
          ],
          "scatterpolar": [
           {
            "marker": {
             "colorbar": {
              "outlinewidth": 0,
              "ticks": ""
             }
            },
            "type": "scatterpolar"
           }
          ],
          "scatterpolargl": [
           {
            "marker": {
             "colorbar": {
              "outlinewidth": 0,
              "ticks": ""
             }
            },
            "type": "scatterpolargl"
           }
          ],
          "scatterternary": [
           {
            "marker": {
             "colorbar": {
              "outlinewidth": 0,
              "ticks": ""
             }
            },
            "type": "scatterternary"
           }
          ],
          "surface": [
           {
            "colorbar": {
             "outlinewidth": 0,
             "ticks": ""
            },
            "colorscale": [
             [
              0,
              "#0d0887"
             ],
             [
              0.1111111111111111,
              "#46039f"
             ],
             [
              0.2222222222222222,
              "#7201a8"
             ],
             [
              0.3333333333333333,
              "#9c179e"
             ],
             [
              0.4444444444444444,
              "#bd3786"
             ],
             [
              0.5555555555555556,
              "#d8576b"
             ],
             [
              0.6666666666666666,
              "#ed7953"
             ],
             [
              0.7777777777777778,
              "#fb9f3a"
             ],
             [
              0.8888888888888888,
              "#fdca26"
             ],
             [
              1,
              "#f0f921"
             ]
            ],
            "type": "surface"
           }
          ],
          "table": [
           {
            "cells": {
             "fill": {
              "color": "#EBF0F8"
             },
             "line": {
              "color": "white"
             }
            },
            "header": {
             "fill": {
              "color": "#C8D4E3"
             },
             "line": {
              "color": "white"
             }
            },
            "type": "table"
           }
          ]
         },
         "layout": {
          "annotationdefaults": {
           "arrowcolor": "#2a3f5f",
           "arrowhead": 0,
           "arrowwidth": 1
          },
          "autotypenumbers": "strict",
          "coloraxis": {
           "colorbar": {
            "outlinewidth": 0,
            "ticks": ""
           }
          },
          "colorscale": {
           "diverging": [
            [
             0,
             "#8e0152"
            ],
            [
             0.1,
             "#c51b7d"
            ],
            [
             0.2,
             "#de77ae"
            ],
            [
             0.3,
             "#f1b6da"
            ],
            [
             0.4,
             "#fde0ef"
            ],
            [
             0.5,
             "#f7f7f7"
            ],
            [
             0.6,
             "#e6f5d0"
            ],
            [
             0.7,
             "#b8e186"
            ],
            [
             0.8,
             "#7fbc41"
            ],
            [
             0.9,
             "#4d9221"
            ],
            [
             1,
             "#276419"
            ]
           ],
           "sequential": [
            [
             0,
             "#0d0887"
            ],
            [
             0.1111111111111111,
             "#46039f"
            ],
            [
             0.2222222222222222,
             "#7201a8"
            ],
            [
             0.3333333333333333,
             "#9c179e"
            ],
            [
             0.4444444444444444,
             "#bd3786"
            ],
            [
             0.5555555555555556,
             "#d8576b"
            ],
            [
             0.6666666666666666,
             "#ed7953"
            ],
            [
             0.7777777777777778,
             "#fb9f3a"
            ],
            [
             0.8888888888888888,
             "#fdca26"
            ],
            [
             1,
             "#f0f921"
            ]
           ],
           "sequentialminus": [
            [
             0,
             "#0d0887"
            ],
            [
             0.1111111111111111,
             "#46039f"
            ],
            [
             0.2222222222222222,
             "#7201a8"
            ],
            [
             0.3333333333333333,
             "#9c179e"
            ],
            [
             0.4444444444444444,
             "#bd3786"
            ],
            [
             0.5555555555555556,
             "#d8576b"
            ],
            [
             0.6666666666666666,
             "#ed7953"
            ],
            [
             0.7777777777777778,
             "#fb9f3a"
            ],
            [
             0.8888888888888888,
             "#fdca26"
            ],
            [
             1,
             "#f0f921"
            ]
           ]
          },
          "colorway": [
           "#636efa",
           "#EF553B",
           "#00cc96",
           "#ab63fa",
           "#FFA15A",
           "#19d3f3",
           "#FF6692",
           "#B6E880",
           "#FF97FF",
           "#FECB52"
          ],
          "font": {
           "color": "#2a3f5f"
          },
          "geo": {
           "bgcolor": "white",
           "lakecolor": "white",
           "landcolor": "#E5ECF6",
           "showlakes": true,
           "showland": true,
           "subunitcolor": "white"
          },
          "hoverlabel": {
           "align": "left"
          },
          "hovermode": "closest",
          "mapbox": {
           "style": "light"
          },
          "paper_bgcolor": "white",
          "plot_bgcolor": "#E5ECF6",
          "polar": {
           "angularaxis": {
            "gridcolor": "white",
            "linecolor": "white",
            "ticks": ""
           },
           "bgcolor": "#E5ECF6",
           "radialaxis": {
            "gridcolor": "white",
            "linecolor": "white",
            "ticks": ""
           }
          },
          "scene": {
           "xaxis": {
            "backgroundcolor": "#E5ECF6",
            "gridcolor": "white",
            "gridwidth": 2,
            "linecolor": "white",
            "showbackground": true,
            "ticks": "",
            "zerolinecolor": "white"
           },
           "yaxis": {
            "backgroundcolor": "#E5ECF6",
            "gridcolor": "white",
            "gridwidth": 2,
            "linecolor": "white",
            "showbackground": true,
            "ticks": "",
            "zerolinecolor": "white"
           },
           "zaxis": {
            "backgroundcolor": "#E5ECF6",
            "gridcolor": "white",
            "gridwidth": 2,
            "linecolor": "white",
            "showbackground": true,
            "ticks": "",
            "zerolinecolor": "white"
           }
          },
          "shapedefaults": {
           "line": {
            "color": "#2a3f5f"
           }
          },
          "ternary": {
           "aaxis": {
            "gridcolor": "white",
            "linecolor": "white",
            "ticks": ""
           },
           "baxis": {
            "gridcolor": "white",
            "linecolor": "white",
            "ticks": ""
           },
           "bgcolor": "#E5ECF6",
           "caxis": {
            "gridcolor": "white",
            "linecolor": "white",
            "ticks": ""
           }
          },
          "title": {
           "x": 0.05
          },
          "xaxis": {
           "automargin": true,
           "gridcolor": "white",
           "linecolor": "white",
           "ticks": "",
           "title": {
            "standoff": 15
           },
           "zerolinecolor": "white",
           "zerolinewidth": 2
          },
          "yaxis": {
           "automargin": true,
           "gridcolor": "white",
           "linecolor": "white",
           "ticks": "",
           "title": {
            "standoff": 15
           },
           "zerolinecolor": "white",
           "zerolinewidth": 2
          }
         }
        }
       }
      },
      "text/html": [
       "<div>                            <div id=\"61e6bda4-dd37-446e-9df5-40573f631174\" class=\"plotly-graph-div\" style=\"height:525px; width:100%;\"></div>            <script type=\"text/javascript\">                require([\"plotly\"], function(Plotly) {                    window.PLOTLYENV=window.PLOTLYENV || {};                                    if (document.getElementById(\"61e6bda4-dd37-446e-9df5-40573f631174\")) {                    Plotly.newPlot(                        \"61e6bda4-dd37-446e-9df5-40573f631174\",                        [{\"marker\": {\"opacity\": 0.8}, \"mode\": \"markers\", \"name\": \"Real Market Price\", \"type\": \"scatter3d\", \"x\": [26000.0, 28000.0, 29000.0, 30000.0, 31000.0, 32000.0, 33000.0, 34000.0, 35000.0, 36000.0, 37000.0, 38000.0, 40000.0, 30000.0, 31000.0, 32000.0, 33000.0, 34000.0, 35000.0, 25000.0, 26000.0, 28000.0, 30000.0, 31000.0, 32000.0, 33000.0, 34000.0, 35000.0, 36000.0, 37000.0, 38000.0, 40000.0, 42000.0, 45000.0, 25000.0, 26000.0, 28000.0, 30000.0, 32000.0, 34000.0, 36000.0, 38000.0, 40000.0, 42000.0, 45000.0, 50000.0, 20000.0, 24000.0, 25000.0, 26000.0, 28000.0, 30000.0, 32000.0, 34000.0, 35000.0, 36000.0, 40000.0, 45000.0, 50000.0, 55000.0, 70000.0, 20000.0, 25000.0, 30000.0, 35000.0, 40000.0, 45000.0, 50000.0, 55000.0, 70000.0, 16000.0, 18000.0, 20000.0, 24000.0, 32000.0, 36000.0, 40000.0, 48000.0, 50000.0, 56000.0, 64000.0, 72000.0], \"y\": [0.0010346174882654004, 0.0010346174882654004, 0.0010346174882654004, 0.0010346174882654004, 0.0010346174882654004, 0.0010346174882654004, 0.0010346174882654004, 0.0010346174882654004, 0.0010346174882654004, 0.0010346174882654004, 0.0010346174882654004, 0.0010346174882654004, 0.0010346174882654004, 0.003774343515662661, 0.003774343515662661, 0.003774343515662661, 0.003774343515662661, 0.003774343515662661, 0.003774343515662661, 0.02021269968004622, 0.02021269968004622, 0.02021269968004622, 0.02021269968004622, 0.02021269968004622, 0.02021269968004622, 0.02021269968004622, 0.02021269968004622, 0.02021269968004622, 0.02021269968004622, 0.02021269968004622, 0.02021269968004622, 0.02021269968004622, 0.02021269968004622, 0.02021269968004622, 0.03939078187182704, 0.03939078187182704, 0.03939078187182704, 0.03939078187182704, 0.03939078187182704, 0.03939078187182704, 0.03939078187182704, 0.03939078187182704, 0.03939078187182704, 0.03939078187182704, 0.03939078187182704, 0.03939078187182704, 0.05856886406360787, 0.05856886406360787, 0.05856886406360787, 0.05856886406360787, 0.05856886406360787, 0.05856886406360787, 0.05856886406360787, 0.05856886406360787, 0.05856886406360787, 0.05856886406360787, 0.05856886406360787, 0.05856886406360787, 0.05856886406360787, 0.05856886406360787, 0.05856886406360787, 0.13528119283073115, 0.13528119283073115, 0.13528119283073115, 0.13528119283073115, 0.13528119283073115, 0.13528119283073115, 0.13528119283073115, 0.13528119283073115, 0.13528119283073115, 0.21199352159785445, 0.21199352159785445, 0.21199352159785445, 0.21199352159785445, 0.21199352159785445, 0.21199352159785445, 0.21199352159785445, 0.21199352159785445, 0.21199352159785445, 0.21199352159785445, 0.21199352159785445, 0.21199352159785445], \"z\": [5.7e-06, 0.0002403, 0.00095946, 0.00183861, 0.0038753, 0.00930307, 0.00937491, 0.00242846, 0.00072539, 0.00010761, 1.599e-05, 1.77e-06, 1e-08, 0.00466631, 0.00881971, 0.01640267, 0.01695014, 0.00683446, 0.00268143, 0.00366258, 0.00504185, 0.01029788, 0.02071735, 0.02850563, 0.03993986, 0.04148772, 0.02877023, 0.01930142, 0.01264453, 0.00854913, 0.00555161, 0.00286828, 0.0013527, 0.00030744, 0.00892555, 0.01205006, 0.02102054, 0.03531954, 0.0575821, 0.04467046, 0.02513883, 0.01393152, 0.0076541, 0.00442408, 0.00237509, 0.00069557, 0.0051123, 0.01303257, 0.01661725, 0.02057849, 0.03179251, 0.04862205, 0.07193914, 0.06010959, 0.04764194, 0.03877439, 0.01558219, 0.00587258, 0.00283571, 0.00167067, 0.00046995, 0.01534417, 0.04002768, 0.08907795, 0.09728535, 0.05361775, 0.02991998, 0.01771265, 0.01145919, 0.00442211, 0.01168674, 0.01799513, 0.02637319, 0.05182888, 0.15124585, 0.12729558, 0.09183438, 0.05032786, 0.04351485, 0.02918264, 0.01855595, 0.01277666]}, {\"marker\": {\"opacity\": 0.8}, \"mode\": \"markers\", \"name\": \"BlackScholes Model Price\", \"type\": \"scatter3d\", \"x\": [26000.0, 28000.0, 29000.0, 30000.0, 31000.0, 32000.0, 33000.0, 34000.0, 35000.0, 36000.0, 37000.0, 38000.0, 40000.0, 30000.0, 31000.0, 32000.0, 33000.0, 34000.0, 35000.0, 25000.0, 26000.0, 28000.0, 30000.0, 31000.0, 32000.0, 33000.0, 34000.0, 35000.0, 36000.0, 37000.0, 38000.0, 40000.0, 42000.0, 45000.0, 25000.0, 26000.0, 28000.0, 30000.0, 32000.0, 34000.0, 36000.0, 38000.0, 40000.0, 42000.0, 45000.0, 50000.0, 20000.0, 24000.0, 25000.0, 26000.0, 28000.0, 30000.0, 32000.0, 34000.0, 35000.0, 36000.0, 40000.0, 45000.0, 50000.0, 55000.0, 70000.0, 20000.0, 25000.0, 30000.0, 35000.0, 40000.0, 45000.0, 50000.0, 55000.0, 70000.0, 16000.0, 18000.0, 20000.0, 24000.0, 32000.0, 36000.0, 40000.0, 48000.0, 50000.0, 56000.0, 64000.0, 72000.0], \"y\": [0.0010346174882654004, 0.0010346174882654004, 0.0010346174882654004, 0.0010346174882654004, 0.0010346174882654004, 0.0010346174882654004, 0.0010346174882654004, 0.0010346174882654004, 0.0010346174882654004, 0.0010346174882654004, 0.0010346174882654004, 0.0010346174882654004, 0.0010346174882654004, 0.003774343515662661, 0.003774343515662661, 0.003774343515662661, 0.003774343515662661, 0.003774343515662661, 0.003774343515662661, 0.02021269968004622, 0.02021269968004622, 0.02021269968004622, 0.02021269968004622, 0.02021269968004622, 0.02021269968004622, 0.02021269968004622, 0.02021269968004622, 0.02021269968004622, 0.02021269968004622, 0.02021269968004622, 0.02021269968004622, 0.02021269968004622, 0.02021269968004622, 0.02021269968004622, 0.03939078187182704, 0.03939078187182704, 0.03939078187182704, 0.03939078187182704, 0.03939078187182704, 0.03939078187182704, 0.03939078187182704, 0.03939078187182704, 0.03939078187182704, 0.03939078187182704, 0.03939078187182704, 0.03939078187182704, 0.05856886406360787, 0.05856886406360787, 0.05856886406360787, 0.05856886406360787, 0.05856886406360787, 0.05856886406360787, 0.05856886406360787, 0.05856886406360787, 0.05856886406360787, 0.05856886406360787, 0.05856886406360787, 0.05856886406360787, 0.05856886406360787, 0.05856886406360787, 0.05856886406360787, 0.13528119283073115, 0.13528119283073115, 0.13528119283073115, 0.13528119283073115, 0.13528119283073115, 0.13528119283073115, 0.13528119283073115, 0.13528119283073115, 0.13528119283073115, 0.21199352159785445, 0.21199352159785445, 0.21199352159785445, 0.21199352159785445, 0.21199352159785445, 0.21199352159785445, 0.21199352159785445, 0.21199352159785445, 0.21199352159785445, 0.21199352159785445, 0.21199352159785445, 0.21199352159785445], \"z\": [5.691602647913069e-06, 0.0002399078476803887, 0.0009576933311569724, 0.0018342447121410532, 0.0038618929257865364, 0.00923025963090307, 0.00947523708314435, 0.002438785968677859, 0.0007275910515447126, 0.00010788311266766645, 1.602864210941985e-05, 1.7740825076234144e-06, 1.0022508773143112e-08, 0.004628456428956262, 0.008714203271834364, 0.015964644553450924, 0.017577505101137092, 0.0069309431091229, 0.00270784974938032, 0.003606639473245188, 0.004955669169937338, 0.010060117023890758, 0.019952521331073392, 0.026982236850651375, 0.035203453574975896, 0.048882509542998775, 0.03065005125544573, 0.020134764415224105, 0.01306994635220482, 0.00879312260832088, 0.005688253129522702, 0.00292651198717081, 0.0013764779868440657, 0.0003123030654090149, 0.008682503071778425, 0.011679797523628244, 0.020146814622165277, 0.03295007474594858, 0.044368444469494506, 0.050109567307234926, 0.026676416620031063, 0.01455181861535415, 0.007931837871509417, 0.004561989290757074, 0.0024379571518251264, 0.0007112580587530573, 0.004987613787400952, 0.012584093506420868, 0.01598137825613377, 0.019688413628678347, 0.029920934516072695, 0.04398786489530604, 0.05028302635764703, 0.07110226170022216, 0.05307248797726416, 0.042200126903747304, 0.016368541187657515, 0.006087031943323495, 0.002920636919115732, 0.0017141469473711396, 0.0004794177609380029, 0.014576900596120934, 0.03690229542942447, 0.07267535357586574, 0.12338354652611372, 0.05930354003313987, 0.03215092627282834, 0.01878331439057246, 0.012057602252261712, 0.004598504188392333, 0.011026232213080633, 0.016842380099746035, 0.024437968364542928, 0.04654282878431193, 0.06054824481858745, 0.1689165116655964, 0.10678277705945227, 0.05515214342733277, 0.04736818055636527, 0.031340681161517336, 0.019722203432852248, 0.01349283409079377]}, {\"marker\": {\"opacity\": 0.8}, \"mode\": \"markers\", \"name\": \"Merton Model Price\", \"type\": \"scatter3d\", \"x\": [26000.0, 28000.0, 29000.0, 30000.0, 31000.0, 32000.0, 33000.0, 34000.0, 35000.0, 36000.0, 37000.0, 38000.0, 40000.0, 30000.0, 31000.0, 32000.0, 33000.0, 34000.0, 35000.0, 25000.0, 26000.0, 28000.0, 30000.0, 31000.0, 32000.0, 33000.0, 34000.0, 35000.0, 36000.0, 37000.0, 38000.0, 40000.0, 42000.0, 45000.0, 25000.0, 26000.0, 28000.0, 30000.0, 32000.0, 34000.0, 36000.0, 38000.0, 40000.0, 42000.0, 45000.0, 50000.0, 20000.0, 24000.0, 25000.0, 26000.0, 28000.0, 30000.0, 32000.0, 34000.0, 35000.0, 36000.0, 40000.0, 45000.0, 50000.0, 55000.0, 70000.0, 20000.0, 25000.0, 30000.0, 35000.0, 40000.0, 45000.0, 50000.0, 55000.0, 70000.0, 16000.0, 18000.0, 20000.0, 24000.0, 32000.0, 36000.0, 40000.0, 48000.0, 50000.0, 56000.0, 64000.0, 72000.0], \"y\": [0.0010346168907900742, 0.0010346168907900742, 0.0010346168907900742, 0.0010346168907900742, 0.0010346168907900742, 0.0010346168907900742, 0.0010346168907900742, 0.0010346168907900742, 0.0010346168907900742, 0.0010346168907900742, 0.0010346168907900742, 0.0010346168907900742, 0.0010346168907900742, 0.0037743429181873343, 0.0037743429181873343, 0.0037743429181873343, 0.0037743429181873343, 0.0037743429181873343, 0.0037743429181873343, 0.020212699082570895, 0.020212699082570895, 0.020212699082570895, 0.020212699082570895, 0.020212699082570895, 0.020212699082570895, 0.020212699082570895, 0.020212699082570895, 0.020212699082570895, 0.020212699082570895, 0.020212699082570895, 0.020212699082570895, 0.020212699082570895, 0.020212699082570895, 0.020212699082570895, 0.039390781274351715, 0.039390781274351715, 0.039390781274351715, 0.039390781274351715, 0.039390781274351715, 0.039390781274351715, 0.039390781274351715, 0.039390781274351715, 0.039390781274351715, 0.039390781274351715, 0.039390781274351715, 0.039390781274351715, 0.05856886346613254, 0.05856886346613254, 0.05856886346613254, 0.05856886346613254, 0.05856886346613254, 0.05856886346613254, 0.05856886346613254, 0.05856886346613254, 0.05856886346613254, 0.05856886346613254, 0.05856886346613254, 0.05856886346613254, 0.05856886346613254, 0.05856886346613254, 0.05856886346613254, 0.13528119223325583, 0.13528119223325583, 0.13528119223325583, 0.13528119223325583, 0.13528119223325583, 0.13528119223325583, 0.13528119223325583, 0.13528119223325583, 0.13528119223325583, 0.2119935210003791, 0.2119935210003791, 0.2119935210003791, 0.2119935210003791, 0.2119935210003791, 0.2119935210003791, 0.2119935210003791, 0.2119935210003791, 0.2119935210003791, 0.2119935210003791, 0.2119935210003791, 0.2119935210003791], \"z\": [6.393118463296293e-06, 0.0002550603327184647, 0.0010118455020349333, 0.001990101238701732, 0.004211527439121781, 0.009860500620533307, 0.009475679222147142, 0.002438815819923613, 0.0007276619022426077, 0.000107883149044678, 1.602861709340956e-05, 1.7740770079953059e-06, 1.0022462217280917e-08, 0.005214311743612501, 0.010039843494174357, 0.018264584212743275, 0.017579895747641187, 0.006931234076643438, 0.0027079148823822433, 0.003628628965182969, 0.005009294110039671, 0.010499053976079942, 0.02321949073667119, 0.03381807652775326, 0.047406805244445724, 0.04890597816029639, 0.030654948039757275, 0.020136752298802896, 0.013070920767397761, 0.00879366974871494, 0.005688554091275581, 0.002926636338487125, 0.0013765278648476885, 0.0003123130394969864, 0.008737918520971492, 0.01181609804117709, 0.02108382839977988, 0.039449727361887094, 0.06880688103536944, 0.05012362664022218, 0.026679951574391104, 0.014553185895183021, 0.007932432098452782, 0.004562277240098636, 0.002438084616258702, 0.0007112886445085618, 0.004991630838044252, 0.012633558559660736, 0.016086593455095, 0.019925186182285216, 0.03140365408561609, 0.053811045325664005, 0.0860230745006703, 0.07113104645207305, 0.053085567223424224, 0.04220806339043952, 0.01637022035129451, 0.006087461273954805, 0.0029207994215737693, 0.001714226848807981, 0.00047943383926387105, 0.01459352773801767, 0.03720010870302821, 0.09233031786045624, 0.12344955066050005, 0.05931573236757214, 0.03215533925100382, 0.018785316228105864, 0.012058670931757613, 0.004598789560065095, 0.011032251218857762, 0.01685666374592203, 0.024472489459353243, 0.04680648413386611, 0.1761992377974593, 0.16902094153914954, 0.10681530520750897, 0.055161284360624625, 0.0473752998165461, 0.03134442477405354, 0.019724104236537914, 0.01349394899205042]}, {\"marker\": {\"opacity\": 0.8}, \"mode\": \"markers\", \"name\": \"Heston Model Price\", \"type\": \"scatter3d\", \"x\": [26000.0, 28000.0, 29000.0, 30000.0, 31000.0, 32000.0, 33000.0, 34000.0, 35000.0, 36000.0, 37000.0, 38000.0, 40000.0, 30000.0, 31000.0, 32000.0, 33000.0, 34000.0, 35000.0, 25000.0, 26000.0, 28000.0, 30000.0, 31000.0, 32000.0, 33000.0, 34000.0, 35000.0, 36000.0, 37000.0, 38000.0, 40000.0, 42000.0, 45000.0, 25000.0, 26000.0, 28000.0, 30000.0, 32000.0, 34000.0, 36000.0, 38000.0, 40000.0, 42000.0, 45000.0, 50000.0, 20000.0, 24000.0, 25000.0, 26000.0, 28000.0, 30000.0, 32000.0, 34000.0, 35000.0, 36000.0, 40000.0, 45000.0, 50000.0, 55000.0, 70000.0, 20000.0, 25000.0, 30000.0, 35000.0, 40000.0, 45000.0, 50000.0, 55000.0, 70000.0, 16000.0, 18000.0, 20000.0, 24000.0, 32000.0, 36000.0, 40000.0, 48000.0, 50000.0, 56000.0, 64000.0, 72000.0], \"y\": [0.00103461635207265, 0.00103461635207265, 0.00103461635207265, 0.00103461635207265, 0.00103461635207265, 0.00103461635207265, 0.00103461635207265, 0.00103461635207265, 0.00103461635207265, 0.00103461635207265, 0.00103461635207265, 0.00103461635207265, 0.00103461635207265, 0.0037743423794699103, 0.0037743423794699103, 0.0037743423794699103, 0.0037743423794699103, 0.0037743423794699103, 0.0037743423794699103, 0.02021269854385347, 0.02021269854385347, 0.02021269854385347, 0.02021269854385347, 0.02021269854385347, 0.02021269854385347, 0.02021269854385347, 0.02021269854385347, 0.02021269854385347, 0.02021269854385347, 0.02021269854385347, 0.02021269854385347, 0.02021269854385347, 0.02021269854385347, 0.02021269854385347, 0.0393907807356343, 0.0393907807356343, 0.0393907807356343, 0.0393907807356343, 0.0393907807356343, 0.0393907807356343, 0.0393907807356343, 0.0393907807356343, 0.0393907807356343, 0.0393907807356343, 0.0393907807356343, 0.0393907807356343, 0.058568862927415116, 0.058568862927415116, 0.058568862927415116, 0.058568862927415116, 0.058568862927415116, 0.058568862927415116, 0.058568862927415116, 0.058568862927415116, 0.058568862927415116, 0.058568862927415116, 0.058568862927415116, 0.058568862927415116, 0.058568862927415116, 0.058568862927415116, 0.058568862927415116, 0.1352811916945384, 0.1352811916945384, 0.1352811916945384, 0.1352811916945384, 0.1352811916945384, 0.1352811916945384, 0.1352811916945384, 0.1352811916945384, 0.1352811916945384, 0.2119935204616617, 0.2119935204616617, 0.2119935204616617, 0.2119935204616617, 0.2119935204616617, 0.2119935204616617, 0.2119935204616617, 0.2119935204616617, 0.2119935204616617, 0.2119935204616617, 0.2119935204616617, 0.2119935204616617], \"z\": [2.1021538348468632e-05, 2.4016135827616758e-05, -1.7144540499968222e-05, 3.944081608762119e-05, 0.0005647066368135775, 0.005099822069975674, 0.006793613538543566, 0.0011402416658271004, 9.715399292831368e-05, 3.096994024648454e-05, -3.0388088245381618e-05, 2.7864320736752258e-05, -3.159014639943968e-06, 0.0019672817932346893, 0.006297493993080436, 0.015114270252650205, 0.017492852367415566, 0.008009962562120528, 0.0032256740869023677, 0.0011080860428769512, 0.0022736465256644315, 0.008245886003849606, 0.021577114358041386, 0.031202214882712936, 0.04449358362022213, 0.0475994731589086, 0.03562528922119994, 0.02613466864049915, 0.018794403913690416, 0.013626265365271234, 0.00916406359178747, 0.004262860479835639, 0.0017676434106522144, 0.0004434386641391147, 0.005853597175708406, 0.00948500696713428, 0.02097030908805125, 0.03962900837255435, 0.06641589418152606, 0.05622421822820652, 0.03683278369189202, 0.023703504648813538, 0.014628264360070212, 0.008650022854578908, 0.003928730177685763, 0.0009414937140715985, 0.0010511657582134536, 0.008421963472593904, 0.012475036304469217, 0.017778290680260316, 0.032817050681242486, 0.05437040807907906, 0.08201463787268226, 0.07299449303675201, 0.06135667228144244, 0.05239235867380486, 0.025624376837305538, 0.00959602151903146, 0.003386777336355043, 0.001147506849881681, 3.969545328905799e-05, 0.00937921133616556, 0.03807236402955207, 0.09492016776290754, 0.10947411261507793, 0.06594352834138482, 0.03924751150014525, 0.02300698741277945, 0.01334971389916895, 0.00259998980380997, 0.0058638200240726645, 0.011847187625457051, 0.02089335132610543, 0.049993294610267795, 0.1579013675568276, 0.13549966590078125, 0.0995627827188233, 0.05443428620193511, 0.046675994012311574, 0.029448630151588936, 0.016110301667322854, 0.00904611424357995]}],                        {\"scene\": {\"xaxis\": {\"title\": {\"text\": \"Strike\"}}, \"yaxis\": {\"title\": {\"text\": \"Exp\"}}, \"zaxis\": {\"title\": {\"text\": \"Price\"}}}, \"template\": {\"data\": {\"bar\": [{\"error_x\": {\"color\": \"#2a3f5f\"}, \"error_y\": {\"color\": \"#2a3f5f\"}, \"marker\": {\"line\": {\"color\": \"#E5ECF6\", \"width\": 0.5}}, \"type\": \"bar\"}], \"barpolar\": [{\"marker\": {\"line\": {\"color\": \"#E5ECF6\", \"width\": 0.5}}, \"type\": \"barpolar\"}], \"carpet\": [{\"aaxis\": {\"endlinecolor\": \"#2a3f5f\", \"gridcolor\": \"white\", \"linecolor\": \"white\", \"minorgridcolor\": \"white\", \"startlinecolor\": \"#2a3f5f\"}, \"baxis\": {\"endlinecolor\": \"#2a3f5f\", \"gridcolor\": \"white\", \"linecolor\": \"white\", \"minorgridcolor\": \"white\", \"startlinecolor\": \"#2a3f5f\"}, \"type\": \"carpet\"}], \"choropleth\": [{\"colorbar\": {\"outlinewidth\": 0, \"ticks\": \"\"}, \"type\": \"choropleth\"}], \"contour\": [{\"colorbar\": {\"outlinewidth\": 0, \"ticks\": \"\"}, \"colorscale\": [[0.0, \"#0d0887\"], [0.1111111111111111, \"#46039f\"], [0.2222222222222222, \"#7201a8\"], [0.3333333333333333, \"#9c179e\"], [0.4444444444444444, \"#bd3786\"], [0.5555555555555556, \"#d8576b\"], [0.6666666666666666, \"#ed7953\"], [0.7777777777777778, \"#fb9f3a\"], [0.8888888888888888, \"#fdca26\"], [1.0, \"#f0f921\"]], \"type\": \"contour\"}], \"contourcarpet\": [{\"colorbar\": {\"outlinewidth\": 0, \"ticks\": \"\"}, \"type\": \"contourcarpet\"}], \"heatmap\": [{\"colorbar\": {\"outlinewidth\": 0, \"ticks\": \"\"}, \"colorscale\": [[0.0, \"#0d0887\"], [0.1111111111111111, \"#46039f\"], [0.2222222222222222, \"#7201a8\"], [0.3333333333333333, \"#9c179e\"], [0.4444444444444444, \"#bd3786\"], [0.5555555555555556, \"#d8576b\"], [0.6666666666666666, \"#ed7953\"], [0.7777777777777778, \"#fb9f3a\"], [0.8888888888888888, \"#fdca26\"], [1.0, \"#f0f921\"]], \"type\": \"heatmap\"}], \"heatmapgl\": [{\"colorbar\": {\"outlinewidth\": 0, \"ticks\": \"\"}, \"colorscale\": [[0.0, \"#0d0887\"], [0.1111111111111111, \"#46039f\"], [0.2222222222222222, \"#7201a8\"], [0.3333333333333333, \"#9c179e\"], [0.4444444444444444, \"#bd3786\"], [0.5555555555555556, \"#d8576b\"], [0.6666666666666666, \"#ed7953\"], [0.7777777777777778, \"#fb9f3a\"], [0.8888888888888888, \"#fdca26\"], [1.0, \"#f0f921\"]], \"type\": \"heatmapgl\"}], \"histogram\": [{\"marker\": {\"colorbar\": {\"outlinewidth\": 0, \"ticks\": \"\"}}, \"type\": \"histogram\"}], \"histogram2d\": [{\"colorbar\": {\"outlinewidth\": 0, \"ticks\": \"\"}, \"colorscale\": [[0.0, \"#0d0887\"], [0.1111111111111111, \"#46039f\"], [0.2222222222222222, \"#7201a8\"], [0.3333333333333333, \"#9c179e\"], [0.4444444444444444, \"#bd3786\"], [0.5555555555555556, \"#d8576b\"], [0.6666666666666666, \"#ed7953\"], [0.7777777777777778, \"#fb9f3a\"], [0.8888888888888888, \"#fdca26\"], [1.0, \"#f0f921\"]], \"type\": \"histogram2d\"}], \"histogram2dcontour\": [{\"colorbar\": {\"outlinewidth\": 0, \"ticks\": \"\"}, \"colorscale\": [[0.0, \"#0d0887\"], [0.1111111111111111, \"#46039f\"], [0.2222222222222222, \"#7201a8\"], [0.3333333333333333, \"#9c179e\"], [0.4444444444444444, \"#bd3786\"], [0.5555555555555556, \"#d8576b\"], [0.6666666666666666, \"#ed7953\"], [0.7777777777777778, \"#fb9f3a\"], [0.8888888888888888, \"#fdca26\"], [1.0, \"#f0f921\"]], \"type\": \"histogram2dcontour\"}], \"mesh3d\": [{\"colorbar\": {\"outlinewidth\": 0, \"ticks\": \"\"}, \"type\": \"mesh3d\"}], \"parcoords\": [{\"line\": {\"colorbar\": {\"outlinewidth\": 0, \"ticks\": \"\"}}, \"type\": \"parcoords\"}], \"pie\": [{\"automargin\": true, \"type\": \"pie\"}], \"scatter\": [{\"marker\": {\"colorbar\": {\"outlinewidth\": 0, \"ticks\": \"\"}}, \"type\": \"scatter\"}], \"scatter3d\": [{\"line\": {\"colorbar\": {\"outlinewidth\": 0, \"ticks\": \"\"}}, \"marker\": {\"colorbar\": {\"outlinewidth\": 0, \"ticks\": \"\"}}, \"type\": \"scatter3d\"}], \"scattercarpet\": [{\"marker\": {\"colorbar\": {\"outlinewidth\": 0, \"ticks\": \"\"}}, \"type\": \"scattercarpet\"}], \"scattergeo\": [{\"marker\": {\"colorbar\": {\"outlinewidth\": 0, \"ticks\": \"\"}}, \"type\": \"scattergeo\"}], \"scattergl\": [{\"marker\": {\"colorbar\": {\"outlinewidth\": 0, \"ticks\": \"\"}}, \"type\": \"scattergl\"}], \"scattermapbox\": [{\"marker\": {\"colorbar\": {\"outlinewidth\": 0, \"ticks\": \"\"}}, \"type\": \"scattermapbox\"}], \"scatterpolar\": [{\"marker\": {\"colorbar\": {\"outlinewidth\": 0, \"ticks\": \"\"}}, \"type\": \"scatterpolar\"}], \"scatterpolargl\": [{\"marker\": {\"colorbar\": {\"outlinewidth\": 0, \"ticks\": \"\"}}, \"type\": \"scatterpolargl\"}], \"scatterternary\": [{\"marker\": {\"colorbar\": {\"outlinewidth\": 0, \"ticks\": \"\"}}, \"type\": \"scatterternary\"}], \"surface\": [{\"colorbar\": {\"outlinewidth\": 0, \"ticks\": \"\"}, \"colorscale\": [[0.0, \"#0d0887\"], [0.1111111111111111, \"#46039f\"], [0.2222222222222222, \"#7201a8\"], [0.3333333333333333, \"#9c179e\"], [0.4444444444444444, \"#bd3786\"], [0.5555555555555556, \"#d8576b\"], [0.6666666666666666, \"#ed7953\"], [0.7777777777777778, \"#fb9f3a\"], [0.8888888888888888, \"#fdca26\"], [1.0, \"#f0f921\"]], \"type\": \"surface\"}], \"table\": [{\"cells\": {\"fill\": {\"color\": \"#EBF0F8\"}, \"line\": {\"color\": \"white\"}}, \"header\": {\"fill\": {\"color\": \"#C8D4E3\"}, \"line\": {\"color\": \"white\"}}, \"type\": \"table\"}]}, \"layout\": {\"annotationdefaults\": {\"arrowcolor\": \"#2a3f5f\", \"arrowhead\": 0, \"arrowwidth\": 1}, \"autotypenumbers\": \"strict\", \"coloraxis\": {\"colorbar\": {\"outlinewidth\": 0, \"ticks\": \"\"}}, \"colorscale\": {\"diverging\": [[0, \"#8e0152\"], [0.1, \"#c51b7d\"], [0.2, \"#de77ae\"], [0.3, \"#f1b6da\"], [0.4, \"#fde0ef\"], [0.5, \"#f7f7f7\"], [0.6, \"#e6f5d0\"], [0.7, \"#b8e186\"], [0.8, \"#7fbc41\"], [0.9, \"#4d9221\"], [1, \"#276419\"]], \"sequential\": [[0.0, \"#0d0887\"], [0.1111111111111111, \"#46039f\"], [0.2222222222222222, \"#7201a8\"], [0.3333333333333333, \"#9c179e\"], [0.4444444444444444, \"#bd3786\"], [0.5555555555555556, \"#d8576b\"], [0.6666666666666666, \"#ed7953\"], [0.7777777777777778, \"#fb9f3a\"], [0.8888888888888888, \"#fdca26\"], [1.0, \"#f0f921\"]], \"sequentialminus\": [[0.0, \"#0d0887\"], [0.1111111111111111, \"#46039f\"], [0.2222222222222222, \"#7201a8\"], [0.3333333333333333, \"#9c179e\"], [0.4444444444444444, \"#bd3786\"], [0.5555555555555556, \"#d8576b\"], [0.6666666666666666, \"#ed7953\"], [0.7777777777777778, \"#fb9f3a\"], [0.8888888888888888, \"#fdca26\"], [1.0, \"#f0f921\"]]}, \"colorway\": [\"#636efa\", \"#EF553B\", \"#00cc96\", \"#ab63fa\", \"#FFA15A\", \"#19d3f3\", \"#FF6692\", \"#B6E880\", \"#FF97FF\", \"#FECB52\"], \"font\": {\"color\": \"#2a3f5f\"}, \"geo\": {\"bgcolor\": \"white\", \"lakecolor\": \"white\", \"landcolor\": \"#E5ECF6\", \"showlakes\": true, \"showland\": true, \"subunitcolor\": \"white\"}, \"hoverlabel\": {\"align\": \"left\"}, \"hovermode\": \"closest\", \"mapbox\": {\"style\": \"light\"}, \"paper_bgcolor\": \"white\", \"plot_bgcolor\": \"#E5ECF6\", \"polar\": {\"angularaxis\": {\"gridcolor\": \"white\", \"linecolor\": \"white\", \"ticks\": \"\"}, \"bgcolor\": \"#E5ECF6\", \"radialaxis\": {\"gridcolor\": \"white\", \"linecolor\": \"white\", \"ticks\": \"\"}}, \"scene\": {\"xaxis\": {\"backgroundcolor\": \"#E5ECF6\", \"gridcolor\": \"white\", \"gridwidth\": 2, \"linecolor\": \"white\", \"showbackground\": true, \"ticks\": \"\", \"zerolinecolor\": \"white\"}, \"yaxis\": {\"backgroundcolor\": \"#E5ECF6\", \"gridcolor\": \"white\", \"gridwidth\": 2, \"linecolor\": \"white\", \"showbackground\": true, \"ticks\": \"\", \"zerolinecolor\": \"white\"}, \"zaxis\": {\"backgroundcolor\": \"#E5ECF6\", \"gridcolor\": \"white\", \"gridwidth\": 2, \"linecolor\": \"white\", \"showbackground\": true, \"ticks\": \"\", \"zerolinecolor\": \"white\"}}, \"shapedefaults\": {\"line\": {\"color\": \"#2a3f5f\"}}, \"ternary\": {\"aaxis\": {\"gridcolor\": \"white\", \"linecolor\": \"white\", \"ticks\": \"\"}, \"baxis\": {\"gridcolor\": \"white\", \"linecolor\": \"white\", \"ticks\": \"\"}, \"bgcolor\": \"#E5ECF6\", \"caxis\": {\"gridcolor\": \"white\", \"linecolor\": \"white\", \"ticks\": \"\"}}, \"title\": {\"x\": 0.05}, \"xaxis\": {\"automargin\": true, \"gridcolor\": \"white\", \"linecolor\": \"white\", \"ticks\": \"\", \"title\": {\"standoff\": 15}, \"zerolinecolor\": \"white\", \"zerolinewidth\": 2}, \"yaxis\": {\"automargin\": true, \"gridcolor\": \"white\", \"linecolor\": \"white\", \"ticks\": \"\", \"title\": {\"standoff\": 15}, \"zerolinecolor\": \"white\", \"zerolinewidth\": 2}}}},                        {\"responsive\": true}                    ).then(function(){\n",
       "                            \n",
       "var gd = document.getElementById('61e6bda4-dd37-446e-9df5-40573f631174');\n",
       "var x = new MutationObserver(function (mutations, observer) {{\n",
       "        var display = window.getComputedStyle(gd).display;\n",
       "        if (!display || display === 'none') {{\n",
       "            console.log([gd, 'removed!']);\n",
       "            Plotly.purge(gd);\n",
       "            observer.disconnect();\n",
       "        }}\n",
       "}});\n",
       "\n",
       "// Listen for the removal of the full notebook cells\n",
       "var notebookContainer = gd.closest('#notebook-container');\n",
       "if (notebookContainer) {{\n",
       "    x.observe(notebookContainer, {childList: true});\n",
       "}}\n",
       "\n",
       "// Listen for the clearing of the current output cell\n",
       "var outputEl = gd.closest('.output');\n",
       "if (outputEl) {{\n",
       "    x.observe(outputEl, {childList: true});\n",
       "}}\n",
       "\n",
       "                        })                };                });            </script>        </div>"
      ]
     },
     "metadata": {},
     "output_type": "display_data"
    }
   ],
   "source": [
    "from sklearn.metrics import mean_absolute_error\n",
    "\n",
    "x = BS.df['K']\n",
    "y = BS.df['_T']\n",
    "z = BS.df['mark_price']\n",
    "\n",
    "x1 = BS.df['K']\n",
    "y1 = BS.df['_T']\n",
    "z1 = BS.df['BS_PRICE']\n",
    "\n",
    "x2 = M.df['K']\n",
    "y2 = M.df['_T']\n",
    "z2 = M.df['MERTON_PRICE']\n",
    "\n",
    "x3 = H.df['K']\n",
    "y3 = H.df['_T']\n",
    "z3 = H.df['HESTON_PRICE']\n",
    "\n",
    "\n",
    "\n",
    "\n",
    "\n",
    "\n",
    "fig = go.Figure(data=[go.Scatter3d(x=x, y=y, z=z , mode='markers', name='Real Market Price', marker=dict(opacity=0.8)),\n",
    "                      go.Scatter3d(x=x1, y=y1, z=z1, mode='markers', name='BlackScholes Model Price', marker=dict(opacity=0.8)),\n",
    "                      go.Scatter3d(x=x2, y=y2, z=z2, mode='markers', name='Merton Model Price', marker=dict(opacity=0.8),),\n",
    "                      go.Scatter3d(x=x3, y=y3, z=z3, mode='markers', name='Heston Model Price', marker=dict(opacity=0.8))])\n",
    "\n",
    "\n",
    "fig.update_scenes(xaxis_title_text='Strike', yaxis_title_text='Exp', zaxis_title_text='Price') \n",
    "fig.show()\n",
    "\n",
    "#rms_merton = mean_squared_error(z2, z3, squared=False)\n",
    "\n"
   ]
  },
  {
   "cell_type": "code",
   "execution_count": 17,
   "metadata": {},
   "outputs": [
    {
     "name": "stdout",
     "output_type": "stream",
     "text": [
      "=============== Root Mean Squared Error ================\n",
      "\n",
      "B&S    = 1.789 %\n",
      "MERTON    = 1.293 %\n",
      "HESTON    = 1.289 % \n",
      "\n",
      "=============== Mean Absolute Error ================\n",
      "\n",
      "B&S    = 0.841 %\n",
      "MERTON    = 0.704 %\n",
      "HESTON    = 0.795 % \n",
      "\n",
      "=============== R2 Score ================\n",
      "\n",
      "B&S    = 61.382 %\n",
      "MERTON    = 85.955 %\n",
      "HESTON    = 83.69 % \n",
      "\n"
     ]
    }
   ],
   "source": [
    "Eval_Metrics(BS=BS,M=M,H=H)"
   ]
  },
  {
   "cell_type": "code",
   "execution_count": 18,
   "metadata": {},
   "outputs": [],
   "source": [
    "import matplotlib.pyplot as plt\n",
    "import pandas as pd\n",
    "import seaborn as sns\n",
    "\n",
    "sns.set_style(\"darkgrid\")\n",
    "plt.rcParams[\"figure.figsize\"] = (10,7)"
   ]
  },
  {
   "cell_type": "code",
   "execution_count": 24,
   "metadata": {},
   "outputs": [
    {
     "data": {
      "image/png": "[encoded data removed]",
      "text/plain": [
       "<Figure size 432x288 with 1 Axes>"
      ]
     },
     "metadata": {
      "needs_background": "light"
     },
     "output_type": "display_data"
    },
    {
     "data": {
      "image/png": "[encoded data removed]",
      "text/plain": [
       "<Figure size 432x288 with 1 Axes>"
      ]
     },
     "metadata": {
      "needs_background": "light"
     },
     "output_type": "display_data"
    },
    {
     "data": {
      "image/png": "[encoded data removed]",
      "text/plain": [
       "<Figure size 432x288 with 1 Axes>"
      ]
     },
     "metadata": {
      "needs_background": "light"
     },
     "output_type": "display_data"
    },
    {
     "data": {
      "image/png": "[encoded data removed]",
      "text/plain": [
       "<Figure size 432x288 with 1 Axes>"
      ]
     },
     "metadata": {
      "needs_background": "light"
     },
     "output_type": "display_data"
    },
    {
     "data": {
      "image/png": "[encoded data removed]",
      "text/plain": [
       "<Figure size 432x288 with 1 Axes>"
      ]
     },
     "metadata": {
      "needs_background": "light"
     },
     "output_type": "display_data"
    },
    {
     "data": {
      "image/png": "[encoded data removed]",
      "text/plain": [
       "<Figure size 432x288 with 1 Axes>"
      ]
     },
     "metadata": {
      "needs_background": "light"
     },
     "output_type": "display_data"
    },
    {
     "data": {
      "image/png": "[encoded data removed]",
      "text/plain": [
       "<Figure size 432x288 with 1 Axes>"
      ]
     },
     "metadata": {
      "needs_background": "light"
     },
     "output_type": "display_data"
    }
   ],
   "source": [
    "\n",
    "\n",
    "mkt  = pd.DataFrame([BS.df['S'],BS.df['_T'],BS.df['K'],BS.df['mark_price'],BS.df['BS_PRICE'],H.df['HESTON_PRICE'],M.df['MERTON_PRICE']]).T\n",
    "\n",
    "mkt.dropna(inplace = True)\n",
    "L_T = []\n",
    "\n",
    "for T in mkt['_T']:\n",
    "    \n",
    "    if T not in L_T:\n",
    "        \n",
    "        L_T.append(T)\n",
    "        extract_mkt = mkt[mkt._T == T]\n",
    "        \n",
    "        s = extract_mkt['S']\n",
    "\n",
    "        plt.plot(s/extract_mkt['K'],extract_mkt['mark_price'],label='Market Price')\n",
    "        #plt.plot(extract_mkt['K'],extract_mkt['BS_PRICE'], label='Black-Scholes Price')\n",
    "        plt.plot(s/extract_mkt['K'],extract_mkt['MERTON_PRICE'], label='Merton Price')\n",
    "        plt.plot(s/extract_mkt['K'],extract_mkt['HESTON_PRICE'],label='Heston Price')\n",
    "        plt.xlabel('Strike K')\n",
    "        plt.ylabel('Price (BTC)')\n",
    "        plt.legend()\n",
    "        \n",
    "\n",
    "        plt.title('Maturity T = {} days'.format(round(T*365,2)))\n",
    "        plt.savefig('T_{}_days.png'.format(round(T*365,2)))\n",
    "        plt.show()\n",
    "    "
   ]
  },
  {
   "cell_type": "code",
   "execution_count": 141,
   "metadata": {},
   "outputs": [],
   "source": [
    "new_df = BS.df.copy()\n",
    "new_df['K'] = new_df['K']/32000"
   ]
  },
  {
   "cell_type": "code",
   "execution_count": 142,
   "metadata": {},
   "outputs": [
    {
     "name": "stderr",
     "output_type": "stream",
     "text": [
      "/opt/anaconda3/lib/python3.7/site-packages/pandas/core/computation/expressions.py:204: UserWarning:\n",
      "\n",
      "evaluating in Python space because the '*' operator is not supported by numexpr for the bool dtype, use '&' instead\n",
      "\n",
      "/opt/anaconda3/lib/python3.7/site-packages/pandas/core/computation/expressions.py:204: UserWarning:\n",
      "\n",
      "evaluating in Python space because the '*' operator is not supported by numexpr for the bool dtype, use '&' instead\n",
      "\n"
     ]
    }
   ],
   "source": [
    "new_df = new_df[(new_df._T >= 0.003)*(.0<new_df.K)*(new_df.K < 1.6)][['K', '_T', 'L_VOL']]"
   ]
  },
  {
   "cell_type": "code",
   "execution_count": 143,
   "metadata": {},
   "outputs": [
    {
     "data": {
      "text/html": [
       "<div>\n",
       "<style scoped>\n",
       "    .dataframe tbody tr th:only-of-type {\n",
       "        vertical-align: middle;\n",
       "    }\n",
       "\n",
       "    .dataframe tbody tr th {\n",
       "        vertical-align: top;\n",
       "    }\n",
       "\n",
       "    .dataframe thead th {\n",
       "        text-align: right;\n",
       "    }\n",
       "</style>\n",
       "<table border=\"1\" class=\"dataframe\">\n",
       "  <thead>\n",
       "    <tr style=\"text-align: right;\">\n",
       "      <th>K</th>\n",
       "      <th>0.50000</th>\n",
       "      <th>0.56250</th>\n",
       "      <th>0.62500</th>\n",
       "      <th>0.75000</th>\n",
       "      <th>0.78125</th>\n",
       "      <th>0.81250</th>\n",
       "      <th>0.87500</th>\n",
       "      <th>0.93750</th>\n",
       "      <th>0.96875</th>\n",
       "      <th>1.00000</th>\n",
       "      <th>...</th>\n",
       "      <th>1.06250</th>\n",
       "      <th>1.09375</th>\n",
       "      <th>1.12500</th>\n",
       "      <th>1.15625</th>\n",
       "      <th>1.18750</th>\n",
       "      <th>1.25000</th>\n",
       "      <th>1.31250</th>\n",
       "      <th>1.40625</th>\n",
       "      <th>1.50000</th>\n",
       "      <th>1.56250</th>\n",
       "    </tr>\n",
       "    <tr>\n",
       "      <th>_T</th>\n",
       "      <th></th>\n",
       "      <th></th>\n",
       "      <th></th>\n",
       "      <th></th>\n",
       "      <th></th>\n",
       "      <th></th>\n",
       "      <th></th>\n",
       "      <th></th>\n",
       "      <th></th>\n",
       "      <th></th>\n",
       "      <th></th>\n",
       "      <th></th>\n",
       "      <th></th>\n",
       "      <th></th>\n",
       "      <th></th>\n",
       "      <th></th>\n",
       "      <th></th>\n",
       "      <th></th>\n",
       "      <th></th>\n",
       "      <th></th>\n",
       "      <th></th>\n",
       "    </tr>\n",
       "  </thead>\n",
       "  <tbody>\n",
       "    <tr>\n",
       "      <th>0.003774</th>\n",
       "      <td>NaN</td>\n",
       "      <td>NaN</td>\n",
       "      <td>NaN</td>\n",
       "      <td>NaN</td>\n",
       "      <td>NaN</td>\n",
       "      <td>NaN</td>\n",
       "      <td>NaN</td>\n",
       "      <td>0.336906</td>\n",
       "      <td>0.214349</td>\n",
       "      <td>0.088220</td>\n",
       "      <td>...</td>\n",
       "      <td>0.184781</td>\n",
       "      <td>0.283858</td>\n",
       "      <td>NaN</td>\n",
       "      <td>NaN</td>\n",
       "      <td>NaN</td>\n",
       "      <td>NaN</td>\n",
       "      <td>NaN</td>\n",
       "      <td>NaN</td>\n",
       "      <td>NaN</td>\n",
       "      <td>NaN</td>\n",
       "    </tr>\n",
       "    <tr>\n",
       "      <th>0.020213</th>\n",
       "      <td>NaN</td>\n",
       "      <td>NaN</td>\n",
       "      <td>NaN</td>\n",
       "      <td>NaN</td>\n",
       "      <td>0.435056</td>\n",
       "      <td>0.382207</td>\n",
       "      <td>0.268638</td>\n",
       "      <td>0.156892</td>\n",
       "      <td>0.103199</td>\n",
       "      <td>0.041709</td>\n",
       "      <td>...</td>\n",
       "      <td>0.088342</td>\n",
       "      <td>0.138602</td>\n",
       "      <td>0.183879</td>\n",
       "      <td>0.222203</td>\n",
       "      <td>0.263962</td>\n",
       "      <td>0.333005</td>\n",
       "      <td>0.396944</td>\n",
       "      <td>0.469585</td>\n",
       "      <td>NaN</td>\n",
       "      <td>NaN</td>\n",
       "    </tr>\n",
       "    <tr>\n",
       "      <th>0.039391</th>\n",
       "      <td>NaN</td>\n",
       "      <td>NaN</td>\n",
       "      <td>NaN</td>\n",
       "      <td>NaN</td>\n",
       "      <td>0.326944</td>\n",
       "      <td>0.283378</td>\n",
       "      <td>0.199408</td>\n",
       "      <td>0.115340</td>\n",
       "      <td>0.103199</td>\n",
       "      <td>0.027434</td>\n",
       "      <td>...</td>\n",
       "      <td>0.066214</td>\n",
       "      <td>0.113277</td>\n",
       "      <td>0.138290</td>\n",
       "      <td>0.222203</td>\n",
       "      <td>0.197652</td>\n",
       "      <td>0.251158</td>\n",
       "      <td>0.300865</td>\n",
       "      <td>0.365185</td>\n",
       "      <td>NaN</td>\n",
       "      <td>0.453502</td>\n",
       "    </tr>\n",
       "    <tr>\n",
       "      <th>0.058569</th>\n",
       "      <td>NaN</td>\n",
       "      <td>NaN</td>\n",
       "      <td>0.467877</td>\n",
       "      <td>0.310976</td>\n",
       "      <td>0.274438</td>\n",
       "      <td>0.238139</td>\n",
       "      <td>0.166743</td>\n",
       "      <td>0.095896</td>\n",
       "      <td>0.103199</td>\n",
       "      <td>0.024198</td>\n",
       "      <td>...</td>\n",
       "      <td>0.054095</td>\n",
       "      <td>0.087952</td>\n",
       "      <td>0.115444</td>\n",
       "      <td>0.222203</td>\n",
       "      <td>0.197652</td>\n",
       "      <td>0.214558</td>\n",
       "      <td>0.300865</td>\n",
       "      <td>0.313825</td>\n",
       "      <td>NaN</td>\n",
       "      <td>0.396309</td>\n",
       "    </tr>\n",
       "    <tr>\n",
       "      <th>0.135281</th>\n",
       "      <td>NaN</td>\n",
       "      <td>NaN</td>\n",
       "      <td>0.327556</td>\n",
       "      <td>0.246382</td>\n",
       "      <td>0.192733</td>\n",
       "      <td>0.238139</td>\n",
       "      <td>0.166743</td>\n",
       "      <td>0.069920</td>\n",
       "      <td>0.103199</td>\n",
       "      <td>0.021029</td>\n",
       "      <td>...</td>\n",
       "      <td>0.054095</td>\n",
       "      <td>0.057993</td>\n",
       "      <td>0.088175</td>\n",
       "      <td>0.222203</td>\n",
       "      <td>0.197652</td>\n",
       "      <td>0.150020</td>\n",
       "      <td>0.300865</td>\n",
       "      <td>0.221178</td>\n",
       "      <td>NaN</td>\n",
       "      <td>0.280628</td>\n",
       "    </tr>\n",
       "  </tbody>\n",
       "</table>\n",
       "<p>5 rows × 21 columns</p>\n",
       "</div>"
      ],
      "text/plain": [
       "K         0.50000  0.56250   0.62500   0.75000   0.78125   0.81250   0.87500  \\\n",
       "_T                                                                             \n",
       "0.003774      NaN      NaN       NaN       NaN       NaN       NaN       NaN   \n",
       "0.020213      NaN      NaN       NaN       NaN  0.435056  0.382207  0.268638   \n",
       "0.039391      NaN      NaN       NaN       NaN  0.326944  0.283378  0.199408   \n",
       "0.058569      NaN      NaN  0.467877  0.310976  0.274438  0.238139  0.166743   \n",
       "0.135281      NaN      NaN  0.327556  0.246382  0.192733  0.238139  0.166743   \n",
       "\n",
       "K          0.93750   0.96875   1.00000  ...   1.06250   1.09375   1.12500  \\\n",
       "_T                                      ...                                 \n",
       "0.003774  0.336906  0.214349  0.088220  ...  0.184781  0.283858       NaN   \n",
       "0.020213  0.156892  0.103199  0.041709  ...  0.088342  0.138602  0.183879   \n",
       "0.039391  0.115340  0.103199  0.027434  ...  0.066214  0.113277  0.138290   \n",
       "0.058569  0.095896  0.103199  0.024198  ...  0.054095  0.087952  0.115444   \n",
       "0.135281  0.069920  0.103199  0.021029  ...  0.054095  0.057993  0.088175   \n",
       "\n",
       "K          1.15625   1.18750   1.25000   1.31250   1.40625  1.50000   1.56250  \n",
       "_T                                                                             \n",
       "0.003774       NaN       NaN       NaN       NaN       NaN      NaN       NaN  \n",
       "0.020213  0.222203  0.263962  0.333005  0.396944  0.469585      NaN       NaN  \n",
       "0.039391  0.222203  0.197652  0.251158  0.300865  0.365185      NaN  0.453502  \n",
       "0.058569  0.222203  0.197652  0.214558  0.300865  0.313825      NaN  0.396309  \n",
       "0.135281  0.222203  0.197652  0.150020  0.300865  0.221178      NaN  0.280628  \n",
       "\n",
       "[5 rows x 21 columns]"
      ]
     },
     "execution_count": 143,
     "metadata": {},
     "output_type": "execute_result"
    }
   ],
   "source": [
    "new_df = new_df.pivot(index = '_T',columns='K', values='L_VOL')\n",
    "new_df.interpolate(inplace=True)\n",
    "new_df.head()"
   ]
  },
  {
   "cell_type": "code",
   "execution_count": 149,
   "metadata": {},
   "outputs": [
    {
     "data": {
      "application/vnd.plotly.v1+json": {
       "config": {
        "plotlyServerURL": "https://plot.ly"
       },
       "data": [
        {
         "type": "surface",
         "x": [
          0.5,
          0.5625,
          0.625,
          0.75,
          0.78125,
          0.8125,
          0.875,
          0.9375,
          0.96875,
          1,
          1.03125,
          1.0625,
          1.09375,
          1.125,
          1.15625,
          1.1875,
          1.25,
          1.3125,
          1.40625,
          1.5,
          1.5625
         ],
         "y": [
          0.003774343515662661,
          0.02021269968004622,
          0.03939078187182704,
          0.05856886406360787,
          0.13528119283073115,
          0.21199352159785445
         ],
         "z": [
          [
           null,
           null,
           null,
           null,
           null,
           null,
           null,
           0.33690580692705435,
           0.21434854083175398,
           0.08822041378437155,
           0.06399488183004003,
           0.1847814358148666,
           0.2838576851709574,
           null,
           null,
           null,
           null,
           null,
           null,
           null,
           null
          ],
          [
           null,
           null,
           null,
           null,
           0.43505593712214474,
           0.38220687573364687,
           0.2686384690815227,
           0.15689172289348707,
           0.1031992563808113,
           0.04170853647329977,
           0.031027398169456762,
           0.0883423987362235,
           0.13860244914801031,
           0.18387851588410462,
           0.22220273107835692,
           0.2639620923234183,
           0.3330053500681074,
           0.39694373262689653,
           0.46958488112081187,
           null,
           null
          ],
          [
           null,
           null,
           null,
           null,
           0.32694438310416674,
           0.2833784247717533,
           0.1994081747154257,
           0.11533967529321415,
           0.1031992563808113,
           0.027433977331461842,
           0.031027398169456762,
           0.06621384248938057,
           0.11327707037308848,
           0.13828973643202155,
           0.22220273107835692,
           0.1976519271546892,
           0.2511578486417539,
           0.30086513357247996,
           0.36518490502660195,
           null,
           0.4535020484091301
          ],
          [
           null,
           null,
           0.46787737357886244,
           0.3109764597699425,
           0.27443755921268925,
           0.23813948930005024,
           0.16674316430970473,
           0.09589625222285685,
           0.1031992563808113,
           0.024197538099389286,
           0.031027398169456762,
           0.05409471286922684,
           0.08795169159816664,
           0.11544408423997596,
           0.22220273107835692,
           0.1976519271546892,
           0.21455811995165286,
           0.30086513357247996,
           0.31382473206997286,
           null,
           0.3963094029329028
          ],
          [
           null,
           null,
           0.3275558979533572,
           0.2463820801317086,
           0.19273264989833785,
           0.23813948930005024,
           0.16674316430970473,
           0.06992037655202461,
           0.1031992563808113,
           0.02102854086086311,
           0.031027398169456762,
           0.05409471286922684,
           0.05799266370329114,
           0.08817523434664226,
           0.22220273107835692,
           0.1976519271546892,
           0.1500198236544729,
           0.30086513357247996,
           0.22117789414779665,
           null,
           0.28062765136965934
          ],
          [
           0.3722490755820839,
           0.31889633295410735,
           0.27025214827862115,
           0.18178770049347473,
           0.19273264989833785,
           0.23813948930005024,
           0.16674316430970473,
           0.06992037655202461,
           0.1031992563808113,
           0.017859543622336927,
           0.031027398169456762,
           0.05409471286922684,
           0.05799266370329114,
           0.06090638445330858,
           0.22220273107835692,
           0.1976519271546892,
           0.12181900171229487,
           0.30086513357247996,
           0.22117789414779665,
           0.21366825911704365,
           0.23324522277074886
          ]
         ]
        }
       ],
       "layout": {
        "autosize": false,
        "height": 500,
        "margin": {
         "b": 65,
         "l": 65,
         "r": 50,
         "t": 90
        },
        "scene": {
         "xaxis": {
          "title": {
           "text": "Moneyness S/K"
          }
         },
         "yaxis": {
          "title": {
           "text": "Exp"
          }
         },
         "zaxis": {
          "title": {
           "text": "Local Volatility"
          }
         }
        },
        "template": {
         "data": {
          "bar": [
           {
            "error_x": {
             "color": "#2a3f5f"
            },
            "error_y": {
             "color": "#2a3f5f"
            },
            "marker": {
             "line": {
              "color": "#E5ECF6",
              "width": 0.5
             }
            },
            "type": "bar"
           }
          ],
          "barpolar": [
           {
            "marker": {
             "line": {
              "color": "#E5ECF6",
              "width": 0.5
             }
            },
            "type": "barpolar"
           }
          ],
          "carpet": [
           {
            "aaxis": {
             "endlinecolor": "#2a3f5f",
             "gridcolor": "white",
             "linecolor": "white",
             "minorgridcolor": "white",
             "startlinecolor": "#2a3f5f"
            },
            "baxis": {
             "endlinecolor": "#2a3f5f",
             "gridcolor": "white",
             "linecolor": "white",
             "minorgridcolor": "white",
             "startlinecolor": "#2a3f5f"
            },
            "type": "carpet"
           }
          ],
          "choropleth": [
           {
            "colorbar": {
             "outlinewidth": 0,
             "ticks": ""
            },
            "type": "choropleth"
           }
          ],
          "contour": [
           {
            "colorbar": {
             "outlinewidth": 0,
             "ticks": ""
            },
            "colorscale": [
             [
              0,
              "#0d0887"
             ],
             [
              0.1111111111111111,
              "#46039f"
             ],
             [
              0.2222222222222222,
              "#7201a8"
             ],
             [
              0.3333333333333333,
              "#9c179e"
             ],
             [
              0.4444444444444444,
              "#bd3786"
             ],
             [
              0.5555555555555556,
              "#d8576b"
             ],
             [
              0.6666666666666666,
              "#ed7953"
             ],
             [
              0.7777777777777778,
              "#fb9f3a"
             ],
             [
              0.8888888888888888,
              "#fdca26"
             ],
             [
              1,
              "#f0f921"
             ]
            ],
            "type": "contour"
           }
          ],
          "contourcarpet": [
           {
            "colorbar": {
             "outlinewidth": 0,
             "ticks": ""
            },
            "type": "contourcarpet"
           }
          ],
          "heatmap": [
           {
            "colorbar": {
             "outlinewidth": 0,
             "ticks": ""
            },
            "colorscale": [
             [
              0,
              "#0d0887"
             ],
             [
              0.1111111111111111,
              "#46039f"
             ],
             [
              0.2222222222222222,
              "#7201a8"
             ],
             [
              0.3333333333333333,
              "#9c179e"
             ],
             [
              0.4444444444444444,
              "#bd3786"
             ],
             [
              0.5555555555555556,
              "#d8576b"
             ],
             [
              0.6666666666666666,
              "#ed7953"
             ],
             [
              0.7777777777777778,
              "#fb9f3a"
             ],
             [
              0.8888888888888888,
              "#fdca26"
             ],
             [
              1,
              "#f0f921"
             ]
            ],
            "type": "heatmap"
           }
          ],
          "heatmapgl": [
           {
            "colorbar": {
             "outlinewidth": 0,
             "ticks": ""
            },
            "colorscale": [
             [
              0,
              "#0d0887"
             ],
             [
              0.1111111111111111,
              "#46039f"
             ],
             [
              0.2222222222222222,
              "#7201a8"
             ],
             [
              0.3333333333333333,
              "#9c179e"
             ],
             [
              0.4444444444444444,
              "#bd3786"
             ],
             [
              0.5555555555555556,
              "#d8576b"
             ],
             [
              0.6666666666666666,
              "#ed7953"
             ],
             [
              0.7777777777777778,
              "#fb9f3a"
             ],
             [
              0.8888888888888888,
              "#fdca26"
             ],
             [
              1,
              "#f0f921"
             ]
            ],
            "type": "heatmapgl"
           }
          ],
          "histogram": [
           {
            "marker": {
             "colorbar": {
              "outlinewidth": 0,
              "ticks": ""
             }
            },
            "type": "histogram"
           }
          ],
          "histogram2d": [
           {
            "colorbar": {
             "outlinewidth": 0,
             "ticks": ""
            },
            "colorscale": [
             [
              0,
              "#0d0887"
             ],
             [
              0.1111111111111111,
              "#46039f"
             ],
             [
              0.2222222222222222,
              "#7201a8"
             ],
             [
              0.3333333333333333,
              "#9c179e"
             ],
             [
              0.4444444444444444,
              "#bd3786"
             ],
             [
              0.5555555555555556,
              "#d8576b"
             ],
             [
              0.6666666666666666,
              "#ed7953"
             ],
             [
              0.7777777777777778,
              "#fb9f3a"
             ],
             [
              0.8888888888888888,
              "#fdca26"
             ],
             [
              1,
              "#f0f921"
             ]
            ],
            "type": "histogram2d"
           }
          ],
          "histogram2dcontour": [
           {
            "colorbar": {
             "outlinewidth": 0,
             "ticks": ""
            },
            "colorscale": [
             [
              0,
              "#0d0887"
             ],
             [
              0.1111111111111111,
              "#46039f"
             ],
             [
              0.2222222222222222,
              "#7201a8"
             ],
             [
              0.3333333333333333,
              "#9c179e"
             ],
             [
              0.4444444444444444,
              "#bd3786"
             ],
             [
              0.5555555555555556,
              "#d8576b"
             ],
             [
              0.6666666666666666,
              "#ed7953"
             ],
             [
              0.7777777777777778,
              "#fb9f3a"
             ],
             [
              0.8888888888888888,
              "#fdca26"
             ],
             [
              1,
              "#f0f921"
             ]
            ],
            "type": "histogram2dcontour"
           }
          ],
          "mesh3d": [
           {
            "colorbar": {
             "outlinewidth": 0,
             "ticks": ""
            },
            "type": "mesh3d"
           }
          ],
          "parcoords": [
           {
            "line": {
             "colorbar": {
              "outlinewidth": 0,
              "ticks": ""
             }
            },
            "type": "parcoords"
           }
          ],
          "pie": [
           {
            "automargin": true,
            "type": "pie"
           }
          ],
          "scatter": [
           {
            "marker": {
             "colorbar": {
              "outlinewidth": 0,
              "ticks": ""
             }
            },
            "type": "scatter"
           }
          ],
          "scatter3d": [
           {
            "line": {
             "colorbar": {
              "outlinewidth": 0,
              "ticks": ""
             }
            },
            "marker": {
             "colorbar": {
              "outlinewidth": 0,
              "ticks": ""
             }
            },
            "type": "scatter3d"
           }
          ],
          "scattercarpet": [
           {
            "marker": {
             "colorbar": {
              "outlinewidth": 0,
              "ticks": ""
             }
            },
            "type": "scattercarpet"
           }
          ],
          "scattergeo": [
           {
            "marker": {
             "colorbar": {
              "outlinewidth": 0,
              "ticks": ""
             }
            },
            "type": "scattergeo"
           }
          ],
          "scattergl": [
           {
            "marker": {
             "colorbar": {
              "outlinewidth": 0,
              "ticks": ""
             }
            },
            "type": "scattergl"
           }
          ],
          "scattermapbox": [
           {
            "marker": {
             "colorbar": {
              "outlinewidth": 0,
              "ticks": ""
             }
            },
            "type": "scattermapbox"
           }
          ],
          "scatterpolar": [
           {
            "marker": {
             "colorbar": {
              "outlinewidth": 0,
              "ticks": ""
             }
            },
            "type": "scatterpolar"
           }
          ],
          "scatterpolargl": [
           {
            "marker": {
             "colorbar": {
              "outlinewidth": 0,
              "ticks": ""
             }
            },
            "type": "scatterpolargl"
           }
          ],
          "scatterternary": [
           {
            "marker": {
             "colorbar": {
              "outlinewidth": 0,
              "ticks": ""
             }
            },
            "type": "scatterternary"
           }
          ],
          "surface": [
           {
            "colorbar": {
             "outlinewidth": 0,
             "ticks": ""
            },
            "colorscale": [
             [
              0,
              "#0d0887"
             ],
             [
              0.1111111111111111,
              "#46039f"
             ],
             [
              0.2222222222222222,
              "#7201a8"
             ],
             [
              0.3333333333333333,
              "#9c179e"
             ],
             [
              0.4444444444444444,
              "#bd3786"
             ],
             [
              0.5555555555555556,
              "#d8576b"
             ],
             [
              0.6666666666666666,
              "#ed7953"
             ],
             [
              0.7777777777777778,
              "#fb9f3a"
             ],
             [
              0.8888888888888888,
              "#fdca26"
             ],
             [
              1,
              "#f0f921"
             ]
            ],
            "type": "surface"
           }
          ],
          "table": [
           {
            "cells": {
             "fill": {
              "color": "#EBF0F8"
             },
             "line": {
              "color": "white"
             }
            },
            "header": {
             "fill": {
              "color": "#C8D4E3"
             },
             "line": {
              "color": "white"
             }
            },
            "type": "table"
           }
          ]
         },
         "layout": {
          "annotationdefaults": {
           "arrowcolor": "#2a3f5f",
           "arrowhead": 0,
           "arrowwidth": 1
          },
          "autotypenumbers": "strict",
          "coloraxis": {
           "colorbar": {
            "outlinewidth": 0,
            "ticks": ""
           }
          },
          "colorscale": {
           "diverging": [
            [
             0,
             "#8e0152"
            ],
            [
             0.1,
             "#c51b7d"
            ],
            [
             0.2,
             "#de77ae"
            ],
            [
             0.3,
             "#f1b6da"
            ],
            [
             0.4,
             "#fde0ef"
            ],
            [
             0.5,
             "#f7f7f7"
            ],
            [
             0.6,
             "#e6f5d0"
            ],
            [
             0.7,
             "#b8e186"
            ],
            [
             0.8,
             "#7fbc41"
            ],
            [
             0.9,
             "#4d9221"
            ],
            [
             1,
             "#276419"
            ]
           ],
           "sequential": [
            [
             0,
             "#0d0887"
            ],
            [
             0.1111111111111111,
             "#46039f"
            ],
            [
             0.2222222222222222,
             "#7201a8"
            ],
            [
             0.3333333333333333,
             "#9c179e"
            ],
            [
             0.4444444444444444,
             "#bd3786"
            ],
            [
             0.5555555555555556,
             "#d8576b"
            ],
            [
             0.6666666666666666,
             "#ed7953"
            ],
            [
             0.7777777777777778,
             "#fb9f3a"
            ],
            [
             0.8888888888888888,
             "#fdca26"
            ],
            [
             1,
             "#f0f921"
            ]
           ],
           "sequentialminus": [
            [
             0,
             "#0d0887"
            ],
            [
             0.1111111111111111,
             "#46039f"
            ],
            [
             0.2222222222222222,
             "#7201a8"
            ],
            [
             0.3333333333333333,
             "#9c179e"
            ],
            [
             0.4444444444444444,
             "#bd3786"
            ],
            [
             0.5555555555555556,
             "#d8576b"
            ],
            [
             0.6666666666666666,
             "#ed7953"
            ],
            [
             0.7777777777777778,
             "#fb9f3a"
            ],
            [
             0.8888888888888888,
             "#fdca26"
            ],
            [
             1,
             "#f0f921"
            ]
           ]
          },
          "colorway": [
           "#636efa",
           "#EF553B",
           "#00cc96",
           "#ab63fa",
           "#FFA15A",
           "#19d3f3",
           "#FF6692",
           "#B6E880",
           "#FF97FF",
           "#FECB52"
          ],
          "font": {
           "color": "#2a3f5f"
          },
          "geo": {
           "bgcolor": "white",
           "lakecolor": "white",
           "landcolor": "#E5ECF6",
           "showlakes": true,
           "showland": true,
           "subunitcolor": "white"
          },
          "hoverlabel": {
           "align": "left"
          },
          "hovermode": "closest",
          "mapbox": {
           "style": "light"
          },
          "paper_bgcolor": "white",
          "plot_bgcolor": "#E5ECF6",
          "polar": {
           "angularaxis": {
            "gridcolor": "white",
            "linecolor": "white",
            "ticks": ""
           },
           "bgcolor": "#E5ECF6",
           "radialaxis": {
            "gridcolor": "white",
            "linecolor": "white",
            "ticks": ""
           }
          },
          "scene": {
           "xaxis": {
            "backgroundcolor": "#E5ECF6",
            "gridcolor": "white",
            "gridwidth": 2,
            "linecolor": "white",
            "showbackground": true,
            "ticks": "",
            "zerolinecolor": "white"
           },
           "yaxis": {
            "backgroundcolor": "#E5ECF6",
            "gridcolor": "white",
            "gridwidth": 2,
            "linecolor": "white",
            "showbackground": true,
            "ticks": "",
            "zerolinecolor": "white"
           },
           "zaxis": {
            "backgroundcolor": "#E5ECF6",
            "gridcolor": "white",
            "gridwidth": 2,
            "linecolor": "white",
            "showbackground": true,
            "ticks": "",
            "zerolinecolor": "white"
           }
          },
          "shapedefaults": {
           "line": {
            "color": "#2a3f5f"
           }
          },
          "ternary": {
           "aaxis": {
            "gridcolor": "white",
            "linecolor": "white",
            "ticks": ""
           },
           "baxis": {
            "gridcolor": "white",
            "linecolor": "white",
            "ticks": ""
           },
           "bgcolor": "#E5ECF6",
           "caxis": {
            "gridcolor": "white",
            "linecolor": "white",
            "ticks": ""
           }
          },
          "title": {
           "x": 0.05
          },
          "xaxis": {
           "automargin": true,
           "gridcolor": "white",
           "linecolor": "white",
           "ticks": "",
           "title": {
            "standoff": 15
           },
           "zerolinecolor": "white",
           "zerolinewidth": 2
          },
          "yaxis": {
           "automargin": true,
           "gridcolor": "white",
           "linecolor": "white",
           "ticks": "",
           "title": {
            "standoff": 15
           },
           "zerolinecolor": "white",
           "zerolinewidth": 2
          }
         }
        },
        "title": {
         "text": "Implied Volatility surface"
        },
        "width": 500
       }
      },
      "text/html": [
       "<div>                            <div id=\"81a4909b-7667-4418-a69d-ded7f61fd5c3\" class=\"plotly-graph-div\" style=\"height:500px; width:500px;\"></div>            <script type=\"text/javascript\">                require([\"plotly\"], function(Plotly) {                    window.PLOTLYENV=window.PLOTLYENV || {};                                    if (document.getElementById(\"81a4909b-7667-4418-a69d-ded7f61fd5c3\")) {                    Plotly.newPlot(                        \"81a4909b-7667-4418-a69d-ded7f61fd5c3\",                        [{\"type\": \"surface\", \"x\": [0.5, 0.5625, 0.625, 0.75, 0.78125, 0.8125, 0.875, 0.9375, 0.96875, 1.0, 1.03125, 1.0625, 1.09375, 1.125, 1.15625, 1.1875, 1.25, 1.3125, 1.40625, 1.5, 1.5625], \"y\": [0.003774343515662661, 0.02021269968004622, 0.03939078187182704, 0.05856886406360787, 0.13528119283073115, 0.21199352159785445], \"z\": [[null, null, null, null, null, null, null, 0.33690580692705435, 0.21434854083175398, 0.08822041378437155, 0.06399488183004003, 0.1847814358148666, 0.2838576851709574, null, null, null, null, null, null, null, null], [null, null, null, null, 0.43505593712214474, 0.38220687573364687, 0.2686384690815227, 0.15689172289348707, 0.1031992563808113, 0.04170853647329977, 0.031027398169456762, 0.0883423987362235, 0.13860244914801031, 0.18387851588410462, 0.22220273107835692, 0.2639620923234183, 0.3330053500681074, 0.39694373262689653, 0.46958488112081187, null, null], [null, null, null, null, 0.32694438310416674, 0.2833784247717533, 0.1994081747154257, 0.11533967529321415, 0.1031992563808113, 0.027433977331461842, 0.031027398169456762, 0.06621384248938057, 0.11327707037308848, 0.13828973643202155, 0.22220273107835692, 0.1976519271546892, 0.2511578486417539, 0.30086513357247996, 0.36518490502660195, null, 0.4535020484091301], [null, null, 0.46787737357886244, 0.3109764597699425, 0.27443755921268925, 0.23813948930005024, 0.16674316430970473, 0.09589625222285685, 0.1031992563808113, 0.024197538099389286, 0.031027398169456762, 0.05409471286922684, 0.08795169159816664, 0.11544408423997596, 0.22220273107835692, 0.1976519271546892, 0.21455811995165286, 0.30086513357247996, 0.31382473206997286, null, 0.3963094029329028], [null, null, 0.3275558979533572, 0.2463820801317086, 0.19273264989833785, 0.23813948930005024, 0.16674316430970473, 0.06992037655202461, 0.1031992563808113, 0.02102854086086311, 0.031027398169456762, 0.05409471286922684, 0.05799266370329114, 0.08817523434664226, 0.22220273107835692, 0.1976519271546892, 0.1500198236544729, 0.30086513357247996, 0.22117789414779665, null, 0.28062765136965934], [0.3722490755820839, 0.31889633295410735, 0.27025214827862115, 0.18178770049347473, 0.19273264989833785, 0.23813948930005024, 0.16674316430970473, 0.06992037655202461, 0.1031992563808113, 0.017859543622336927, 0.031027398169456762, 0.05409471286922684, 0.05799266370329114, 0.06090638445330858, 0.22220273107835692, 0.1976519271546892, 0.12181900171229487, 0.30086513357247996, 0.22117789414779665, 0.21366825911704365, 0.23324522277074886]]}],                        {\"autosize\": false, \"height\": 500, \"margin\": {\"b\": 65, \"l\": 65, \"r\": 50, \"t\": 90}, \"scene\": {\"xaxis\": {\"title\": {\"text\": \"Moneyness S/K\"}}, \"yaxis\": {\"title\": {\"text\": \"Exp\"}}, \"zaxis\": {\"title\": {\"text\": \"Local Volatility\"}}}, \"template\": {\"data\": {\"bar\": [{\"error_x\": {\"color\": \"#2a3f5f\"}, \"error_y\": {\"color\": \"#2a3f5f\"}, \"marker\": {\"line\": {\"color\": \"#E5ECF6\", \"width\": 0.5}}, \"type\": \"bar\"}], \"barpolar\": [{\"marker\": {\"line\": {\"color\": \"#E5ECF6\", \"width\": 0.5}}, \"type\": \"barpolar\"}], \"carpet\": [{\"aaxis\": {\"endlinecolor\": \"#2a3f5f\", \"gridcolor\": \"white\", \"linecolor\": \"white\", \"minorgridcolor\": \"white\", \"startlinecolor\": \"#2a3f5f\"}, \"baxis\": {\"endlinecolor\": \"#2a3f5f\", \"gridcolor\": \"white\", \"linecolor\": \"white\", \"minorgridcolor\": \"white\", \"startlinecolor\": \"#2a3f5f\"}, \"type\": \"carpet\"}], \"choropleth\": [{\"colorbar\": {\"outlinewidth\": 0, \"ticks\": \"\"}, \"type\": \"choropleth\"}], \"contour\": [{\"colorbar\": {\"outlinewidth\": 0, \"ticks\": \"\"}, \"colorscale\": [[0.0, \"#0d0887\"], [0.1111111111111111, \"#46039f\"], [0.2222222222222222, \"#7201a8\"], [0.3333333333333333, \"#9c179e\"], [0.4444444444444444, \"#bd3786\"], [0.5555555555555556, \"#d8576b\"], [0.6666666666666666, \"#ed7953\"], [0.7777777777777778, \"#fb9f3a\"], [0.8888888888888888, \"#fdca26\"], [1.0, \"#f0f921\"]], \"type\": \"contour\"}], \"contourcarpet\": [{\"colorbar\": {\"outlinewidth\": 0, \"ticks\": \"\"}, \"type\": \"contourcarpet\"}], \"heatmap\": [{\"colorbar\": {\"outlinewidth\": 0, \"ticks\": \"\"}, \"colorscale\": [[0.0, \"#0d0887\"], [0.1111111111111111, \"#46039f\"], [0.2222222222222222, \"#7201a8\"], [0.3333333333333333, \"#9c179e\"], [0.4444444444444444, \"#bd3786\"], [0.5555555555555556, \"#d8576b\"], [0.6666666666666666, \"#ed7953\"], [0.7777777777777778, \"#fb9f3a\"], [0.8888888888888888, \"#fdca26\"], [1.0, \"#f0f921\"]], \"type\": \"heatmap\"}], \"heatmapgl\": [{\"colorbar\": {\"outlinewidth\": 0, \"ticks\": \"\"}, \"colorscale\": [[0.0, \"#0d0887\"], [0.1111111111111111, \"#46039f\"], [0.2222222222222222, \"#7201a8\"], [0.3333333333333333, \"#9c179e\"], [0.4444444444444444, \"#bd3786\"], [0.5555555555555556, \"#d8576b\"], [0.6666666666666666, \"#ed7953\"], [0.7777777777777778, \"#fb9f3a\"], [0.8888888888888888, \"#fdca26\"], [1.0, \"#f0f921\"]], \"type\": \"heatmapgl\"}], \"histogram\": [{\"marker\": {\"colorbar\": {\"outlinewidth\": 0, \"ticks\": \"\"}}, \"type\": \"histogram\"}], \"histogram2d\": [{\"colorbar\": {\"outlinewidth\": 0, \"ticks\": \"\"}, \"colorscale\": [[0.0, \"#0d0887\"], [0.1111111111111111, \"#46039f\"], [0.2222222222222222, \"#7201a8\"], [0.3333333333333333, \"#9c179e\"], [0.4444444444444444, \"#bd3786\"], [0.5555555555555556, \"#d8576b\"], [0.6666666666666666, \"#ed7953\"], [0.7777777777777778, \"#fb9f3a\"], [0.8888888888888888, \"#fdca26\"], [1.0, \"#f0f921\"]], \"type\": \"histogram2d\"}], \"histogram2dcontour\": [{\"colorbar\": {\"outlinewidth\": 0, \"ticks\": \"\"}, \"colorscale\": [[0.0, \"#0d0887\"], [0.1111111111111111, \"#46039f\"], [0.2222222222222222, \"#7201a8\"], [0.3333333333333333, \"#9c179e\"], [0.4444444444444444, \"#bd3786\"], [0.5555555555555556, \"#d8576b\"], [0.6666666666666666, \"#ed7953\"], [0.7777777777777778, \"#fb9f3a\"], [0.8888888888888888, \"#fdca26\"], [1.0, \"#f0f921\"]], \"type\": \"histogram2dcontour\"}], \"mesh3d\": [{\"colorbar\": {\"outlinewidth\": 0, \"ticks\": \"\"}, \"type\": \"mesh3d\"}], \"parcoords\": [{\"line\": {\"colorbar\": {\"outlinewidth\": 0, \"ticks\": \"\"}}, \"type\": \"parcoords\"}], \"pie\": [{\"automargin\": true, \"type\": \"pie\"}], \"scatter\": [{\"marker\": {\"colorbar\": {\"outlinewidth\": 0, \"ticks\": \"\"}}, \"type\": \"scatter\"}], \"scatter3d\": [{\"line\": {\"colorbar\": {\"outlinewidth\": 0, \"ticks\": \"\"}}, \"marker\": {\"colorbar\": {\"outlinewidth\": 0, \"ticks\": \"\"}}, \"type\": \"scatter3d\"}], \"scattercarpet\": [{\"marker\": {\"colorbar\": {\"outlinewidth\": 0, \"ticks\": \"\"}}, \"type\": \"scattercarpet\"}], \"scattergeo\": [{\"marker\": {\"colorbar\": {\"outlinewidth\": 0, \"ticks\": \"\"}}, \"type\": \"scattergeo\"}], \"scattergl\": [{\"marker\": {\"colorbar\": {\"outlinewidth\": 0, \"ticks\": \"\"}}, \"type\": \"scattergl\"}], \"scattermapbox\": [{\"marker\": {\"colorbar\": {\"outlinewidth\": 0, \"ticks\": \"\"}}, \"type\": \"scattermapbox\"}], \"scatterpolar\": [{\"marker\": {\"colorbar\": {\"outlinewidth\": 0, \"ticks\": \"\"}}, \"type\": \"scatterpolar\"}], \"scatterpolargl\": [{\"marker\": {\"colorbar\": {\"outlinewidth\": 0, \"ticks\": \"\"}}, \"type\": \"scatterpolargl\"}], \"scatterternary\": [{\"marker\": {\"colorbar\": {\"outlinewidth\": 0, \"ticks\": \"\"}}, \"type\": \"scatterternary\"}], \"surface\": [{\"colorbar\": {\"outlinewidth\": 0, \"ticks\": \"\"}, \"colorscale\": [[0.0, \"#0d0887\"], [0.1111111111111111, \"#46039f\"], [0.2222222222222222, \"#7201a8\"], [0.3333333333333333, \"#9c179e\"], [0.4444444444444444, \"#bd3786\"], [0.5555555555555556, \"#d8576b\"], [0.6666666666666666, \"#ed7953\"], [0.7777777777777778, \"#fb9f3a\"], [0.8888888888888888, \"#fdca26\"], [1.0, \"#f0f921\"]], \"type\": \"surface\"}], \"table\": [{\"cells\": {\"fill\": {\"color\": \"#EBF0F8\"}, \"line\": {\"color\": \"white\"}}, \"header\": {\"fill\": {\"color\": \"#C8D4E3\"}, \"line\": {\"color\": \"white\"}}, \"type\": \"table\"}]}, \"layout\": {\"annotationdefaults\": {\"arrowcolor\": \"#2a3f5f\", \"arrowhead\": 0, \"arrowwidth\": 1}, \"autotypenumbers\": \"strict\", \"coloraxis\": {\"colorbar\": {\"outlinewidth\": 0, \"ticks\": \"\"}}, \"colorscale\": {\"diverging\": [[0, \"#8e0152\"], [0.1, \"#c51b7d\"], [0.2, \"#de77ae\"], [0.3, \"#f1b6da\"], [0.4, \"#fde0ef\"], [0.5, \"#f7f7f7\"], [0.6, \"#e6f5d0\"], [0.7, \"#b8e186\"], [0.8, \"#7fbc41\"], [0.9, \"#4d9221\"], [1, \"#276419\"]], \"sequential\": [[0.0, \"#0d0887\"], [0.1111111111111111, \"#46039f\"], [0.2222222222222222, \"#7201a8\"], [0.3333333333333333, \"#9c179e\"], [0.4444444444444444, \"#bd3786\"], [0.5555555555555556, \"#d8576b\"], [0.6666666666666666, \"#ed7953\"], [0.7777777777777778, \"#fb9f3a\"], [0.8888888888888888, \"#fdca26\"], [1.0, \"#f0f921\"]], \"sequentialminus\": [[0.0, \"#0d0887\"], [0.1111111111111111, \"#46039f\"], [0.2222222222222222, \"#7201a8\"], [0.3333333333333333, \"#9c179e\"], [0.4444444444444444, \"#bd3786\"], [0.5555555555555556, \"#d8576b\"], [0.6666666666666666, \"#ed7953\"], [0.7777777777777778, \"#fb9f3a\"], [0.8888888888888888, \"#fdca26\"], [1.0, \"#f0f921\"]]}, \"colorway\": [\"#636efa\", \"#EF553B\", \"#00cc96\", \"#ab63fa\", \"#FFA15A\", \"#19d3f3\", \"#FF6692\", \"#B6E880\", \"#FF97FF\", \"#FECB52\"], \"font\": {\"color\": \"#2a3f5f\"}, \"geo\": {\"bgcolor\": \"white\", \"lakecolor\": \"white\", \"landcolor\": \"#E5ECF6\", \"showlakes\": true, \"showland\": true, \"subunitcolor\": \"white\"}, \"hoverlabel\": {\"align\": \"left\"}, \"hovermode\": \"closest\", \"mapbox\": {\"style\": \"light\"}, \"paper_bgcolor\": \"white\", \"plot_bgcolor\": \"#E5ECF6\", \"polar\": {\"angularaxis\": {\"gridcolor\": \"white\", \"linecolor\": \"white\", \"ticks\": \"\"}, \"bgcolor\": \"#E5ECF6\", \"radialaxis\": {\"gridcolor\": \"white\", \"linecolor\": \"white\", \"ticks\": \"\"}}, \"scene\": {\"xaxis\": {\"backgroundcolor\": \"#E5ECF6\", \"gridcolor\": \"white\", \"gridwidth\": 2, \"linecolor\": \"white\", \"showbackground\": true, \"ticks\": \"\", \"zerolinecolor\": \"white\"}, \"yaxis\": {\"backgroundcolor\": \"#E5ECF6\", \"gridcolor\": \"white\", \"gridwidth\": 2, \"linecolor\": \"white\", \"showbackground\": true, \"ticks\": \"\", \"zerolinecolor\": \"white\"}, \"zaxis\": {\"backgroundcolor\": \"#E5ECF6\", \"gridcolor\": \"white\", \"gridwidth\": 2, \"linecolor\": \"white\", \"showbackground\": true, \"ticks\": \"\", \"zerolinecolor\": \"white\"}}, \"shapedefaults\": {\"line\": {\"color\": \"#2a3f5f\"}}, \"ternary\": {\"aaxis\": {\"gridcolor\": \"white\", \"linecolor\": \"white\", \"ticks\": \"\"}, \"baxis\": {\"gridcolor\": \"white\", \"linecolor\": \"white\", \"ticks\": \"\"}, \"bgcolor\": \"#E5ECF6\", \"caxis\": {\"gridcolor\": \"white\", \"linecolor\": \"white\", \"ticks\": \"\"}}, \"title\": {\"x\": 0.05}, \"xaxis\": {\"automargin\": true, \"gridcolor\": \"white\", \"linecolor\": \"white\", \"ticks\": \"\", \"title\": {\"standoff\": 15}, \"zerolinecolor\": \"white\", \"zerolinewidth\": 2}, \"yaxis\": {\"automargin\": true, \"gridcolor\": \"white\", \"linecolor\": \"white\", \"ticks\": \"\", \"title\": {\"standoff\": 15}, \"zerolinecolor\": \"white\", \"zerolinewidth\": 2}}}, \"title\": {\"text\": \"Implied Volatility surface\"}, \"width\": 500},                        {\"responsive\": true}                    ).then(function(){\n",
       "                            \n",
       "var gd = document.getElementById('81a4909b-7667-4418-a69d-ded7f61fd5c3');\n",
       "var x = new MutationObserver(function (mutations, observer) {{\n",
       "        var display = window.getComputedStyle(gd).display;\n",
       "        if (!display || display === 'none') {{\n",
       "            console.log([gd, 'removed!']);\n",
       "            Plotly.purge(gd);\n",
       "            observer.disconnect();\n",
       "        }}\n",
       "}});\n",
       "\n",
       "// Listen for the removal of the full notebook cells\n",
       "var notebookContainer = gd.closest('#notebook-container');\n",
       "if (notebookContainer) {{\n",
       "    x.observe(notebookContainer, {childList: true});\n",
       "}}\n",
       "\n",
       "// Listen for the clearing of the current output cell\n",
       "var outputEl = gd.closest('.output');\n",
       "if (outputEl) {{\n",
       "    x.observe(outputEl, {childList: true});\n",
       "}}\n",
       "\n",
       "                        })                };                });            </script>        </div>"
      ]
     },
     "metadata": {},
     "output_type": "display_data"
    }
   ],
   "source": [
    "import plotly.graph_objects as go\n",
    "import pandas as pd\n",
    "import numpy as np\n",
    "# Read data from a csv\n",
    "\n",
    "z = new_df\n",
    "x = list(new_df.columns)\n",
    "y = list(new_df.index)\n",
    "\n",
    "\n",
    "fig = go.Figure(data=[go.Surface(z=z, x=x, y=y)])\n",
    "fig.update_layout(title='Implied Volatility surface', autosize=False,\n",
    "width=500, height=500,\n",
    "                  margin=dict(l=65, r=50, b=65, t=90))\n",
    "\n",
    "fig.update_scenes(xaxis_title_text='Moneyness S/K', yaxis_title_text='Exp', zaxis_title_text='Local Volatility') \n",
    "fig.show()\n"
   ]
  },
  {
   "cell_type": "code",
   "execution_count": null,
   "metadata": {},
   "outputs": [],
   "source": []
  },
  {
   "cell_type": "code",
   "execution_count": null,
   "metadata": {},
   "outputs": [],
   "source": []
  },
  {
   "cell_type": "code",
   "execution_count": null,
   "metadata": {},
   "outputs": [],
   "source": []
  },
  {
   "cell_type": "code",
   "execution_count": null,
   "metadata": {},
   "outputs": [],
   "source": []
  }
 ],
 "metadata": {
  "colab": {
   "collapsed_sections": [],
   "name": "main_notebook-Copy1.ipynb",
   "provenance": []
  },
  "kernelspec": {
   "display_name": "Python 3",
   "language": "python",
   "name": "python3"
  },
  "language_info": {
   "codemirror_mode": {
    "name": "ipython",
    "version": 3
   },
   "file_extension": ".py",
   "mimetype": "text/x-python",
   "name": "python",
   "nbconvert_exporter": "python",
   "pygments_lexer": "ipython3",
   "version": "3.7.4"
  }
 },
 "nbformat": 4,
 "nbformat_minor": 1
}
