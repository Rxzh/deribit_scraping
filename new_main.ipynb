{
 "cells": [
  {
   "cell_type": "code",
   "execution_count": null,
   "metadata": {},
   "outputs": [],
   "source": []
  },
  {
   "cell_type": "code",
   "execution_count": 46,
   "metadata": {
    "id": "ruy331DppbQS"
   },
   "outputs": [],
   "source": [
    "import deribit_data as dm\n",
    "from option import Option\n",
    "import numpy as np\n",
    "from utils import *\n",
    "from sklearn.metrics import mean_squared_error\n",
    "import plotly.graph_objects as go   "
   ]
  },
  {
   "cell_type": "code",
   "execution_count": 47,
   "metadata": {
    "id": "seQxMDPDpbQX"
   },
   "outputs": [],
   "source": [
    "data = dm.Scraper(currency='BTC')"
   ]
  },
  {
   "cell_type": "code",
   "execution_count": 48,
   "metadata": {
    "colab": {
     "base_uri": "https://localhost:8080/"
    },
    "id": "P5U_VxlbpbQY",
    "outputId": "8bb0919c-9363-49ef-9ae1-bad0752543a2"
   },
   "outputs": [
    {
     "name": "stdout",
     "output_type": "stream",
     "text": [
      "Collecting data...\n",
      "Data Collected\n"
     ]
    }
   ],
   "source": [
    "raw_df = data.collect_data(max_workers = 15, save_csv = False)"
   ]
  },
  {
   "cell_type": "code",
   "execution_count": 49,
   "metadata": {
    "id": "lBXr2WdxpbQZ"
   },
   "outputs": [],
   "source": [
    "#raw_df.head()"
   ]
  },
  {
   "cell_type": "code",
   "execution_count": 50,
   "metadata": {
    "id": "UkXJQMJwpbQa"
   },
   "outputs": [
    {
     "name": "stderr",
     "output_type": "stream",
     "text": [
      "E:\\GitHub\\deribit_scraping\\utils.py:104: SettingWithCopyWarning:\n",
      "\n",
      "\n",
      "A value is trying to be set on a copy of a slice from a DataFrame.\n",
      "Try using .loc[row_indexer,col_indexer] = value instead\n",
      "\n",
      "See the caveats in the documentation: https://pandas.pydata.org/pandas-docs/stable/user_guide/indexing.html#returning-a-view-versus-a-copy\n",
      "\n",
      "E:\\GitHub\\deribit_scraping\\utils.py:128: SettingWithCopyWarning:\n",
      "\n",
      "\n",
      "A value is trying to be set on a copy of a slice from a DataFrame.\n",
      "Try using .loc[row_indexer,col_indexer] = value instead\n",
      "\n",
      "See the caveats in the documentation: https://pandas.pydata.org/pandas-docs/stable/user_guide/indexing.html#returning-a-view-versus-a-copy\n",
      "\n",
      "E:\\GitHub\\deribit_scraping\\utils.py:129: SettingWithCopyWarning:\n",
      "\n",
      "\n",
      "A value is trying to be set on a copy of a slice from a DataFrame.\n",
      "Try using .loc[row_indexer,col_indexer] = value instead\n",
      "\n",
      "See the caveats in the documentation: https://pandas.pydata.org/pandas-docs/stable/user_guide/indexing.html#returning-a-view-versus-a-copy\n",
      "\n",
      "E:\\GitHub\\deribit_scraping\\utils.py:138: SettingWithCopyWarning:\n",
      "\n",
      "\n",
      "A value is trying to be set on a copy of a slice from a DataFrame.\n",
      "Try using .loc[row_indexer,col_indexer] = value instead\n",
      "\n",
      "See the caveats in the documentation: https://pandas.pydata.org/pandas-docs/stable/user_guide/indexing.html#returning-a-view-versus-a-copy\n",
      "\n",
      "E:\\GitHub\\deribit_scraping\\utils.py:139: SettingWithCopyWarning:\n",
      "\n",
      "\n",
      "A value is trying to be set on a copy of a slice from a DataFrame.\n",
      "Try using .loc[row_indexer,col_indexer] = value instead\n",
      "\n",
      "See the caveats in the documentation: https://pandas.pydata.org/pandas-docs/stable/user_guide/indexing.html#returning-a-view-versus-a-copy\n",
      "\n",
      "E:\\GitHub\\deribit_scraping\\utils.py:140: SettingWithCopyWarning:\n",
      "\n",
      "\n",
      "A value is trying to be set on a copy of a slice from a DataFrame.\n",
      "Try using .loc[row_indexer,col_indexer] = value instead\n",
      "\n",
      "See the caveats in the documentation: https://pandas.pydata.org/pandas-docs/stable/user_guide/indexing.html#returning-a-view-versus-a-copy\n",
      "\n"
     ]
    }
   ],
   "source": [
    "option = Option(raw_df, 'C')"
   ]
  },
  {
   "cell_type": "code",
   "execution_count": 51,
   "metadata": {
    "id": "HgY3BYxZpbQa"
   },
   "outputs": [],
   "source": [
    "#option.init_merton(m = 0.625038301534241, lam =0.0010591027301815744, v = 0.511097066109511,  )\n",
    "option.init_merton(reset=True)\n",
    "option.init_heston(reset=True)"
   ]
  },
  {
   "cell_type": "code",
   "execution_count": 52,
   "metadata": {
    "colab": {
     "base_uri": "https://localhost:8080/"
    },
    "id": "FSy_Tja1pbQb",
    "outputId": "e1a02df2-2e81-4fd7-bf34-3dd9b5fd5201"
   },
   "outputs": [
    {
     "name": "stderr",
     "output_type": "stream",
     "text": [
      "E:\\GitHub\\deribit_scraping\\option.py:212: RuntimeWarning:\n",
      "\n",
      "divide by zero encountered in double_scalars\n",
      "\n",
      "E:\\GitHub\\deribit_scraping\\option.py:212: RuntimeWarning:\n",
      "\n",
      "invalid value encountered in sqrt\n",
      "\n"
     ]
    }
   ],
   "source": [
    "option.append_imp_vol_to_df()\n",
    "option.append_loc_vol_to_df()"
   ]
  },
  {
   "cell_type": "code",
   "execution_count": 53,
   "metadata": {
    "id": "vLilW9U0pbQc"
   },
   "outputs": [],
   "source": [
    "option.append_BS_price()"
   ]
  },
  {
   "cell_type": "code",
   "execution_count": 54,
   "metadata": {
    "id": "BbCiGmYbpbQd"
   },
   "outputs": [],
   "source": [
    "option.df.dropna(inplace=True)\n",
    "option.df = option.df.drop(option.df[option.df.BS_PRICE >= 5].index) #a revoir\n",
    "#option.df = option.df.drop(option.df[option.df.IV_moneyness >= .5*10**6].index)"
   ]
  },
  {
   "cell_type": "code",
   "execution_count": 55,
   "metadata": {
    "id": "iwnyQ-cKpbQe"
   },
   "outputs": [],
   "source": [
    "#option.optimize_merton(tol = 1e-6, max_iter = 600)\n",
    "\n"
   ]
  },
  {
   "cell_type": "code",
   "execution_count": 56,
   "metadata": {
    "colab": {
     "base_uri": "https://localhost:8080/"
    },
    "id": "hhd0Q8KKpbQe",
    "outputId": "21fd2a0c-99a3-476e-c2bd-a09920d53536"
   },
   "outputs": [],
   "source": [
    "option.append_Merton_price()\n",
    "option.append_Heston_prices()"
   ]
  },
  {
   "cell_type": "code",
   "execution_count": 57,
   "metadata": {
    "colab": {
     "base_uri": "https://localhost:8080/",
     "height": 542
    },
    "id": "6peleswMpbQf",
    "outputId": "20b6bf26-5489-4dcf-b750-1016aa03f578"
   },
   "outputs": [
    {
     "data": {
      "application/vnd.plotly.v1+json": {
       "config": {
        "plotlyServerURL": "https://plot.ly"
       },
       "data": [
        {
         "mode": "markers",
         "name": "Local vol",
         "type": "scatter3d",
         "x": [
          0.9772099999999999,
          0.9514978947368421,
          0.9271282051282052,
          0.9771224324324324,
          0.9514842105263158,
          0.9770581081081081,
          0.9513642105263157,
          0.9269679487179487,
          0.9037577499999999,
          0.8607164285714285,
          0.8216284090909092,
          0.8033448888888888,
          0.9510836842105264,
          0.9035395,
          0.86045,
          0.803118,
          0.7857063043478261,
          0.6570727272727273,
          0.9513628947368421,
          0.9037707500000001,
          0.8606992857142858,
          0.8033466666666667,
          0.723019,
          0.90436625,
          0.8037797777777776,
          0.7234666000000001,
          0.6576661818181818,
          0.6029001666666667,
          0.5564595384615385,
          0.5167147142857142,
          0.8078797777777778,
          0.7271096,
          0.6610650909090909,
          0.6058914999999999,
          0.91330975,
          0.8302822727272727,
          0.76119625,
          0.730766,
          0.6524408928571429,
          0.6089518333333334,
          0.57084578125,
          0.5074763888888889
         ],
         "y": [
          0.0008756333470934239,
          0.0008756333470934239,
          0.0008756333470934239,
          0.0036153593744906844,
          0.0036153593744906844,
          0.006355085401887945,
          0.006355085401887945,
          0.006355085401887945,
          0.006355085401887945,
          0.006355085401887945,
          0.006355085401887945,
          0.006355085401887945,
          0.025533167593668766,
          0.025533167593668766,
          0.025533167593668766,
          0.025533167593668766,
          0.025533167593668766,
          0.025533167593668766,
          0.04471124978544959,
          0.04471124978544959,
          0.04471124978544959,
          0.04471124978544959,
          0.04471124978544959,
          0.08306741416901123,
          0.08306741416901123,
          0.08306741416901123,
          0.08306741416901123,
          0.08306741416901123,
          0.08306741416901123,
          0.08306741416901123,
          0.15977974293613453,
          0.15977974293613453,
          0.15977974293613453,
          0.15977974293613453,
          0.2364920717032578,
          0.2364920717032578,
          0.2364920717032578,
          0.2364920717032578,
          0.2364920717032578,
          0.2364920717032578,
          0.2364920717032578,
          0.2364920717032578
         ],
         "z": [
          1.1544771157669127,
          1.5249268737174286,
          1.7877105733858303,
          0.6085358522382254,
          0.7862126008214484,
          0.4550318854934414,
          0.615052707655847,
          0.7177727705559726,
          0.806751249272807,
          0.9388621319127894,
          1.032977882718772,
          1.0608246753989796,
          0.32348632335972816,
          0.43146990072869107,
          0.5019636154722996,
          0.572717925302014,
          0.5948988270481413,
          0.7264619437594745,
          0.2497660670900444,
          0.33445884867543546,
          0.39099049230960675,
          0.45103504334351235,
          0.51966249983689,
          0.2560826256931212,
          0.3502418968979576,
          0.39987563328746756,
          0.43946674624612364,
          0.4746446092088215,
          0.49471050001864053,
          0.5150894381552532,
          0.2538439007475086,
          0.2975476061250501,
          0.3301957859821685,
          0.3526258983053842,
          0.1492253659963185,
          0.2000200036496904,
          0.2359249334665269,
          0.2491407370913836,
          0.28458813470800765,
          0.3026428565751883,
          0.3153596078063609,
          0.33616087078132545
         ]
        }
       ],
       "layout": {
        "scene": {
         "xaxis": {
          "title": {
           "text": "S/K"
          }
         },
         "yaxis": {
          "title": {
           "text": "Exp"
          }
         },
         "zaxis": {
          "title": {
           "text": "IV"
          }
         }
        },
        "template": {
         "data": {
          "bar": [
           {
            "error_x": {
             "color": "#2a3f5f"
            },
            "error_y": {
             "color": "#2a3f5f"
            },
            "marker": {
             "line": {
              "color": "#E5ECF6",
              "width": 0.5
             },
             "pattern": {
              "fillmode": "overlay",
              "size": 10,
              "solidity": 0.2
             }
            },
            "type": "bar"
           }
          ],
          "barpolar": [
           {
            "marker": {
             "line": {
              "color": "#E5ECF6",
              "width": 0.5
             },
             "pattern": {
              "fillmode": "overlay",
              "size": 10,
              "solidity": 0.2
             }
            },
            "type": "barpolar"
           }
          ],
          "carpet": [
           {
            "aaxis": {
             "endlinecolor": "#2a3f5f",
             "gridcolor": "white",
             "linecolor": "white",
             "minorgridcolor": "white",
             "startlinecolor": "#2a3f5f"
            },
            "baxis": {
             "endlinecolor": "#2a3f5f",
             "gridcolor": "white",
             "linecolor": "white",
             "minorgridcolor": "white",
             "startlinecolor": "#2a3f5f"
            },
            "type": "carpet"
           }
          ],
          "choropleth": [
           {
            "colorbar": {
             "outlinewidth": 0,
             "ticks": ""
            },
            "type": "choropleth"
           }
          ],
          "contour": [
           {
            "colorbar": {
             "outlinewidth": 0,
             "ticks": ""
            },
            "colorscale": [
             [
              0,
              "#0d0887"
             ],
             [
              0.1111111111111111,
              "#46039f"
             ],
             [
              0.2222222222222222,
              "#7201a8"
             ],
             [
              0.3333333333333333,
              "#9c179e"
             ],
             [
              0.4444444444444444,
              "#bd3786"
             ],
             [
              0.5555555555555556,
              "#d8576b"
             ],
             [
              0.6666666666666666,
              "#ed7953"
             ],
             [
              0.7777777777777778,
              "#fb9f3a"
             ],
             [
              0.8888888888888888,
              "#fdca26"
             ],
             [
              1,
              "#f0f921"
             ]
            ],
            "type": "contour"
           }
          ],
          "contourcarpet": [
           {
            "colorbar": {
             "outlinewidth": 0,
             "ticks": ""
            },
            "type": "contourcarpet"
           }
          ],
          "heatmap": [
           {
            "colorbar": {
             "outlinewidth": 0,
             "ticks": ""
            },
            "colorscale": [
             [
              0,
              "#0d0887"
             ],
             [
              0.1111111111111111,
              "#46039f"
             ],
             [
              0.2222222222222222,
              "#7201a8"
             ],
             [
              0.3333333333333333,
              "#9c179e"
             ],
             [
              0.4444444444444444,
              "#bd3786"
             ],
             [
              0.5555555555555556,
              "#d8576b"
             ],
             [
              0.6666666666666666,
              "#ed7953"
             ],
             [
              0.7777777777777778,
              "#fb9f3a"
             ],
             [
              0.8888888888888888,
              "#fdca26"
             ],
             [
              1,
              "#f0f921"
             ]
            ],
            "type": "heatmap"
           }
          ],
          "heatmapgl": [
           {
            "colorbar": {
             "outlinewidth": 0,
             "ticks": ""
            },
            "colorscale": [
             [
              0,
              "#0d0887"
             ],
             [
              0.1111111111111111,
              "#46039f"
             ],
             [
              0.2222222222222222,
              "#7201a8"
             ],
             [
              0.3333333333333333,
              "#9c179e"
             ],
             [
              0.4444444444444444,
              "#bd3786"
             ],
             [
              0.5555555555555556,
              "#d8576b"
             ],
             [
              0.6666666666666666,
              "#ed7953"
             ],
             [
              0.7777777777777778,
              "#fb9f3a"
             ],
             [
              0.8888888888888888,
              "#fdca26"
             ],
             [
              1,
              "#f0f921"
             ]
            ],
            "type": "heatmapgl"
           }
          ],
          "histogram": [
           {
            "marker": {
             "pattern": {
              "fillmode": "overlay",
              "size": 10,
              "solidity": 0.2
             }
            },
            "type": "histogram"
           }
          ],
          "histogram2d": [
           {
            "colorbar": {
             "outlinewidth": 0,
             "ticks": ""
            },
            "colorscale": [
             [
              0,
              "#0d0887"
             ],
             [
              0.1111111111111111,
              "#46039f"
             ],
             [
              0.2222222222222222,
              "#7201a8"
             ],
             [
              0.3333333333333333,
              "#9c179e"
             ],
             [
              0.4444444444444444,
              "#bd3786"
             ],
             [
              0.5555555555555556,
              "#d8576b"
             ],
             [
              0.6666666666666666,
              "#ed7953"
             ],
             [
              0.7777777777777778,
              "#fb9f3a"
             ],
             [
              0.8888888888888888,
              "#fdca26"
             ],
             [
              1,
              "#f0f921"
             ]
            ],
            "type": "histogram2d"
           }
          ],
          "histogram2dcontour": [
           {
            "colorbar": {
             "outlinewidth": 0,
             "ticks": ""
            },
            "colorscale": [
             [
              0,
              "#0d0887"
             ],
             [
              0.1111111111111111,
              "#46039f"
             ],
             [
              0.2222222222222222,
              "#7201a8"
             ],
             [
              0.3333333333333333,
              "#9c179e"
             ],
             [
              0.4444444444444444,
              "#bd3786"
             ],
             [
              0.5555555555555556,
              "#d8576b"
             ],
             [
              0.6666666666666666,
              "#ed7953"
             ],
             [
              0.7777777777777778,
              "#fb9f3a"
             ],
             [
              0.8888888888888888,
              "#fdca26"
             ],
             [
              1,
              "#f0f921"
             ]
            ],
            "type": "histogram2dcontour"
           }
          ],
          "mesh3d": [
           {
            "colorbar": {
             "outlinewidth": 0,
             "ticks": ""
            },
            "type": "mesh3d"
           }
          ],
          "parcoords": [
           {
            "line": {
             "colorbar": {
              "outlinewidth": 0,
              "ticks": ""
             }
            },
            "type": "parcoords"
           }
          ],
          "pie": [
           {
            "automargin": true,
            "type": "pie"
           }
          ],
          "scatter": [
           {
            "marker": {
             "colorbar": {
              "outlinewidth": 0,
              "ticks": ""
             }
            },
            "type": "scatter"
           }
          ],
          "scatter3d": [
           {
            "line": {
             "colorbar": {
              "outlinewidth": 0,
              "ticks": ""
             }
            },
            "marker": {
             "colorbar": {
              "outlinewidth": 0,
              "ticks": ""
             }
            },
            "type": "scatter3d"
           }
          ],
          "scattercarpet": [
           {
            "marker": {
             "colorbar": {
              "outlinewidth": 0,
              "ticks": ""
             }
            },
            "type": "scattercarpet"
           }
          ],
          "scattergeo": [
           {
            "marker": {
             "colorbar": {
              "outlinewidth": 0,
              "ticks": ""
             }
            },
            "type": "scattergeo"
           }
          ],
          "scattergl": [
           {
            "marker": {
             "colorbar": {
              "outlinewidth": 0,
              "ticks": ""
             }
            },
            "type": "scattergl"
           }
          ],
          "scattermapbox": [
           {
            "marker": {
             "colorbar": {
              "outlinewidth": 0,
              "ticks": ""
             }
            },
            "type": "scattermapbox"
           }
          ],
          "scatterpolar": [
           {
            "marker": {
             "colorbar": {
              "outlinewidth": 0,
              "ticks": ""
             }
            },
            "type": "scatterpolar"
           }
          ],
          "scatterpolargl": [
           {
            "marker": {
             "colorbar": {
              "outlinewidth": 0,
              "ticks": ""
             }
            },
            "type": "scatterpolargl"
           }
          ],
          "scatterternary": [
           {
            "marker": {
             "colorbar": {
              "outlinewidth": 0,
              "ticks": ""
             }
            },
            "type": "scatterternary"
           }
          ],
          "surface": [
           {
            "colorbar": {
             "outlinewidth": 0,
             "ticks": ""
            },
            "colorscale": [
             [
              0,
              "#0d0887"
             ],
             [
              0.1111111111111111,
              "#46039f"
             ],
             [
              0.2222222222222222,
              "#7201a8"
             ],
             [
              0.3333333333333333,
              "#9c179e"
             ],
             [
              0.4444444444444444,
              "#bd3786"
             ],
             [
              0.5555555555555556,
              "#d8576b"
             ],
             [
              0.6666666666666666,
              "#ed7953"
             ],
             [
              0.7777777777777778,
              "#fb9f3a"
             ],
             [
              0.8888888888888888,
              "#fdca26"
             ],
             [
              1,
              "#f0f921"
             ]
            ],
            "type": "surface"
           }
          ],
          "table": [
           {
            "cells": {
             "fill": {
              "color": "#EBF0F8"
             },
             "line": {
              "color": "white"
             }
            },
            "header": {
             "fill": {
              "color": "#C8D4E3"
             },
             "line": {
              "color": "white"
             }
            },
            "type": "table"
           }
          ]
         },
         "layout": {
          "annotationdefaults": {
           "arrowcolor": "#2a3f5f",
           "arrowhead": 0,
           "arrowwidth": 1
          },
          "autotypenumbers": "strict",
          "coloraxis": {
           "colorbar": {
            "outlinewidth": 0,
            "ticks": ""
           }
          },
          "colorscale": {
           "diverging": [
            [
             0,
             "#8e0152"
            ],
            [
             0.1,
             "#c51b7d"
            ],
            [
             0.2,
             "#de77ae"
            ],
            [
             0.3,
             "#f1b6da"
            ],
            [
             0.4,
             "#fde0ef"
            ],
            [
             0.5,
             "#f7f7f7"
            ],
            [
             0.6,
             "#e6f5d0"
            ],
            [
             0.7,
             "#b8e186"
            ],
            [
             0.8,
             "#7fbc41"
            ],
            [
             0.9,
             "#4d9221"
            ],
            [
             1,
             "#276419"
            ]
           ],
           "sequential": [
            [
             0,
             "#0d0887"
            ],
            [
             0.1111111111111111,
             "#46039f"
            ],
            [
             0.2222222222222222,
             "#7201a8"
            ],
            [
             0.3333333333333333,
             "#9c179e"
            ],
            [
             0.4444444444444444,
             "#bd3786"
            ],
            [
             0.5555555555555556,
             "#d8576b"
            ],
            [
             0.6666666666666666,
             "#ed7953"
            ],
            [
             0.7777777777777778,
             "#fb9f3a"
            ],
            [
             0.8888888888888888,
             "#fdca26"
            ],
            [
             1,
             "#f0f921"
            ]
           ],
           "sequentialminus": [
            [
             0,
             "#0d0887"
            ],
            [
             0.1111111111111111,
             "#46039f"
            ],
            [
             0.2222222222222222,
             "#7201a8"
            ],
            [
             0.3333333333333333,
             "#9c179e"
            ],
            [
             0.4444444444444444,
             "#bd3786"
            ],
            [
             0.5555555555555556,
             "#d8576b"
            ],
            [
             0.6666666666666666,
             "#ed7953"
            ],
            [
             0.7777777777777778,
             "#fb9f3a"
            ],
            [
             0.8888888888888888,
             "#fdca26"
            ],
            [
             1,
             "#f0f921"
            ]
           ]
          },
          "colorway": [
           "#636efa",
           "#EF553B",
           "#00cc96",
           "#ab63fa",
           "#FFA15A",
           "#19d3f3",
           "#FF6692",
           "#B6E880",
           "#FF97FF",
           "#FECB52"
          ],
          "font": {
           "color": "#2a3f5f"
          },
          "geo": {
           "bgcolor": "white",
           "lakecolor": "white",
           "landcolor": "#E5ECF6",
           "showlakes": true,
           "showland": true,
           "subunitcolor": "white"
          },
          "hoverlabel": {
           "align": "left"
          },
          "hovermode": "closest",
          "mapbox": {
           "style": "light"
          },
          "paper_bgcolor": "white",
          "plot_bgcolor": "#E5ECF6",
          "polar": {
           "angularaxis": {
            "gridcolor": "white",
            "linecolor": "white",
            "ticks": ""
           },
           "bgcolor": "#E5ECF6",
           "radialaxis": {
            "gridcolor": "white",
            "linecolor": "white",
            "ticks": ""
           }
          },
          "scene": {
           "xaxis": {
            "backgroundcolor": "#E5ECF6",
            "gridcolor": "white",
            "gridwidth": 2,
            "linecolor": "white",
            "showbackground": true,
            "ticks": "",
            "zerolinecolor": "white"
           },
           "yaxis": {
            "backgroundcolor": "#E5ECF6",
            "gridcolor": "white",
            "gridwidth": 2,
            "linecolor": "white",
            "showbackground": true,
            "ticks": "",
            "zerolinecolor": "white"
           },
           "zaxis": {
            "backgroundcolor": "#E5ECF6",
            "gridcolor": "white",
            "gridwidth": 2,
            "linecolor": "white",
            "showbackground": true,
            "ticks": "",
            "zerolinecolor": "white"
           }
          },
          "shapedefaults": {
           "line": {
            "color": "#2a3f5f"
           }
          },
          "ternary": {
           "aaxis": {
            "gridcolor": "white",
            "linecolor": "white",
            "ticks": ""
           },
           "baxis": {
            "gridcolor": "white",
            "linecolor": "white",
            "ticks": ""
           },
           "bgcolor": "#E5ECF6",
           "caxis": {
            "gridcolor": "white",
            "linecolor": "white",
            "ticks": ""
           }
          },
          "title": {
           "x": 0.05
          },
          "xaxis": {
           "automargin": true,
           "gridcolor": "white",
           "linecolor": "white",
           "ticks": "",
           "title": {
            "standoff": 15
           },
           "zerolinecolor": "white",
           "zerolinewidth": 2
          },
          "yaxis": {
           "automargin": true,
           "gridcolor": "white",
           "linecolor": "white",
           "ticks": "",
           "title": {
            "standoff": 15
           },
           "zerolinecolor": "white",
           "zerolinewidth": 2
          }
         }
        }
       }
      },
      "text/html": [
       "<div>                            <div id=\"6fc4fd46-0ea2-4ac6-b120-9e95dda00245\" class=\"plotly-graph-div\" style=\"height:525px; width:100%;\"></div>            <script type=\"text/javascript\">                require([\"plotly\"], function(Plotly) {                    window.PLOTLYENV=window.PLOTLYENV || {};                                    if (document.getElementById(\"6fc4fd46-0ea2-4ac6-b120-9e95dda00245\")) {                    Plotly.newPlot(                        \"6fc4fd46-0ea2-4ac6-b120-9e95dda00245\",                        [{\"mode\":\"markers\",\"name\":\"Local vol\",\"type\":\"scatter3d\",\"x\":[0.9772099999999999,0.9514978947368421,0.9271282051282052,0.9771224324324324,0.9514842105263158,0.9770581081081081,0.9513642105263157,0.9269679487179487,0.9037577499999999,0.8607164285714285,0.8216284090909092,0.8033448888888888,0.9510836842105264,0.9035395,0.86045,0.803118,0.7857063043478261,0.6570727272727273,0.9513628947368421,0.9037707500000001,0.8606992857142858,0.8033466666666667,0.723019,0.90436625,0.8037797777777776,0.7234666000000001,0.6576661818181818,0.6029001666666667,0.5564595384615385,0.5167147142857142,0.8078797777777778,0.7271096,0.6610650909090909,0.6058914999999999,0.91330975,0.8302822727272727,0.76119625,0.730766,0.6524408928571429,0.6089518333333334,0.57084578125,0.5074763888888889],\"y\":[0.0008756333470934239,0.0008756333470934239,0.0008756333470934239,0.0036153593744906844,0.0036153593744906844,0.006355085401887945,0.006355085401887945,0.006355085401887945,0.006355085401887945,0.006355085401887945,0.006355085401887945,0.006355085401887945,0.025533167593668766,0.025533167593668766,0.025533167593668766,0.025533167593668766,0.025533167593668766,0.025533167593668766,0.04471124978544959,0.04471124978544959,0.04471124978544959,0.04471124978544959,0.04471124978544959,0.08306741416901123,0.08306741416901123,0.08306741416901123,0.08306741416901123,0.08306741416901123,0.08306741416901123,0.08306741416901123,0.15977974293613453,0.15977974293613453,0.15977974293613453,0.15977974293613453,0.2364920717032578,0.2364920717032578,0.2364920717032578,0.2364920717032578,0.2364920717032578,0.2364920717032578,0.2364920717032578,0.2364920717032578],\"z\":[1.1544771157669127,1.5249268737174286,1.7877105733858303,0.6085358522382254,0.7862126008214484,0.4550318854934414,0.615052707655847,0.7177727705559726,0.806751249272807,0.9388621319127894,1.032977882718772,1.0608246753989796,0.32348632335972816,0.43146990072869107,0.5019636154722996,0.572717925302014,0.5948988270481413,0.7264619437594745,0.2497660670900444,0.33445884867543546,0.39099049230960675,0.45103504334351235,0.51966249983689,0.2560826256931212,0.3502418968979576,0.39987563328746756,0.43946674624612364,0.4746446092088215,0.49471050001864053,0.5150894381552532,0.2538439007475086,0.2975476061250501,0.3301957859821685,0.3526258983053842,0.1492253659963185,0.2000200036496904,0.2359249334665269,0.2491407370913836,0.28458813470800765,0.3026428565751883,0.3153596078063609,0.33616087078132545]}],                        {\"scene\":{\"xaxis\":{\"title\":{\"text\":\"S/K\"}},\"yaxis\":{\"title\":{\"text\":\"Exp\"}},\"zaxis\":{\"title\":{\"text\":\"IV\"}}},\"template\":{\"data\":{\"bar\":[{\"error_x\":{\"color\":\"#2a3f5f\"},\"error_y\":{\"color\":\"#2a3f5f\"},\"marker\":{\"line\":{\"color\":\"#E5ECF6\",\"width\":0.5},\"pattern\":{\"fillmode\":\"overlay\",\"size\":10,\"solidity\":0.2}},\"type\":\"bar\"}],\"barpolar\":[{\"marker\":{\"line\":{\"color\":\"#E5ECF6\",\"width\":0.5},\"pattern\":{\"fillmode\":\"overlay\",\"size\":10,\"solidity\":0.2}},\"type\":\"barpolar\"}],\"carpet\":[{\"aaxis\":{\"endlinecolor\":\"#2a3f5f\",\"gridcolor\":\"white\",\"linecolor\":\"white\",\"minorgridcolor\":\"white\",\"startlinecolor\":\"#2a3f5f\"},\"baxis\":{\"endlinecolor\":\"#2a3f5f\",\"gridcolor\":\"white\",\"linecolor\":\"white\",\"minorgridcolor\":\"white\",\"startlinecolor\":\"#2a3f5f\"},\"type\":\"carpet\"}],\"choropleth\":[{\"colorbar\":{\"outlinewidth\":0,\"ticks\":\"\"},\"type\":\"choropleth\"}],\"contour\":[{\"colorbar\":{\"outlinewidth\":0,\"ticks\":\"\"},\"colorscale\":[[0.0,\"#0d0887\"],[0.1111111111111111,\"#46039f\"],[0.2222222222222222,\"#7201a8\"],[0.3333333333333333,\"#9c179e\"],[0.4444444444444444,\"#bd3786\"],[0.5555555555555556,\"#d8576b\"],[0.6666666666666666,\"#ed7953\"],[0.7777777777777778,\"#fb9f3a\"],[0.8888888888888888,\"#fdca26\"],[1.0,\"#f0f921\"]],\"type\":\"contour\"}],\"contourcarpet\":[{\"colorbar\":{\"outlinewidth\":0,\"ticks\":\"\"},\"type\":\"contourcarpet\"}],\"heatmap\":[{\"colorbar\":{\"outlinewidth\":0,\"ticks\":\"\"},\"colorscale\":[[0.0,\"#0d0887\"],[0.1111111111111111,\"#46039f\"],[0.2222222222222222,\"#7201a8\"],[0.3333333333333333,\"#9c179e\"],[0.4444444444444444,\"#bd3786\"],[0.5555555555555556,\"#d8576b\"],[0.6666666666666666,\"#ed7953\"],[0.7777777777777778,\"#fb9f3a\"],[0.8888888888888888,\"#fdca26\"],[1.0,\"#f0f921\"]],\"type\":\"heatmap\"}],\"heatmapgl\":[{\"colorbar\":{\"outlinewidth\":0,\"ticks\":\"\"},\"colorscale\":[[0.0,\"#0d0887\"],[0.1111111111111111,\"#46039f\"],[0.2222222222222222,\"#7201a8\"],[0.3333333333333333,\"#9c179e\"],[0.4444444444444444,\"#bd3786\"],[0.5555555555555556,\"#d8576b\"],[0.6666666666666666,\"#ed7953\"],[0.7777777777777778,\"#fb9f3a\"],[0.8888888888888888,\"#fdca26\"],[1.0,\"#f0f921\"]],\"type\":\"heatmapgl\"}],\"histogram\":[{\"marker\":{\"pattern\":{\"fillmode\":\"overlay\",\"size\":10,\"solidity\":0.2}},\"type\":\"histogram\"}],\"histogram2d\":[{\"colorbar\":{\"outlinewidth\":0,\"ticks\":\"\"},\"colorscale\":[[0.0,\"#0d0887\"],[0.1111111111111111,\"#46039f\"],[0.2222222222222222,\"#7201a8\"],[0.3333333333333333,\"#9c179e\"],[0.4444444444444444,\"#bd3786\"],[0.5555555555555556,\"#d8576b\"],[0.6666666666666666,\"#ed7953\"],[0.7777777777777778,\"#fb9f3a\"],[0.8888888888888888,\"#fdca26\"],[1.0,\"#f0f921\"]],\"type\":\"histogram2d\"}],\"histogram2dcontour\":[{\"colorbar\":{\"outlinewidth\":0,\"ticks\":\"\"},\"colorscale\":[[0.0,\"#0d0887\"],[0.1111111111111111,\"#46039f\"],[0.2222222222222222,\"#7201a8\"],[0.3333333333333333,\"#9c179e\"],[0.4444444444444444,\"#bd3786\"],[0.5555555555555556,\"#d8576b\"],[0.6666666666666666,\"#ed7953\"],[0.7777777777777778,\"#fb9f3a\"],[0.8888888888888888,\"#fdca26\"],[1.0,\"#f0f921\"]],\"type\":\"histogram2dcontour\"}],\"mesh3d\":[{\"colorbar\":{\"outlinewidth\":0,\"ticks\":\"\"},\"type\":\"mesh3d\"}],\"parcoords\":[{\"line\":{\"colorbar\":{\"outlinewidth\":0,\"ticks\":\"\"}},\"type\":\"parcoords\"}],\"pie\":[{\"automargin\":true,\"type\":\"pie\"}],\"scatter\":[{\"marker\":{\"colorbar\":{\"outlinewidth\":0,\"ticks\":\"\"}},\"type\":\"scatter\"}],\"scatter3d\":[{\"line\":{\"colorbar\":{\"outlinewidth\":0,\"ticks\":\"\"}},\"marker\":{\"colorbar\":{\"outlinewidth\":0,\"ticks\":\"\"}},\"type\":\"scatter3d\"}],\"scattercarpet\":[{\"marker\":{\"colorbar\":{\"outlinewidth\":0,\"ticks\":\"\"}},\"type\":\"scattercarpet\"}],\"scattergeo\":[{\"marker\":{\"colorbar\":{\"outlinewidth\":0,\"ticks\":\"\"}},\"type\":\"scattergeo\"}],\"scattergl\":[{\"marker\":{\"colorbar\":{\"outlinewidth\":0,\"ticks\":\"\"}},\"type\":\"scattergl\"}],\"scattermapbox\":[{\"marker\":{\"colorbar\":{\"outlinewidth\":0,\"ticks\":\"\"}},\"type\":\"scattermapbox\"}],\"scatterpolar\":[{\"marker\":{\"colorbar\":{\"outlinewidth\":0,\"ticks\":\"\"}},\"type\":\"scatterpolar\"}],\"scatterpolargl\":[{\"marker\":{\"colorbar\":{\"outlinewidth\":0,\"ticks\":\"\"}},\"type\":\"scatterpolargl\"}],\"scatterternary\":[{\"marker\":{\"colorbar\":{\"outlinewidth\":0,\"ticks\":\"\"}},\"type\":\"scatterternary\"}],\"surface\":[{\"colorbar\":{\"outlinewidth\":0,\"ticks\":\"\"},\"colorscale\":[[0.0,\"#0d0887\"],[0.1111111111111111,\"#46039f\"],[0.2222222222222222,\"#7201a8\"],[0.3333333333333333,\"#9c179e\"],[0.4444444444444444,\"#bd3786\"],[0.5555555555555556,\"#d8576b\"],[0.6666666666666666,\"#ed7953\"],[0.7777777777777778,\"#fb9f3a\"],[0.8888888888888888,\"#fdca26\"],[1.0,\"#f0f921\"]],\"type\":\"surface\"}],\"table\":[{\"cells\":{\"fill\":{\"color\":\"#EBF0F8\"},\"line\":{\"color\":\"white\"}},\"header\":{\"fill\":{\"color\":\"#C8D4E3\"},\"line\":{\"color\":\"white\"}},\"type\":\"table\"}]},\"layout\":{\"annotationdefaults\":{\"arrowcolor\":\"#2a3f5f\",\"arrowhead\":0,\"arrowwidth\":1},\"autotypenumbers\":\"strict\",\"coloraxis\":{\"colorbar\":{\"outlinewidth\":0,\"ticks\":\"\"}},\"colorscale\":{\"diverging\":[[0,\"#8e0152\"],[0.1,\"#c51b7d\"],[0.2,\"#de77ae\"],[0.3,\"#f1b6da\"],[0.4,\"#fde0ef\"],[0.5,\"#f7f7f7\"],[0.6,\"#e6f5d0\"],[0.7,\"#b8e186\"],[0.8,\"#7fbc41\"],[0.9,\"#4d9221\"],[1,\"#276419\"]],\"sequential\":[[0.0,\"#0d0887\"],[0.1111111111111111,\"#46039f\"],[0.2222222222222222,\"#7201a8\"],[0.3333333333333333,\"#9c179e\"],[0.4444444444444444,\"#bd3786\"],[0.5555555555555556,\"#d8576b\"],[0.6666666666666666,\"#ed7953\"],[0.7777777777777778,\"#fb9f3a\"],[0.8888888888888888,\"#fdca26\"],[1.0,\"#f0f921\"]],\"sequentialminus\":[[0.0,\"#0d0887\"],[0.1111111111111111,\"#46039f\"],[0.2222222222222222,\"#7201a8\"],[0.3333333333333333,\"#9c179e\"],[0.4444444444444444,\"#bd3786\"],[0.5555555555555556,\"#d8576b\"],[0.6666666666666666,\"#ed7953\"],[0.7777777777777778,\"#fb9f3a\"],[0.8888888888888888,\"#fdca26\"],[1.0,\"#f0f921\"]]},\"colorway\":[\"#636efa\",\"#EF553B\",\"#00cc96\",\"#ab63fa\",\"#FFA15A\",\"#19d3f3\",\"#FF6692\",\"#B6E880\",\"#FF97FF\",\"#FECB52\"],\"font\":{\"color\":\"#2a3f5f\"},\"geo\":{\"bgcolor\":\"white\",\"lakecolor\":\"white\",\"landcolor\":\"#E5ECF6\",\"showlakes\":true,\"showland\":true,\"subunitcolor\":\"white\"},\"hoverlabel\":{\"align\":\"left\"},\"hovermode\":\"closest\",\"mapbox\":{\"style\":\"light\"},\"paper_bgcolor\":\"white\",\"plot_bgcolor\":\"#E5ECF6\",\"polar\":{\"angularaxis\":{\"gridcolor\":\"white\",\"linecolor\":\"white\",\"ticks\":\"\"},\"bgcolor\":\"#E5ECF6\",\"radialaxis\":{\"gridcolor\":\"white\",\"linecolor\":\"white\",\"ticks\":\"\"}},\"scene\":{\"xaxis\":{\"backgroundcolor\":\"#E5ECF6\",\"gridcolor\":\"white\",\"gridwidth\":2,\"linecolor\":\"white\",\"showbackground\":true,\"ticks\":\"\",\"zerolinecolor\":\"white\"},\"yaxis\":{\"backgroundcolor\":\"#E5ECF6\",\"gridcolor\":\"white\",\"gridwidth\":2,\"linecolor\":\"white\",\"showbackground\":true,\"ticks\":\"\",\"zerolinecolor\":\"white\"},\"zaxis\":{\"backgroundcolor\":\"#E5ECF6\",\"gridcolor\":\"white\",\"gridwidth\":2,\"linecolor\":\"white\",\"showbackground\":true,\"ticks\":\"\",\"zerolinecolor\":\"white\"}},\"shapedefaults\":{\"line\":{\"color\":\"#2a3f5f\"}},\"ternary\":{\"aaxis\":{\"gridcolor\":\"white\",\"linecolor\":\"white\",\"ticks\":\"\"},\"baxis\":{\"gridcolor\":\"white\",\"linecolor\":\"white\",\"ticks\":\"\"},\"bgcolor\":\"#E5ECF6\",\"caxis\":{\"gridcolor\":\"white\",\"linecolor\":\"white\",\"ticks\":\"\"}},\"title\":{\"x\":0.05},\"xaxis\":{\"automargin\":true,\"gridcolor\":\"white\",\"linecolor\":\"white\",\"ticks\":\"\",\"title\":{\"standoff\":15},\"zerolinecolor\":\"white\",\"zerolinewidth\":2},\"yaxis\":{\"automargin\":true,\"gridcolor\":\"white\",\"linecolor\":\"white\",\"ticks\":\"\",\"title\":{\"standoff\":15},\"zerolinecolor\":\"white\",\"zerolinewidth\":2}}}},                        {\"responsive\": true}                    ).then(function(){\n",
       "                            \n",
       "var gd = document.getElementById('6fc4fd46-0ea2-4ac6-b120-9e95dda00245');\n",
       "var x = new MutationObserver(function (mutations, observer) {{\n",
       "        var display = window.getComputedStyle(gd).display;\n",
       "        if (!display || display === 'none') {{\n",
       "            console.log([gd, 'removed!']);\n",
       "            Plotly.purge(gd);\n",
       "            observer.disconnect();\n",
       "        }}\n",
       "}});\n",
       "\n",
       "// Listen for the removal of the full notebook cells\n",
       "var notebookContainer = gd.closest('#notebook-container');\n",
       "if (notebookContainer) {{\n",
       "    x.observe(notebookContainer, {childList: true});\n",
       "}}\n",
       "\n",
       "// Listen for the clearing of the current output cell\n",
       "var outputEl = gd.closest('.output');\n",
       "if (outputEl) {{\n",
       "    x.observe(outputEl, {childList: true});\n",
       "}}\n",
       "\n",
       "                        })                };                });            </script>        </div>"
      ]
     },
     "metadata": {},
     "output_type": "display_data"
    }
   ],
   "source": [
    "x = option.df['S']/option.df['K']\n",
    "\n",
    "#x = option.df['K']\n",
    "y = option.df['_T']\n",
    "z = option.df['L_VOL']\n",
    "z2 = option.df['mark_iv']/100\n",
    "\n",
    "\n",
    "fig = go.Figure(data=[go.Scatter3d(x=x, y=y, z=z , mode='markers', name='Local vol')])\n",
    "#fig = go.Figure(data=[go.Surface(x=x, y=y, z=z , name='Local vol')])\n",
    "                      #go.Scatter3d(x=x, y=y, z=z2 , mode='markers', name='Implied vol deribit')])\n",
    "\"\"\"\n",
    "fig = go.Figure(data=[go.Scatter3d(x=x, y=y, z=z , mode='markers', name='Black&Scholes model Price'),\n",
    "                      go.Scatter3d(x=x, y=y, z=z2, mode='markers', name='Real Market Price')])\n",
    "\"\"\"\n",
    "\n",
    "fig.update_scenes(xaxis_title_text='S/K', yaxis_title_text='Exp', zaxis_title_text='IV') \n",
    "fig.show()"
   ]
  },
  {
   "cell_type": "code",
   "execution_count": 58,
   "metadata": {
    "colab": {
     "base_uri": "https://localhost:8080/",
     "height": 517
    },
    "id": "1doWZ77S56JM",
    "outputId": "e7530c3b-4287-48dc-fc6e-27846a45c68b"
   },
   "outputs": [
    {
     "data": {
      "application/vnd.plotly.v1+json": {
       "config": {
        "plotlyServerURL": "https://plot.ly"
       },
       "data": [
        {
         "type": "surface",
         "x": [
          0.5074763888888889,
          0.5167147142857142,
          0.5564595384615385,
          0.57084578125,
          0.6029001666666667,
          0.6058914999999999,
          0.6089518333333334,
          0.6524408928571429,
          0.6570727272727273,
          0.6576661818181818,
          0.6610650909090909,
          0.723019,
          0.7234666000000001,
          0.7271096,
          0.730766,
          0.76119625,
          0.7857063043478261,
          0.803118,
          0.8033448888888888,
          0.8033466666666667,
          0.8037797777777776,
          0.8078797777777778,
          0.8216284090909092,
          0.8302822727272727,
          0.86045,
          0.8606992857142858,
          0.8607164285714285,
          0.9035395,
          0.9037577499999999,
          0.9037707500000001,
          0.90436625,
          0.91330975,
          0.9269679487179487,
          0.9271282051282052,
          0.9510836842105264,
          0.9513628947368421,
          0.9513642105263157,
          0.9514842105263158,
          0.9514978947368421,
          0.9770581081081081,
          0.9771224324324324,
          0.9772099999999999
         ],
         "y": [
          0.0008756333470934239,
          0.0036153593744906844,
          0.006355085401887945,
          0.025533167593668766,
          0.04471124978544959,
          0.08306741416901123,
          0.15977974293613453,
          0.2364920717032578
         ],
         "z": [
          [
           0.5948105871930098,
           0.5948105871930098,
           0.5948105871930098,
           0.5948105871930098,
           0.5948105871930098,
           0.5948105871930098,
           0.5948105871930098,
           0.5948105871930098,
           0.5948105871930098,
           0.5948105871930098,
           0.5948105871930098,
           0.5948105871930098,
           0.5948105871930098,
           0.5948105871930098,
           0.5948105871930098,
           0.5948105871930098,
           0.5948105871930098,
           0.5948105871930098,
           0.5948105871930098,
           0.5948105871930098,
           0.5948105871930098,
           0.5948105871930098,
           0.5948105871930098,
           0.5948105871930098,
           0.5948105871930098,
           0.5948105871930098,
           0.5948105871930098,
           0.5948105871930098,
           0.5948105871930098,
           0.5948105871930098,
           0.5948105871930098,
           0.5948105871930098,
           0.5948105871930098,
           0.5948105871930098,
           0.5589377119954968,
           0.5230648367979839,
           0.48719196160047085,
           0.4513190864029578,
           0.41544621120544484,
           0.34996513341205876,
           0.2844840556186726,
           0.21900297782528658
          ],
          [
           0.21618798804197487,
           0.21618798804197487,
           0.21618798804197487,
           0.21618798804197487,
           0.21618798804197487,
           0.21618798804197487,
           0.21618798804197487,
           0.21618798804197487,
           0.21618798804197487,
           0.21618798804197487,
           0.21618798804197487,
           0.21618798804197487,
           0.21618798804197487,
           0.21618798804197487,
           0.21618798804197487,
           0.21618798804197487,
           0.21618798804197487,
           0.21618798804197487,
           0.21618798804197487,
           0.21618798804197487,
           0.21618798804197487,
           0.21618798804197487,
           0.21618798804197487,
           0.21618798804197487,
           0.21618798804197487,
           0.21618798804197487,
           0.21618798804197487,
           0.21618798804197487,
           0.21618798804197487,
           0.21618798804197487,
           0.21618798804197487,
           0.21618798804197487,
           0.21618798804197487,
           0.21618798804197487,
           0.21618798804197487,
           0.21618798804197487,
           0.21618798804197487,
           0.21618798804197487,
           0.18324695657095802,
           0.15030592509994115,
           0.11736489362892429,
           0.11736489362892429
          ],
          [
           0.592845853014605,
           0.592845853014605,
           0.592845853014605,
           0.592845853014605,
           0.592845853014605,
           0.592845853014605,
           0.592845853014605,
           0.592845853014605,
           0.592845853014605,
           0.592845853014605,
           0.592845853014605,
           0.592845853014605,
           0.592845853014605,
           0.592845853014605,
           0.592845853014605,
           0.592845853014605,
           0.592845853014605,
           0.592845853014605,
           0.592845853014605,
           0.5820325411725916,
           0.5712192293305782,
           0.5604059174885649,
           0.5495926056465515,
           0.5221446655894985,
           0.49469672553244537,
           0.46724878547539234,
           0.43980084541833925,
           0.37652483509326673,
           0.31324882476819427,
           0.29559616453946413,
           0.27794350431073406,
           0.260290844082004,
           0.24263818385327385,
           0.22461751057657345,
           0.20659683729987305,
           0.18857616402317265,
           0.17055549074647225,
           0.14291669455569322,
           0.11527789836491417,
           0.08763910217413515,
           0.08763910217413515,
           0.08763910217413515
          ],
          [
           0.5602474490649981,
           0.5602474490649981,
           0.5602474490649981,
           0.5602474490649981,
           0.5602474490649981,
           0.5602474490649981,
           0.5602474490649981,
           0.5602474490649981,
           0.5602474490649981,
           0.5343448435586109,
           0.5084422380522237,
           0.4825396325458364,
           0.4566370270394492,
           0.43073442153306196,
           0.40483181602667473,
           0.3789292105202875,
           0.35302660501390026,
           0.3246980482175354,
           0.3123649179773671,
           0.3000317877371988,
           0.2876986574970305,
           0.2753655272568622,
           0.2630323970166939,
           0.25069926677652565,
           0.23836613653635733,
           0.21555623462719903,
           0.1927463327180407,
           0.1699364308088824,
           0.15863354383211548,
           0.14733065685534855,
           0.13602776987858162,
           0.12472488290181469,
           0.11342199592504776,
           0.10211910894828084,
           0.09081622197151391,
           0.09081622197151391,
           0.09081622197151391,
           0.09081622197151391,
           0.09081622197151391,
           0.09081622197151391,
           0.09081622197151391,
           0.09081622197151391
          ],
          [
           0.3570242104820419,
           0.3570242104820419,
           0.3570242104820419,
           0.3570242104820419,
           0.3570242104820419,
           0.3570242104820419,
           0.3570242104820419,
           0.3570242104820419,
           0.3570242104820419,
           0.3570242104820419,
           0.3570242104820419,
           0.3570242104820419,
           0.3445837132160179,
           0.3321432159499938,
           0.3197027186839697,
           0.3072622214179457,
           0.29482172415192165,
           0.28238122688589756,
           0.2699407296198735,
           0.25750023235384945,
           0.24567784390953243,
           0.23385545546521538,
           0.22203306702089837,
           0.21021067857658135,
           0.19838829013226433,
           0.1865659016879473,
           0.1729761860265568,
           0.1593864703651663,
           0.14579675470377582,
           0.13220703904238532,
           0.12187179178777624,
           0.11153654453316715,
           0.10120129727855807,
           0.09086605002394899,
           0.08053080276933991,
           0.07019555551473083,
           0.07019555551473083,
           0.07019555551473083,
           0.07019555551473083,
           0.07019555551473083,
           0.07019555551473083,
           0.07019555551473083
          ],
          [
           0.49844842874383105,
           0.49844842874383105,
           0.45282337871605216,
           0.42952305855224576,
           0.40622273838843936,
           0.39370344001960617,
           0.38118414165077297,
           0.3686648432819397,
           0.3561455449131065,
           0.3436262465442733,
           0.3213594508769448,
           0.2990926552096163,
           0.2768258595422878,
           0.26745900479259993,
           0.2580921500429121,
           0.2487252952932243,
           0.23935844054353644,
           0.2299915857938486,
           0.22062473104416078,
           0.21125787629447296,
           0.2018910215447851,
           0.19187810971389221,
           0.18186519788299932,
           0.1718522860521064,
           0.1618393742212135,
           0.1518264623903206,
           0.1418135505594277,
           0.1318006387285348,
           0.1217877268976419,
           0.11177481506674901,
           0.1017619032358561,
           0.1017619032358561,
           0.1017619032358561,
           0.1017619032358561,
           0.1017619032358561,
           0.1017619032358561,
           0.1017619032358561,
           0.1017619032358561,
           0.1017619032358561,
           0.1017619032358561,
           0.1017619032358561,
           0.1017619032358561
          ],
          [
           0.30202168140466595,
           0.30202168140466595,
           0.30202168140466595,
           0.30202168140466595,
           0.30202168140466595,
           0.30202168140466595,
           0.29335256575420154,
           0.28468345010373713,
           0.2760143344532728,
           0.26734521880280837,
           0.25867610315234396,
           0.24103350412374214,
           0.22339090509514029,
           0.20574830606653846,
           0.19814326598834792,
           0.1905382259101574,
           0.18293318583196688,
           0.17532814575377634,
           0.1677231056755858,
           0.16011806559739528,
           0.15251302551920476,
           0.14490798544101421,
           0.14490798544101421,
           0.14490798544101421,
           0.14490798544101421,
           0.14490798544101421,
           0.14490798544101421,
           0.14490798544101421,
           0.14490798544101421,
           0.14490798544101421,
           0.14490798544101421,
           0.14490798544101421,
           0.14490798544101421,
           0.14490798544101421,
           0.14490798544101421,
           0.14490798544101421,
           0.14490798544101421,
           0.14490798544101421,
           0.14490798544101421,
           0.14490798544101421,
           0.14490798544101421,
           0.14490798544101421
          ],
          [
           0.3340636118378909,
           0.31833091937398167,
           0.3025982269100725,
           0.28686553444616325,
           0.2779379515323471,
           0.26901036861853106,
           0.26008278570471494,
           0.22764596483813165,
           0.21964638886838334,
           0.21164681289863502,
           0.2036472369288867,
           0.19564766095913838,
           0.18764808498939006,
           0.17964850901964174,
           0.17164893304989343,
           0.15209457807663043,
           0.14646018460369953,
           0.14082579113076862,
           0.13519139765783772,
           0.1295570041849068,
           0.1239226107119759,
           0.11828821723904498,
           0.11265382376611408,
           0.10701943029318317,
           0.10068790607568504,
           0.0943563818581869,
           0.08802485764068878,
           0.08169333342319064,
           0.0753618092056925,
           0.06903028498819438,
           0.06269876077069625,
           0.05636723655319811,
           0.05636723655319811,
           0.05636723655319811,
           0.05636723655319811,
           0.05636723655319811,
           0.05636723655319811,
           0.05636723655319811,
           0.05636723655319811,
           0.05636723655319811,
           0.05636723655319811,
           0.05636723655319811
          ]
         ]
        }
       ],
       "layout": {
        "autosize": false,
        "height": 500,
        "margin": {
         "b": 65,
         "l": 65,
         "r": 50,
         "t": 90
        },
        "scene": {
         "xaxis": {
          "title": {
           "text": "S/K"
          }
         },
         "yaxis": {
          "title": {
           "text": "Exp"
          }
         },
         "zaxis": {
          "title": {
           "text": "IV"
          }
         }
        },
        "template": {
         "data": {
          "bar": [
           {
            "error_x": {
             "color": "#2a3f5f"
            },
            "error_y": {
             "color": "#2a3f5f"
            },
            "marker": {
             "line": {
              "color": "#E5ECF6",
              "width": 0.5
             },
             "pattern": {
              "fillmode": "overlay",
              "size": 10,
              "solidity": 0.2
             }
            },
            "type": "bar"
           }
          ],
          "barpolar": [
           {
            "marker": {
             "line": {
              "color": "#E5ECF6",
              "width": 0.5
             },
             "pattern": {
              "fillmode": "overlay",
              "size": 10,
              "solidity": 0.2
             }
            },
            "type": "barpolar"
           }
          ],
          "carpet": [
           {
            "aaxis": {
             "endlinecolor": "#2a3f5f",
             "gridcolor": "white",
             "linecolor": "white",
             "minorgridcolor": "white",
             "startlinecolor": "#2a3f5f"
            },
            "baxis": {
             "endlinecolor": "#2a3f5f",
             "gridcolor": "white",
             "linecolor": "white",
             "minorgridcolor": "white",
             "startlinecolor": "#2a3f5f"
            },
            "type": "carpet"
           }
          ],
          "choropleth": [
           {
            "colorbar": {
             "outlinewidth": 0,
             "ticks": ""
            },
            "type": "choropleth"
           }
          ],
          "contour": [
           {
            "colorbar": {
             "outlinewidth": 0,
             "ticks": ""
            },
            "colorscale": [
             [
              0,
              "#0d0887"
             ],
             [
              0.1111111111111111,
              "#46039f"
             ],
             [
              0.2222222222222222,
              "#7201a8"
             ],
             [
              0.3333333333333333,
              "#9c179e"
             ],
             [
              0.4444444444444444,
              "#bd3786"
             ],
             [
              0.5555555555555556,
              "#d8576b"
             ],
             [
              0.6666666666666666,
              "#ed7953"
             ],
             [
              0.7777777777777778,
              "#fb9f3a"
             ],
             [
              0.8888888888888888,
              "#fdca26"
             ],
             [
              1,
              "#f0f921"
             ]
            ],
            "type": "contour"
           }
          ],
          "contourcarpet": [
           {
            "colorbar": {
             "outlinewidth": 0,
             "ticks": ""
            },
            "type": "contourcarpet"
           }
          ],
          "heatmap": [
           {
            "colorbar": {
             "outlinewidth": 0,
             "ticks": ""
            },
            "colorscale": [
             [
              0,
              "#0d0887"
             ],
             [
              0.1111111111111111,
              "#46039f"
             ],
             [
              0.2222222222222222,
              "#7201a8"
             ],
             [
              0.3333333333333333,
              "#9c179e"
             ],
             [
              0.4444444444444444,
              "#bd3786"
             ],
             [
              0.5555555555555556,
              "#d8576b"
             ],
             [
              0.6666666666666666,
              "#ed7953"
             ],
             [
              0.7777777777777778,
              "#fb9f3a"
             ],
             [
              0.8888888888888888,
              "#fdca26"
             ],
             [
              1,
              "#f0f921"
             ]
            ],
            "type": "heatmap"
           }
          ],
          "heatmapgl": [
           {
            "colorbar": {
             "outlinewidth": 0,
             "ticks": ""
            },
            "colorscale": [
             [
              0,
              "#0d0887"
             ],
             [
              0.1111111111111111,
              "#46039f"
             ],
             [
              0.2222222222222222,
              "#7201a8"
             ],
             [
              0.3333333333333333,
              "#9c179e"
             ],
             [
              0.4444444444444444,
              "#bd3786"
             ],
             [
              0.5555555555555556,
              "#d8576b"
             ],
             [
              0.6666666666666666,
              "#ed7953"
             ],
             [
              0.7777777777777778,
              "#fb9f3a"
             ],
             [
              0.8888888888888888,
              "#fdca26"
             ],
             [
              1,
              "#f0f921"
             ]
            ],
            "type": "heatmapgl"
           }
          ],
          "histogram": [
           {
            "marker": {
             "pattern": {
              "fillmode": "overlay",
              "size": 10,
              "solidity": 0.2
             }
            },
            "type": "histogram"
           }
          ],
          "histogram2d": [
           {
            "colorbar": {
             "outlinewidth": 0,
             "ticks": ""
            },
            "colorscale": [
             [
              0,
              "#0d0887"
             ],
             [
              0.1111111111111111,
              "#46039f"
             ],
             [
              0.2222222222222222,
              "#7201a8"
             ],
             [
              0.3333333333333333,
              "#9c179e"
             ],
             [
              0.4444444444444444,
              "#bd3786"
             ],
             [
              0.5555555555555556,
              "#d8576b"
             ],
             [
              0.6666666666666666,
              "#ed7953"
             ],
             [
              0.7777777777777778,
              "#fb9f3a"
             ],
             [
              0.8888888888888888,
              "#fdca26"
             ],
             [
              1,
              "#f0f921"
             ]
            ],
            "type": "histogram2d"
           }
          ],
          "histogram2dcontour": [
           {
            "colorbar": {
             "outlinewidth": 0,
             "ticks": ""
            },
            "colorscale": [
             [
              0,
              "#0d0887"
             ],
             [
              0.1111111111111111,
              "#46039f"
             ],
             [
              0.2222222222222222,
              "#7201a8"
             ],
             [
              0.3333333333333333,
              "#9c179e"
             ],
             [
              0.4444444444444444,
              "#bd3786"
             ],
             [
              0.5555555555555556,
              "#d8576b"
             ],
             [
              0.6666666666666666,
              "#ed7953"
             ],
             [
              0.7777777777777778,
              "#fb9f3a"
             ],
             [
              0.8888888888888888,
              "#fdca26"
             ],
             [
              1,
              "#f0f921"
             ]
            ],
            "type": "histogram2dcontour"
           }
          ],
          "mesh3d": [
           {
            "colorbar": {
             "outlinewidth": 0,
             "ticks": ""
            },
            "type": "mesh3d"
           }
          ],
          "parcoords": [
           {
            "line": {
             "colorbar": {
              "outlinewidth": 0,
              "ticks": ""
             }
            },
            "type": "parcoords"
           }
          ],
          "pie": [
           {
            "automargin": true,
            "type": "pie"
           }
          ],
          "scatter": [
           {
            "marker": {
             "colorbar": {
              "outlinewidth": 0,
              "ticks": ""
             }
            },
            "type": "scatter"
           }
          ],
          "scatter3d": [
           {
            "line": {
             "colorbar": {
              "outlinewidth": 0,
              "ticks": ""
             }
            },
            "marker": {
             "colorbar": {
              "outlinewidth": 0,
              "ticks": ""
             }
            },
            "type": "scatter3d"
           }
          ],
          "scattercarpet": [
           {
            "marker": {
             "colorbar": {
              "outlinewidth": 0,
              "ticks": ""
             }
            },
            "type": "scattercarpet"
           }
          ],
          "scattergeo": [
           {
            "marker": {
             "colorbar": {
              "outlinewidth": 0,
              "ticks": ""
             }
            },
            "type": "scattergeo"
           }
          ],
          "scattergl": [
           {
            "marker": {
             "colorbar": {
              "outlinewidth": 0,
              "ticks": ""
             }
            },
            "type": "scattergl"
           }
          ],
          "scattermapbox": [
           {
            "marker": {
             "colorbar": {
              "outlinewidth": 0,
              "ticks": ""
             }
            },
            "type": "scattermapbox"
           }
          ],
          "scatterpolar": [
           {
            "marker": {
             "colorbar": {
              "outlinewidth": 0,
              "ticks": ""
             }
            },
            "type": "scatterpolar"
           }
          ],
          "scatterpolargl": [
           {
            "marker": {
             "colorbar": {
              "outlinewidth": 0,
              "ticks": ""
             }
            },
            "type": "scatterpolargl"
           }
          ],
          "scatterternary": [
           {
            "marker": {
             "colorbar": {
              "outlinewidth": 0,
              "ticks": ""
             }
            },
            "type": "scatterternary"
           }
          ],
          "surface": [
           {
            "colorbar": {
             "outlinewidth": 0,
             "ticks": ""
            },
            "colorscale": [
             [
              0,
              "#0d0887"
             ],
             [
              0.1111111111111111,
              "#46039f"
             ],
             [
              0.2222222222222222,
              "#7201a8"
             ],
             [
              0.3333333333333333,
              "#9c179e"
             ],
             [
              0.4444444444444444,
              "#bd3786"
             ],
             [
              0.5555555555555556,
              "#d8576b"
             ],
             [
              0.6666666666666666,
              "#ed7953"
             ],
             [
              0.7777777777777778,
              "#fb9f3a"
             ],
             [
              0.8888888888888888,
              "#fdca26"
             ],
             [
              1,
              "#f0f921"
             ]
            ],
            "type": "surface"
           }
          ],
          "table": [
           {
            "cells": {
             "fill": {
              "color": "#EBF0F8"
             },
             "line": {
              "color": "white"
             }
            },
            "header": {
             "fill": {
              "color": "#C8D4E3"
             },
             "line": {
              "color": "white"
             }
            },
            "type": "table"
           }
          ]
         },
         "layout": {
          "annotationdefaults": {
           "arrowcolor": "#2a3f5f",
           "arrowhead": 0,
           "arrowwidth": 1
          },
          "autotypenumbers": "strict",
          "coloraxis": {
           "colorbar": {
            "outlinewidth": 0,
            "ticks": ""
           }
          },
          "colorscale": {
           "diverging": [
            [
             0,
             "#8e0152"
            ],
            [
             0.1,
             "#c51b7d"
            ],
            [
             0.2,
             "#de77ae"
            ],
            [
             0.3,
             "#f1b6da"
            ],
            [
             0.4,
             "#fde0ef"
            ],
            [
             0.5,
             "#f7f7f7"
            ],
            [
             0.6,
             "#e6f5d0"
            ],
            [
             0.7,
             "#b8e186"
            ],
            [
             0.8,
             "#7fbc41"
            ],
            [
             0.9,
             "#4d9221"
            ],
            [
             1,
             "#276419"
            ]
           ],
           "sequential": [
            [
             0,
             "#0d0887"
            ],
            [
             0.1111111111111111,
             "#46039f"
            ],
            [
             0.2222222222222222,
             "#7201a8"
            ],
            [
             0.3333333333333333,
             "#9c179e"
            ],
            [
             0.4444444444444444,
             "#bd3786"
            ],
            [
             0.5555555555555556,
             "#d8576b"
            ],
            [
             0.6666666666666666,
             "#ed7953"
            ],
            [
             0.7777777777777778,
             "#fb9f3a"
            ],
            [
             0.8888888888888888,
             "#fdca26"
            ],
            [
             1,
             "#f0f921"
            ]
           ],
           "sequentialminus": [
            [
             0,
             "#0d0887"
            ],
            [
             0.1111111111111111,
             "#46039f"
            ],
            [
             0.2222222222222222,
             "#7201a8"
            ],
            [
             0.3333333333333333,
             "#9c179e"
            ],
            [
             0.4444444444444444,
             "#bd3786"
            ],
            [
             0.5555555555555556,
             "#d8576b"
            ],
            [
             0.6666666666666666,
             "#ed7953"
            ],
            [
             0.7777777777777778,
             "#fb9f3a"
            ],
            [
             0.8888888888888888,
             "#fdca26"
            ],
            [
             1,
             "#f0f921"
            ]
           ]
          },
          "colorway": [
           "#636efa",
           "#EF553B",
           "#00cc96",
           "#ab63fa",
           "#FFA15A",
           "#19d3f3",
           "#FF6692",
           "#B6E880",
           "#FF97FF",
           "#FECB52"
          ],
          "font": {
           "color": "#2a3f5f"
          },
          "geo": {
           "bgcolor": "white",
           "lakecolor": "white",
           "landcolor": "#E5ECF6",
           "showlakes": true,
           "showland": true,
           "subunitcolor": "white"
          },
          "hoverlabel": {
           "align": "left"
          },
          "hovermode": "closest",
          "mapbox": {
           "style": "light"
          },
          "paper_bgcolor": "white",
          "plot_bgcolor": "#E5ECF6",
          "polar": {
           "angularaxis": {
            "gridcolor": "white",
            "linecolor": "white",
            "ticks": ""
           },
           "bgcolor": "#E5ECF6",
           "radialaxis": {
            "gridcolor": "white",
            "linecolor": "white",
            "ticks": ""
           }
          },
          "scene": {
           "xaxis": {
            "backgroundcolor": "#E5ECF6",
            "gridcolor": "white",
            "gridwidth": 2,
            "linecolor": "white",
            "showbackground": true,
            "ticks": "",
            "zerolinecolor": "white"
           },
           "yaxis": {
            "backgroundcolor": "#E5ECF6",
            "gridcolor": "white",
            "gridwidth": 2,
            "linecolor": "white",
            "showbackground": true,
            "ticks": "",
            "zerolinecolor": "white"
           },
           "zaxis": {
            "backgroundcolor": "#E5ECF6",
            "gridcolor": "white",
            "gridwidth": 2,
            "linecolor": "white",
            "showbackground": true,
            "ticks": "",
            "zerolinecolor": "white"
           }
          },
          "shapedefaults": {
           "line": {
            "color": "#2a3f5f"
           }
          },
          "ternary": {
           "aaxis": {
            "gridcolor": "white",
            "linecolor": "white",
            "ticks": ""
           },
           "baxis": {
            "gridcolor": "white",
            "linecolor": "white",
            "ticks": ""
           },
           "bgcolor": "#E5ECF6",
           "caxis": {
            "gridcolor": "white",
            "linecolor": "white",
            "ticks": ""
           }
          },
          "title": {
           "x": 0.05
          },
          "xaxis": {
           "automargin": true,
           "gridcolor": "white",
           "linecolor": "white",
           "ticks": "",
           "title": {
            "standoff": 15
           },
           "zerolinecolor": "white",
           "zerolinewidth": 2
          },
          "yaxis": {
           "automargin": true,
           "gridcolor": "white",
           "linecolor": "white",
           "ticks": "",
           "title": {
            "standoff": 15
           },
           "zerolinecolor": "white",
           "zerolinewidth": 2
          }
         }
        },
        "title": {
         "text": "Implied Volatility"
        },
        "width": 500
       }
      },
      "text/html": [
       "<div>                            <div id=\"c04ac174-d8ea-490a-b7f3-27e0a3ea7d84\" class=\"plotly-graph-div\" style=\"height:500px; width:500px;\"></div>            <script type=\"text/javascript\">                require([\"plotly\"], function(Plotly) {                    window.PLOTLYENV=window.PLOTLYENV || {};                                    if (document.getElementById(\"c04ac174-d8ea-490a-b7f3-27e0a3ea7d84\")) {                    Plotly.newPlot(                        \"c04ac174-d8ea-490a-b7f3-27e0a3ea7d84\",                        [{\"type\":\"surface\",\"x\":[0.5074763888888889,0.5167147142857142,0.5564595384615385,0.57084578125,0.6029001666666667,0.6058914999999999,0.6089518333333334,0.6524408928571429,0.6570727272727273,0.6576661818181818,0.6610650909090909,0.723019,0.7234666000000001,0.7271096,0.730766,0.76119625,0.7857063043478261,0.803118,0.8033448888888888,0.8033466666666667,0.8037797777777776,0.8078797777777778,0.8216284090909092,0.8302822727272727,0.86045,0.8606992857142858,0.8607164285714285,0.9035395,0.9037577499999999,0.9037707500000001,0.90436625,0.91330975,0.9269679487179487,0.9271282051282052,0.9510836842105264,0.9513628947368421,0.9513642105263157,0.9514842105263158,0.9514978947368421,0.9770581081081081,0.9771224324324324,0.9772099999999999],\"y\":[0.0008756333470934239,0.0036153593744906844,0.006355085401887945,0.025533167593668766,0.04471124978544959,0.08306741416901123,0.15977974293613453,0.2364920717032578],\"z\":[[0.5948105871930098,0.5948105871930098,0.5948105871930098,0.5948105871930098,0.5948105871930098,0.5948105871930098,0.5948105871930098,0.5948105871930098,0.5948105871930098,0.5948105871930098,0.5948105871930098,0.5948105871930098,0.5948105871930098,0.5948105871930098,0.5948105871930098,0.5948105871930098,0.5948105871930098,0.5948105871930098,0.5948105871930098,0.5948105871930098,0.5948105871930098,0.5948105871930098,0.5948105871930098,0.5948105871930098,0.5948105871930098,0.5948105871930098,0.5948105871930098,0.5948105871930098,0.5948105871930098,0.5948105871930098,0.5948105871930098,0.5948105871930098,0.5948105871930098,0.5948105871930098,0.5589377119954968,0.5230648367979839,0.48719196160047085,0.4513190864029578,0.41544621120544484,0.34996513341205876,0.2844840556186726,0.21900297782528658],[0.21618798804197487,0.21618798804197487,0.21618798804197487,0.21618798804197487,0.21618798804197487,0.21618798804197487,0.21618798804197487,0.21618798804197487,0.21618798804197487,0.21618798804197487,0.21618798804197487,0.21618798804197487,0.21618798804197487,0.21618798804197487,0.21618798804197487,0.21618798804197487,0.21618798804197487,0.21618798804197487,0.21618798804197487,0.21618798804197487,0.21618798804197487,0.21618798804197487,0.21618798804197487,0.21618798804197487,0.21618798804197487,0.21618798804197487,0.21618798804197487,0.21618798804197487,0.21618798804197487,0.21618798804197487,0.21618798804197487,0.21618798804197487,0.21618798804197487,0.21618798804197487,0.21618798804197487,0.21618798804197487,0.21618798804197487,0.21618798804197487,0.18324695657095802,0.15030592509994115,0.11736489362892429,0.11736489362892429],[0.592845853014605,0.592845853014605,0.592845853014605,0.592845853014605,0.592845853014605,0.592845853014605,0.592845853014605,0.592845853014605,0.592845853014605,0.592845853014605,0.592845853014605,0.592845853014605,0.592845853014605,0.592845853014605,0.592845853014605,0.592845853014605,0.592845853014605,0.592845853014605,0.592845853014605,0.5820325411725916,0.5712192293305782,0.5604059174885649,0.5495926056465515,0.5221446655894985,0.49469672553244537,0.46724878547539234,0.43980084541833925,0.37652483509326673,0.31324882476819427,0.29559616453946413,0.27794350431073406,0.260290844082004,0.24263818385327385,0.22461751057657345,0.20659683729987305,0.18857616402317265,0.17055549074647225,0.14291669455569322,0.11527789836491417,0.08763910217413515,0.08763910217413515,0.08763910217413515],[0.5602474490649981,0.5602474490649981,0.5602474490649981,0.5602474490649981,0.5602474490649981,0.5602474490649981,0.5602474490649981,0.5602474490649981,0.5602474490649981,0.5343448435586109,0.5084422380522237,0.4825396325458364,0.4566370270394492,0.43073442153306196,0.40483181602667473,0.3789292105202875,0.35302660501390026,0.3246980482175354,0.3123649179773671,0.3000317877371988,0.2876986574970305,0.2753655272568622,0.2630323970166939,0.25069926677652565,0.23836613653635733,0.21555623462719903,0.1927463327180407,0.1699364308088824,0.15863354383211548,0.14733065685534855,0.13602776987858162,0.12472488290181469,0.11342199592504776,0.10211910894828084,0.09081622197151391,0.09081622197151391,0.09081622197151391,0.09081622197151391,0.09081622197151391,0.09081622197151391,0.09081622197151391,0.09081622197151391],[0.3570242104820419,0.3570242104820419,0.3570242104820419,0.3570242104820419,0.3570242104820419,0.3570242104820419,0.3570242104820419,0.3570242104820419,0.3570242104820419,0.3570242104820419,0.3570242104820419,0.3570242104820419,0.3445837132160179,0.3321432159499938,0.3197027186839697,0.3072622214179457,0.29482172415192165,0.28238122688589756,0.2699407296198735,0.25750023235384945,0.24567784390953243,0.23385545546521538,0.22203306702089837,0.21021067857658135,0.19838829013226433,0.1865659016879473,0.1729761860265568,0.1593864703651663,0.14579675470377582,0.13220703904238532,0.12187179178777624,0.11153654453316715,0.10120129727855807,0.09086605002394899,0.08053080276933991,0.07019555551473083,0.07019555551473083,0.07019555551473083,0.07019555551473083,0.07019555551473083,0.07019555551473083,0.07019555551473083],[0.49844842874383105,0.49844842874383105,0.45282337871605216,0.42952305855224576,0.40622273838843936,0.39370344001960617,0.38118414165077297,0.3686648432819397,0.3561455449131065,0.3436262465442733,0.3213594508769448,0.2990926552096163,0.2768258595422878,0.26745900479259993,0.2580921500429121,0.2487252952932243,0.23935844054353644,0.2299915857938486,0.22062473104416078,0.21125787629447296,0.2018910215447851,0.19187810971389221,0.18186519788299932,0.1718522860521064,0.1618393742212135,0.1518264623903206,0.1418135505594277,0.1318006387285348,0.1217877268976419,0.11177481506674901,0.1017619032358561,0.1017619032358561,0.1017619032358561,0.1017619032358561,0.1017619032358561,0.1017619032358561,0.1017619032358561,0.1017619032358561,0.1017619032358561,0.1017619032358561,0.1017619032358561,0.1017619032358561],[0.30202168140466595,0.30202168140466595,0.30202168140466595,0.30202168140466595,0.30202168140466595,0.30202168140466595,0.29335256575420154,0.28468345010373713,0.2760143344532728,0.26734521880280837,0.25867610315234396,0.24103350412374214,0.22339090509514029,0.20574830606653846,0.19814326598834792,0.1905382259101574,0.18293318583196688,0.17532814575377634,0.1677231056755858,0.16011806559739528,0.15251302551920476,0.14490798544101421,0.14490798544101421,0.14490798544101421,0.14490798544101421,0.14490798544101421,0.14490798544101421,0.14490798544101421,0.14490798544101421,0.14490798544101421,0.14490798544101421,0.14490798544101421,0.14490798544101421,0.14490798544101421,0.14490798544101421,0.14490798544101421,0.14490798544101421,0.14490798544101421,0.14490798544101421,0.14490798544101421,0.14490798544101421,0.14490798544101421],[0.3340636118378909,0.31833091937398167,0.3025982269100725,0.28686553444616325,0.2779379515323471,0.26901036861853106,0.26008278570471494,0.22764596483813165,0.21964638886838334,0.21164681289863502,0.2036472369288867,0.19564766095913838,0.18764808498939006,0.17964850901964174,0.17164893304989343,0.15209457807663043,0.14646018460369953,0.14082579113076862,0.13519139765783772,0.1295570041849068,0.1239226107119759,0.11828821723904498,0.11265382376611408,0.10701943029318317,0.10068790607568504,0.0943563818581869,0.08802485764068878,0.08169333342319064,0.0753618092056925,0.06903028498819438,0.06269876077069625,0.05636723655319811,0.05636723655319811,0.05636723655319811,0.05636723655319811,0.05636723655319811,0.05636723655319811,0.05636723655319811,0.05636723655319811,0.05636723655319811,0.05636723655319811,0.05636723655319811]]}],                        {\"autosize\":false,\"height\":500,\"margin\":{\"b\":65,\"l\":65,\"r\":50,\"t\":90},\"scene\":{\"xaxis\":{\"title\":{\"text\":\"S/K\"}},\"yaxis\":{\"title\":{\"text\":\"Exp\"}},\"zaxis\":{\"title\":{\"text\":\"IV\"}}},\"template\":{\"data\":{\"bar\":[{\"error_x\":{\"color\":\"#2a3f5f\"},\"error_y\":{\"color\":\"#2a3f5f\"},\"marker\":{\"line\":{\"color\":\"#E5ECF6\",\"width\":0.5},\"pattern\":{\"fillmode\":\"overlay\",\"size\":10,\"solidity\":0.2}},\"type\":\"bar\"}],\"barpolar\":[{\"marker\":{\"line\":{\"color\":\"#E5ECF6\",\"width\":0.5},\"pattern\":{\"fillmode\":\"overlay\",\"size\":10,\"solidity\":0.2}},\"type\":\"barpolar\"}],\"carpet\":[{\"aaxis\":{\"endlinecolor\":\"#2a3f5f\",\"gridcolor\":\"white\",\"linecolor\":\"white\",\"minorgridcolor\":\"white\",\"startlinecolor\":\"#2a3f5f\"},\"baxis\":{\"endlinecolor\":\"#2a3f5f\",\"gridcolor\":\"white\",\"linecolor\":\"white\",\"minorgridcolor\":\"white\",\"startlinecolor\":\"#2a3f5f\"},\"type\":\"carpet\"}],\"choropleth\":[{\"colorbar\":{\"outlinewidth\":0,\"ticks\":\"\"},\"type\":\"choropleth\"}],\"contour\":[{\"colorbar\":{\"outlinewidth\":0,\"ticks\":\"\"},\"colorscale\":[[0.0,\"#0d0887\"],[0.1111111111111111,\"#46039f\"],[0.2222222222222222,\"#7201a8\"],[0.3333333333333333,\"#9c179e\"],[0.4444444444444444,\"#bd3786\"],[0.5555555555555556,\"#d8576b\"],[0.6666666666666666,\"#ed7953\"],[0.7777777777777778,\"#fb9f3a\"],[0.8888888888888888,\"#fdca26\"],[1.0,\"#f0f921\"]],\"type\":\"contour\"}],\"contourcarpet\":[{\"colorbar\":{\"outlinewidth\":0,\"ticks\":\"\"},\"type\":\"contourcarpet\"}],\"heatmap\":[{\"colorbar\":{\"outlinewidth\":0,\"ticks\":\"\"},\"colorscale\":[[0.0,\"#0d0887\"],[0.1111111111111111,\"#46039f\"],[0.2222222222222222,\"#7201a8\"],[0.3333333333333333,\"#9c179e\"],[0.4444444444444444,\"#bd3786\"],[0.5555555555555556,\"#d8576b\"],[0.6666666666666666,\"#ed7953\"],[0.7777777777777778,\"#fb9f3a\"],[0.8888888888888888,\"#fdca26\"],[1.0,\"#f0f921\"]],\"type\":\"heatmap\"}],\"heatmapgl\":[{\"colorbar\":{\"outlinewidth\":0,\"ticks\":\"\"},\"colorscale\":[[0.0,\"#0d0887\"],[0.1111111111111111,\"#46039f\"],[0.2222222222222222,\"#7201a8\"],[0.3333333333333333,\"#9c179e\"],[0.4444444444444444,\"#bd3786\"],[0.5555555555555556,\"#d8576b\"],[0.6666666666666666,\"#ed7953\"],[0.7777777777777778,\"#fb9f3a\"],[0.8888888888888888,\"#fdca26\"],[1.0,\"#f0f921\"]],\"type\":\"heatmapgl\"}],\"histogram\":[{\"marker\":{\"pattern\":{\"fillmode\":\"overlay\",\"size\":10,\"solidity\":0.2}},\"type\":\"histogram\"}],\"histogram2d\":[{\"colorbar\":{\"outlinewidth\":0,\"ticks\":\"\"},\"colorscale\":[[0.0,\"#0d0887\"],[0.1111111111111111,\"#46039f\"],[0.2222222222222222,\"#7201a8\"],[0.3333333333333333,\"#9c179e\"],[0.4444444444444444,\"#bd3786\"],[0.5555555555555556,\"#d8576b\"],[0.6666666666666666,\"#ed7953\"],[0.7777777777777778,\"#fb9f3a\"],[0.8888888888888888,\"#fdca26\"],[1.0,\"#f0f921\"]],\"type\":\"histogram2d\"}],\"histogram2dcontour\":[{\"colorbar\":{\"outlinewidth\":0,\"ticks\":\"\"},\"colorscale\":[[0.0,\"#0d0887\"],[0.1111111111111111,\"#46039f\"],[0.2222222222222222,\"#7201a8\"],[0.3333333333333333,\"#9c179e\"],[0.4444444444444444,\"#bd3786\"],[0.5555555555555556,\"#d8576b\"],[0.6666666666666666,\"#ed7953\"],[0.7777777777777778,\"#fb9f3a\"],[0.8888888888888888,\"#fdca26\"],[1.0,\"#f0f921\"]],\"type\":\"histogram2dcontour\"}],\"mesh3d\":[{\"colorbar\":{\"outlinewidth\":0,\"ticks\":\"\"},\"type\":\"mesh3d\"}],\"parcoords\":[{\"line\":{\"colorbar\":{\"outlinewidth\":0,\"ticks\":\"\"}},\"type\":\"parcoords\"}],\"pie\":[{\"automargin\":true,\"type\":\"pie\"}],\"scatter\":[{\"marker\":{\"colorbar\":{\"outlinewidth\":0,\"ticks\":\"\"}},\"type\":\"scatter\"}],\"scatter3d\":[{\"line\":{\"colorbar\":{\"outlinewidth\":0,\"ticks\":\"\"}},\"marker\":{\"colorbar\":{\"outlinewidth\":0,\"ticks\":\"\"}},\"type\":\"scatter3d\"}],\"scattercarpet\":[{\"marker\":{\"colorbar\":{\"outlinewidth\":0,\"ticks\":\"\"}},\"type\":\"scattercarpet\"}],\"scattergeo\":[{\"marker\":{\"colorbar\":{\"outlinewidth\":0,\"ticks\":\"\"}},\"type\":\"scattergeo\"}],\"scattergl\":[{\"marker\":{\"colorbar\":{\"outlinewidth\":0,\"ticks\":\"\"}},\"type\":\"scattergl\"}],\"scattermapbox\":[{\"marker\":{\"colorbar\":{\"outlinewidth\":0,\"ticks\":\"\"}},\"type\":\"scattermapbox\"}],\"scatterpolar\":[{\"marker\":{\"colorbar\":{\"outlinewidth\":0,\"ticks\":\"\"}},\"type\":\"scatterpolar\"}],\"scatterpolargl\":[{\"marker\":{\"colorbar\":{\"outlinewidth\":0,\"ticks\":\"\"}},\"type\":\"scatterpolargl\"}],\"scatterternary\":[{\"marker\":{\"colorbar\":{\"outlinewidth\":0,\"ticks\":\"\"}},\"type\":\"scatterternary\"}],\"surface\":[{\"colorbar\":{\"outlinewidth\":0,\"ticks\":\"\"},\"colorscale\":[[0.0,\"#0d0887\"],[0.1111111111111111,\"#46039f\"],[0.2222222222222222,\"#7201a8\"],[0.3333333333333333,\"#9c179e\"],[0.4444444444444444,\"#bd3786\"],[0.5555555555555556,\"#d8576b\"],[0.6666666666666666,\"#ed7953\"],[0.7777777777777778,\"#fb9f3a\"],[0.8888888888888888,\"#fdca26\"],[1.0,\"#f0f921\"]],\"type\":\"surface\"}],\"table\":[{\"cells\":{\"fill\":{\"color\":\"#EBF0F8\"},\"line\":{\"color\":\"white\"}},\"header\":{\"fill\":{\"color\":\"#C8D4E3\"},\"line\":{\"color\":\"white\"}},\"type\":\"table\"}]},\"layout\":{\"annotationdefaults\":{\"arrowcolor\":\"#2a3f5f\",\"arrowhead\":0,\"arrowwidth\":1},\"autotypenumbers\":\"strict\",\"coloraxis\":{\"colorbar\":{\"outlinewidth\":0,\"ticks\":\"\"}},\"colorscale\":{\"diverging\":[[0,\"#8e0152\"],[0.1,\"#c51b7d\"],[0.2,\"#de77ae\"],[0.3,\"#f1b6da\"],[0.4,\"#fde0ef\"],[0.5,\"#f7f7f7\"],[0.6,\"#e6f5d0\"],[0.7,\"#b8e186\"],[0.8,\"#7fbc41\"],[0.9,\"#4d9221\"],[1,\"#276419\"]],\"sequential\":[[0.0,\"#0d0887\"],[0.1111111111111111,\"#46039f\"],[0.2222222222222222,\"#7201a8\"],[0.3333333333333333,\"#9c179e\"],[0.4444444444444444,\"#bd3786\"],[0.5555555555555556,\"#d8576b\"],[0.6666666666666666,\"#ed7953\"],[0.7777777777777778,\"#fb9f3a\"],[0.8888888888888888,\"#fdca26\"],[1.0,\"#f0f921\"]],\"sequentialminus\":[[0.0,\"#0d0887\"],[0.1111111111111111,\"#46039f\"],[0.2222222222222222,\"#7201a8\"],[0.3333333333333333,\"#9c179e\"],[0.4444444444444444,\"#bd3786\"],[0.5555555555555556,\"#d8576b\"],[0.6666666666666666,\"#ed7953\"],[0.7777777777777778,\"#fb9f3a\"],[0.8888888888888888,\"#fdca26\"],[1.0,\"#f0f921\"]]},\"colorway\":[\"#636efa\",\"#EF553B\",\"#00cc96\",\"#ab63fa\",\"#FFA15A\",\"#19d3f3\",\"#FF6692\",\"#B6E880\",\"#FF97FF\",\"#FECB52\"],\"font\":{\"color\":\"#2a3f5f\"},\"geo\":{\"bgcolor\":\"white\",\"lakecolor\":\"white\",\"landcolor\":\"#E5ECF6\",\"showlakes\":true,\"showland\":true,\"subunitcolor\":\"white\"},\"hoverlabel\":{\"align\":\"left\"},\"hovermode\":\"closest\",\"mapbox\":{\"style\":\"light\"},\"paper_bgcolor\":\"white\",\"plot_bgcolor\":\"#E5ECF6\",\"polar\":{\"angularaxis\":{\"gridcolor\":\"white\",\"linecolor\":\"white\",\"ticks\":\"\"},\"bgcolor\":\"#E5ECF6\",\"radialaxis\":{\"gridcolor\":\"white\",\"linecolor\":\"white\",\"ticks\":\"\"}},\"scene\":{\"xaxis\":{\"backgroundcolor\":\"#E5ECF6\",\"gridcolor\":\"white\",\"gridwidth\":2,\"linecolor\":\"white\",\"showbackground\":true,\"ticks\":\"\",\"zerolinecolor\":\"white\"},\"yaxis\":{\"backgroundcolor\":\"#E5ECF6\",\"gridcolor\":\"white\",\"gridwidth\":2,\"linecolor\":\"white\",\"showbackground\":true,\"ticks\":\"\",\"zerolinecolor\":\"white\"},\"zaxis\":{\"backgroundcolor\":\"#E5ECF6\",\"gridcolor\":\"white\",\"gridwidth\":2,\"linecolor\":\"white\",\"showbackground\":true,\"ticks\":\"\",\"zerolinecolor\":\"white\"}},\"shapedefaults\":{\"line\":{\"color\":\"#2a3f5f\"}},\"ternary\":{\"aaxis\":{\"gridcolor\":\"white\",\"linecolor\":\"white\",\"ticks\":\"\"},\"baxis\":{\"gridcolor\":\"white\",\"linecolor\":\"white\",\"ticks\":\"\"},\"bgcolor\":\"#E5ECF6\",\"caxis\":{\"gridcolor\":\"white\",\"linecolor\":\"white\",\"ticks\":\"\"}},\"title\":{\"x\":0.05},\"xaxis\":{\"automargin\":true,\"gridcolor\":\"white\",\"linecolor\":\"white\",\"ticks\":\"\",\"title\":{\"standoff\":15},\"zerolinecolor\":\"white\",\"zerolinewidth\":2},\"yaxis\":{\"automargin\":true,\"gridcolor\":\"white\",\"linecolor\":\"white\",\"ticks\":\"\",\"title\":{\"standoff\":15},\"zerolinecolor\":\"white\",\"zerolinewidth\":2}}},\"title\":{\"text\":\"Implied Volatility\"},\"width\":500},                        {\"responsive\": true}                    ).then(function(){\n",
       "                            \n",
       "var gd = document.getElementById('c04ac174-d8ea-490a-b7f3-27e0a3ea7d84');\n",
       "var x = new MutationObserver(function (mutations, observer) {{\n",
       "        var display = window.getComputedStyle(gd).display;\n",
       "        if (!display || display === 'none') {{\n",
       "            console.log([gd, 'removed!']);\n",
       "            Plotly.purge(gd);\n",
       "            observer.disconnect();\n",
       "        }}\n",
       "}});\n",
       "\n",
       "// Listen for the removal of the full notebook cells\n",
       "var notebookContainer = gd.closest('#notebook-container');\n",
       "if (notebookContainer) {{\n",
       "    x.observe(notebookContainer, {childList: true});\n",
       "}}\n",
       "\n",
       "// Listen for the clearing of the current output cell\n",
       "var outputEl = gd.closest('.output');\n",
       "if (outputEl) {{\n",
       "    x.observe(outputEl, {childList: true});\n",
       "}}\n",
       "\n",
       "                        })                };                });            </script>        </div>"
      ]
     },
     "metadata": {},
     "output_type": "display_data"
    }
   ],
   "source": [
    "#LINEAR INTERPOLATION\n",
    "new_df = option.df[['moneyness', '_T', 'I_VOL_BS']]\n",
    "new_df = new_df.pivot(index = '_T',columns='moneyness', values='I_VOL_BS')\n",
    "\n",
    "new_df=new_df.interpolate(method='linear',axis=1,limit_direction='both')\n",
    "z = new_df\n",
    "x = list(new_df.columns)\n",
    "y = list(new_df.index)\n",
    "\n",
    "\n",
    "fig = go.Figure(data=[go.Surface(z=z, x=x, y=y)])\n",
    "fig.update_layout(title='Implied Volatility', autosize=False,\n",
    "                  width=500, height=500,\n",
    "                  margin=dict(l=65, r=50, b=65, t=90))\n",
    "fig.update_scenes(xaxis_title_text='S/K', yaxis_title_text='Exp', zaxis_title_text='IV') \n",
    "fig.show()"
   ]
  },
  {
   "cell_type": "code",
   "execution_count": 61,
   "metadata": {},
   "outputs": [
    {
     "data": {
      "application/vnd.plotly.v1+json": {
       "config": {
        "plotlyServerURL": "https://plot.ly"
       },
       "data": [
        {
         "type": "surface",
         "x": [
          0.5074763888888889,
          0.5167147142857142,
          0.5564595384615385,
          0.57084578125,
          0.6029001666666667,
          0.6058914999999999,
          0.6089518333333334,
          0.6524408928571429,
          0.6570727272727273,
          0.6576661818181818,
          0.6610650909090909,
          0.723019,
          0.7234666000000001,
          0.7271096,
          0.730766,
          0.76119625,
          0.7857063043478261,
          0.803118,
          0.8033448888888888,
          0.8033466666666667,
          0.8037797777777776,
          0.8078797777777778,
          0.8216284090909092,
          0.8302822727272727,
          0.86045,
          0.8606992857142858,
          0.8607164285714285,
          0.9035395,
          0.9037577499999999,
          0.9037707500000001,
          0.90436625,
          0.91330975,
          0.9269679487179487,
          0.9271282051282052,
          0.9510836842105264,
          0.9513628947368421,
          0.9513642105263157,
          0.9514842105263158,
          0.9514978947368421,
          0.9770581081081081,
          0.9771224324324324,
          0.9772099999999999
         ],
         "y": [
          0.0008756333470934239,
          0.0036153593744906844,
          0.006355085401887945,
          0.025533167593668766,
          0.04471124978544959,
          0.08306741416901123,
          0.15977974293613453,
          0.2364920717032578
         ],
         "z": [
          [
           1.7877105733858303,
           1.7877105733858303,
           1.7877105733858303,
           1.7877105733858303,
           1.7877105733858303,
           1.7877105733858303,
           1.7877105733858303,
           1.7877105733858303,
           1.7877105733858303,
           1.7877105733858303,
           1.7877105733858303,
           1.7877105733858303,
           1.7877105733858303,
           1.7877105733858303,
           1.7877105733858303,
           1.7877105733858303,
           1.7877105733858303,
           1.7877105733858303,
           1.7877105733858303,
           1.7877105733858303,
           1.7877105733858303,
           1.7877105733858303,
           1.7877105733858303,
           1.7877105733858303,
           1.7877105733858303,
           1.7877105733858303,
           1.7877105733858303,
           1.7877105733858303,
           1.7877105733858303,
           1.7877105733858303,
           1.7877105733858303,
           1.7877105733858303,
           1.7877105733858303,
           1.7877105733858303,
           1.73515383345215,
           1.6825970935184695,
           1.6300403535847892,
           1.577483613651109,
           1.5249268737174286,
           1.4014436210672567,
           1.2779603684170846,
           1.1544771157669127
          ],
          [
           0.7862126008214484,
           0.7862126008214484,
           0.7862126008214484,
           0.7862126008214484,
           0.7862126008214484,
           0.7862126008214484,
           0.7862126008214484,
           0.7862126008214484,
           0.7862126008214484,
           0.7862126008214484,
           0.7862126008214484,
           0.7862126008214484,
           0.7862126008214484,
           0.7862126008214484,
           0.7862126008214484,
           0.7862126008214484,
           0.7862126008214484,
           0.7862126008214484,
           0.7862126008214484,
           0.7862126008214484,
           0.7862126008214484,
           0.7862126008214484,
           0.7862126008214484,
           0.7862126008214484,
           0.7862126008214484,
           0.7862126008214484,
           0.7862126008214484,
           0.7862126008214484,
           0.7862126008214484,
           0.7862126008214484,
           0.7862126008214484,
           0.7862126008214484,
           0.7862126008214484,
           0.7862126008214484,
           0.7862126008214484,
           0.7862126008214484,
           0.7862126008214484,
           0.7862126008214484,
           0.726987017960374,
           0.6677614350992997,
           0.6085358522382254,
           0.6085358522382254
          ],
          [
           1.0608246753989796,
           1.0608246753989796,
           1.0608246753989796,
           1.0608246753989796,
           1.0608246753989796,
           1.0608246753989796,
           1.0608246753989796,
           1.0608246753989796,
           1.0608246753989796,
           1.0608246753989796,
           1.0608246753989796,
           1.0608246753989796,
           1.0608246753989796,
           1.0608246753989796,
           1.0608246753989796,
           1.0608246753989796,
           1.0608246753989796,
           1.0608246753989796,
           1.0608246753989796,
           1.0538629772289276,
           1.0469012790588756,
           1.0399395808888239,
           1.032977882718772,
           1.0094489450172763,
           0.9859200073157807,
           0.962391069614285,
           0.9388621319127894,
           0.8728066905927983,
           0.806751249272807,
           0.7845066295935983,
           0.7622620099143897,
           0.7400173902351812,
           0.7177727705559726,
           0.6920927548309411,
           0.6664127391059098,
           0.6407327233808784,
           0.615052707655847,
           0.5617124336017117,
           0.5083721595475766,
           0.4550318854934414,
           0.4550318854934414,
           0.4550318854934414
          ],
          [
           0.7264619437594745,
           0.7264619437594745,
           0.7264619437594745,
           0.7264619437594745,
           0.7264619437594745,
           0.7264619437594745,
           0.7264619437594745,
           0.7264619437594745,
           0.7264619437594745,
           0.7100165541705579,
           0.6935711645816411,
           0.6771257749927245,
           0.6606803854038079,
           0.6442349958148913,
           0.6277896062259747,
           0.611344216637058,
           0.5948988270481413,
           0.572717925302014,
           0.5626101667549119,
           0.5525024082078099,
           0.5423946496607078,
           0.5322868911136058,
           0.5221791325665037,
           0.5120713740194016,
           0.5019636154722996,
           0.47846571055776344,
           0.45496780564322725,
           0.43146990072869107,
           0.4160436753902678,
           0.4006174500518445,
           0.38519122471342127,
           0.36976499937499796,
           0.3543387740365747,
           0.33891254869815146,
           0.32348632335972816,
           0.32348632335972816,
           0.32348632335972816,
           0.32348632335972816,
           0.32348632335972816,
           0.32348632335972816,
           0.32348632335972816,
           0.32348632335972816
          ],
          [
           0.51966249983689,
           0.51966249983689,
           0.51966249983689,
           0.51966249983689,
           0.51966249983689,
           0.51966249983689,
           0.51966249983689,
           0.51966249983689,
           0.51966249983689,
           0.51966249983689,
           0.51966249983689,
           0.51966249983689,
           0.5110840677752178,
           0.5025056357135456,
           0.49392720365187337,
           0.4853487715902012,
           0.47677033952852893,
           0.46819190746685674,
           0.45961347540518455,
           0.45103504334351235,
           0.44102761817119474,
           0.43102019299887717,
           0.42101276782655955,
           0.41100534265424193,
           0.40099791748192437,
           0.39099049230960675,
           0.37685758140106396,
           0.3627246704925211,
           0.34859175958397826,
           0.33445884867543546,
           0.3203433850778703,
           0.3062279214803051,
           0.29211245788273993,
           0.27799699428517477,
           0.26388153068760956,
           0.2497660670900444,
           0.2497660670900444,
           0.2497660670900444,
           0.2497660670900444,
           0.2497660670900444,
           0.2497660670900444,
           0.2497660670900444
          ],
          [
           0.5150894381552532,
           0.5150894381552532,
           0.49471050001864053,
           0.484677554613731,
           0.4746446092088215,
           0.46760903661628195,
           0.4605734640237424,
           0.45353789143120277,
           0.4465023188386632,
           0.43946674624612364,
           0.42626970859323826,
           0.41307267094035294,
           0.39987563328746756,
           0.3936714162387788,
           0.3874671991900901,
           0.3812629821414013,
           0.3750587650927126,
           0.36885454804402384,
           0.36265033099533506,
           0.3564461139466463,
           0.3502418968979576,
           0.3408259697774739,
           0.3314100426569903,
           0.3219941155365067,
           0.31257818841602303,
           0.30316226129553936,
           0.29374633417505575,
           0.28433040705457213,
           0.27491447993408846,
           0.2654985528136048,
           0.2560826256931212,
           0.2560826256931212,
           0.2560826256931212,
           0.2560826256931212,
           0.2560826256931212,
           0.2560826256931212,
           0.2560826256931212,
           0.2560826256931212,
           0.2560826256931212,
           0.2560826256931212,
           0.2560826256931212,
           0.2560826256931212
          ],
          [
           0.3526258983053842,
           0.3526258983053842,
           0.3526258983053842,
           0.3526258983053842,
           0.3526258983053842,
           0.3526258983053842,
           0.3481398758407411,
           0.34365385337609794,
           0.33916783091145475,
           0.3346818084468116,
           0.3301957859821685,
           0.31931305936312904,
           0.30843033274408954,
           0.2975476061250501,
           0.2920846429528574,
           0.2866216797806647,
           0.281158716608472,
           0.2756957534362794,
           0.2702327902640867,
           0.264769827091894,
           0.2593068639197013,
           0.2538439007475086,
           0.2538439007475086,
           0.2538439007475086,
           0.2538439007475086,
           0.2538439007475086,
           0.2538439007475086,
           0.2538439007475086,
           0.2538439007475086,
           0.2538439007475086,
           0.2538439007475086,
           0.2538439007475086,
           0.2538439007475086,
           0.2538439007475086,
           0.2538439007475086,
           0.2538439007475086,
           0.2538439007475086,
           0.2538439007475086,
           0.2538439007475086,
           0.2538439007475086,
           0.2538439007475086,
           0.2538439007475086
          ],
          [
           0.33616087078132545,
           0.3292271164563373,
           0.32229336213134907,
           0.3153596078063609,
           0.3111206907293034,
           0.30688177365224584,
           0.3026428565751883,
           0.28458813470800765,
           0.2795242207627756,
           0.27446030681754363,
           0.26939639287231165,
           0.2643324789270796,
           0.2592685649818476,
           0.2542046510366156,
           0.2491407370913836,
           0.2359249334665269,
           0.23143681723942233,
           0.2269487010123178,
           0.22246058478521322,
           0.21797246855810865,
           0.21348435233100407,
           0.2089962361038995,
           0.20450811987679496,
           0.2000200036496904,
           0.1936706739430189,
           0.18732134423634741,
           0.18097201452967593,
           0.17462268482300444,
           0.16827335511633296,
           0.16192402540966147,
           0.15557469570298998,
           0.1492253659963185,
           0.1492253659963185,
           0.1492253659963185,
           0.1492253659963185,
           0.1492253659963185,
           0.1492253659963185,
           0.1492253659963185,
           0.1492253659963185,
           0.1492253659963185,
           0.1492253659963185,
           0.1492253659963185
          ]
         ]
        }
       ],
       "layout": {
        "autosize": false,
        "height": 500,
        "margin": {
         "b": 65,
         "l": 65,
         "r": 50,
         "t": 90
        },
        "scene": {
         "xaxis": {
          "title": {
           "text": "S/K"
          }
         },
         "yaxis": {
          "title": {
           "text": "Exp"
          }
         },
         "zaxis": {
          "title": {
           "text": "Local Vol"
          }
         }
        },
        "template": {
         "data": {
          "bar": [
           {
            "error_x": {
             "color": "#2a3f5f"
            },
            "error_y": {
             "color": "#2a3f5f"
            },
            "marker": {
             "line": {
              "color": "#E5ECF6",
              "width": 0.5
             },
             "pattern": {
              "fillmode": "overlay",
              "size": 10,
              "solidity": 0.2
             }
            },
            "type": "bar"
           }
          ],
          "barpolar": [
           {
            "marker": {
             "line": {
              "color": "#E5ECF6",
              "width": 0.5
             },
             "pattern": {
              "fillmode": "overlay",
              "size": 10,
              "solidity": 0.2
             }
            },
            "type": "barpolar"
           }
          ],
          "carpet": [
           {
            "aaxis": {
             "endlinecolor": "#2a3f5f",
             "gridcolor": "white",
             "linecolor": "white",
             "minorgridcolor": "white",
             "startlinecolor": "#2a3f5f"
            },
            "baxis": {
             "endlinecolor": "#2a3f5f",
             "gridcolor": "white",
             "linecolor": "white",
             "minorgridcolor": "white",
             "startlinecolor": "#2a3f5f"
            },
            "type": "carpet"
           }
          ],
          "choropleth": [
           {
            "colorbar": {
             "outlinewidth": 0,
             "ticks": ""
            },
            "type": "choropleth"
           }
          ],
          "contour": [
           {
            "colorbar": {
             "outlinewidth": 0,
             "ticks": ""
            },
            "colorscale": [
             [
              0,
              "#0d0887"
             ],
             [
              0.1111111111111111,
              "#46039f"
             ],
             [
              0.2222222222222222,
              "#7201a8"
             ],
             [
              0.3333333333333333,
              "#9c179e"
             ],
             [
              0.4444444444444444,
              "#bd3786"
             ],
             [
              0.5555555555555556,
              "#d8576b"
             ],
             [
              0.6666666666666666,
              "#ed7953"
             ],
             [
              0.7777777777777778,
              "#fb9f3a"
             ],
             [
              0.8888888888888888,
              "#fdca26"
             ],
             [
              1,
              "#f0f921"
             ]
            ],
            "type": "contour"
           }
          ],
          "contourcarpet": [
           {
            "colorbar": {
             "outlinewidth": 0,
             "ticks": ""
            },
            "type": "contourcarpet"
           }
          ],
          "heatmap": [
           {
            "colorbar": {
             "outlinewidth": 0,
             "ticks": ""
            },
            "colorscale": [
             [
              0,
              "#0d0887"
             ],
             [
              0.1111111111111111,
              "#46039f"
             ],
             [
              0.2222222222222222,
              "#7201a8"
             ],
             [
              0.3333333333333333,
              "#9c179e"
             ],
             [
              0.4444444444444444,
              "#bd3786"
             ],
             [
              0.5555555555555556,
              "#d8576b"
             ],
             [
              0.6666666666666666,
              "#ed7953"
             ],
             [
              0.7777777777777778,
              "#fb9f3a"
             ],
             [
              0.8888888888888888,
              "#fdca26"
             ],
             [
              1,
              "#f0f921"
             ]
            ],
            "type": "heatmap"
           }
          ],
          "heatmapgl": [
           {
            "colorbar": {
             "outlinewidth": 0,
             "ticks": ""
            },
            "colorscale": [
             [
              0,
              "#0d0887"
             ],
             [
              0.1111111111111111,
              "#46039f"
             ],
             [
              0.2222222222222222,
              "#7201a8"
             ],
             [
              0.3333333333333333,
              "#9c179e"
             ],
             [
              0.4444444444444444,
              "#bd3786"
             ],
             [
              0.5555555555555556,
              "#d8576b"
             ],
             [
              0.6666666666666666,
              "#ed7953"
             ],
             [
              0.7777777777777778,
              "#fb9f3a"
             ],
             [
              0.8888888888888888,
              "#fdca26"
             ],
             [
              1,
              "#f0f921"
             ]
            ],
            "type": "heatmapgl"
           }
          ],
          "histogram": [
           {
            "marker": {
             "pattern": {
              "fillmode": "overlay",
              "size": 10,
              "solidity": 0.2
             }
            },
            "type": "histogram"
           }
          ],
          "histogram2d": [
           {
            "colorbar": {
             "outlinewidth": 0,
             "ticks": ""
            },
            "colorscale": [
             [
              0,
              "#0d0887"
             ],
             [
              0.1111111111111111,
              "#46039f"
             ],
             [
              0.2222222222222222,
              "#7201a8"
             ],
             [
              0.3333333333333333,
              "#9c179e"
             ],
             [
              0.4444444444444444,
              "#bd3786"
             ],
             [
              0.5555555555555556,
              "#d8576b"
             ],
             [
              0.6666666666666666,
              "#ed7953"
             ],
             [
              0.7777777777777778,
              "#fb9f3a"
             ],
             [
              0.8888888888888888,
              "#fdca26"
             ],
             [
              1,
              "#f0f921"
             ]
            ],
            "type": "histogram2d"
           }
          ],
          "histogram2dcontour": [
           {
            "colorbar": {
             "outlinewidth": 0,
             "ticks": ""
            },
            "colorscale": [
             [
              0,
              "#0d0887"
             ],
             [
              0.1111111111111111,
              "#46039f"
             ],
             [
              0.2222222222222222,
              "#7201a8"
             ],
             [
              0.3333333333333333,
              "#9c179e"
             ],
             [
              0.4444444444444444,
              "#bd3786"
             ],
             [
              0.5555555555555556,
              "#d8576b"
             ],
             [
              0.6666666666666666,
              "#ed7953"
             ],
             [
              0.7777777777777778,
              "#fb9f3a"
             ],
             [
              0.8888888888888888,
              "#fdca26"
             ],
             [
              1,
              "#f0f921"
             ]
            ],
            "type": "histogram2dcontour"
           }
          ],
          "mesh3d": [
           {
            "colorbar": {
             "outlinewidth": 0,
             "ticks": ""
            },
            "type": "mesh3d"
           }
          ],
          "parcoords": [
           {
            "line": {
             "colorbar": {
              "outlinewidth": 0,
              "ticks": ""
             }
            },
            "type": "parcoords"
           }
          ],
          "pie": [
           {
            "automargin": true,
            "type": "pie"
           }
          ],
          "scatter": [
           {
            "marker": {
             "colorbar": {
              "outlinewidth": 0,
              "ticks": ""
             }
            },
            "type": "scatter"
           }
          ],
          "scatter3d": [
           {
            "line": {
             "colorbar": {
              "outlinewidth": 0,
              "ticks": ""
             }
            },
            "marker": {
             "colorbar": {
              "outlinewidth": 0,
              "ticks": ""
             }
            },
            "type": "scatter3d"
           }
          ],
          "scattercarpet": [
           {
            "marker": {
             "colorbar": {
              "outlinewidth": 0,
              "ticks": ""
             }
            },
            "type": "scattercarpet"
           }
          ],
          "scattergeo": [
           {
            "marker": {
             "colorbar": {
              "outlinewidth": 0,
              "ticks": ""
             }
            },
            "type": "scattergeo"
           }
          ],
          "scattergl": [
           {
            "marker": {
             "colorbar": {
              "outlinewidth": 0,
              "ticks": ""
             }
            },
            "type": "scattergl"
           }
          ],
          "scattermapbox": [
           {
            "marker": {
             "colorbar": {
              "outlinewidth": 0,
              "ticks": ""
             }
            },
            "type": "scattermapbox"
           }
          ],
          "scatterpolar": [
           {
            "marker": {
             "colorbar": {
              "outlinewidth": 0,
              "ticks": ""
             }
            },
            "type": "scatterpolar"
           }
          ],
          "scatterpolargl": [
           {
            "marker": {
             "colorbar": {
              "outlinewidth": 0,
              "ticks": ""
             }
            },
            "type": "scatterpolargl"
           }
          ],
          "scatterternary": [
           {
            "marker": {
             "colorbar": {
              "outlinewidth": 0,
              "ticks": ""
             }
            },
            "type": "scatterternary"
           }
          ],
          "surface": [
           {
            "colorbar": {
             "outlinewidth": 0,
             "ticks": ""
            },
            "colorscale": [
             [
              0,
              "#0d0887"
             ],
             [
              0.1111111111111111,
              "#46039f"
             ],
             [
              0.2222222222222222,
              "#7201a8"
             ],
             [
              0.3333333333333333,
              "#9c179e"
             ],
             [
              0.4444444444444444,
              "#bd3786"
             ],
             [
              0.5555555555555556,
              "#d8576b"
             ],
             [
              0.6666666666666666,
              "#ed7953"
             ],
             [
              0.7777777777777778,
              "#fb9f3a"
             ],
             [
              0.8888888888888888,
              "#fdca26"
             ],
             [
              1,
              "#f0f921"
             ]
            ],
            "type": "surface"
           }
          ],
          "table": [
           {
            "cells": {
             "fill": {
              "color": "#EBF0F8"
             },
             "line": {
              "color": "white"
             }
            },
            "header": {
             "fill": {
              "color": "#C8D4E3"
             },
             "line": {
              "color": "white"
             }
            },
            "type": "table"
           }
          ]
         },
         "layout": {
          "annotationdefaults": {
           "arrowcolor": "#2a3f5f",
           "arrowhead": 0,
           "arrowwidth": 1
          },
          "autotypenumbers": "strict",
          "coloraxis": {
           "colorbar": {
            "outlinewidth": 0,
            "ticks": ""
           }
          },
          "colorscale": {
           "diverging": [
            [
             0,
             "#8e0152"
            ],
            [
             0.1,
             "#c51b7d"
            ],
            [
             0.2,
             "#de77ae"
            ],
            [
             0.3,
             "#f1b6da"
            ],
            [
             0.4,
             "#fde0ef"
            ],
            [
             0.5,
             "#f7f7f7"
            ],
            [
             0.6,
             "#e6f5d0"
            ],
            [
             0.7,
             "#b8e186"
            ],
            [
             0.8,
             "#7fbc41"
            ],
            [
             0.9,
             "#4d9221"
            ],
            [
             1,
             "#276419"
            ]
           ],
           "sequential": [
            [
             0,
             "#0d0887"
            ],
            [
             0.1111111111111111,
             "#46039f"
            ],
            [
             0.2222222222222222,
             "#7201a8"
            ],
            [
             0.3333333333333333,
             "#9c179e"
            ],
            [
             0.4444444444444444,
             "#bd3786"
            ],
            [
             0.5555555555555556,
             "#d8576b"
            ],
            [
             0.6666666666666666,
             "#ed7953"
            ],
            [
             0.7777777777777778,
             "#fb9f3a"
            ],
            [
             0.8888888888888888,
             "#fdca26"
            ],
            [
             1,
             "#f0f921"
            ]
           ],
           "sequentialminus": [
            [
             0,
             "#0d0887"
            ],
            [
             0.1111111111111111,
             "#46039f"
            ],
            [
             0.2222222222222222,
             "#7201a8"
            ],
            [
             0.3333333333333333,
             "#9c179e"
            ],
            [
             0.4444444444444444,
             "#bd3786"
            ],
            [
             0.5555555555555556,
             "#d8576b"
            ],
            [
             0.6666666666666666,
             "#ed7953"
            ],
            [
             0.7777777777777778,
             "#fb9f3a"
            ],
            [
             0.8888888888888888,
             "#fdca26"
            ],
            [
             1,
             "#f0f921"
            ]
           ]
          },
          "colorway": [
           "#636efa",
           "#EF553B",
           "#00cc96",
           "#ab63fa",
           "#FFA15A",
           "#19d3f3",
           "#FF6692",
           "#B6E880",
           "#FF97FF",
           "#FECB52"
          ],
          "font": {
           "color": "#2a3f5f"
          },
          "geo": {
           "bgcolor": "white",
           "lakecolor": "white",
           "landcolor": "#E5ECF6",
           "showlakes": true,
           "showland": true,
           "subunitcolor": "white"
          },
          "hoverlabel": {
           "align": "left"
          },
          "hovermode": "closest",
          "mapbox": {
           "style": "light"
          },
          "paper_bgcolor": "white",
          "plot_bgcolor": "#E5ECF6",
          "polar": {
           "angularaxis": {
            "gridcolor": "white",
            "linecolor": "white",
            "ticks": ""
           },
           "bgcolor": "#E5ECF6",
           "radialaxis": {
            "gridcolor": "white",
            "linecolor": "white",
            "ticks": ""
           }
          },
          "scene": {
           "xaxis": {
            "backgroundcolor": "#E5ECF6",
            "gridcolor": "white",
            "gridwidth": 2,
            "linecolor": "white",
            "showbackground": true,
            "ticks": "",
            "zerolinecolor": "white"
           },
           "yaxis": {
            "backgroundcolor": "#E5ECF6",
            "gridcolor": "white",
            "gridwidth": 2,
            "linecolor": "white",
            "showbackground": true,
            "ticks": "",
            "zerolinecolor": "white"
           },
           "zaxis": {
            "backgroundcolor": "#E5ECF6",
            "gridcolor": "white",
            "gridwidth": 2,
            "linecolor": "white",
            "showbackground": true,
            "ticks": "",
            "zerolinecolor": "white"
           }
          },
          "shapedefaults": {
           "line": {
            "color": "#2a3f5f"
           }
          },
          "ternary": {
           "aaxis": {
            "gridcolor": "white",
            "linecolor": "white",
            "ticks": ""
           },
           "baxis": {
            "gridcolor": "white",
            "linecolor": "white",
            "ticks": ""
           },
           "bgcolor": "#E5ECF6",
           "caxis": {
            "gridcolor": "white",
            "linecolor": "white",
            "ticks": ""
           }
          },
          "title": {
           "x": 0.05
          },
          "xaxis": {
           "automargin": true,
           "gridcolor": "white",
           "linecolor": "white",
           "ticks": "",
           "title": {
            "standoff": 15
           },
           "zerolinecolor": "white",
           "zerolinewidth": 2
          },
          "yaxis": {
           "automargin": true,
           "gridcolor": "white",
           "linecolor": "white",
           "ticks": "",
           "title": {
            "standoff": 15
           },
           "zerolinecolor": "white",
           "zerolinewidth": 2
          }
         }
        },
        "title": {
         "text": "Local Volatility"
        },
        "width": 500
       }
      },
      "text/html": [
       "<div>                            <div id=\"ffee3569-3bd7-484b-833c-24e28f7940fa\" class=\"plotly-graph-div\" style=\"height:500px; width:500px;\"></div>            <script type=\"text/javascript\">                require([\"plotly\"], function(Plotly) {                    window.PLOTLYENV=window.PLOTLYENV || {};                                    if (document.getElementById(\"ffee3569-3bd7-484b-833c-24e28f7940fa\")) {                    Plotly.newPlot(                        \"ffee3569-3bd7-484b-833c-24e28f7940fa\",                        [{\"type\":\"surface\",\"x\":[0.5074763888888889,0.5167147142857142,0.5564595384615385,0.57084578125,0.6029001666666667,0.6058914999999999,0.6089518333333334,0.6524408928571429,0.6570727272727273,0.6576661818181818,0.6610650909090909,0.723019,0.7234666000000001,0.7271096,0.730766,0.76119625,0.7857063043478261,0.803118,0.8033448888888888,0.8033466666666667,0.8037797777777776,0.8078797777777778,0.8216284090909092,0.8302822727272727,0.86045,0.8606992857142858,0.8607164285714285,0.9035395,0.9037577499999999,0.9037707500000001,0.90436625,0.91330975,0.9269679487179487,0.9271282051282052,0.9510836842105264,0.9513628947368421,0.9513642105263157,0.9514842105263158,0.9514978947368421,0.9770581081081081,0.9771224324324324,0.9772099999999999],\"y\":[0.0008756333470934239,0.0036153593744906844,0.006355085401887945,0.025533167593668766,0.04471124978544959,0.08306741416901123,0.15977974293613453,0.2364920717032578],\"z\":[[1.7877105733858303,1.7877105733858303,1.7877105733858303,1.7877105733858303,1.7877105733858303,1.7877105733858303,1.7877105733858303,1.7877105733858303,1.7877105733858303,1.7877105733858303,1.7877105733858303,1.7877105733858303,1.7877105733858303,1.7877105733858303,1.7877105733858303,1.7877105733858303,1.7877105733858303,1.7877105733858303,1.7877105733858303,1.7877105733858303,1.7877105733858303,1.7877105733858303,1.7877105733858303,1.7877105733858303,1.7877105733858303,1.7877105733858303,1.7877105733858303,1.7877105733858303,1.7877105733858303,1.7877105733858303,1.7877105733858303,1.7877105733858303,1.7877105733858303,1.7877105733858303,1.73515383345215,1.6825970935184695,1.6300403535847892,1.577483613651109,1.5249268737174286,1.4014436210672567,1.2779603684170846,1.1544771157669127],[0.7862126008214484,0.7862126008214484,0.7862126008214484,0.7862126008214484,0.7862126008214484,0.7862126008214484,0.7862126008214484,0.7862126008214484,0.7862126008214484,0.7862126008214484,0.7862126008214484,0.7862126008214484,0.7862126008214484,0.7862126008214484,0.7862126008214484,0.7862126008214484,0.7862126008214484,0.7862126008214484,0.7862126008214484,0.7862126008214484,0.7862126008214484,0.7862126008214484,0.7862126008214484,0.7862126008214484,0.7862126008214484,0.7862126008214484,0.7862126008214484,0.7862126008214484,0.7862126008214484,0.7862126008214484,0.7862126008214484,0.7862126008214484,0.7862126008214484,0.7862126008214484,0.7862126008214484,0.7862126008214484,0.7862126008214484,0.7862126008214484,0.726987017960374,0.6677614350992997,0.6085358522382254,0.6085358522382254],[1.0608246753989796,1.0608246753989796,1.0608246753989796,1.0608246753989796,1.0608246753989796,1.0608246753989796,1.0608246753989796,1.0608246753989796,1.0608246753989796,1.0608246753989796,1.0608246753989796,1.0608246753989796,1.0608246753989796,1.0608246753989796,1.0608246753989796,1.0608246753989796,1.0608246753989796,1.0608246753989796,1.0608246753989796,1.0538629772289276,1.0469012790588756,1.0399395808888239,1.032977882718772,1.0094489450172763,0.9859200073157807,0.962391069614285,0.9388621319127894,0.8728066905927983,0.806751249272807,0.7845066295935983,0.7622620099143897,0.7400173902351812,0.7177727705559726,0.6920927548309411,0.6664127391059098,0.6407327233808784,0.615052707655847,0.5617124336017117,0.5083721595475766,0.4550318854934414,0.4550318854934414,0.4550318854934414],[0.7264619437594745,0.7264619437594745,0.7264619437594745,0.7264619437594745,0.7264619437594745,0.7264619437594745,0.7264619437594745,0.7264619437594745,0.7264619437594745,0.7100165541705579,0.6935711645816411,0.6771257749927245,0.6606803854038079,0.6442349958148913,0.6277896062259747,0.611344216637058,0.5948988270481413,0.572717925302014,0.5626101667549119,0.5525024082078099,0.5423946496607078,0.5322868911136058,0.5221791325665037,0.5120713740194016,0.5019636154722996,0.47846571055776344,0.45496780564322725,0.43146990072869107,0.4160436753902678,0.4006174500518445,0.38519122471342127,0.36976499937499796,0.3543387740365747,0.33891254869815146,0.32348632335972816,0.32348632335972816,0.32348632335972816,0.32348632335972816,0.32348632335972816,0.32348632335972816,0.32348632335972816,0.32348632335972816],[0.51966249983689,0.51966249983689,0.51966249983689,0.51966249983689,0.51966249983689,0.51966249983689,0.51966249983689,0.51966249983689,0.51966249983689,0.51966249983689,0.51966249983689,0.51966249983689,0.5110840677752178,0.5025056357135456,0.49392720365187337,0.4853487715902012,0.47677033952852893,0.46819190746685674,0.45961347540518455,0.45103504334351235,0.44102761817119474,0.43102019299887717,0.42101276782655955,0.41100534265424193,0.40099791748192437,0.39099049230960675,0.37685758140106396,0.3627246704925211,0.34859175958397826,0.33445884867543546,0.3203433850778703,0.3062279214803051,0.29211245788273993,0.27799699428517477,0.26388153068760956,0.2497660670900444,0.2497660670900444,0.2497660670900444,0.2497660670900444,0.2497660670900444,0.2497660670900444,0.2497660670900444],[0.5150894381552532,0.5150894381552532,0.49471050001864053,0.484677554613731,0.4746446092088215,0.46760903661628195,0.4605734640237424,0.45353789143120277,0.4465023188386632,0.43946674624612364,0.42626970859323826,0.41307267094035294,0.39987563328746756,0.3936714162387788,0.3874671991900901,0.3812629821414013,0.3750587650927126,0.36885454804402384,0.36265033099533506,0.3564461139466463,0.3502418968979576,0.3408259697774739,0.3314100426569903,0.3219941155365067,0.31257818841602303,0.30316226129553936,0.29374633417505575,0.28433040705457213,0.27491447993408846,0.2654985528136048,0.2560826256931212,0.2560826256931212,0.2560826256931212,0.2560826256931212,0.2560826256931212,0.2560826256931212,0.2560826256931212,0.2560826256931212,0.2560826256931212,0.2560826256931212,0.2560826256931212,0.2560826256931212],[0.3526258983053842,0.3526258983053842,0.3526258983053842,0.3526258983053842,0.3526258983053842,0.3526258983053842,0.3481398758407411,0.34365385337609794,0.33916783091145475,0.3346818084468116,0.3301957859821685,0.31931305936312904,0.30843033274408954,0.2975476061250501,0.2920846429528574,0.2866216797806647,0.281158716608472,0.2756957534362794,0.2702327902640867,0.264769827091894,0.2593068639197013,0.2538439007475086,0.2538439007475086,0.2538439007475086,0.2538439007475086,0.2538439007475086,0.2538439007475086,0.2538439007475086,0.2538439007475086,0.2538439007475086,0.2538439007475086,0.2538439007475086,0.2538439007475086,0.2538439007475086,0.2538439007475086,0.2538439007475086,0.2538439007475086,0.2538439007475086,0.2538439007475086,0.2538439007475086,0.2538439007475086,0.2538439007475086],[0.33616087078132545,0.3292271164563373,0.32229336213134907,0.3153596078063609,0.3111206907293034,0.30688177365224584,0.3026428565751883,0.28458813470800765,0.2795242207627756,0.27446030681754363,0.26939639287231165,0.2643324789270796,0.2592685649818476,0.2542046510366156,0.2491407370913836,0.2359249334665269,0.23143681723942233,0.2269487010123178,0.22246058478521322,0.21797246855810865,0.21348435233100407,0.2089962361038995,0.20450811987679496,0.2000200036496904,0.1936706739430189,0.18732134423634741,0.18097201452967593,0.17462268482300444,0.16827335511633296,0.16192402540966147,0.15557469570298998,0.1492253659963185,0.1492253659963185,0.1492253659963185,0.1492253659963185,0.1492253659963185,0.1492253659963185,0.1492253659963185,0.1492253659963185,0.1492253659963185,0.1492253659963185,0.1492253659963185]]}],                        {\"autosize\":false,\"height\":500,\"margin\":{\"b\":65,\"l\":65,\"r\":50,\"t\":90},\"scene\":{\"xaxis\":{\"title\":{\"text\":\"S/K\"}},\"yaxis\":{\"title\":{\"text\":\"Exp\"}},\"zaxis\":{\"title\":{\"text\":\"Local Vol\"}}},\"template\":{\"data\":{\"bar\":[{\"error_x\":{\"color\":\"#2a3f5f\"},\"error_y\":{\"color\":\"#2a3f5f\"},\"marker\":{\"line\":{\"color\":\"#E5ECF6\",\"width\":0.5},\"pattern\":{\"fillmode\":\"overlay\",\"size\":10,\"solidity\":0.2}},\"type\":\"bar\"}],\"barpolar\":[{\"marker\":{\"line\":{\"color\":\"#E5ECF6\",\"width\":0.5},\"pattern\":{\"fillmode\":\"overlay\",\"size\":10,\"solidity\":0.2}},\"type\":\"barpolar\"}],\"carpet\":[{\"aaxis\":{\"endlinecolor\":\"#2a3f5f\",\"gridcolor\":\"white\",\"linecolor\":\"white\",\"minorgridcolor\":\"white\",\"startlinecolor\":\"#2a3f5f\"},\"baxis\":{\"endlinecolor\":\"#2a3f5f\",\"gridcolor\":\"white\",\"linecolor\":\"white\",\"minorgridcolor\":\"white\",\"startlinecolor\":\"#2a3f5f\"},\"type\":\"carpet\"}],\"choropleth\":[{\"colorbar\":{\"outlinewidth\":0,\"ticks\":\"\"},\"type\":\"choropleth\"}],\"contour\":[{\"colorbar\":{\"outlinewidth\":0,\"ticks\":\"\"},\"colorscale\":[[0.0,\"#0d0887\"],[0.1111111111111111,\"#46039f\"],[0.2222222222222222,\"#7201a8\"],[0.3333333333333333,\"#9c179e\"],[0.4444444444444444,\"#bd3786\"],[0.5555555555555556,\"#d8576b\"],[0.6666666666666666,\"#ed7953\"],[0.7777777777777778,\"#fb9f3a\"],[0.8888888888888888,\"#fdca26\"],[1.0,\"#f0f921\"]],\"type\":\"contour\"}],\"contourcarpet\":[{\"colorbar\":{\"outlinewidth\":0,\"ticks\":\"\"},\"type\":\"contourcarpet\"}],\"heatmap\":[{\"colorbar\":{\"outlinewidth\":0,\"ticks\":\"\"},\"colorscale\":[[0.0,\"#0d0887\"],[0.1111111111111111,\"#46039f\"],[0.2222222222222222,\"#7201a8\"],[0.3333333333333333,\"#9c179e\"],[0.4444444444444444,\"#bd3786\"],[0.5555555555555556,\"#d8576b\"],[0.6666666666666666,\"#ed7953\"],[0.7777777777777778,\"#fb9f3a\"],[0.8888888888888888,\"#fdca26\"],[1.0,\"#f0f921\"]],\"type\":\"heatmap\"}],\"heatmapgl\":[{\"colorbar\":{\"outlinewidth\":0,\"ticks\":\"\"},\"colorscale\":[[0.0,\"#0d0887\"],[0.1111111111111111,\"#46039f\"],[0.2222222222222222,\"#7201a8\"],[0.3333333333333333,\"#9c179e\"],[0.4444444444444444,\"#bd3786\"],[0.5555555555555556,\"#d8576b\"],[0.6666666666666666,\"#ed7953\"],[0.7777777777777778,\"#fb9f3a\"],[0.8888888888888888,\"#fdca26\"],[1.0,\"#f0f921\"]],\"type\":\"heatmapgl\"}],\"histogram\":[{\"marker\":{\"pattern\":{\"fillmode\":\"overlay\",\"size\":10,\"solidity\":0.2}},\"type\":\"histogram\"}],\"histogram2d\":[{\"colorbar\":{\"outlinewidth\":0,\"ticks\":\"\"},\"colorscale\":[[0.0,\"#0d0887\"],[0.1111111111111111,\"#46039f\"],[0.2222222222222222,\"#7201a8\"],[0.3333333333333333,\"#9c179e\"],[0.4444444444444444,\"#bd3786\"],[0.5555555555555556,\"#d8576b\"],[0.6666666666666666,\"#ed7953\"],[0.7777777777777778,\"#fb9f3a\"],[0.8888888888888888,\"#fdca26\"],[1.0,\"#f0f921\"]],\"type\":\"histogram2d\"}],\"histogram2dcontour\":[{\"colorbar\":{\"outlinewidth\":0,\"ticks\":\"\"},\"colorscale\":[[0.0,\"#0d0887\"],[0.1111111111111111,\"#46039f\"],[0.2222222222222222,\"#7201a8\"],[0.3333333333333333,\"#9c179e\"],[0.4444444444444444,\"#bd3786\"],[0.5555555555555556,\"#d8576b\"],[0.6666666666666666,\"#ed7953\"],[0.7777777777777778,\"#fb9f3a\"],[0.8888888888888888,\"#fdca26\"],[1.0,\"#f0f921\"]],\"type\":\"histogram2dcontour\"}],\"mesh3d\":[{\"colorbar\":{\"outlinewidth\":0,\"ticks\":\"\"},\"type\":\"mesh3d\"}],\"parcoords\":[{\"line\":{\"colorbar\":{\"outlinewidth\":0,\"ticks\":\"\"}},\"type\":\"parcoords\"}],\"pie\":[{\"automargin\":true,\"type\":\"pie\"}],\"scatter\":[{\"marker\":{\"colorbar\":{\"outlinewidth\":0,\"ticks\":\"\"}},\"type\":\"scatter\"}],\"scatter3d\":[{\"line\":{\"colorbar\":{\"outlinewidth\":0,\"ticks\":\"\"}},\"marker\":{\"colorbar\":{\"outlinewidth\":0,\"ticks\":\"\"}},\"type\":\"scatter3d\"}],\"scattercarpet\":[{\"marker\":{\"colorbar\":{\"outlinewidth\":0,\"ticks\":\"\"}},\"type\":\"scattercarpet\"}],\"scattergeo\":[{\"marker\":{\"colorbar\":{\"outlinewidth\":0,\"ticks\":\"\"}},\"type\":\"scattergeo\"}],\"scattergl\":[{\"marker\":{\"colorbar\":{\"outlinewidth\":0,\"ticks\":\"\"}},\"type\":\"scattergl\"}],\"scattermapbox\":[{\"marker\":{\"colorbar\":{\"outlinewidth\":0,\"ticks\":\"\"}},\"type\":\"scattermapbox\"}],\"scatterpolar\":[{\"marker\":{\"colorbar\":{\"outlinewidth\":0,\"ticks\":\"\"}},\"type\":\"scatterpolar\"}],\"scatterpolargl\":[{\"marker\":{\"colorbar\":{\"outlinewidth\":0,\"ticks\":\"\"}},\"type\":\"scatterpolargl\"}],\"scatterternary\":[{\"marker\":{\"colorbar\":{\"outlinewidth\":0,\"ticks\":\"\"}},\"type\":\"scatterternary\"}],\"surface\":[{\"colorbar\":{\"outlinewidth\":0,\"ticks\":\"\"},\"colorscale\":[[0.0,\"#0d0887\"],[0.1111111111111111,\"#46039f\"],[0.2222222222222222,\"#7201a8\"],[0.3333333333333333,\"#9c179e\"],[0.4444444444444444,\"#bd3786\"],[0.5555555555555556,\"#d8576b\"],[0.6666666666666666,\"#ed7953\"],[0.7777777777777778,\"#fb9f3a\"],[0.8888888888888888,\"#fdca26\"],[1.0,\"#f0f921\"]],\"type\":\"surface\"}],\"table\":[{\"cells\":{\"fill\":{\"color\":\"#EBF0F8\"},\"line\":{\"color\":\"white\"}},\"header\":{\"fill\":{\"color\":\"#C8D4E3\"},\"line\":{\"color\":\"white\"}},\"type\":\"table\"}]},\"layout\":{\"annotationdefaults\":{\"arrowcolor\":\"#2a3f5f\",\"arrowhead\":0,\"arrowwidth\":1},\"autotypenumbers\":\"strict\",\"coloraxis\":{\"colorbar\":{\"outlinewidth\":0,\"ticks\":\"\"}},\"colorscale\":{\"diverging\":[[0,\"#8e0152\"],[0.1,\"#c51b7d\"],[0.2,\"#de77ae\"],[0.3,\"#f1b6da\"],[0.4,\"#fde0ef\"],[0.5,\"#f7f7f7\"],[0.6,\"#e6f5d0\"],[0.7,\"#b8e186\"],[0.8,\"#7fbc41\"],[0.9,\"#4d9221\"],[1,\"#276419\"]],\"sequential\":[[0.0,\"#0d0887\"],[0.1111111111111111,\"#46039f\"],[0.2222222222222222,\"#7201a8\"],[0.3333333333333333,\"#9c179e\"],[0.4444444444444444,\"#bd3786\"],[0.5555555555555556,\"#d8576b\"],[0.6666666666666666,\"#ed7953\"],[0.7777777777777778,\"#fb9f3a\"],[0.8888888888888888,\"#fdca26\"],[1.0,\"#f0f921\"]],\"sequentialminus\":[[0.0,\"#0d0887\"],[0.1111111111111111,\"#46039f\"],[0.2222222222222222,\"#7201a8\"],[0.3333333333333333,\"#9c179e\"],[0.4444444444444444,\"#bd3786\"],[0.5555555555555556,\"#d8576b\"],[0.6666666666666666,\"#ed7953\"],[0.7777777777777778,\"#fb9f3a\"],[0.8888888888888888,\"#fdca26\"],[1.0,\"#f0f921\"]]},\"colorway\":[\"#636efa\",\"#EF553B\",\"#00cc96\",\"#ab63fa\",\"#FFA15A\",\"#19d3f3\",\"#FF6692\",\"#B6E880\",\"#FF97FF\",\"#FECB52\"],\"font\":{\"color\":\"#2a3f5f\"},\"geo\":{\"bgcolor\":\"white\",\"lakecolor\":\"white\",\"landcolor\":\"#E5ECF6\",\"showlakes\":true,\"showland\":true,\"subunitcolor\":\"white\"},\"hoverlabel\":{\"align\":\"left\"},\"hovermode\":\"closest\",\"mapbox\":{\"style\":\"light\"},\"paper_bgcolor\":\"white\",\"plot_bgcolor\":\"#E5ECF6\",\"polar\":{\"angularaxis\":{\"gridcolor\":\"white\",\"linecolor\":\"white\",\"ticks\":\"\"},\"bgcolor\":\"#E5ECF6\",\"radialaxis\":{\"gridcolor\":\"white\",\"linecolor\":\"white\",\"ticks\":\"\"}},\"scene\":{\"xaxis\":{\"backgroundcolor\":\"#E5ECF6\",\"gridcolor\":\"white\",\"gridwidth\":2,\"linecolor\":\"white\",\"showbackground\":true,\"ticks\":\"\",\"zerolinecolor\":\"white\"},\"yaxis\":{\"backgroundcolor\":\"#E5ECF6\",\"gridcolor\":\"white\",\"gridwidth\":2,\"linecolor\":\"white\",\"showbackground\":true,\"ticks\":\"\",\"zerolinecolor\":\"white\"},\"zaxis\":{\"backgroundcolor\":\"#E5ECF6\",\"gridcolor\":\"white\",\"gridwidth\":2,\"linecolor\":\"white\",\"showbackground\":true,\"ticks\":\"\",\"zerolinecolor\":\"white\"}},\"shapedefaults\":{\"line\":{\"color\":\"#2a3f5f\"}},\"ternary\":{\"aaxis\":{\"gridcolor\":\"white\",\"linecolor\":\"white\",\"ticks\":\"\"},\"baxis\":{\"gridcolor\":\"white\",\"linecolor\":\"white\",\"ticks\":\"\"},\"bgcolor\":\"#E5ECF6\",\"caxis\":{\"gridcolor\":\"white\",\"linecolor\":\"white\",\"ticks\":\"\"}},\"title\":{\"x\":0.05},\"xaxis\":{\"automargin\":true,\"gridcolor\":\"white\",\"linecolor\":\"white\",\"ticks\":\"\",\"title\":{\"standoff\":15},\"zerolinecolor\":\"white\",\"zerolinewidth\":2},\"yaxis\":{\"automargin\":true,\"gridcolor\":\"white\",\"linecolor\":\"white\",\"ticks\":\"\",\"title\":{\"standoff\":15},\"zerolinecolor\":\"white\",\"zerolinewidth\":2}}},\"title\":{\"text\":\"Local Volatility\"},\"width\":500},                        {\"responsive\": true}                    ).then(function(){\n",
       "                            \n",
       "var gd = document.getElementById('ffee3569-3bd7-484b-833c-24e28f7940fa');\n",
       "var x = new MutationObserver(function (mutations, observer) {{\n",
       "        var display = window.getComputedStyle(gd).display;\n",
       "        if (!display || display === 'none') {{\n",
       "            console.log([gd, 'removed!']);\n",
       "            Plotly.purge(gd);\n",
       "            observer.disconnect();\n",
       "        }}\n",
       "}});\n",
       "\n",
       "// Listen for the removal of the full notebook cells\n",
       "var notebookContainer = gd.closest('#notebook-container');\n",
       "if (notebookContainer) {{\n",
       "    x.observe(notebookContainer, {childList: true});\n",
       "}}\n",
       "\n",
       "// Listen for the clearing of the current output cell\n",
       "var outputEl = gd.closest('.output');\n",
       "if (outputEl) {{\n",
       "    x.observe(outputEl, {childList: true});\n",
       "}}\n",
       "\n",
       "                        })                };                });            </script>        </div>"
      ]
     },
     "metadata": {},
     "output_type": "display_data"
    }
   ],
   "source": [
    "#LINEAR INTERPOLATION\n",
    "new_df = option.df[['moneyness', '_T', 'L_VOL']]\n",
    "new_df = new_df.pivot(index = '_T',columns='moneyness', values='L_VOL')\n",
    "\n",
    "new_df=new_df.interpolate(method='linear',axis=1,limit_direction='both')\n",
    "z = new_df\n",
    "x = list(new_df.columns)\n",
    "y = list(new_df.index)\n",
    "\n",
    "\n",
    "fig = go.Figure(data=[go.Surface(z=z, x=x, y=y)])\n",
    "fig.update_layout(title='Local Volatility', autosize=False,\n",
    "                  width=500, height=500,\n",
    "                  margin=dict(l=65, r=50, b=65, t=90))\n",
    "\n",
    "fig.update_scenes(xaxis_title_text='S/K', yaxis_title_text='Exp', zaxis_title_text='Local Vol') \n",
    "fig.show()"
   ]
  },
  {
   "cell_type": "code",
   "execution_count": 62,
   "metadata": {
    "colab": {
     "base_uri": "https://localhost:8080/",
     "height": 517
    },
    "id": "Og6fheux7Y7J",
    "outputId": "d46e2435-0c31-4e79-a170-29765f0ea94b"
   },
   "outputs": [
    {
     "ename": "error",
     "evalue": "(m>k) failed for hidden m: fpcurf0:m=2",
     "output_type": "error",
     "traceback": [
      "\u001b[1;31m---------------------------------------------------------------------------\u001b[0m",
      "\u001b[1;31merror\u001b[0m                                     Traceback (most recent call last)",
      "\u001b[1;32m<ipython-input-62-f97834202eff>\u001b[0m in \u001b[0;36m<module>\u001b[1;34m()\u001b[0m\n\u001b[0;32m      3\u001b[0m \u001b[0mnew_df\u001b[0m \u001b[1;33m=\u001b[0m \u001b[0mnew_df\u001b[0m\u001b[1;33m.\u001b[0m\u001b[0mpivot\u001b[0m\u001b[1;33m(\u001b[0m\u001b[0mindex\u001b[0m \u001b[1;33m=\u001b[0m \u001b[1;34m'_T'\u001b[0m\u001b[1;33m,\u001b[0m\u001b[0mcolumns\u001b[0m\u001b[1;33m=\u001b[0m\u001b[1;34m'K'\u001b[0m\u001b[1;33m,\u001b[0m \u001b[0mvalues\u001b[0m\u001b[1;33m=\u001b[0m\u001b[1;34m'L_VOL'\u001b[0m\u001b[1;33m)\u001b[0m\u001b[1;33m\u001b[0m\u001b[1;33m\u001b[0m\u001b[0m\n\u001b[0;32m      4\u001b[0m \u001b[1;33m\u001b[0m\u001b[0m\n\u001b[1;32m----> 5\u001b[1;33m \u001b[0mnew_df\u001b[0m\u001b[1;33m=\u001b[0m\u001b[0mnew_df\u001b[0m\u001b[1;33m.\u001b[0m\u001b[0minterpolate\u001b[0m\u001b[1;33m(\u001b[0m\u001b[0mmethod\u001b[0m\u001b[1;33m=\u001b[0m\u001b[1;34m'spline'\u001b[0m\u001b[1;33m,\u001b[0m\u001b[0morder\u001b[0m\u001b[1;33m=\u001b[0m\u001b[1;36m2\u001b[0m\u001b[1;33m,\u001b[0m\u001b[0maxis\u001b[0m\u001b[1;33m=\u001b[0m\u001b[1;36m1\u001b[0m\u001b[1;33m)\u001b[0m\u001b[1;33m\u001b[0m\u001b[1;33m\u001b[0m\u001b[0m\n\u001b[0m\u001b[0;32m      6\u001b[0m \u001b[0mz\u001b[0m \u001b[1;33m=\u001b[0m \u001b[0mnew_df\u001b[0m\u001b[1;33m\u001b[0m\u001b[1;33m\u001b[0m\u001b[0m\n\u001b[0;32m      7\u001b[0m \u001b[0mx\u001b[0m \u001b[1;33m=\u001b[0m \u001b[0mlist\u001b[0m\u001b[1;33m(\u001b[0m\u001b[0mnew_df\u001b[0m\u001b[1;33m.\u001b[0m\u001b[0mcolumns\u001b[0m\u001b[1;33m)\u001b[0m\u001b[1;33m\u001b[0m\u001b[1;33m\u001b[0m\u001b[0m\n",
      "\u001b[1;32mC:\\Users\\Olivier\\anaconda3\\lib\\site-packages\\pandas\\core\\generic.py\u001b[0m in \u001b[0;36minterpolate\u001b[1;34m(self, method, axis, limit, inplace, limit_direction, limit_area, downcast, **kwargs)\u001b[0m\n\u001b[0;32m   7015\u001b[0m             \u001b[0minplace\u001b[0m\u001b[1;33m=\u001b[0m\u001b[0minplace\u001b[0m\u001b[1;33m,\u001b[0m\u001b[1;33m\u001b[0m\u001b[1;33m\u001b[0m\u001b[0m\n\u001b[0;32m   7016\u001b[0m             \u001b[0mdowncast\u001b[0m\u001b[1;33m=\u001b[0m\u001b[0mdowncast\u001b[0m\u001b[1;33m,\u001b[0m\u001b[1;33m\u001b[0m\u001b[1;33m\u001b[0m\u001b[0m\n\u001b[1;32m-> 7017\u001b[1;33m             \u001b[1;33m**\u001b[0m\u001b[0mkwargs\u001b[0m\u001b[1;33m,\u001b[0m\u001b[1;33m\u001b[0m\u001b[1;33m\u001b[0m\u001b[0m\n\u001b[0m\u001b[0;32m   7018\u001b[0m         )\n\u001b[0;32m   7019\u001b[0m \u001b[1;33m\u001b[0m\u001b[0m\n",
      "\u001b[1;32mC:\\Users\\Olivier\\anaconda3\\lib\\site-packages\\pandas\\core\\internals\\managers.py\u001b[0m in \u001b[0;36minterpolate\u001b[1;34m(self, **kwargs)\u001b[0m\n\u001b[0;32m    568\u001b[0m \u001b[1;33m\u001b[0m\u001b[0m\n\u001b[0;32m    569\u001b[0m     \u001b[1;32mdef\u001b[0m \u001b[0minterpolate\u001b[0m\u001b[1;33m(\u001b[0m\u001b[0mself\u001b[0m\u001b[1;33m,\u001b[0m \u001b[1;33m**\u001b[0m\u001b[0mkwargs\u001b[0m\u001b[1;33m)\u001b[0m\u001b[1;33m:\u001b[0m\u001b[1;33m\u001b[0m\u001b[1;33m\u001b[0m\u001b[0m\n\u001b[1;32m--> 570\u001b[1;33m         \u001b[1;32mreturn\u001b[0m \u001b[0mself\u001b[0m\u001b[1;33m.\u001b[0m\u001b[0mapply\u001b[0m\u001b[1;33m(\u001b[0m\u001b[1;34m\"interpolate\"\u001b[0m\u001b[1;33m,\u001b[0m \u001b[1;33m**\u001b[0m\u001b[0mkwargs\u001b[0m\u001b[1;33m)\u001b[0m\u001b[1;33m\u001b[0m\u001b[1;33m\u001b[0m\u001b[0m\n\u001b[0m\u001b[0;32m    571\u001b[0m \u001b[1;33m\u001b[0m\u001b[0m\n\u001b[0;32m    572\u001b[0m     \u001b[1;32mdef\u001b[0m \u001b[0mshift\u001b[0m\u001b[1;33m(\u001b[0m\u001b[0mself\u001b[0m\u001b[1;33m,\u001b[0m \u001b[1;33m**\u001b[0m\u001b[0mkwargs\u001b[0m\u001b[1;33m)\u001b[0m\u001b[1;33m:\u001b[0m\u001b[1;33m\u001b[0m\u001b[1;33m\u001b[0m\u001b[0m\n",
      "\u001b[1;32mC:\\Users\\Olivier\\anaconda3\\lib\\site-packages\\pandas\\core\\internals\\managers.py\u001b[0m in \u001b[0;36mapply\u001b[1;34m(self, f, filter, **kwargs)\u001b[0m\n\u001b[0;32m    440\u001b[0m                 \u001b[0mapplied\u001b[0m \u001b[1;33m=\u001b[0m \u001b[0mb\u001b[0m\u001b[1;33m.\u001b[0m\u001b[0mapply\u001b[0m\u001b[1;33m(\u001b[0m\u001b[0mf\u001b[0m\u001b[1;33m,\u001b[0m \u001b[1;33m**\u001b[0m\u001b[0mkwargs\u001b[0m\u001b[1;33m)\u001b[0m\u001b[1;33m\u001b[0m\u001b[1;33m\u001b[0m\u001b[0m\n\u001b[0;32m    441\u001b[0m             \u001b[1;32melse\u001b[0m\u001b[1;33m:\u001b[0m\u001b[1;33m\u001b[0m\u001b[1;33m\u001b[0m\u001b[0m\n\u001b[1;32m--> 442\u001b[1;33m                 \u001b[0mapplied\u001b[0m \u001b[1;33m=\u001b[0m \u001b[0mgetattr\u001b[0m\u001b[1;33m(\u001b[0m\u001b[0mb\u001b[0m\u001b[1;33m,\u001b[0m \u001b[0mf\u001b[0m\u001b[1;33m)\u001b[0m\u001b[1;33m(\u001b[0m\u001b[1;33m**\u001b[0m\u001b[0mkwargs\u001b[0m\u001b[1;33m)\u001b[0m\u001b[1;33m\u001b[0m\u001b[1;33m\u001b[0m\u001b[0m\n\u001b[0m\u001b[0;32m    443\u001b[0m             \u001b[0mresult_blocks\u001b[0m \u001b[1;33m=\u001b[0m \u001b[0m_extend_blocks\u001b[0m\u001b[1;33m(\u001b[0m\u001b[0mapplied\u001b[0m\u001b[1;33m,\u001b[0m \u001b[0mresult_blocks\u001b[0m\u001b[1;33m)\u001b[0m\u001b[1;33m\u001b[0m\u001b[1;33m\u001b[0m\u001b[0m\n\u001b[0;32m    444\u001b[0m \u001b[1;33m\u001b[0m\u001b[0m\n",
      "\u001b[1;32mC:\\Users\\Olivier\\anaconda3\\lib\\site-packages\\pandas\\core\\internals\\blocks.py\u001b[0m in \u001b[0;36minterpolate\u001b[1;34m(self, method, axis, index, values, inplace, limit, limit_direction, limit_area, fill_value, coerce, downcast, **kwargs)\u001b[0m\n\u001b[0;32m   1168\u001b[0m             \u001b[0minplace\u001b[0m\u001b[1;33m=\u001b[0m\u001b[0minplace\u001b[0m\u001b[1;33m,\u001b[0m\u001b[1;33m\u001b[0m\u001b[1;33m\u001b[0m\u001b[0m\n\u001b[0;32m   1169\u001b[0m             \u001b[0mdowncast\u001b[0m\u001b[1;33m=\u001b[0m\u001b[0mdowncast\u001b[0m\u001b[1;33m,\u001b[0m\u001b[1;33m\u001b[0m\u001b[1;33m\u001b[0m\u001b[0m\n\u001b[1;32m-> 1170\u001b[1;33m             \u001b[1;33m**\u001b[0m\u001b[0mkwargs\u001b[0m\u001b[1;33m,\u001b[0m\u001b[1;33m\u001b[0m\u001b[1;33m\u001b[0m\u001b[0m\n\u001b[0m\u001b[0;32m   1171\u001b[0m         )\n\u001b[0;32m   1172\u001b[0m \u001b[1;33m\u001b[0m\u001b[0m\n",
      "\u001b[1;32mC:\\Users\\Olivier\\anaconda3\\lib\\site-packages\\pandas\\core\\internals\\blocks.py\u001b[0m in \u001b[0;36m_interpolate\u001b[1;34m(self, method, index, values, fill_value, axis, limit, limit_direction, limit_area, inplace, downcast, **kwargs)\u001b[0m\n\u001b[0;32m   1264\u001b[0m \u001b[1;33m\u001b[0m\u001b[0m\n\u001b[0;32m   1265\u001b[0m         \u001b[1;31m# interp each column independently\u001b[0m\u001b[1;33m\u001b[0m\u001b[1;33m\u001b[0m\u001b[1;33m\u001b[0m\u001b[0m\n\u001b[1;32m-> 1266\u001b[1;33m         \u001b[0minterp_values\u001b[0m \u001b[1;33m=\u001b[0m \u001b[0mnp\u001b[0m\u001b[1;33m.\u001b[0m\u001b[0mapply_along_axis\u001b[0m\u001b[1;33m(\u001b[0m\u001b[0mfunc\u001b[0m\u001b[1;33m,\u001b[0m \u001b[0maxis\u001b[0m\u001b[1;33m,\u001b[0m \u001b[0mdata\u001b[0m\u001b[1;33m)\u001b[0m\u001b[1;33m\u001b[0m\u001b[1;33m\u001b[0m\u001b[0m\n\u001b[0m\u001b[0;32m   1267\u001b[0m \u001b[1;33m\u001b[0m\u001b[0m\n\u001b[0;32m   1268\u001b[0m         \u001b[0mblocks\u001b[0m \u001b[1;33m=\u001b[0m \u001b[1;33m[\u001b[0m\u001b[0mself\u001b[0m\u001b[1;33m.\u001b[0m\u001b[0mmake_block_same_class\u001b[0m\u001b[1;33m(\u001b[0m\u001b[0minterp_values\u001b[0m\u001b[1;33m)\u001b[0m\u001b[1;33m]\u001b[0m\u001b[1;33m\u001b[0m\u001b[1;33m\u001b[0m\u001b[0m\n",
      "\u001b[1;32m<__array_function__ internals>\u001b[0m in \u001b[0;36mapply_along_axis\u001b[1;34m(*args, **kwargs)\u001b[0m\n",
      "\u001b[1;32mC:\\Users\\Olivier\\anaconda3\\lib\\site-packages\\numpy\\lib\\shape_base.py\u001b[0m in \u001b[0;36mapply_along_axis\u001b[1;34m(func1d, axis, arr, *args, **kwargs)\u001b[0m\n\u001b[0;32m    400\u001b[0m     \u001b[0mbuff\u001b[0m\u001b[1;33m[\u001b[0m\u001b[0mind0\u001b[0m\u001b[1;33m]\u001b[0m \u001b[1;33m=\u001b[0m \u001b[0mres\u001b[0m\u001b[1;33m\u001b[0m\u001b[1;33m\u001b[0m\u001b[0m\n\u001b[0;32m    401\u001b[0m     \u001b[1;32mfor\u001b[0m \u001b[0mind\u001b[0m \u001b[1;32min\u001b[0m \u001b[0minds\u001b[0m\u001b[1;33m:\u001b[0m\u001b[1;33m\u001b[0m\u001b[1;33m\u001b[0m\u001b[0m\n\u001b[1;32m--> 402\u001b[1;33m         \u001b[0mbuff\u001b[0m\u001b[1;33m[\u001b[0m\u001b[0mind\u001b[0m\u001b[1;33m]\u001b[0m \u001b[1;33m=\u001b[0m \u001b[0masanyarray\u001b[0m\u001b[1;33m(\u001b[0m\u001b[0mfunc1d\u001b[0m\u001b[1;33m(\u001b[0m\u001b[0minarr_view\u001b[0m\u001b[1;33m[\u001b[0m\u001b[0mind\u001b[0m\u001b[1;33m]\u001b[0m\u001b[1;33m,\u001b[0m \u001b[1;33m*\u001b[0m\u001b[0margs\u001b[0m\u001b[1;33m,\u001b[0m \u001b[1;33m**\u001b[0m\u001b[0mkwargs\u001b[0m\u001b[1;33m)\u001b[0m\u001b[1;33m)\u001b[0m\u001b[1;33m\u001b[0m\u001b[1;33m\u001b[0m\u001b[0m\n\u001b[0m\u001b[0;32m    403\u001b[0m \u001b[1;33m\u001b[0m\u001b[0m\n\u001b[0;32m    404\u001b[0m     \u001b[1;32mif\u001b[0m \u001b[1;32mnot\u001b[0m \u001b[0misinstance\u001b[0m\u001b[1;33m(\u001b[0m\u001b[0mres\u001b[0m\u001b[1;33m,\u001b[0m \u001b[0mmatrix\u001b[0m\u001b[1;33m)\u001b[0m\u001b[1;33m:\u001b[0m\u001b[1;33m\u001b[0m\u001b[1;33m\u001b[0m\u001b[0m\n",
      "\u001b[1;32mC:\\Users\\Olivier\\anaconda3\\lib\\site-packages\\pandas\\core\\internals\\blocks.py\u001b[0m in \u001b[0;36mfunc\u001b[1;34m(x)\u001b[0m\n\u001b[0;32m   1260\u001b[0m                 \u001b[0mfill_value\u001b[0m\u001b[1;33m=\u001b[0m\u001b[0mfill_value\u001b[0m\u001b[1;33m,\u001b[0m\u001b[1;33m\u001b[0m\u001b[1;33m\u001b[0m\u001b[0m\n\u001b[0;32m   1261\u001b[0m                 \u001b[0mbounds_error\u001b[0m\u001b[1;33m=\u001b[0m\u001b[1;32mFalse\u001b[0m\u001b[1;33m,\u001b[0m\u001b[1;33m\u001b[0m\u001b[1;33m\u001b[0m\u001b[0m\n\u001b[1;32m-> 1262\u001b[1;33m                 \u001b[1;33m**\u001b[0m\u001b[0mkwargs\u001b[0m\u001b[1;33m,\u001b[0m\u001b[1;33m\u001b[0m\u001b[1;33m\u001b[0m\u001b[0m\n\u001b[0m\u001b[0;32m   1263\u001b[0m             )\n\u001b[0;32m   1264\u001b[0m \u001b[1;33m\u001b[0m\u001b[0m\n",
      "\u001b[1;32mC:\\Users\\Olivier\\anaconda3\\lib\\site-packages\\pandas\\core\\missing.py\u001b[0m in \u001b[0;36minterpolate_1d\u001b[1;34m(xvalues, yvalues, method, limit, limit_direction, limit_area, fill_value, bounds_error, order, **kwargs)\u001b[0m\n\u001b[0;32m    309\u001b[0m             \u001b[0mbounds_error\u001b[0m\u001b[1;33m=\u001b[0m\u001b[0mbounds_error\u001b[0m\u001b[1;33m,\u001b[0m\u001b[1;33m\u001b[0m\u001b[1;33m\u001b[0m\u001b[0m\n\u001b[0;32m    310\u001b[0m             \u001b[0morder\u001b[0m\u001b[1;33m=\u001b[0m\u001b[0morder\u001b[0m\u001b[1;33m,\u001b[0m\u001b[1;33m\u001b[0m\u001b[1;33m\u001b[0m\u001b[0m\n\u001b[1;32m--> 311\u001b[1;33m             \u001b[1;33m**\u001b[0m\u001b[0mkwargs\u001b[0m\u001b[1;33m,\u001b[0m\u001b[1;33m\u001b[0m\u001b[1;33m\u001b[0m\u001b[0m\n\u001b[0m\u001b[0;32m    312\u001b[0m         )\n\u001b[0;32m    313\u001b[0m         \u001b[0mresult\u001b[0m\u001b[1;33m[\u001b[0m\u001b[0mpreserve_nans\u001b[0m\u001b[1;33m]\u001b[0m \u001b[1;33m=\u001b[0m \u001b[0mnp\u001b[0m\u001b[1;33m.\u001b[0m\u001b[0mnan\u001b[0m\u001b[1;33m\u001b[0m\u001b[1;33m\u001b[0m\u001b[0m\n",
      "\u001b[1;32mC:\\Users\\Olivier\\anaconda3\\lib\\site-packages\\pandas\\core\\missing.py\u001b[0m in \u001b[0;36m_interpolate_scipy_wrapper\u001b[1;34m(x, y, new_x, method, fill_value, bounds_error, order, **kwargs)\u001b[0m\n\u001b[0;32m    372\u001b[0m                 \u001b[1;34mf\"order needs to be specified and greater than 0; got order: {order}\"\u001b[0m\u001b[1;33m\u001b[0m\u001b[1;33m\u001b[0m\u001b[0m\n\u001b[0;32m    373\u001b[0m             )\n\u001b[1;32m--> 374\u001b[1;33m         \u001b[0mterp\u001b[0m \u001b[1;33m=\u001b[0m \u001b[0minterpolate\u001b[0m\u001b[1;33m.\u001b[0m\u001b[0mUnivariateSpline\u001b[0m\u001b[1;33m(\u001b[0m\u001b[0mx\u001b[0m\u001b[1;33m,\u001b[0m \u001b[0my\u001b[0m\u001b[1;33m,\u001b[0m \u001b[0mk\u001b[0m\u001b[1;33m=\u001b[0m\u001b[0morder\u001b[0m\u001b[1;33m,\u001b[0m \u001b[1;33m**\u001b[0m\u001b[0mkwargs\u001b[0m\u001b[1;33m)\u001b[0m\u001b[1;33m\u001b[0m\u001b[1;33m\u001b[0m\u001b[0m\n\u001b[0m\u001b[0;32m    375\u001b[0m         \u001b[0mnew_y\u001b[0m \u001b[1;33m=\u001b[0m \u001b[0mterp\u001b[0m\u001b[1;33m(\u001b[0m\u001b[0mnew_x\u001b[0m\u001b[1;33m)\u001b[0m\u001b[1;33m\u001b[0m\u001b[1;33m\u001b[0m\u001b[0m\n\u001b[0;32m    376\u001b[0m     \u001b[1;32melse\u001b[0m\u001b[1;33m:\u001b[0m\u001b[1;33m\u001b[0m\u001b[1;33m\u001b[0m\u001b[0m\n",
      "\u001b[1;32mC:\\Users\\Olivier\\anaconda3\\lib\\site-packages\\scipy\\interpolate\\fitpack2.py\u001b[0m in \u001b[0;36m__init__\u001b[1;34m(self, x, y, w, bbox, k, s, ext, check_finite)\u001b[0m\n\u001b[0;32m    189\u001b[0m \u001b[1;33m\u001b[0m\u001b[0m\n\u001b[0;32m    190\u001b[0m         data = dfitpack.fpcurf0(x, y, k, w=w, xb=bbox[0],\n\u001b[1;32m--> 191\u001b[1;33m                                 xe=bbox[1], s=s)\n\u001b[0m\u001b[0;32m    192\u001b[0m         \u001b[1;32mif\u001b[0m \u001b[0mdata\u001b[0m\u001b[1;33m[\u001b[0m\u001b[1;33m-\u001b[0m\u001b[1;36m1\u001b[0m\u001b[1;33m]\u001b[0m \u001b[1;33m==\u001b[0m \u001b[1;36m1\u001b[0m\u001b[1;33m:\u001b[0m\u001b[1;33m\u001b[0m\u001b[1;33m\u001b[0m\u001b[0m\n\u001b[0;32m    193\u001b[0m             \u001b[1;31m# nest too small, setting to maximum bound\u001b[0m\u001b[1;33m\u001b[0m\u001b[1;33m\u001b[0m\u001b[1;33m\u001b[0m\u001b[0m\n",
      "\u001b[1;31merror\u001b[0m: (m>k) failed for hidden m: fpcurf0:m=2"
     ]
    }
   ],
   "source": [
    "\n",
    "new_df = option.df[['K', '_T', 'L_VOL']]\n",
    "new_df = new_df.pivot(index = '_T',columns='K', values='L_VOL')\n",
    "\n",
    "new_df=new_df.interpolate(method='spline',order=2,axis=1)\n",
    "z = new_df\n",
    "x = list(new_df.columns)\n",
    "y = list(new_df.index)\n",
    "\n",
    "\n",
    "fig = go.Figure(data=[go.Surface(z=z, x=x, y=y)])\n",
    "fig.update_layout(title='xxx', autosize=False,\n",
    "                  width=500, height=500,\n",
    "                  margin=dict(l=65, r=50, b=65, t=90))\n",
    "fig.show()\n"
   ]
  },
  {
   "cell_type": "code",
   "execution_count": null,
   "metadata": {
    "colab": {
     "base_uri": "https://localhost:8080/"
    },
    "id": "M0l310TZpbQj",
    "outputId": "54c01ce5-5157-41b6-cc35-9dfb5e921b64"
   },
   "outputs": [],
   "source": [
    "#option.init_merton(m = 0.625038301534241, lam =0.0010591027301815744, v = 0.511097066109511,  )\n",
    "option.init_merton(reset=True)\n",
    "option.append_Merton_price()\n",
    "rms = mean_squared_error(option.df['MERTON_PRICE'], option.df['mid'], squared=False)\n",
    "print('Root Mean Squared Error = {}%'.format(round(rms*100,3)))"
   ]
  },
  {
   "cell_type": "code",
   "execution_count": 63,
   "metadata": {
    "id": "evZhDRJFpbQj"
   },
   "outputs": [],
   "source": [
    "option.df.dropna(inplace=True)\n",
    "option.df = option.df.drop(option.df[option.df._T >= .08].index)"
   ]
  },
  {
   "cell_type": "code",
   "execution_count": 67,
   "metadata": {
    "colab": {
     "base_uri": "https://localhost:8080/",
     "height": 576
    },
    "id": "VQ6QUEw8pbQk",
    "outputId": "33bece9a-e7d1-43d4-d4c5-05ba4b0df493"
   },
   "outputs": [
    {
     "data": {
      "application/vnd.plotly.v1+json": {
       "config": {
        "plotlyServerURL": "https://plot.ly"
       },
       "data": [
        {
         "marker": {
          "opacity": 0.8
         },
         "mode": "markers",
         "name": "Black&Scholes model Price",
         "type": "scatter3d",
         "x": [
          37000,
          38000,
          39000,
          37000,
          38000,
          37000,
          38000,
          39000,
          40000,
          42000,
          44000,
          45000,
          38000,
          40000,
          42000,
          45000,
          46000,
          55000,
          38000,
          40000,
          42000,
          45000,
          50000
         ],
         "y": [
          0.0008756333470934239,
          0.0008756333470934239,
          0.0008756333470934239,
          0.0036153593744906844,
          0.0036153593744906844,
          0.006355085401887945,
          0.006355085401887945,
          0.006355085401887945,
          0.006355085401887945,
          0.006355085401887945,
          0.006355085401887945,
          0.006355085401887945,
          0.025533167593668766,
          0.025533167593668766,
          0.025533167593668766,
          0.025533167593668766,
          0.025533167593668766,
          0.025533167593668766,
          0.04471124978544959,
          0.04471124978544959,
          0.04471124978544959,
          0.04471124978544959,
          0.04471124978544959
         ],
         "z": [
          0.01107691269953115,
          0.0026823799274117155,
          0.001208348696026429,
          0.036190503108716854,
          0.007434079446413833,
          0.030959642526990905,
          0.015267807027738556,
          0.0074616002311564955,
          0.005434855768270075,
          0.00276974831895882,
          0.001319203711114325,
          0.000688133528182075,
          0.04009575044709557,
          0.023995748946752826,
          0.013846707974169536,
          0.005488075288683336,
          0.004782495507621831,
          0.001083423732546808,
          0.0626635024619624,
          0.04100121414513236,
          0.027147547508103553,
          0.014779460752079476,
          0.006092862909334418
         ]
        },
        {
         "marker": {
          "opacity": 0.8
         },
         "mode": "markers",
         "name": "Real Market Price",
         "type": "scatter3d",
         "x": [
          37000,
          38000,
          39000,
          37000,
          38000,
          37000,
          38000,
          39000,
          40000,
          42000,
          44000,
          45000,
          38000,
          40000,
          42000,
          45000,
          46000,
          55000,
          38000,
          40000,
          42000,
          45000,
          50000
         ],
         "y": [
          0.0008756333470934239,
          0.0008756333470934239,
          0.0008756333470934239,
          0.0036153593744906844,
          0.0036153593744906844,
          0.006355085401887945,
          0.006355085401887945,
          0.006355085401887945,
          0.006355085401887945,
          0.006355085401887945,
          0.006355085401887945,
          0.006355085401887945,
          0.025533167593668766,
          0.025533167593668766,
          0.025533167593668766,
          0.025533167593668766,
          0.025533167593668766,
          0.025533167593668766,
          0.04471124978544959,
          0.04471124978544959,
          0.04471124978544959,
          0.04471124978544959,
          0.04471124978544959
         ],
         "z": [
          0.011016459197786998,
          0.0026739290862712655,
          0.0012055464926590538,
          0.03549554278404814,
          0.007346814398064472,
          0.029904802991133766,
          0.014976353557541037,
          0.00735615490277161,
          0.005373218500855072,
          0.0027463634103902556,
          0.001309963099630996,
          0.0006835558252427187,
          0.03742324478178369,
          0.02307318689112015,
          0.01344725219604101,
          0.005364863526849072,
          0.004682570049597628,
          0.001067948717948718,
          0.05583756529941608,
          0.03842249973364992,
          0.02587824396489804,
          0.014251856300502292,
          0.005926794562742735
         ]
        },
        {
         "marker": {
          "opacity": 0.8
         },
         "mode": "markers",
         "name": "Merton Model Price",
         "type": "scatter3d",
         "x": [
          37000,
          38000,
          39000,
          37000,
          38000,
          37000,
          38000,
          39000,
          40000,
          42000,
          44000,
          45000,
          38000,
          40000,
          42000,
          45000,
          46000,
          55000,
          38000,
          40000,
          42000,
          45000,
          50000
         ],
         "y": [
          0.0008756333470934239,
          0.0008756333470934239,
          0.0008756333470934239,
          0.0036153593744906844,
          0.0036153593744906844,
          0.006355085401887945,
          0.006355085401887945,
          0.006355085401887945,
          0.006355085401887945,
          0.006355085401887945,
          0.006355085401887945,
          0.006355085401887945,
          0.025533167593668766,
          0.025533167593668766,
          0.025533167593668766,
          0.025533167593668766,
          0.025533167593668766,
          0.025533167593668766,
          0.04471124978544959,
          0.04471124978544959,
          0.04471124978544959,
          0.04471124978544959,
          0.04471124978544959
         ],
         "z": [
          0.01107184028555114,
          0.0026796550832306433,
          0.0012063563808014884,
          0.036119772109826864,
          0.00739151229399502,
          0.03073892590526117,
          0.015146702105042526,
          0.00737148728274645,
          0.006228684133287692,
          0.005633455312203091,
          0.005039119243509202,
          0.004740993255754248,
          0.03827261682281185,
          0.025016863288367327,
          0.022620882986636986,
          0.019037854461348452,
          0.017846957419897756,
          0.00708231536542998,
          0.05709514782390342,
          0.043855782713312814,
          0.03966527990427813,
          0.03339159359583885,
          0.022929451082155942
         ]
        },
        {
         "marker": {
          "opacity": 0.8
         },
         "mode": "markers",
         "name": "Heston Model Price",
         "type": "scatter3d",
         "x": [
          37000,
          38000,
          39000,
          37000,
          38000,
          37000,
          38000,
          39000,
          40000,
          42000,
          44000,
          45000,
          38000,
          40000,
          42000,
          45000,
          46000,
          55000,
          38000,
          40000,
          42000,
          45000,
          50000
         ],
         "y": [
          0.0008756333470934239,
          0.0008756333470934239,
          0.0008756333470934239,
          0.0036153593744906844,
          0.0036153593744906844,
          0.006355085401887945,
          0.006355085401887945,
          0.006355085401887945,
          0.006355085401887945,
          0.006355085401887945,
          0.006355085401887945,
          0.006355085401887945,
          0.025533167593668766,
          0.025533167593668766,
          0.025533167593668766,
          0.025533167593668766,
          0.025533167593668766,
          0.025533167593668766,
          0.04471124978544959,
          0.04471124978544959,
          0.04471124978544959,
          0.04471124978544959,
          0.04471124978544959
         ],
         "z": [
          0.0034864060337885454,
          0.0004828971885406988,
          2.4154301683287377e-05,
          0.013576488581647632,
          0.006505196033161255,
          0.020695294753229246,
          0.01232043353452369,
          0.006890951047429968,
          0.003621746379876909,
          0.0008400922287480358,
          0.0001568825388900046,
          6.277102257198195e-05,
          0.04000925839727238,
          0.02446519487594125,
          0.014325035015004133,
          0.005990966802317936,
          0.004408963929671287,
          0.00020803068504617628,
          0.0585188582561698,
          0.04123279419361469,
          0.028476137335949323,
          0.01583294452101551,
          0.005551183410438941
         ]
        }
       ],
       "layout": {
        "scene": {
         "xaxis": {
          "title": {
           "text": "Strike"
          }
         },
         "yaxis": {
          "title": {
           "text": "Exp"
          }
         },
         "zaxis": {
          "title": {
           "text": "Price"
          }
         }
        },
        "template": {
         "data": {
          "bar": [
           {
            "error_x": {
             "color": "#2a3f5f"
            },
            "error_y": {
             "color": "#2a3f5f"
            },
            "marker": {
             "line": {
              "color": "#E5ECF6",
              "width": 0.5
             },
             "pattern": {
              "fillmode": "overlay",
              "size": 10,
              "solidity": 0.2
             }
            },
            "type": "bar"
           }
          ],
          "barpolar": [
           {
            "marker": {
             "line": {
              "color": "#E5ECF6",
              "width": 0.5
             },
             "pattern": {
              "fillmode": "overlay",
              "size": 10,
              "solidity": 0.2
             }
            },
            "type": "barpolar"
           }
          ],
          "carpet": [
           {
            "aaxis": {
             "endlinecolor": "#2a3f5f",
             "gridcolor": "white",
             "linecolor": "white",
             "minorgridcolor": "white",
             "startlinecolor": "#2a3f5f"
            },
            "baxis": {
             "endlinecolor": "#2a3f5f",
             "gridcolor": "white",
             "linecolor": "white",
             "minorgridcolor": "white",
             "startlinecolor": "#2a3f5f"
            },
            "type": "carpet"
           }
          ],
          "choropleth": [
           {
            "colorbar": {
             "outlinewidth": 0,
             "ticks": ""
            },
            "type": "choropleth"
           }
          ],
          "contour": [
           {
            "colorbar": {
             "outlinewidth": 0,
             "ticks": ""
            },
            "colorscale": [
             [
              0,
              "#0d0887"
             ],
             [
              0.1111111111111111,
              "#46039f"
             ],
             [
              0.2222222222222222,
              "#7201a8"
             ],
             [
              0.3333333333333333,
              "#9c179e"
             ],
             [
              0.4444444444444444,
              "#bd3786"
             ],
             [
              0.5555555555555556,
              "#d8576b"
             ],
             [
              0.6666666666666666,
              "#ed7953"
             ],
             [
              0.7777777777777778,
              "#fb9f3a"
             ],
             [
              0.8888888888888888,
              "#fdca26"
             ],
             [
              1,
              "#f0f921"
             ]
            ],
            "type": "contour"
           }
          ],
          "contourcarpet": [
           {
            "colorbar": {
             "outlinewidth": 0,
             "ticks": ""
            },
            "type": "contourcarpet"
           }
          ],
          "heatmap": [
           {
            "colorbar": {
             "outlinewidth": 0,
             "ticks": ""
            },
            "colorscale": [
             [
              0,
              "#0d0887"
             ],
             [
              0.1111111111111111,
              "#46039f"
             ],
             [
              0.2222222222222222,
              "#7201a8"
             ],
             [
              0.3333333333333333,
              "#9c179e"
             ],
             [
              0.4444444444444444,
              "#bd3786"
             ],
             [
              0.5555555555555556,
              "#d8576b"
             ],
             [
              0.6666666666666666,
              "#ed7953"
             ],
             [
              0.7777777777777778,
              "#fb9f3a"
             ],
             [
              0.8888888888888888,
              "#fdca26"
             ],
             [
              1,
              "#f0f921"
             ]
            ],
            "type": "heatmap"
           }
          ],
          "heatmapgl": [
           {
            "colorbar": {
             "outlinewidth": 0,
             "ticks": ""
            },
            "colorscale": [
             [
              0,
              "#0d0887"
             ],
             [
              0.1111111111111111,
              "#46039f"
             ],
             [
              0.2222222222222222,
              "#7201a8"
             ],
             [
              0.3333333333333333,
              "#9c179e"
             ],
             [
              0.4444444444444444,
              "#bd3786"
             ],
             [
              0.5555555555555556,
              "#d8576b"
             ],
             [
              0.6666666666666666,
              "#ed7953"
             ],
             [
              0.7777777777777778,
              "#fb9f3a"
             ],
             [
              0.8888888888888888,
              "#fdca26"
             ],
             [
              1,
              "#f0f921"
             ]
            ],
            "type": "heatmapgl"
           }
          ],
          "histogram": [
           {
            "marker": {
             "pattern": {
              "fillmode": "overlay",
              "size": 10,
              "solidity": 0.2
             }
            },
            "type": "histogram"
           }
          ],
          "histogram2d": [
           {
            "colorbar": {
             "outlinewidth": 0,
             "ticks": ""
            },
            "colorscale": [
             [
              0,
              "#0d0887"
             ],
             [
              0.1111111111111111,
              "#46039f"
             ],
             [
              0.2222222222222222,
              "#7201a8"
             ],
             [
              0.3333333333333333,
              "#9c179e"
             ],
             [
              0.4444444444444444,
              "#bd3786"
             ],
             [
              0.5555555555555556,
              "#d8576b"
             ],
             [
              0.6666666666666666,
              "#ed7953"
             ],
             [
              0.7777777777777778,
              "#fb9f3a"
             ],
             [
              0.8888888888888888,
              "#fdca26"
             ],
             [
              1,
              "#f0f921"
             ]
            ],
            "type": "histogram2d"
           }
          ],
          "histogram2dcontour": [
           {
            "colorbar": {
             "outlinewidth": 0,
             "ticks": ""
            },
            "colorscale": [
             [
              0,
              "#0d0887"
             ],
             [
              0.1111111111111111,
              "#46039f"
             ],
             [
              0.2222222222222222,
              "#7201a8"
             ],
             [
              0.3333333333333333,
              "#9c179e"
             ],
             [
              0.4444444444444444,
              "#bd3786"
             ],
             [
              0.5555555555555556,
              "#d8576b"
             ],
             [
              0.6666666666666666,
              "#ed7953"
             ],
             [
              0.7777777777777778,
              "#fb9f3a"
             ],
             [
              0.8888888888888888,
              "#fdca26"
             ],
             [
              1,
              "#f0f921"
             ]
            ],
            "type": "histogram2dcontour"
           }
          ],
          "mesh3d": [
           {
            "colorbar": {
             "outlinewidth": 0,
             "ticks": ""
            },
            "type": "mesh3d"
           }
          ],
          "parcoords": [
           {
            "line": {
             "colorbar": {
              "outlinewidth": 0,
              "ticks": ""
             }
            },
            "type": "parcoords"
           }
          ],
          "pie": [
           {
            "automargin": true,
            "type": "pie"
           }
          ],
          "scatter": [
           {
            "marker": {
             "colorbar": {
              "outlinewidth": 0,
              "ticks": ""
             }
            },
            "type": "scatter"
           }
          ],
          "scatter3d": [
           {
            "line": {
             "colorbar": {
              "outlinewidth": 0,
              "ticks": ""
             }
            },
            "marker": {
             "colorbar": {
              "outlinewidth": 0,
              "ticks": ""
             }
            },
            "type": "scatter3d"
           }
          ],
          "scattercarpet": [
           {
            "marker": {
             "colorbar": {
              "outlinewidth": 0,
              "ticks": ""
             }
            },
            "type": "scattercarpet"
           }
          ],
          "scattergeo": [
           {
            "marker": {
             "colorbar": {
              "outlinewidth": 0,
              "ticks": ""
             }
            },
            "type": "scattergeo"
           }
          ],
          "scattergl": [
           {
            "marker": {
             "colorbar": {
              "outlinewidth": 0,
              "ticks": ""
             }
            },
            "type": "scattergl"
           }
          ],
          "scattermapbox": [
           {
            "marker": {
             "colorbar": {
              "outlinewidth": 0,
              "ticks": ""
             }
            },
            "type": "scattermapbox"
           }
          ],
          "scatterpolar": [
           {
            "marker": {
             "colorbar": {
              "outlinewidth": 0,
              "ticks": ""
             }
            },
            "type": "scatterpolar"
           }
          ],
          "scatterpolargl": [
           {
            "marker": {
             "colorbar": {
              "outlinewidth": 0,
              "ticks": ""
             }
            },
            "type": "scatterpolargl"
           }
          ],
          "scatterternary": [
           {
            "marker": {
             "colorbar": {
              "outlinewidth": 0,
              "ticks": ""
             }
            },
            "type": "scatterternary"
           }
          ],
          "surface": [
           {
            "colorbar": {
             "outlinewidth": 0,
             "ticks": ""
            },
            "colorscale": [
             [
              0,
              "#0d0887"
             ],
             [
              0.1111111111111111,
              "#46039f"
             ],
             [
              0.2222222222222222,
              "#7201a8"
             ],
             [
              0.3333333333333333,
              "#9c179e"
             ],
             [
              0.4444444444444444,
              "#bd3786"
             ],
             [
              0.5555555555555556,
              "#d8576b"
             ],
             [
              0.6666666666666666,
              "#ed7953"
             ],
             [
              0.7777777777777778,
              "#fb9f3a"
             ],
             [
              0.8888888888888888,
              "#fdca26"
             ],
             [
              1,
              "#f0f921"
             ]
            ],
            "type": "surface"
           }
          ],
          "table": [
           {
            "cells": {
             "fill": {
              "color": "#EBF0F8"
             },
             "line": {
              "color": "white"
             }
            },
            "header": {
             "fill": {
              "color": "#C8D4E3"
             },
             "line": {
              "color": "white"
             }
            },
            "type": "table"
           }
          ]
         },
         "layout": {
          "annotationdefaults": {
           "arrowcolor": "#2a3f5f",
           "arrowhead": 0,
           "arrowwidth": 1
          },
          "autotypenumbers": "strict",
          "coloraxis": {
           "colorbar": {
            "outlinewidth": 0,
            "ticks": ""
           }
          },
          "colorscale": {
           "diverging": [
            [
             0,
             "#8e0152"
            ],
            [
             0.1,
             "#c51b7d"
            ],
            [
             0.2,
             "#de77ae"
            ],
            [
             0.3,
             "#f1b6da"
            ],
            [
             0.4,
             "#fde0ef"
            ],
            [
             0.5,
             "#f7f7f7"
            ],
            [
             0.6,
             "#e6f5d0"
            ],
            [
             0.7,
             "#b8e186"
            ],
            [
             0.8,
             "#7fbc41"
            ],
            [
             0.9,
             "#4d9221"
            ],
            [
             1,
             "#276419"
            ]
           ],
           "sequential": [
            [
             0,
             "#0d0887"
            ],
            [
             0.1111111111111111,
             "#46039f"
            ],
            [
             0.2222222222222222,
             "#7201a8"
            ],
            [
             0.3333333333333333,
             "#9c179e"
            ],
            [
             0.4444444444444444,
             "#bd3786"
            ],
            [
             0.5555555555555556,
             "#d8576b"
            ],
            [
             0.6666666666666666,
             "#ed7953"
            ],
            [
             0.7777777777777778,
             "#fb9f3a"
            ],
            [
             0.8888888888888888,
             "#fdca26"
            ],
            [
             1,
             "#f0f921"
            ]
           ],
           "sequentialminus": [
            [
             0,
             "#0d0887"
            ],
            [
             0.1111111111111111,
             "#46039f"
            ],
            [
             0.2222222222222222,
             "#7201a8"
            ],
            [
             0.3333333333333333,
             "#9c179e"
            ],
            [
             0.4444444444444444,
             "#bd3786"
            ],
            [
             0.5555555555555556,
             "#d8576b"
            ],
            [
             0.6666666666666666,
             "#ed7953"
            ],
            [
             0.7777777777777778,
             "#fb9f3a"
            ],
            [
             0.8888888888888888,
             "#fdca26"
            ],
            [
             1,
             "#f0f921"
            ]
           ]
          },
          "colorway": [
           "#636efa",
           "#EF553B",
           "#00cc96",
           "#ab63fa",
           "#FFA15A",
           "#19d3f3",
           "#FF6692",
           "#B6E880",
           "#FF97FF",
           "#FECB52"
          ],
          "font": {
           "color": "#2a3f5f"
          },
          "geo": {
           "bgcolor": "white",
           "lakecolor": "white",
           "landcolor": "#E5ECF6",
           "showlakes": true,
           "showland": true,
           "subunitcolor": "white"
          },
          "hoverlabel": {
           "align": "left"
          },
          "hovermode": "closest",
          "mapbox": {
           "style": "light"
          },
          "paper_bgcolor": "white",
          "plot_bgcolor": "#E5ECF6",
          "polar": {
           "angularaxis": {
            "gridcolor": "white",
            "linecolor": "white",
            "ticks": ""
           },
           "bgcolor": "#E5ECF6",
           "radialaxis": {
            "gridcolor": "white",
            "linecolor": "white",
            "ticks": ""
           }
          },
          "scene": {
           "xaxis": {
            "backgroundcolor": "#E5ECF6",
            "gridcolor": "white",
            "gridwidth": 2,
            "linecolor": "white",
            "showbackground": true,
            "ticks": "",
            "zerolinecolor": "white"
           },
           "yaxis": {
            "backgroundcolor": "#E5ECF6",
            "gridcolor": "white",
            "gridwidth": 2,
            "linecolor": "white",
            "showbackground": true,
            "ticks": "",
            "zerolinecolor": "white"
           },
           "zaxis": {
            "backgroundcolor": "#E5ECF6",
            "gridcolor": "white",
            "gridwidth": 2,
            "linecolor": "white",
            "showbackground": true,
            "ticks": "",
            "zerolinecolor": "white"
           }
          },
          "shapedefaults": {
           "line": {
            "color": "#2a3f5f"
           }
          },
          "ternary": {
           "aaxis": {
            "gridcolor": "white",
            "linecolor": "white",
            "ticks": ""
           },
           "baxis": {
            "gridcolor": "white",
            "linecolor": "white",
            "ticks": ""
           },
           "bgcolor": "#E5ECF6",
           "caxis": {
            "gridcolor": "white",
            "linecolor": "white",
            "ticks": ""
           }
          },
          "title": {
           "x": 0.05
          },
          "xaxis": {
           "automargin": true,
           "gridcolor": "white",
           "linecolor": "white",
           "ticks": "",
           "title": {
            "standoff": 15
           },
           "zerolinecolor": "white",
           "zerolinewidth": 2
          },
          "yaxis": {
           "automargin": true,
           "gridcolor": "white",
           "linecolor": "white",
           "ticks": "",
           "title": {
            "standoff": 15
           },
           "zerolinecolor": "white",
           "zerolinewidth": 2
          }
         }
        }
       }
      },
      "text/html": [
       "<div>                            <div id=\"f496e81f-a791-4b16-b122-756d68d7e6f7\" class=\"plotly-graph-div\" style=\"height:525px; width:100%;\"></div>            <script type=\"text/javascript\">                require([\"plotly\"], function(Plotly) {                    window.PLOTLYENV=window.PLOTLYENV || {};                                    if (document.getElementById(\"f496e81f-a791-4b16-b122-756d68d7e6f7\")) {                    Plotly.newPlot(                        \"f496e81f-a791-4b16-b122-756d68d7e6f7\",                        [{\"marker\":{\"opacity\":0.8},\"mode\":\"markers\",\"name\":\"Black&Scholes model Price\",\"type\":\"scatter3d\",\"x\":[37000.0,38000.0,39000.0,37000.0,38000.0,37000.0,38000.0,39000.0,40000.0,42000.0,44000.0,45000.0,38000.0,40000.0,42000.0,45000.0,46000.0,55000.0,38000.0,40000.0,42000.0,45000.0,50000.0],\"y\":[0.0008756333470934239,0.0008756333470934239,0.0008756333470934239,0.0036153593744906844,0.0036153593744906844,0.006355085401887945,0.006355085401887945,0.006355085401887945,0.006355085401887945,0.006355085401887945,0.006355085401887945,0.006355085401887945,0.025533167593668766,0.025533167593668766,0.025533167593668766,0.025533167593668766,0.025533167593668766,0.025533167593668766,0.04471124978544959,0.04471124978544959,0.04471124978544959,0.04471124978544959,0.04471124978544959],\"z\":[0.01107691269953115,0.0026823799274117155,0.001208348696026429,0.036190503108716854,0.007434079446413833,0.030959642526990905,0.015267807027738556,0.0074616002311564955,0.005434855768270075,0.00276974831895882,0.001319203711114325,0.000688133528182075,0.04009575044709557,0.023995748946752826,0.013846707974169536,0.005488075288683336,0.004782495507621831,0.001083423732546808,0.0626635024619624,0.04100121414513236,0.027147547508103553,0.014779460752079476,0.006092862909334418]},{\"marker\":{\"opacity\":0.8},\"mode\":\"markers\",\"name\":\"Real Market Price\",\"type\":\"scatter3d\",\"x\":[37000.0,38000.0,39000.0,37000.0,38000.0,37000.0,38000.0,39000.0,40000.0,42000.0,44000.0,45000.0,38000.0,40000.0,42000.0,45000.0,46000.0,55000.0,38000.0,40000.0,42000.0,45000.0,50000.0],\"y\":[0.0008756333470934239,0.0008756333470934239,0.0008756333470934239,0.0036153593744906844,0.0036153593744906844,0.006355085401887945,0.006355085401887945,0.006355085401887945,0.006355085401887945,0.006355085401887945,0.006355085401887945,0.006355085401887945,0.025533167593668766,0.025533167593668766,0.025533167593668766,0.025533167593668766,0.025533167593668766,0.025533167593668766,0.04471124978544959,0.04471124978544959,0.04471124978544959,0.04471124978544959,0.04471124978544959],\"z\":[0.011016459197786998,0.0026739290862712655,0.0012055464926590538,0.03549554278404814,0.007346814398064472,0.029904802991133766,0.014976353557541037,0.00735615490277161,0.005373218500855072,0.0027463634103902556,0.001309963099630996,0.0006835558252427187,0.03742324478178369,0.02307318689112015,0.01344725219604101,0.005364863526849072,0.004682570049597628,0.001067948717948718,0.05583756529941608,0.03842249973364992,0.02587824396489804,0.014251856300502292,0.005926794562742735]},{\"marker\":{\"opacity\":0.8},\"mode\":\"markers\",\"name\":\"Merton Model Price\",\"type\":\"scatter3d\",\"x\":[37000.0,38000.0,39000.0,37000.0,38000.0,37000.0,38000.0,39000.0,40000.0,42000.0,44000.0,45000.0,38000.0,40000.0,42000.0,45000.0,46000.0,55000.0,38000.0,40000.0,42000.0,45000.0,50000.0],\"y\":[0.0008756333470934239,0.0008756333470934239,0.0008756333470934239,0.0036153593744906844,0.0036153593744906844,0.006355085401887945,0.006355085401887945,0.006355085401887945,0.006355085401887945,0.006355085401887945,0.006355085401887945,0.006355085401887945,0.025533167593668766,0.025533167593668766,0.025533167593668766,0.025533167593668766,0.025533167593668766,0.025533167593668766,0.04471124978544959,0.04471124978544959,0.04471124978544959,0.04471124978544959,0.04471124978544959],\"z\":[0.01107184028555114,0.0026796550832306433,0.0012063563808014884,0.036119772109826864,0.00739151229399502,0.03073892590526117,0.015146702105042526,0.00737148728274645,0.006228684133287692,0.005633455312203091,0.005039119243509202,0.004740993255754248,0.03827261682281185,0.025016863288367327,0.022620882986636986,0.019037854461348452,0.017846957419897756,0.00708231536542998,0.05709514782390342,0.043855782713312814,0.03966527990427813,0.03339159359583885,0.022929451082155942]},{\"marker\":{\"opacity\":0.8},\"mode\":\"markers\",\"name\":\"Heston Model Price\",\"type\":\"scatter3d\",\"x\":[37000.0,38000.0,39000.0,37000.0,38000.0,37000.0,38000.0,39000.0,40000.0,42000.0,44000.0,45000.0,38000.0,40000.0,42000.0,45000.0,46000.0,55000.0,38000.0,40000.0,42000.0,45000.0,50000.0],\"y\":[0.0008756333470934239,0.0008756333470934239,0.0008756333470934239,0.0036153593744906844,0.0036153593744906844,0.006355085401887945,0.006355085401887945,0.006355085401887945,0.006355085401887945,0.006355085401887945,0.006355085401887945,0.006355085401887945,0.025533167593668766,0.025533167593668766,0.025533167593668766,0.025533167593668766,0.025533167593668766,0.025533167593668766,0.04471124978544959,0.04471124978544959,0.04471124978544959,0.04471124978544959,0.04471124978544959],\"z\":[0.0034864060337885454,0.0004828971885406988,2.4154301683287377e-05,0.013576488581647632,0.006505196033161255,0.020695294753229246,0.01232043353452369,0.006890951047429968,0.003621746379876909,0.0008400922287480358,0.0001568825388900046,6.277102257198195e-05,0.04000925839727238,0.02446519487594125,0.014325035015004133,0.005990966802317936,0.004408963929671287,0.00020803068504617628,0.0585188582561698,0.04123279419361469,0.028476137335949323,0.01583294452101551,0.005551183410438941]}],                        {\"scene\":{\"xaxis\":{\"title\":{\"text\":\"Strike\"}},\"yaxis\":{\"title\":{\"text\":\"Exp\"}},\"zaxis\":{\"title\":{\"text\":\"Price\"}}},\"template\":{\"data\":{\"bar\":[{\"error_x\":{\"color\":\"#2a3f5f\"},\"error_y\":{\"color\":\"#2a3f5f\"},\"marker\":{\"line\":{\"color\":\"#E5ECF6\",\"width\":0.5},\"pattern\":{\"fillmode\":\"overlay\",\"size\":10,\"solidity\":0.2}},\"type\":\"bar\"}],\"barpolar\":[{\"marker\":{\"line\":{\"color\":\"#E5ECF6\",\"width\":0.5},\"pattern\":{\"fillmode\":\"overlay\",\"size\":10,\"solidity\":0.2}},\"type\":\"barpolar\"}],\"carpet\":[{\"aaxis\":{\"endlinecolor\":\"#2a3f5f\",\"gridcolor\":\"white\",\"linecolor\":\"white\",\"minorgridcolor\":\"white\",\"startlinecolor\":\"#2a3f5f\"},\"baxis\":{\"endlinecolor\":\"#2a3f5f\",\"gridcolor\":\"white\",\"linecolor\":\"white\",\"minorgridcolor\":\"white\",\"startlinecolor\":\"#2a3f5f\"},\"type\":\"carpet\"}],\"choropleth\":[{\"colorbar\":{\"outlinewidth\":0,\"ticks\":\"\"},\"type\":\"choropleth\"}],\"contour\":[{\"colorbar\":{\"outlinewidth\":0,\"ticks\":\"\"},\"colorscale\":[[0.0,\"#0d0887\"],[0.1111111111111111,\"#46039f\"],[0.2222222222222222,\"#7201a8\"],[0.3333333333333333,\"#9c179e\"],[0.4444444444444444,\"#bd3786\"],[0.5555555555555556,\"#d8576b\"],[0.6666666666666666,\"#ed7953\"],[0.7777777777777778,\"#fb9f3a\"],[0.8888888888888888,\"#fdca26\"],[1.0,\"#f0f921\"]],\"type\":\"contour\"}],\"contourcarpet\":[{\"colorbar\":{\"outlinewidth\":0,\"ticks\":\"\"},\"type\":\"contourcarpet\"}],\"heatmap\":[{\"colorbar\":{\"outlinewidth\":0,\"ticks\":\"\"},\"colorscale\":[[0.0,\"#0d0887\"],[0.1111111111111111,\"#46039f\"],[0.2222222222222222,\"#7201a8\"],[0.3333333333333333,\"#9c179e\"],[0.4444444444444444,\"#bd3786\"],[0.5555555555555556,\"#d8576b\"],[0.6666666666666666,\"#ed7953\"],[0.7777777777777778,\"#fb9f3a\"],[0.8888888888888888,\"#fdca26\"],[1.0,\"#f0f921\"]],\"type\":\"heatmap\"}],\"heatmapgl\":[{\"colorbar\":{\"outlinewidth\":0,\"ticks\":\"\"},\"colorscale\":[[0.0,\"#0d0887\"],[0.1111111111111111,\"#46039f\"],[0.2222222222222222,\"#7201a8\"],[0.3333333333333333,\"#9c179e\"],[0.4444444444444444,\"#bd3786\"],[0.5555555555555556,\"#d8576b\"],[0.6666666666666666,\"#ed7953\"],[0.7777777777777778,\"#fb9f3a\"],[0.8888888888888888,\"#fdca26\"],[1.0,\"#f0f921\"]],\"type\":\"heatmapgl\"}],\"histogram\":[{\"marker\":{\"pattern\":{\"fillmode\":\"overlay\",\"size\":10,\"solidity\":0.2}},\"type\":\"histogram\"}],\"histogram2d\":[{\"colorbar\":{\"outlinewidth\":0,\"ticks\":\"\"},\"colorscale\":[[0.0,\"#0d0887\"],[0.1111111111111111,\"#46039f\"],[0.2222222222222222,\"#7201a8\"],[0.3333333333333333,\"#9c179e\"],[0.4444444444444444,\"#bd3786\"],[0.5555555555555556,\"#d8576b\"],[0.6666666666666666,\"#ed7953\"],[0.7777777777777778,\"#fb9f3a\"],[0.8888888888888888,\"#fdca26\"],[1.0,\"#f0f921\"]],\"type\":\"histogram2d\"}],\"histogram2dcontour\":[{\"colorbar\":{\"outlinewidth\":0,\"ticks\":\"\"},\"colorscale\":[[0.0,\"#0d0887\"],[0.1111111111111111,\"#46039f\"],[0.2222222222222222,\"#7201a8\"],[0.3333333333333333,\"#9c179e\"],[0.4444444444444444,\"#bd3786\"],[0.5555555555555556,\"#d8576b\"],[0.6666666666666666,\"#ed7953\"],[0.7777777777777778,\"#fb9f3a\"],[0.8888888888888888,\"#fdca26\"],[1.0,\"#f0f921\"]],\"type\":\"histogram2dcontour\"}],\"mesh3d\":[{\"colorbar\":{\"outlinewidth\":0,\"ticks\":\"\"},\"type\":\"mesh3d\"}],\"parcoords\":[{\"line\":{\"colorbar\":{\"outlinewidth\":0,\"ticks\":\"\"}},\"type\":\"parcoords\"}],\"pie\":[{\"automargin\":true,\"type\":\"pie\"}],\"scatter\":[{\"marker\":{\"colorbar\":{\"outlinewidth\":0,\"ticks\":\"\"}},\"type\":\"scatter\"}],\"scatter3d\":[{\"line\":{\"colorbar\":{\"outlinewidth\":0,\"ticks\":\"\"}},\"marker\":{\"colorbar\":{\"outlinewidth\":0,\"ticks\":\"\"}},\"type\":\"scatter3d\"}],\"scattercarpet\":[{\"marker\":{\"colorbar\":{\"outlinewidth\":0,\"ticks\":\"\"}},\"type\":\"scattercarpet\"}],\"scattergeo\":[{\"marker\":{\"colorbar\":{\"outlinewidth\":0,\"ticks\":\"\"}},\"type\":\"scattergeo\"}],\"scattergl\":[{\"marker\":{\"colorbar\":{\"outlinewidth\":0,\"ticks\":\"\"}},\"type\":\"scattergl\"}],\"scattermapbox\":[{\"marker\":{\"colorbar\":{\"outlinewidth\":0,\"ticks\":\"\"}},\"type\":\"scattermapbox\"}],\"scatterpolar\":[{\"marker\":{\"colorbar\":{\"outlinewidth\":0,\"ticks\":\"\"}},\"type\":\"scatterpolar\"}],\"scatterpolargl\":[{\"marker\":{\"colorbar\":{\"outlinewidth\":0,\"ticks\":\"\"}},\"type\":\"scatterpolargl\"}],\"scatterternary\":[{\"marker\":{\"colorbar\":{\"outlinewidth\":0,\"ticks\":\"\"}},\"type\":\"scatterternary\"}],\"surface\":[{\"colorbar\":{\"outlinewidth\":0,\"ticks\":\"\"},\"colorscale\":[[0.0,\"#0d0887\"],[0.1111111111111111,\"#46039f\"],[0.2222222222222222,\"#7201a8\"],[0.3333333333333333,\"#9c179e\"],[0.4444444444444444,\"#bd3786\"],[0.5555555555555556,\"#d8576b\"],[0.6666666666666666,\"#ed7953\"],[0.7777777777777778,\"#fb9f3a\"],[0.8888888888888888,\"#fdca26\"],[1.0,\"#f0f921\"]],\"type\":\"surface\"}],\"table\":[{\"cells\":{\"fill\":{\"color\":\"#EBF0F8\"},\"line\":{\"color\":\"white\"}},\"header\":{\"fill\":{\"color\":\"#C8D4E3\"},\"line\":{\"color\":\"white\"}},\"type\":\"table\"}]},\"layout\":{\"annotationdefaults\":{\"arrowcolor\":\"#2a3f5f\",\"arrowhead\":0,\"arrowwidth\":1},\"autotypenumbers\":\"strict\",\"coloraxis\":{\"colorbar\":{\"outlinewidth\":0,\"ticks\":\"\"}},\"colorscale\":{\"diverging\":[[0,\"#8e0152\"],[0.1,\"#c51b7d\"],[0.2,\"#de77ae\"],[0.3,\"#f1b6da\"],[0.4,\"#fde0ef\"],[0.5,\"#f7f7f7\"],[0.6,\"#e6f5d0\"],[0.7,\"#b8e186\"],[0.8,\"#7fbc41\"],[0.9,\"#4d9221\"],[1,\"#276419\"]],\"sequential\":[[0.0,\"#0d0887\"],[0.1111111111111111,\"#46039f\"],[0.2222222222222222,\"#7201a8\"],[0.3333333333333333,\"#9c179e\"],[0.4444444444444444,\"#bd3786\"],[0.5555555555555556,\"#d8576b\"],[0.6666666666666666,\"#ed7953\"],[0.7777777777777778,\"#fb9f3a\"],[0.8888888888888888,\"#fdca26\"],[1.0,\"#f0f921\"]],\"sequentialminus\":[[0.0,\"#0d0887\"],[0.1111111111111111,\"#46039f\"],[0.2222222222222222,\"#7201a8\"],[0.3333333333333333,\"#9c179e\"],[0.4444444444444444,\"#bd3786\"],[0.5555555555555556,\"#d8576b\"],[0.6666666666666666,\"#ed7953\"],[0.7777777777777778,\"#fb9f3a\"],[0.8888888888888888,\"#fdca26\"],[1.0,\"#f0f921\"]]},\"colorway\":[\"#636efa\",\"#EF553B\",\"#00cc96\",\"#ab63fa\",\"#FFA15A\",\"#19d3f3\",\"#FF6692\",\"#B6E880\",\"#FF97FF\",\"#FECB52\"],\"font\":{\"color\":\"#2a3f5f\"},\"geo\":{\"bgcolor\":\"white\",\"lakecolor\":\"white\",\"landcolor\":\"#E5ECF6\",\"showlakes\":true,\"showland\":true,\"subunitcolor\":\"white\"},\"hoverlabel\":{\"align\":\"left\"},\"hovermode\":\"closest\",\"mapbox\":{\"style\":\"light\"},\"paper_bgcolor\":\"white\",\"plot_bgcolor\":\"#E5ECF6\",\"polar\":{\"angularaxis\":{\"gridcolor\":\"white\",\"linecolor\":\"white\",\"ticks\":\"\"},\"bgcolor\":\"#E5ECF6\",\"radialaxis\":{\"gridcolor\":\"white\",\"linecolor\":\"white\",\"ticks\":\"\"}},\"scene\":{\"xaxis\":{\"backgroundcolor\":\"#E5ECF6\",\"gridcolor\":\"white\",\"gridwidth\":2,\"linecolor\":\"white\",\"showbackground\":true,\"ticks\":\"\",\"zerolinecolor\":\"white\"},\"yaxis\":{\"backgroundcolor\":\"#E5ECF6\",\"gridcolor\":\"white\",\"gridwidth\":2,\"linecolor\":\"white\",\"showbackground\":true,\"ticks\":\"\",\"zerolinecolor\":\"white\"},\"zaxis\":{\"backgroundcolor\":\"#E5ECF6\",\"gridcolor\":\"white\",\"gridwidth\":2,\"linecolor\":\"white\",\"showbackground\":true,\"ticks\":\"\",\"zerolinecolor\":\"white\"}},\"shapedefaults\":{\"line\":{\"color\":\"#2a3f5f\"}},\"ternary\":{\"aaxis\":{\"gridcolor\":\"white\",\"linecolor\":\"white\",\"ticks\":\"\"},\"baxis\":{\"gridcolor\":\"white\",\"linecolor\":\"white\",\"ticks\":\"\"},\"bgcolor\":\"#E5ECF6\",\"caxis\":{\"gridcolor\":\"white\",\"linecolor\":\"white\",\"ticks\":\"\"}},\"title\":{\"x\":0.05},\"xaxis\":{\"automargin\":true,\"gridcolor\":\"white\",\"linecolor\":\"white\",\"ticks\":\"\",\"title\":{\"standoff\":15},\"zerolinecolor\":\"white\",\"zerolinewidth\":2},\"yaxis\":{\"automargin\":true,\"gridcolor\":\"white\",\"linecolor\":\"white\",\"ticks\":\"\",\"title\":{\"standoff\":15},\"zerolinecolor\":\"white\",\"zerolinewidth\":2}}}},                        {\"responsive\": true}                    ).then(function(){\n",
       "                            \n",
       "var gd = document.getElementById('f496e81f-a791-4b16-b122-756d68d7e6f7');\n",
       "var x = new MutationObserver(function (mutations, observer) {{\n",
       "        var display = window.getComputedStyle(gd).display;\n",
       "        if (!display || display === 'none') {{\n",
       "            console.log([gd, 'removed!']);\n",
       "            Plotly.purge(gd);\n",
       "            observer.disconnect();\n",
       "        }}\n",
       "}});\n",
       "\n",
       "// Listen for the removal of the full notebook cells\n",
       "var notebookContainer = gd.closest('#notebook-container');\n",
       "if (notebookContainer) {{\n",
       "    x.observe(notebookContainer, {childList: true});\n",
       "}}\n",
       "\n",
       "// Listen for the clearing of the current output cell\n",
       "var outputEl = gd.closest('.output');\n",
       "if (outputEl) {{\n",
       "    x.observe(outputEl, {childList: true});\n",
       "}}\n",
       "\n",
       "                        })                };                });            </script>        </div>"
      ]
     },
     "metadata": {},
     "output_type": "display_data"
    },
    {
     "name": "stdout",
     "output_type": "stream",
     "text": [
      "Root Mean Squared Error | MERTON = 0.780813 %\n",
      "Root Mean Squared Error | B&S    = 0.168169 %\n",
      "Root Mean Squared Error | HESTON    = 0.543592 %\n"
     ]
    }
   ],
   "source": [
    "x = option.df['K']\n",
    "y = option.df['_T']\n",
    "z = option.df['BS_PRICE']\n",
    "z2 = option.df['mid']\n",
    "z3 = option.df['MERTON_PRICE']\n",
    "z4 = option.df['HESTON_PRICE']\n",
    "\n",
    "\n",
    "#fig = go.Figure(data=[go.Scatter3d(x=x, y=y, z=z , mode='markers', name='BS price')])\n",
    "\n",
    "fig = go.Figure(data=[go.Scatter3d(x=x, y=y, z=z , mode='markers', name='Black&Scholes model Price', marker=dict(opacity=0.8)),\n",
    "                      go.Scatter3d(x=x, y=y, z=z2, mode='markers', name='Real Market Price', marker=dict(opacity=0.8)),\n",
    "                      go.Scatter3d(x=x, y=y, z=z3, mode='markers', name='Merton Model Price', marker=dict(opacity=0.8),),\n",
    "                      go.Scatter3d(x=x, y=y, z=z4, mode='markers', name='Heston Model Price', marker=dict(opacity=0.8))])\n",
    "\n",
    "\n",
    "fig.update_scenes(xaxis_title_text='Strike', yaxis_title_text='Exp', zaxis_title_text='Price') \n",
    "fig.show()\n",
    "\n",
    "rms_merton = mean_squared_error(option.df['mid'], option.df['MERTON_PRICE'], squared=False)\n",
    "rms_bs     = mean_squared_error(option.df['mid'], option.df['BS_PRICE'], squared=False)\n",
    "rms_heston = mean_squared_error(option.df['mid'], option.df['HESTON_PRICE'], squared=False)\n",
    "\n",
    "print('Root Mean Squared Error | MERTON = {} %'.format(round(rms_merton*100,6)))\n",
    "print('Root Mean Squared Error | B&S    = {} %'.format(round(rms_bs*100,6)))\n",
    "print('Root Mean Squared Error | HESTON    = {} %'.format(round(rms_heston*100,6)))"
   ]
  },
  {
   "cell_type": "code",
   "execution_count": null,
   "metadata": {},
   "outputs": [],
   "source": []
  },
  {
   "cell_type": "markdown",
   "metadata": {},
   "source": [
    "## Test optim Heston"
   ]
  },
  {
   "cell_type": "code",
   "execution_count": 65,
   "metadata": {},
   "outputs": [
    {
     "name": "stdout",
     "output_type": "stream",
     "text": [
      "     fun: 0.026069755825197646\n",
      "     jac: array([-0.00067326,  0.00097389,  0.00022047, -0.00024913,  0.00063245])\n",
      " message: 'Optimization terminated successfully.'\n",
      "    nfev: 36\n",
      "     nit: 5\n",
      "    njev: 5\n",
      "  status: 0\n",
      " success: True\n",
      "       x: array([0.93535951, 0.14206404, 0.8073167 , 2.99901601, 0.27319069])\n"
     ]
    }
   ],
   "source": [
    "x0 = np.array([0.08, 0.10, 0.8, 3, 0.25])\n",
    "res = option.optimize_heston(x0,tol = 1e-5, max_iter =300 )"
   ]
  },
  {
   "cell_type": "code",
   "execution_count": null,
   "metadata": {},
   "outputs": [],
   "source": []
  },
  {
   "cell_type": "code",
   "execution_count": 66,
   "metadata": {},
   "outputs": [],
   "source": [
    "option.init_heston(theta = res)\n",
    "option.append_Heston_prices()"
   ]
  },
  {
   "cell_type": "code",
   "execution_count": null,
   "metadata": {},
   "outputs": [],
   "source": []
  },
  {
   "cell_type": "code",
   "execution_count": null,
   "metadata": {},
   "outputs": [],
   "source": []
  },
  {
   "cell_type": "code",
   "execution_count": null,
   "metadata": {},
   "outputs": [],
   "source": []
  }
 ],
 "metadata": {
  "colab": {
   "collapsed_sections": [],
   "name": "main_notebook-Copy1.ipynb",
   "provenance": []
  },
  "kernelspec": {
   "display_name": "Python 3",
   "language": "python",
   "name": "python3"
  },
  "language_info": {
   "codemirror_mode": {
    "name": "ipython",
    "version": 3
   },
   "file_extension": ".py",
   "mimetype": "text/x-python",
   "name": "python",
   "nbconvert_exporter": "python",
   "pygments_lexer": "ipython3",
   "version": "3.7.6"
  }
 },
 "nbformat": 4,
 "nbformat_minor": 1
}
