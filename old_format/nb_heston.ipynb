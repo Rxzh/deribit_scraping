{
 "cells": [
  {
   "cell_type": "code",
   "execution_count": 34,
   "metadata": {
    "id": "ruy331DppbQS"
   },
   "outputs": [],
   "source": [
    "import deribit_data as dm\n",
    "from option import Option\n",
    "import numpy as np\n",
    "from utils import *\n",
    "from sklearn.metrics import mean_squared_error\n",
    "import plotly.graph_objects as go   "
   ]
  },
  {
   "cell_type": "code",
   "execution_count": 35,
   "metadata": {
    "id": "seQxMDPDpbQX"
   },
   "outputs": [],
   "source": [
    "data = dm.Scraper(currency='BTC')"
   ]
  },
  {
   "cell_type": "code",
   "execution_count": 36,
   "metadata": {
    "colab": {
     "base_uri": "https://localhost:8080/"
    },
    "id": "P5U_VxlbpbQY",
    "outputId": "b0c051ec-98a7-4b64-9747-4411c4487d57"
   },
   "outputs": [
    {
     "name": "stdout",
     "output_type": "stream",
     "text": [
      "Collecting data...\n",
      "Data Collected\n"
     ]
    }
   ],
   "source": [
    "raw_df = data.collect_data(max_workers = 15, save_csv = False)"
   ]
  },
  {
   "cell_type": "code",
   "execution_count": 37,
   "metadata": {
    "id": "lBXr2WdxpbQZ"
   },
   "outputs": [],
   "source": [
    "raw = raw_df.copy()"
   ]
  },
  {
   "cell_type": "code",
   "execution_count": 38,
   "metadata": {
    "id": "UkXJQMJwpbQa"
   },
   "outputs": [
    {
     "name": "stderr",
     "output_type": "stream",
     "text": [
      "/Users/pierrebelamri/Documents/GitHub/deribit_scraping/utils.py:104: SettingWithCopyWarning: \n",
      "A value is trying to be set on a copy of a slice from a DataFrame.\n",
      "Try using .loc[row_indexer,col_indexer] = value instead\n",
      "\n",
      "See the caveats in the documentation: https://pandas.pydata.org/pandas-docs/stable/user_guide/indexing.html#returning-a-view-versus-a-copy\n",
      "  df['mid_iv'] = (df.bid_iv + df.ask_iv)/2\n",
      "/Users/pierrebelamri/Documents/GitHub/deribit_scraping/utils.py:128: SettingWithCopyWarning: \n",
      "A value is trying to be set on a copy of a slice from a DataFrame.\n",
      "Try using .loc[row_indexer,col_indexer] = value instead\n",
      "\n",
      "See the caveats in the documentation: https://pandas.pydata.org/pandas-docs/stable/user_guide/indexing.html#returning-a-view-versus-a-copy\n",
      "  df['_T'] = df['_T'].apply(to_ts) - datetime.datetime.timestamp(datetime.datetime.today())#btc_subset['timestamp'].apply(ms_to_s)\n",
      "/Users/pierrebelamri/Documents/GitHub/deribit_scraping/utils.py:129: SettingWithCopyWarning: \n",
      "A value is trying to be set on a copy of a slice from a DataFrame.\n",
      "Try using .loc[row_indexer,col_indexer] = value instead\n",
      "\n",
      "See the caveats in the documentation: https://pandas.pydata.org/pandas-docs/stable/user_guide/indexing.html#returning-a-view-versus-a-copy\n",
      "  df['_T'] = df['_T'].apply(ts_to_years)\n",
      "/Users/pierrebelamri/Documents/GitHub/deribit_scraping/utils.py:138: SettingWithCopyWarning: \n",
      "A value is trying to be set on a copy of a slice from a DataFrame.\n",
      "Try using .loc[row_indexer,col_indexer] = value instead\n",
      "\n",
      "See the caveats in the documentation: https://pandas.pydata.org/pandas-docs/stable/user_guide/indexing.html#returning-a-view-versus-a-copy\n",
      "  df['bids'] = df['bids'].apply(somme_ponderee)\n",
      "/Users/pierrebelamri/Documents/GitHub/deribit_scraping/utils.py:139: SettingWithCopyWarning: \n",
      "A value is trying to be set on a copy of a slice from a DataFrame.\n",
      "Try using .loc[row_indexer,col_indexer] = value instead\n",
      "\n",
      "See the caveats in the documentation: https://pandas.pydata.org/pandas-docs/stable/user_guide/indexing.html#returning-a-view-versus-a-copy\n",
      "  df['asks'] = df['asks'].apply(somme_ponderee)\n",
      "/Users/pierrebelamri/Documents/GitHub/deribit_scraping/utils.py:140: SettingWithCopyWarning: \n",
      "A value is trying to be set on a copy of a slice from a DataFrame.\n",
      "Try using .loc[row_indexer,col_indexer] = value instead\n",
      "\n",
      "See the caveats in the documentation: https://pandas.pydata.org/pandas-docs/stable/user_guide/indexing.html#returning-a-view-versus-a-copy\n",
      "  df['mid'] = (df.bids+df.asks)/2\n"
     ]
    }
   ],
   "source": [
    "option = Option(raw, 'C')"
   ]
  },
  {
   "cell_type": "code",
   "execution_count": 39,
   "metadata": {
    "id": "HgY3BYxZpbQa"
   },
   "outputs": [],
   "source": [
    "#option.init_merton(m = 0.625038301534241, lam =0.0010591027301815744, v = 0.511097066109511,  )\n",
    "option.init_merton(reset=True)"
   ]
  },
  {
   "cell_type": "code",
   "execution_count": 40,
   "metadata": {
    "id": "aOkl1CrHuFwW"
   },
   "outputs": [],
   "source": [
    "#mkt_data=option.df[[\"mid\",\"K\",\"_T\"]]\n",
    "#mkt_data[\"mid\"]=mkt_data[\"mid\"]*option.df[\"S\"]\n",
    "#option.df[\"S\"].[0]"
   ]
  },
  {
   "cell_type": "code",
   "execution_count": 41,
   "metadata": {
    "id": "Z1sg9MoDMGD2"
   },
   "outputs": [],
   "source": [
    "import numpy as np\n",
    "import math\n",
    "\n",
    "\n",
    "class option_2():\n",
    "    def __init__(self, theta, data):\n",
    "        self.theta = theta\n",
    "        self.S_0 = data[0]\n",
    "        self.r = data[1]\n",
    "        self.M = int(data[2])\n",
    "        self.deg = int(data[3])\n",
    "        self.K = data[4]\n",
    "        self.T = data[5]\n",
    "        self.N = int(data[6])\n",
    "        self.it = int(data[7])\n",
    "    def path(self):\n",
    "        dt = self.T/self.N\n",
    "        paths = np.random.multivariate_normal([0, 0], [[1, self.theta[2]], [self.theta[2], 1]], self.N + 1).transpose()\n",
    "        paths[0, 0] = self.S_0\n",
    "        paths[1, 0] = self.theta[0]\n",
    "        for j in range(0, self.N):\n",
    "            paths[1, j + 1] = paths[1, j] + self.theta[3]*(self.theta[1] - max(paths[1, j], 0))*dt \\\n",
    "                               + self.theta[4]*np.sqrt(max(0, paths[1, j])*dt)*paths[1, j + 1]\n",
    "            paths[0, j + 1] = paths[0, j]*np.exp((self.r - max(paths[1, j], 0)/2)*dt \\\n",
    "                                                 + np.sqrt(max(paths[1, j], 0)*dt)*paths[0, j + 1])\n",
    "        return paths\n",
    "    def step(self, price, vol):\n",
    "        dt = self.T / self.N\n",
    "        norm_var = np.random.multivariate_normal([0, 0], [[1, self.theta[2]], [self.theta[2], 1]], self.it).transpose()\n",
    "        vol[vol < 0] = 0\n",
    "        sqrt_vol = np.sqrt(vol)\n",
    "        next_vol = vol + self.theta[3] * (self.theta[1] - vol) * dt \\\n",
    "                   + self.theta[4] * sqrt_vol * np.sqrt(dt) * norm_var[0, :]\n",
    "        exp_vol = (self.r - vol / 2) * dt + sqrt_vol * np.sqrt(dt) * norm_var[1, :]\n",
    "        next_price = price * np.exp(exp_vol)\n",
    "        return np.concatenate([[next_vol], [next_price]])\n",
    "    def eur_option(self):\n",
    "        return hf.eur_call_heston_price(self.theta, self.K, self.T, self.S_0, self.r, self.M, self.deg)\n",
    "    def asian_option(self):\n",
    "        price = np.empty(self.it)\n",
    "        price.fill(self.S_0)\n",
    "        vol = np.empty(self.it)\n",
    "        vol.fill(self.theta[0])\n",
    "        sum = np.zeros(self.it)\n",
    "        for j in range(0, self.N):\n",
    "            next = self.step(price, vol)\n",
    "            sum = sum + next[1, :]\n",
    "            vol = next[0, :]\n",
    "            price = next[1, :]\n",
    "        asian_price = sum/self.N - self.K\n",
    "        asian_price[asian_price < 0] = 0\n",
    "        return asian_price.sum()*np.exp(- self.r*self.T)/self.it\n"
   ]
  },
  {
   "cell_type": "code",
   "execution_count": 71,
   "metadata": {
    "id": "mw8j-mytJYZ1"
   },
   "outputs": [],
   "source": [
    "import numpy as np\n",
    "import math as math\n",
    "import cmath\n",
    "#from uploading_data import mkt_data, S_0, r, M, deg\n",
    "from scipy import optimize\n",
    "theta_0 = np.array([0.08, 0.10, 0.8, 3, 0.25])\n",
    "S_0 =34400\n",
    "r = 0.01\n",
    "M = 100\n",
    "deg = 64\n",
    "#mkt_data=option.df[[\"mid\", \"K\",\"_T\"]]\n",
    "#mkt_data[\"mid\"]=mkt_data[\"mid\"]*option.df[\"S\"]\n",
    "# SECTION 1 - Functions, which are necessary to compute price of the european option for given parameters.\n",
    "def ksi(theta, u):\n",
    "    return theta[3] - theta[4]*theta[2]*u*1j\n",
    "def d(theta, u):\n",
    "    return cmath.sqrt(ksi(theta, u)*ksi(theta, u) + math.pow(theta[4], 2)*(u*u + u*1j))\n",
    "def g1(theta, u):\n",
    "    return (ksi(theta, u) + d(theta, u))/(ksi(theta, u) - d(theta, u))\n",
    "def A1(theta, u, t):\n",
    "    return (u*u + 1j*u)*cmath.sinh(d(theta, u)*t/2)\n",
    "def A2(theta, u, t):\n",
    "    return d(theta, u)*cmath.cosh(d(theta, u)*t/2)/theta[0] + ksi(theta, u)*cmath.sinh(d(theta, u)*t/2)/theta[0]\n",
    "def A(theta, u, t):\n",
    "    return A1(theta, u, t)/A2(theta, u, t)\n",
    "def B(theta, u, t):\n",
    "    return d(theta, u)*cmath.exp(theta[3]*t/2)/(A2(theta, u, t)*theta[0])\n",
    "def D(theta, u, t):\n",
    "    return cmath.log(d(theta, u)/theta[0]) + theta[3]*t/2 - cmath.log(A2(theta, u, t))\n",
    "# Equation (18) p. 9 - characteristic function, which we are going to use in out project\n",
    "def char_function(theta, u, t, S_0, r):\n",
    "    return cmath.exp(1j*u*(np.log(S_0*np.exp(r*t)/S_0)) - t*theta[3]*theta[1]*theta[2]*1j*u/theta[4] - A(theta, u, t) + \\\n",
    "                     2*theta[3]*theta[1]*D(theta, u, t)/math.pow(theta[4], 2))\n",
    "# integrate_char_function - integrals computed by means of Gauss-Legendre Quadrature\n",
    "def integrate_char_function(theta, K, t, S_0, r, i, M, deg):\n",
    "    x, w = np.polynomial.legendre.leggauss(deg)\n",
    "    u = (x[0]+1)*0.5*M\n",
    "    value = w[0]*cmath.exp(-1j*u*np.log(K/S_0))/(1j*u)*char_function(theta, u - i, t, S_0, r)\n",
    "    for j in range(1, deg): # deg - number of nodes\n",
    "        u = (x[j] + 1)*0.5*M\n",
    "        value = value + w[j]*cmath.exp(-1j*u*np.log(K/S_0))/(1j*u)*char_function(theta, u - i, t, S_0, r)\n",
    "    value = value*0.5*M\n",
    "    return value.real\n",
    "# eur_call_heston_price - Equation (9)\n",
    "def eur_call_heston_price(K, t, S_0, r=0.0, M=100, deg=64,theta=np.array([0.41055433, 2.87649559, 1.0035074 , 1.14520439, 2.15878211])):\n",
    "    return (S_0 - np.exp(-r*t)*K)/2 + np.exp(-r*t)/np.pi*(S_0*integrate_char_function(theta, K, t, S_0, r, 1j, M, deg) - \\\n",
    "                                                                K*integrate_char_function(theta, K, t, S_0, r, 0, M, deg))\n",
    "# SECTION 2 - functions, which are necessary to compute gradient of characteristic function\n",
    "def h_1(theta, u, t):\n",
    "    return -A(theta, u, t)/theta[0]\n",
    "def h_2(theta, u ,t):\n",
    "    return 2*theta[3]*D(theta, u, t)/math.pow(theta[4], 2) - t*theta[3]*theta[2]*1j*u/theta[4]\n",
    "def h_3(theta, u, t):\n",
    "    return - A_rho(theta, u, t) + 2*theta[3]*theta[1]*(d_rho(theta,u) - d(theta, u)*A2_rho(theta, u, t)/A2(theta,u,t))/ \\\n",
    "                                  (theta[4]*theta[4]*d(theta, u)) - t*theta[3]*theta[1]*1j*u/theta[4]\n",
    "def h_4(theta, u, t):\n",
    "    return A_rho(theta, u, t)/(theta[4]*1j*u) + 2*theta[1]*D(theta, u, t)/(theta[4]*theta[4]) + \\\n",
    "           2*theta[3]*theta[1]*B_kappa(theta, u, t)/(theta[4]*theta[4]*B(theta, u, t)) - \\\n",
    "           t*theta[1]*theta[2]*1j*u/theta[4]\n",
    "def h_5(theta, u, t):\n",
    "    return - A_sigma(theta, u, t) - 4*theta[3]*theta[1]*D(theta, u, t)/(math.pow(theta[4], 3)) + \\\n",
    "           2*theta[3]*theta[1]*(d_rho(theta, u) - d(theta, u)*A2_sigma(theta, u, t)/A2(theta, u, t))/ \\\n",
    "           (theta[4]*theta[4]*d(theta, u)) + t*theta[3]*theta[1]*theta[2]*1j*u/(theta[4]*theta[4])\n",
    "def d_rho(theta, u):\n",
    "    return - ksi(theta, u)*theta[4]*1j*u/d(theta, u)\n",
    "def A2_rho(theta, u, t):\n",
    "    return - theta[4]*1j*u*(2 + t*ksi(theta, u))*(ksi(theta, u)*cmath.cosh(d(theta, u)*t/2) + \\\n",
    "                                                  d(theta, u)*cmath.sinh(d(theta, u)*t/2))/(2*d(theta, u)*theta[0])\n",
    "def B_rho(theta, u, t):\n",
    "    return cmath.exp(theta[3]*t/2)*(d_rho(theta, u)/A2(theta, u, t) - \\\n",
    "                                    A2_rho(theta, u, t)/(A2(theta,u,t)*A2(theta,u,t)))/theta[0]\n",
    "def A1_rho(theta, u, t):\n",
    "    return - 1j*u*(u*u + 1j*u)*t*ksi(theta, u)*theta[4]*cmath.cosh(d(theta, u)*t/2)/(2*d(theta, u))\n",
    "def A_rho(theta, u, t):\n",
    "    return A1_rho(theta, u, t)/A2(theta, u, t) - A2_rho(theta, u, t)*A(theta, u, t)/A2(theta, u, t)\n",
    "def A_kappa(theta, u, t):\n",
    "    return 1j*A_rho(theta, u, t)/(u*theta[4])\n",
    "def B_kappa(theta, u, t):\n",
    "    return B_rho(theta, u, t)*1j/(theta[4]*u) + t*B(theta, u, t)/2\n",
    "def d_sigma(theta, u):\n",
    "    return (theta[2]/theta[4] - 1/ksi(theta, u))*d_rho(theta, u) + theta[4]*u*u/d(theta, u)\n",
    "def A1_sigma(theta, u, t):\n",
    "    return (u*u + 1j*u)*t*d_sigma(theta, u)*cmath.cosh(d(theta, u)*t/2)/2\n",
    "def A2_sigma(theta, u, t):\n",
    "    return theta[2]*A2_rho(theta, u, t)/theta[4] - (2 + t*ksi(theta, u))*A1_rho(theta, u, t)/ \\\n",
    "                                                   (1j*u*t*ksi(theta, u)*theta[0]) + theta[4]*t*A1(theta, u, t)/(2*theta[0])\n",
    "def A_sigma(theta, u, t):\n",
    "    return A1_sigma(theta, u, t)/A2(theta, u, t) - A(theta, u, t)*A2_sigma(theta, u, t)/A2(theta, u, t)\n",
    "def h(theta, u, t, which):\n",
    "    if which == 1:\n",
    "        return h_1(theta, u, t)\n",
    "    if which == 2:\n",
    "        return h_2(theta, u, t)\n",
    "    if which == 3:\n",
    "        return h_3(theta, u, t)\n",
    "    if which == 4:\n",
    "        return h_4(theta, u, t)\n",
    "    if which == 5:\n",
    "        return h_5(theta, u, t)\n",
    "# integrate_grad_function - integrals computed by means of Gauss-Legendre Quadrature\n",
    "def integrate_grad_function(theta, K, t, S_0, r, i, M, deg, which):\n",
    "    x, w = np.polynomial.legendre.leggauss(deg)\n",
    "    u = (x[0] + 1)*0.5*M\n",
    "    value = w[0]*cmath.exp(-1j*u*np.log(K/S_0))/(1j*u)*char_function(theta, u - i, t, S_0, r)*h(theta, u - i, t, which)\n",
    "    for j in range(1, deg):\n",
    "            u = (x[j] + 1)*0.5*M\n",
    "            value = value + w[j]*cmath.exp(-1j*u*np.log(K/S_0))/(1j*u)*char_function(theta, u - i, t, S_0, r)* \\\n",
    "                            h(theta, u - i, t, which)\n",
    "    return value.real\n",
    "# grad_heston_price - Equation (22)\n",
    "def grad_heston_price(theta, t, K, S_0, r, M, deg):\n",
    "    first_int = np.array(integrate_grad_function(theta, K, t, S_0, r, 1j, M, deg, 1))\n",
    "    second_int = np.array(integrate_grad_function(theta, K, t, S_0, r, 0, M, deg, 1))\n",
    "    for i in range(2, 6):\n",
    "        first_int = np.append(first_int, integrate_grad_function(theta, K, t, S_0, r, 1j, M, deg, i))\n",
    "        second_int = np.append(second_int, integrate_grad_function(theta, K, t, S_0, r, 0, M, deg, i))\n",
    "    return (np.exp(-r*t)/np.pi)*(first_int - K*second_int)\n",
    "def r_function(theta):\n",
    "    r_vector = np.array(eur_call_heston_price(theta, mkt_data[0, 1], mkt_data[0, 2], S_0, r, M, deg) - \\\n",
    "                        mkt_data[0, 0])\n",
    "    for i in range(1, len(mkt_data)):\n",
    "        r_vector = np.append(r_vector, eur_call_heston_price(theta, mkt_data[i, 1], mkt_data[i, 2], S_0, r, M, deg) - \\\n",
    "                             mkt_data[i, 0])\n",
    "    return r_vector\n",
    "def calibration_heston(theta):\n",
    "    return  optimize.least_squares(r_function, theta, method='lm').x"
   ]
  },
  {
   "cell_type": "code",
   "execution_count": 43,
   "metadata": {
    "colab": {
     "base_uri": "https://localhost:8080/"
    },
    "id": "f_uvYeSCJ8-L",
    "outputId": "2bb39744-c262-4f1a-e14a-13e4660b056f"
   },
   "outputs": [],
   "source": [
    "#theta"
   ]
  },
  {
   "cell_type": "markdown",
   "metadata": {},
   "source": [
    "theta_calibré = array([0.41055433, 2.87649559, 1.0035074 , 1.14520439, 2.15878211])"
   ]
  },
  {
   "cell_type": "code",
   "execution_count": 44,
   "metadata": {
    "id": "aA6kYgsyJuuL"
   },
   "outputs": [],
   "source": [
    "#theta = calibration_heston(theta_0)\n",
    "theta = np.array([0.41055433, 2.87649559, 1.0035074 , 1.14520439, 2.15878211])"
   ]
  },
  {
   "cell_type": "code",
   "execution_count": 45,
   "metadata": {
    "id": "0Z5RC-fO0yF-"
   },
   "outputs": [],
   "source": [
    "#mkt_data.to_csv (r'mkt_data.csv', index = False, header=True)"
   ]
  },
  {
   "cell_type": "code",
   "execution_count": 46,
   "metadata": {
    "colab": {
     "base_uri": "https://localhost:8080/"
    },
    "id": "FSy_Tja1pbQb",
    "outputId": "e2051c47-0963-4fd9-cb08-2f9481baa63a"
   },
   "outputs": [
    {
     "name": "stderr",
     "output_type": "stream",
     "text": [
      "/Users/pierrebelamri/Documents/GitHub/deribit_scraping/option.py:210: RuntimeWarning: divide by zero encountered in double_scalars\n",
      "  return np.sqrt(num/denom)\n",
      "/Users/pierrebelamri/Documents/GitHub/deribit_scraping/option.py:210: RuntimeWarning: invalid value encountered in sqrt\n",
      "  return np.sqrt(num/denom)\n"
     ]
    }
   ],
   "source": [
    "option.append_imp_vol_to_df()\n",
    "option.append_loc_vol_to_df()"
   ]
  },
  {
   "cell_type": "code",
   "execution_count": 47,
   "metadata": {
    "id": "vLilW9U0pbQc"
   },
   "outputs": [],
   "source": [
    "option.append_BS_price()"
   ]
  },
  {
   "cell_type": "code",
   "execution_count": 82,
   "metadata": {
    "id": "BbCiGmYbpbQd"
   },
   "outputs": [],
   "source": [
    "option.df.dropna(inplace=True)\n",
    "option.df = option.df.drop(option.df[option.df.BS_PRICE >= .35].index) #a revoir\n",
    "\n",
    "#option.df = option.df.drop(option.df[option.df.IV_moneyness >= .5*10**6].index)"
   ]
  },
  {
   "cell_type": "code",
   "execution_count": 49,
   "metadata": {
    "id": "iwnyQ-cKpbQe"
   },
   "outputs": [],
   "source": [
    "#option.optimize_merton(tol = 1e-6, max_iter = 600)"
   ]
  },
  {
   "cell_type": "code",
   "execution_count": 50,
   "metadata": {
    "colab": {
     "base_uri": "https://localhost:8080/"
    },
    "id": "hhd0Q8KKpbQe",
    "outputId": "069b8fbe-8c20-477c-a428-50145b6014c4"
   },
   "outputs": [],
   "source": [
    "option.append_Merton_price()"
   ]
  },
  {
   "cell_type": "code",
   "execution_count": 51,
   "metadata": {
    "colab": {
     "base_uri": "https://localhost:8080/"
    },
    "id": "5jzHflEOCzob",
    "outputId": "45818824-586d-45a2-82f5-45e6a1080366"
   },
   "outputs": [],
   "source": [
    "#option.append_Merton_priceMC()"
   ]
  },
  {
   "cell_type": "code",
   "execution_count": 52,
   "metadata": {
    "colab": {
     "base_uri": "https://localhost:8080/",
     "height": 542
    },
    "id": "6peleswMpbQf",
    "outputId": "a6508255-0eb6-4ef9-9450-1d172ef38cce"
   },
   "outputs": [
    {
     "data": {
      "text/html": [
       "<div>\n",
       "<style scoped>\n",
       "    .dataframe tbody tr th:only-of-type {\n",
       "        vertical-align: middle;\n",
       "    }\n",
       "\n",
       "    .dataframe tbody tr th {\n",
       "        vertical-align: top;\n",
       "    }\n",
       "\n",
       "    .dataframe thead th {\n",
       "        text-align: right;\n",
       "    }\n",
       "</style>\n",
       "<table border=\"1\" class=\"dataframe\">\n",
       "  <thead>\n",
       "    <tr style=\"text-align: right;\">\n",
       "      <th></th>\n",
       "      <th>S</th>\n",
       "      <th>K</th>\n",
       "      <th>V</th>\n",
       "      <th>_T</th>\n",
       "      <th>bids</th>\n",
       "      <th>asks</th>\n",
       "      <th>last_price</th>\n",
       "      <th>mark_price</th>\n",
       "      <th>option_type</th>\n",
       "      <th>mid_iv</th>\n",
       "      <th>mark_iv</th>\n",
       "      <th>mid</th>\n",
       "      <th>moneyness</th>\n",
       "      <th>I_VOL_MERTON</th>\n",
       "      <th>I_VOL_BS</th>\n",
       "      <th>IV_moneyness</th>\n",
       "      <th>L_VOL</th>\n",
       "      <th>BS_PRICE</th>\n",
       "      <th>MERTON_PRICE</th>\n",
       "    </tr>\n",
       "  </thead>\n",
       "  <tbody>\n",
       "    <tr>\n",
       "      <th>377</th>\n",
       "      <td>34387.55</td>\n",
       "      <td>35000.0</td>\n",
       "      <td>108.4</td>\n",
       "      <td>0.001019</td>\n",
       "      <td>0.010272</td>\n",
       "      <td>0.017789</td>\n",
       "      <td>0.0115</td>\n",
       "      <td>0.011468</td>\n",
       "      <td>C</td>\n",
       "      <td>102.075</td>\n",
       "      <td>101.90</td>\n",
       "      <td>0.014031</td>\n",
       "      <td>0.982501</td>\n",
       "      <td>1.605525e-01</td>\n",
       "      <td>0.161456</td>\n",
       "      <td>212983.789584</td>\n",
       "      <td>0.965960</td>\n",
       "      <td>0.014139</td>\n",
       "      <td>0.014132</td>\n",
       "    </tr>\n",
       "    <tr>\n",
       "      <th>135</th>\n",
       "      <td>34411.38</td>\n",
       "      <td>36000.0</td>\n",
       "      <td>281.8</td>\n",
       "      <td>0.001019</td>\n",
       "      <td>0.003247</td>\n",
       "      <td>0.008403</td>\n",
       "      <td>0.0045</td>\n",
       "      <td>0.004523</td>\n",
       "      <td>C</td>\n",
       "      <td>102.540</td>\n",
       "      <td>102.75</td>\n",
       "      <td>0.005825</td>\n",
       "      <td>0.955872</td>\n",
       "      <td>3.636918e-01</td>\n",
       "      <td>0.367806</td>\n",
       "      <td>93558.443133</td>\n",
       "      <td>1.404965</td>\n",
       "      <td>0.005847</td>\n",
       "      <td>0.005843</td>\n",
       "    </tr>\n",
       "    <tr>\n",
       "      <th>215</th>\n",
       "      <td>34409.57</td>\n",
       "      <td>37000.0</td>\n",
       "      <td>47.9</td>\n",
       "      <td>0.001019</td>\n",
       "      <td>0.000662</td>\n",
       "      <td>0.003117</td>\n",
       "      <td>0.0005</td>\n",
       "      <td>0.001448</td>\n",
       "      <td>C</td>\n",
       "      <td>103.855</td>\n",
       "      <td>103.77</td>\n",
       "      <td>0.001890</td>\n",
       "      <td>0.929988</td>\n",
       "      <td>5.237420e-01</td>\n",
       "      <td>0.542971</td>\n",
       "      <td>63372.773787</td>\n",
       "      <td>1.659231</td>\n",
       "      <td>0.001895</td>\n",
       "      <td>0.001892</td>\n",
       "    </tr>\n",
       "    <tr>\n",
       "      <th>173</th>\n",
       "      <td>34412.55</td>\n",
       "      <td>38000.0</td>\n",
       "      <td>26.9</td>\n",
       "      <td>0.001019</td>\n",
       "      <td>0.000000</td>\n",
       "      <td>0.001130</td>\n",
       "      <td>0.0005</td>\n",
       "      <td>0.000389</td>\n",
       "      <td>C</td>\n",
       "      <td>61.380</td>\n",
       "      <td>104.53</td>\n",
       "      <td>0.000565</td>\n",
       "      <td>0.905593</td>\n",
       "      <td>4.768374e-07</td>\n",
       "      <td>0.691008</td>\n",
       "      <td>49800.544295</td>\n",
       "      <td>1.827146</td>\n",
       "      <td>0.000566</td>\n",
       "      <td>0.000954</td>\n",
       "    </tr>\n",
       "    <tr>\n",
       "      <th>371</th>\n",
       "      <td>34387.27</td>\n",
       "      <td>36000.0</td>\n",
       "      <td>73.8</td>\n",
       "      <td>0.003759</td>\n",
       "      <td>0.009404</td>\n",
       "      <td>0.011888</td>\n",
       "      <td>0.0090</td>\n",
       "      <td>0.010993</td>\n",
       "      <td>C</td>\n",
       "      <td>99.820</td>\n",
       "      <td>99.80</td>\n",
       "      <td>0.010646</td>\n",
       "      <td>0.955202</td>\n",
       "      <td>1.960113e-01</td>\n",
       "      <td>0.201321</td>\n",
       "      <td>170808.199175</td>\n",
       "      <td>0.758731</td>\n",
       "      <td>0.010781</td>\n",
       "      <td>0.010737</td>\n",
       "    </tr>\n",
       "  </tbody>\n",
       "</table>\n",
       "</div>"
      ],
      "text/plain": [
       "            S        K      V        _T      bids      asks  last_price  \\\n",
       "377  34387.55  35000.0  108.4  0.001019  0.010272  0.017789      0.0115   \n",
       "135  34411.38  36000.0  281.8  0.001019  0.003247  0.008403      0.0045   \n",
       "215  34409.57  37000.0   47.9  0.001019  0.000662  0.003117      0.0005   \n",
       "173  34412.55  38000.0   26.9  0.001019  0.000000  0.001130      0.0005   \n",
       "371  34387.27  36000.0   73.8  0.003759  0.009404  0.011888      0.0090   \n",
       "\n",
       "     mark_price option_type   mid_iv  mark_iv       mid  moneyness  \\\n",
       "377    0.011468           C  102.075   101.90  0.014031   0.982501   \n",
       "135    0.004523           C  102.540   102.75  0.005825   0.955872   \n",
       "215    0.001448           C  103.855   103.77  0.001890   0.929988   \n",
       "173    0.000389           C   61.380   104.53  0.000565   0.905593   \n",
       "371    0.010993           C   99.820    99.80  0.010646   0.955202   \n",
       "\n",
       "     I_VOL_MERTON  I_VOL_BS   IV_moneyness     L_VOL  BS_PRICE  MERTON_PRICE  \n",
       "377  1.605525e-01  0.161456  212983.789584  0.965960  0.014139      0.014132  \n",
       "135  3.636918e-01  0.367806   93558.443133  1.404965  0.005847      0.005843  \n",
       "215  5.237420e-01  0.542971   63372.773787  1.659231  0.001895      0.001892  \n",
       "173  4.768374e-07  0.691008   49800.544295  1.827146  0.000566      0.000954  \n",
       "371  1.960113e-01  0.201321  170808.199175  0.758731  0.010781      0.010737  "
      ]
     },
     "execution_count": 52,
     "metadata": {},
     "output_type": "execute_result"
    }
   ],
   "source": [
    "option.df.head()"
   ]
  },
  {
   "cell_type": "code",
   "execution_count": 72,
   "metadata": {},
   "outputs": [],
   "source": [
    "#eur_call_heston_price(theta, K, t, S_0, r, M, deg)\n",
    "#eur_call_heston_price(theta, 36000.0, 0.001019, 34411.38, 0.01, 100, 64)\n",
    "\n",
    "heston_prices = np.vectorize(eur_call_heston_price)(K = option.df['K'],\n",
    "                                                    t = option.df['_T'],\n",
    "                                                    S_0=option.df['S'],\n",
    "                                                    )"
   ]
  },
  {
   "cell_type": "code",
   "execution_count": 87,
   "metadata": {},
   "outputs": [],
   "source": [
    "\n",
    "option.df = option.df.drop(option.df[option.df.heston_prices < 0].index)"
   ]
  },
  {
   "cell_type": "markdown",
   "metadata": {
    "colab": {
     "base_uri": "https://localhost:8080/"
    },
    "id": "2MpcYNVacel0",
    "outputId": "90f483d1-5af3-402d-d890-216212dec27e"
   },
   "source": [
    "# =================="
   ]
  },
  {
   "cell_type": "code",
   "execution_count": null,
   "metadata": {
    "id": "NSIH4B_ebcXS"
   },
   "outputs": [],
   "source": [
    "option.df['MERTON_PRICE MC']=option.df['MERTON_PRICE MC']*option.df.S[1]"
   ]
  },
  {
   "cell_type": "code",
   "execution_count": 88,
   "metadata": {
    "colab": {
     "base_uri": "https://localhost:8080/",
     "height": 576
    },
    "id": "VQ6QUEw8pbQk",
    "outputId": "719869f4-16e5-48eb-cee0-debc50f850df"
   },
   "outputs": [
    {
     "data": {
      "application/vnd.plotly.v1+json": {
       "config": {
        "plotlyServerURL": "https://plot.ly"
       },
       "data": [
        {
         "mode": "markers",
         "name": "Black&Scholes model Price",
         "type": "scatter3d",
         "x": [
          35000,
          36000,
          38000,
          36000,
          37000,
          38000,
          35000,
          36000,
          37000,
          38000,
          39000,
          40000,
          44000,
          46000,
          35000,
          36000,
          38000,
          40000,
          42000,
          50000,
          55000,
          36000,
          38000,
          40000,
          42000,
          45000,
          55000,
          35000,
          36000,
          40000,
          45000,
          50000,
          55000,
          65000,
          40000,
          45000,
          50000,
          55000,
          60000,
          70000,
          36000,
          48000,
          50000,
          56000,
          60000,
          64000
         ],
         "y": [
          0.0010188599700010834,
          0.0010188599700010834,
          0.0010188599700010834,
          0.0037585859973983437,
          0.0037585859973983437,
          0.0037585859973983437,
          0.009238038052192863,
          0.009238038052192863,
          0.009238038052192863,
          0.009238038052192863,
          0.009238038052192863,
          0.009238038052192863,
          0.009238038052192863,
          0.009238038052192863,
          0.028416120243973685,
          0.028416120243973685,
          0.028416120243973685,
          0.028416120243973685,
          0.028416120243973685,
          0.028416120243973685,
          0.028416120243973685,
          0.04759420243575451,
          0.04759420243575451,
          0.04759420243575451,
          0.04759420243575451,
          0.04759420243575451,
          0.04759420243575451,
          0.08595036681931616,
          0.08595036681931616,
          0.08595036681931616,
          0.08595036681931616,
          0.08595036681931616,
          0.08595036681931616,
          0.08595036681931616,
          0.16266269558643945,
          0.16266269558643945,
          0.16266269558643945,
          0.16266269558643945,
          0.16266269558643945,
          0.16266269558643945,
          0.23937502435356273,
          0.23937502435356273,
          0.23937502435356273,
          0.23937502435356273,
          0.23937502435356273,
          0.23937502435356273
         ],
         "z": [
          0.014138633975424142,
          0.005846802744551738,
          0.0005661419488411645,
          0.01078101420619726,
          0.006244741530168518,
          0.003722328839761757,
          0.035877997189682986,
          0.022577379770210904,
          0.017525904166059814,
          0.013117386923203078,
          0.006249688231195427,
          0.004735310415900251,
          0.0013769822420623828,
          0.0005255544008582469,
          0.07045221570909632,
          0.07339930083597679,
          0.028878556783813458,
          0.07321839195915025,
          0.010660331928432298,
          0.0020185592205342745,
          0.0011485218924892765,
          0.06867648377186697,
          0.04796764070410564,
          0.032220732340892067,
          0.02189931136079548,
          0.012284827043350877,
          0.0028913302159285503,
          0.17198249039250868,
          0.1016147119197015,
          0.09220594942992655,
          0.05172697590916853,
          0.019301419295504108,
          0.011349271968955965,
          0.004439450469489958,
          0.12490528761736996,
          0.06650610483163666,
          0.043418364455851455,
          0.030170055566937304,
          0.021503933951668608,
          0.011901107594619653,
          0.33503970759905144,
          0.09120203805038152,
          0.07412721882155848,
          0.07229586568938817,
          0.06640810207956127,
          0.04920767988874353
         ]
        },
        {
         "mode": "markers",
         "name": "Real Market Price",
         "type": "scatter3d",
         "x": [
          35000,
          36000,
          38000,
          36000,
          37000,
          38000,
          35000,
          36000,
          37000,
          38000,
          39000,
          40000,
          44000,
          46000,
          35000,
          36000,
          38000,
          40000,
          42000,
          50000,
          55000,
          36000,
          38000,
          40000,
          42000,
          45000,
          55000,
          35000,
          36000,
          40000,
          45000,
          50000,
          55000,
          65000,
          40000,
          45000,
          50000,
          55000,
          60000,
          70000,
          36000,
          48000,
          50000,
          56000,
          60000,
          64000
         ],
         "y": [
          0.0010188599700010834,
          0.0010188599700010834,
          0.0010188599700010834,
          0.0037585859973983437,
          0.0037585859973983437,
          0.0037585859973983437,
          0.009238038052192863,
          0.009238038052192863,
          0.009238038052192863,
          0.009238038052192863,
          0.009238038052192863,
          0.009238038052192863,
          0.009238038052192863,
          0.009238038052192863,
          0.028416120243973685,
          0.028416120243973685,
          0.028416120243973685,
          0.028416120243973685,
          0.028416120243973685,
          0.028416120243973685,
          0.028416120243973685,
          0.04759420243575451,
          0.04759420243575451,
          0.04759420243575451,
          0.04759420243575451,
          0.04759420243575451,
          0.04759420243575451,
          0.08595036681931616,
          0.08595036681931616,
          0.08595036681931616,
          0.08595036681931616,
          0.08595036681931616,
          0.08595036681931616,
          0.08595036681931616,
          0.16266269558643945,
          0.16266269558643945,
          0.16266269558643945,
          0.16266269558643945,
          0.16266269558643945,
          0.16266269558643945,
          0.23937502435356273,
          0.23937502435356273,
          0.23937502435356273,
          0.23937502435356273,
          0.23937502435356273,
          0.23937502435356273
         ],
         "z": [
          0.014030595953328593,
          0.005824882820276165,
          0.0005648907103825137,
          0.010645679726728016,
          0.006189493371796743,
          0.0036959929054719834,
          0.0336406023222061,
          0.021931060606060607,
          0.017185234630929146,
          0.012918537791548697,
          0.00616690827153335,
          0.0046805914992768365,
          0.0013656069364161854,
          0.0005215716486902929,
          0.059482947301317465,
          0.06802303997923156,
          0.027662230479275712,
          0.07128941047378548,
          0.010390125115425301,
          0.0019849915898396747,
          0.0011322886297376095,
          0.0602873027425429,
          0.04479426264503491,
          0.030669917479369844,
          0.021036685745543546,
          0.011891286361763492,
          0.0028276895281199336,
          0.1020666609004746,
          0.08083726324564877,
          0.0851294813054959,
          0.049148067353234876,
          0.018507231087157155,
          0.010949041829115182,
          0.004310262089331857,
          0.10742269623019488,
          0.06041980607903086,
          0.04030962935008771,
          0.02833987144462916,
          0.02034365332478373,
          0.011356312549078578,
          0.1716231827923072,
          0.08139728401981203,
          0.06675595238095239,
          0.06656940840952147,
          0.06169077431619567,
          0.04593340834983697
         ]
        },
        {
         "mode": "markers",
         "name": "Merton Model Price",
         "type": "scatter3d",
         "x": [
          35000,
          36000,
          38000,
          36000,
          37000,
          38000,
          35000,
          36000,
          37000,
          38000,
          39000,
          40000,
          44000,
          46000,
          35000,
          36000,
          38000,
          40000,
          42000,
          50000,
          55000,
          36000,
          38000,
          40000,
          42000,
          45000,
          55000,
          35000,
          36000,
          40000,
          45000,
          50000,
          55000,
          65000,
          40000,
          45000,
          50000,
          55000,
          60000,
          70000,
          36000,
          48000,
          50000,
          56000,
          60000,
          64000
         ],
         "y": [
          0.0010188599700010834,
          0.0010188599700010834,
          0.0010188599700010834,
          0.0037585859973983437,
          0.0037585859973983437,
          0.0037585859973983437,
          0.009238038052192863,
          0.009238038052192863,
          0.009238038052192863,
          0.009238038052192863,
          0.009238038052192863,
          0.009238038052192863,
          0.009238038052192863,
          0.009238038052192863,
          0.028416120243973685,
          0.028416120243973685,
          0.028416120243973685,
          0.028416120243973685,
          0.028416120243973685,
          0.028416120243973685,
          0.028416120243973685,
          0.04759420243575451,
          0.04759420243575451,
          0.04759420243575451,
          0.04759420243575451,
          0.04759420243575451,
          0.04759420243575451,
          0.08595036681931616,
          0.08595036681931616,
          0.08595036681931616,
          0.08595036681931616,
          0.08595036681931616,
          0.08595036681931616,
          0.08595036681931616,
          0.16266269558643945,
          0.16266269558643945,
          0.16266269558643945,
          0.16266269558643945,
          0.16266269558643945,
          0.16266269558643945,
          0.23937502435356273,
          0.23937502435356273,
          0.23937502435356273,
          0.23937502435356273,
          0.23937502435356273,
          0.23937502435356273
         ],
         "z": [
          0.014132149316603457,
          0.0058430792638159285,
          0.0009541778946743992,
          0.010736888137393121,
          0.006214198943731368,
          0.003697846204837483,
          0.03529412041421638,
          0.022323946227922744,
          0.017360754832929374,
          0.012993769941125404,
          0.008204774377093901,
          0.007785503163518918,
          0.006054926431284328,
          0.0051897656524457336,
          0.06545605067554588,
          0.07133712785451689,
          0.02774529609153854,
          0.0726512168158711,
          0.021215893615706957,
          0.010567695594769689,
          0.003916636564909084,
          0.06228387737751832,
          0.044868953967415436,
          0.04002088341500793,
          0.03564910381522777,
          0.028970749302744906,
          0.006677828123467429,
          0.11209618896901791,
          0.08869789712870053,
          0.0865754144504096,
          0.05266358057289834,
          0.03254208917500335,
          0.012471064945078984,
          0.0043780556798482416,
          0.1397472058387859,
          0.10172220923687052,
          0.06370324618296247,
          0.02887322250769825,
          0.02090636384368513,
          0.011785105143412503,
          0.2530230595935193,
          0.11912844732609523,
          0.09683147557200496,
          0.06952181836176076,
          0.0650904392794416,
          0.048521455582784964
         ]
        },
        {
         "mode": "markers",
         "name": "Heston Model Price",
         "type": "scatter3d",
         "x": [
          35000,
          36000,
          38000,
          36000,
          37000,
          38000,
          35000,
          36000,
          37000,
          38000,
          39000,
          40000,
          44000,
          46000,
          35000,
          36000,
          38000,
          40000,
          42000,
          50000,
          55000,
          36000,
          38000,
          40000,
          42000,
          45000,
          55000,
          35000,
          36000,
          40000,
          45000,
          50000,
          55000,
          65000,
          40000,
          45000,
          50000,
          55000,
          60000,
          70000,
          36000,
          48000,
          50000,
          56000,
          60000,
          64000
         ],
         "y": [
          0.0010188599700010834,
          0.0010188599700010834,
          0.0010188599700010834,
          0.0037585859973983437,
          0.0037585859973983437,
          0.0037585859973983437,
          0.009238038052192863,
          0.009238038052192863,
          0.009238038052192863,
          0.009238038052192863,
          0.009238038052192863,
          0.009238038052192863,
          0.009238038052192863,
          0.009238038052192863,
          0.028416120243973685,
          0.028416120243973685,
          0.028416120243973685,
          0.028416120243973685,
          0.028416120243973685,
          0.028416120243973685,
          0.028416120243973685,
          0.04759420243575451,
          0.04759420243575451,
          0.04759420243575451,
          0.04759420243575451,
          0.04759420243575451,
          0.04759420243575451,
          0.08595036681931616,
          0.08595036681931616,
          0.08595036681931616,
          0.08595036681931616,
          0.08595036681931616,
          0.08595036681931616,
          0.08595036681931616,
          0.16266269558643945,
          0.16266269558643945,
          0.16266269558643945,
          0.16266269558643945,
          0.16266269558643945,
          0.16266269558643945,
          0.23937502435356273,
          0.23937502435356273,
          0.23937502435356273,
          0.23937502435356273,
          0.23937502435356273,
          0.23937502435356273
         ],
         "z": [
          0.002436049292271348,
          0.0001615184811980378,
          0.00029156534073436095,
          0.002809218006739198,
          0.0007792528523203183,
          0.00017489797810421684,
          0.017698595271803622,
          0.009435206391205377,
          0.004760635083982459,
          0.0022797630275790235,
          0.0010414642792585978,
          0.0004743288083524021,
          1.5598100297211202e-05,
          2.5378632549488787e-06,
          0.03696230704760555,
          0.0271475595840042,
          0.014180509860245426,
          0.007243059475972018,
          0.0037115367728889786,
          0.0002517489284166186,
          5.196897722383834e-05,
          0.041548290397275686,
          0.026258746720728237,
          0.016509807596352642,
          0.010520205779492028,
          0.005359832900966629,
          0.000641858580317851,
          0.07740008969686472,
          0.06595502872488322,
          0.03564723515317203,
          0.01727775211738038,
          0.008763972672713317,
          0.004620992245682514,
          0.0014289840746537475,
          0.07317271864737199,
          0.04611057517139729,
          0.03026029576948786,
          0.020299156820441533,
          0.01425253066116599,
          0.007354184493057931,
          0.14953467956385608,
          0.06210169922563758,
          0.05605734582511679,
          0.038747841337128,
          0.03145516440887301,
          0.026148505267101628
         ]
        }
       ],
       "layout": {
        "scene": {
         "xaxis": {
          "title": {
           "text": "Strike"
          }
         },
         "yaxis": {
          "title": {
           "text": "Exp"
          }
         },
         "zaxis": {
          "title": {
           "text": "Price"
          }
         }
        },
        "template": {
         "data": {
          "bar": [
           {
            "error_x": {
             "color": "#2a3f5f"
            },
            "error_y": {
             "color": "#2a3f5f"
            },
            "marker": {
             "line": {
              "color": "#E5ECF6",
              "width": 0.5
             }
            },
            "type": "bar"
           }
          ],
          "barpolar": [
           {
            "marker": {
             "line": {
              "color": "#E5ECF6",
              "width": 0.5
             }
            },
            "type": "barpolar"
           }
          ],
          "carpet": [
           {
            "aaxis": {
             "endlinecolor": "#2a3f5f",
             "gridcolor": "white",
             "linecolor": "white",
             "minorgridcolor": "white",
             "startlinecolor": "#2a3f5f"
            },
            "baxis": {
             "endlinecolor": "#2a3f5f",
             "gridcolor": "white",
             "linecolor": "white",
             "minorgridcolor": "white",
             "startlinecolor": "#2a3f5f"
            },
            "type": "carpet"
           }
          ],
          "choropleth": [
           {
            "colorbar": {
             "outlinewidth": 0,
             "ticks": ""
            },
            "type": "choropleth"
           }
          ],
          "contour": [
           {
            "colorbar": {
             "outlinewidth": 0,
             "ticks": ""
            },
            "colorscale": [
             [
              0,
              "#0d0887"
             ],
             [
              0.1111111111111111,
              "#46039f"
             ],
             [
              0.2222222222222222,
              "#7201a8"
             ],
             [
              0.3333333333333333,
              "#9c179e"
             ],
             [
              0.4444444444444444,
              "#bd3786"
             ],
             [
              0.5555555555555556,
              "#d8576b"
             ],
             [
              0.6666666666666666,
              "#ed7953"
             ],
             [
              0.7777777777777778,
              "#fb9f3a"
             ],
             [
              0.8888888888888888,
              "#fdca26"
             ],
             [
              1,
              "#f0f921"
             ]
            ],
            "type": "contour"
           }
          ],
          "contourcarpet": [
           {
            "colorbar": {
             "outlinewidth": 0,
             "ticks": ""
            },
            "type": "contourcarpet"
           }
          ],
          "heatmap": [
           {
            "colorbar": {
             "outlinewidth": 0,
             "ticks": ""
            },
            "colorscale": [
             [
              0,
              "#0d0887"
             ],
             [
              0.1111111111111111,
              "#46039f"
             ],
             [
              0.2222222222222222,
              "#7201a8"
             ],
             [
              0.3333333333333333,
              "#9c179e"
             ],
             [
              0.4444444444444444,
              "#bd3786"
             ],
             [
              0.5555555555555556,
              "#d8576b"
             ],
             [
              0.6666666666666666,
              "#ed7953"
             ],
             [
              0.7777777777777778,
              "#fb9f3a"
             ],
             [
              0.8888888888888888,
              "#fdca26"
             ],
             [
              1,
              "#f0f921"
             ]
            ],
            "type": "heatmap"
           }
          ],
          "heatmapgl": [
           {
            "colorbar": {
             "outlinewidth": 0,
             "ticks": ""
            },
            "colorscale": [
             [
              0,
              "#0d0887"
             ],
             [
              0.1111111111111111,
              "#46039f"
             ],
             [
              0.2222222222222222,
              "#7201a8"
             ],
             [
              0.3333333333333333,
              "#9c179e"
             ],
             [
              0.4444444444444444,
              "#bd3786"
             ],
             [
              0.5555555555555556,
              "#d8576b"
             ],
             [
              0.6666666666666666,
              "#ed7953"
             ],
             [
              0.7777777777777778,
              "#fb9f3a"
             ],
             [
              0.8888888888888888,
              "#fdca26"
             ],
             [
              1,
              "#f0f921"
             ]
            ],
            "type": "heatmapgl"
           }
          ],
          "histogram": [
           {
            "marker": {
             "colorbar": {
              "outlinewidth": 0,
              "ticks": ""
             }
            },
            "type": "histogram"
           }
          ],
          "histogram2d": [
           {
            "colorbar": {
             "outlinewidth": 0,
             "ticks": ""
            },
            "colorscale": [
             [
              0,
              "#0d0887"
             ],
             [
              0.1111111111111111,
              "#46039f"
             ],
             [
              0.2222222222222222,
              "#7201a8"
             ],
             [
              0.3333333333333333,
              "#9c179e"
             ],
             [
              0.4444444444444444,
              "#bd3786"
             ],
             [
              0.5555555555555556,
              "#d8576b"
             ],
             [
              0.6666666666666666,
              "#ed7953"
             ],
             [
              0.7777777777777778,
              "#fb9f3a"
             ],
             [
              0.8888888888888888,
              "#fdca26"
             ],
             [
              1,
              "#f0f921"
             ]
            ],
            "type": "histogram2d"
           }
          ],
          "histogram2dcontour": [
           {
            "colorbar": {
             "outlinewidth": 0,
             "ticks": ""
            },
            "colorscale": [
             [
              0,
              "#0d0887"
             ],
             [
              0.1111111111111111,
              "#46039f"
             ],
             [
              0.2222222222222222,
              "#7201a8"
             ],
             [
              0.3333333333333333,
              "#9c179e"
             ],
             [
              0.4444444444444444,
              "#bd3786"
             ],
             [
              0.5555555555555556,
              "#d8576b"
             ],
             [
              0.6666666666666666,
              "#ed7953"
             ],
             [
              0.7777777777777778,
              "#fb9f3a"
             ],
             [
              0.8888888888888888,
              "#fdca26"
             ],
             [
              1,
              "#f0f921"
             ]
            ],
            "type": "histogram2dcontour"
           }
          ],
          "mesh3d": [
           {
            "colorbar": {
             "outlinewidth": 0,
             "ticks": ""
            },
            "type": "mesh3d"
           }
          ],
          "parcoords": [
           {
            "line": {
             "colorbar": {
              "outlinewidth": 0,
              "ticks": ""
             }
            },
            "type": "parcoords"
           }
          ],
          "pie": [
           {
            "automargin": true,
            "type": "pie"
           }
          ],
          "scatter": [
           {
            "marker": {
             "colorbar": {
              "outlinewidth": 0,
              "ticks": ""
             }
            },
            "type": "scatter"
           }
          ],
          "scatter3d": [
           {
            "line": {
             "colorbar": {
              "outlinewidth": 0,
              "ticks": ""
             }
            },
            "marker": {
             "colorbar": {
              "outlinewidth": 0,
              "ticks": ""
             }
            },
            "type": "scatter3d"
           }
          ],
          "scattercarpet": [
           {
            "marker": {
             "colorbar": {
              "outlinewidth": 0,
              "ticks": ""
             }
            },
            "type": "scattercarpet"
           }
          ],
          "scattergeo": [
           {
            "marker": {
             "colorbar": {
              "outlinewidth": 0,
              "ticks": ""
             }
            },
            "type": "scattergeo"
           }
          ],
          "scattergl": [
           {
            "marker": {
             "colorbar": {
              "outlinewidth": 0,
              "ticks": ""
             }
            },
            "type": "scattergl"
           }
          ],
          "scattermapbox": [
           {
            "marker": {
             "colorbar": {
              "outlinewidth": 0,
              "ticks": ""
             }
            },
            "type": "scattermapbox"
           }
          ],
          "scatterpolar": [
           {
            "marker": {
             "colorbar": {
              "outlinewidth": 0,
              "ticks": ""
             }
            },
            "type": "scatterpolar"
           }
          ],
          "scatterpolargl": [
           {
            "marker": {
             "colorbar": {
              "outlinewidth": 0,
              "ticks": ""
             }
            },
            "type": "scatterpolargl"
           }
          ],
          "scatterternary": [
           {
            "marker": {
             "colorbar": {
              "outlinewidth": 0,
              "ticks": ""
             }
            },
            "type": "scatterternary"
           }
          ],
          "surface": [
           {
            "colorbar": {
             "outlinewidth": 0,
             "ticks": ""
            },
            "colorscale": [
             [
              0,
              "#0d0887"
             ],
             [
              0.1111111111111111,
              "#46039f"
             ],
             [
              0.2222222222222222,
              "#7201a8"
             ],
             [
              0.3333333333333333,
              "#9c179e"
             ],
             [
              0.4444444444444444,
              "#bd3786"
             ],
             [
              0.5555555555555556,
              "#d8576b"
             ],
             [
              0.6666666666666666,
              "#ed7953"
             ],
             [
              0.7777777777777778,
              "#fb9f3a"
             ],
             [
              0.8888888888888888,
              "#fdca26"
             ],
             [
              1,
              "#f0f921"
             ]
            ],
            "type": "surface"
           }
          ],
          "table": [
           {
            "cells": {
             "fill": {
              "color": "#EBF0F8"
             },
             "line": {
              "color": "white"
             }
            },
            "header": {
             "fill": {
              "color": "#C8D4E3"
             },
             "line": {
              "color": "white"
             }
            },
            "type": "table"
           }
          ]
         },
         "layout": {
          "annotationdefaults": {
           "arrowcolor": "#2a3f5f",
           "arrowhead": 0,
           "arrowwidth": 1
          },
          "autotypenumbers": "strict",
          "coloraxis": {
           "colorbar": {
            "outlinewidth": 0,
            "ticks": ""
           }
          },
          "colorscale": {
           "diverging": [
            [
             0,
             "#8e0152"
            ],
            [
             0.1,
             "#c51b7d"
            ],
            [
             0.2,
             "#de77ae"
            ],
            [
             0.3,
             "#f1b6da"
            ],
            [
             0.4,
             "#fde0ef"
            ],
            [
             0.5,
             "#f7f7f7"
            ],
            [
             0.6,
             "#e6f5d0"
            ],
            [
             0.7,
             "#b8e186"
            ],
            [
             0.8,
             "#7fbc41"
            ],
            [
             0.9,
             "#4d9221"
            ],
            [
             1,
             "#276419"
            ]
           ],
           "sequential": [
            [
             0,
             "#0d0887"
            ],
            [
             0.1111111111111111,
             "#46039f"
            ],
            [
             0.2222222222222222,
             "#7201a8"
            ],
            [
             0.3333333333333333,
             "#9c179e"
            ],
            [
             0.4444444444444444,
             "#bd3786"
            ],
            [
             0.5555555555555556,
             "#d8576b"
            ],
            [
             0.6666666666666666,
             "#ed7953"
            ],
            [
             0.7777777777777778,
             "#fb9f3a"
            ],
            [
             0.8888888888888888,
             "#fdca26"
            ],
            [
             1,
             "#f0f921"
            ]
           ],
           "sequentialminus": [
            [
             0,
             "#0d0887"
            ],
            [
             0.1111111111111111,
             "#46039f"
            ],
            [
             0.2222222222222222,
             "#7201a8"
            ],
            [
             0.3333333333333333,
             "#9c179e"
            ],
            [
             0.4444444444444444,
             "#bd3786"
            ],
            [
             0.5555555555555556,
             "#d8576b"
            ],
            [
             0.6666666666666666,
             "#ed7953"
            ],
            [
             0.7777777777777778,
             "#fb9f3a"
            ],
            [
             0.8888888888888888,
             "#fdca26"
            ],
            [
             1,
             "#f0f921"
            ]
           ]
          },
          "colorway": [
           "#636efa",
           "#EF553B",
           "#00cc96",
           "#ab63fa",
           "#FFA15A",
           "#19d3f3",
           "#FF6692",
           "#B6E880",
           "#FF97FF",
           "#FECB52"
          ],
          "font": {
           "color": "#2a3f5f"
          },
          "geo": {
           "bgcolor": "white",
           "lakecolor": "white",
           "landcolor": "#E5ECF6",
           "showlakes": true,
           "showland": true,
           "subunitcolor": "white"
          },
          "hoverlabel": {
           "align": "left"
          },
          "hovermode": "closest",
          "mapbox": {
           "style": "light"
          },
          "paper_bgcolor": "white",
          "plot_bgcolor": "#E5ECF6",
          "polar": {
           "angularaxis": {
            "gridcolor": "white",
            "linecolor": "white",
            "ticks": ""
           },
           "bgcolor": "#E5ECF6",
           "radialaxis": {
            "gridcolor": "white",
            "linecolor": "white",
            "ticks": ""
           }
          },
          "scene": {
           "xaxis": {
            "backgroundcolor": "#E5ECF6",
            "gridcolor": "white",
            "gridwidth": 2,
            "linecolor": "white",
            "showbackground": true,
            "ticks": "",
            "zerolinecolor": "white"
           },
           "yaxis": {
            "backgroundcolor": "#E5ECF6",
            "gridcolor": "white",
            "gridwidth": 2,
            "linecolor": "white",
            "showbackground": true,
            "ticks": "",
            "zerolinecolor": "white"
           },
           "zaxis": {
            "backgroundcolor": "#E5ECF6",
            "gridcolor": "white",
            "gridwidth": 2,
            "linecolor": "white",
            "showbackground": true,
            "ticks": "",
            "zerolinecolor": "white"
           }
          },
          "shapedefaults": {
           "line": {
            "color": "#2a3f5f"
           }
          },
          "ternary": {
           "aaxis": {
            "gridcolor": "white",
            "linecolor": "white",
            "ticks": ""
           },
           "baxis": {
            "gridcolor": "white",
            "linecolor": "white",
            "ticks": ""
           },
           "bgcolor": "#E5ECF6",
           "caxis": {
            "gridcolor": "white",
            "linecolor": "white",
            "ticks": ""
           }
          },
          "title": {
           "x": 0.05
          },
          "xaxis": {
           "automargin": true,
           "gridcolor": "white",
           "linecolor": "white",
           "ticks": "",
           "title": {
            "standoff": 15
           },
           "zerolinecolor": "white",
           "zerolinewidth": 2
          },
          "yaxis": {
           "automargin": true,
           "gridcolor": "white",
           "linecolor": "white",
           "ticks": "",
           "title": {
            "standoff": 15
           },
           "zerolinecolor": "white",
           "zerolinewidth": 2
          }
         }
        }
       }
      },
      "text/html": [
       "<div>                            <div id=\"0a48ceb9-0ba8-46ed-90e3-224fdd3774d9\" class=\"plotly-graph-div\" style=\"height:525px; width:100%;\"></div>            <script type=\"text/javascript\">                require([\"plotly\"], function(Plotly) {                    window.PLOTLYENV=window.PLOTLYENV || {};                                    if (document.getElementById(\"0a48ceb9-0ba8-46ed-90e3-224fdd3774d9\")) {                    Plotly.newPlot(                        \"0a48ceb9-0ba8-46ed-90e3-224fdd3774d9\",                        [{\"mode\": \"markers\", \"name\": \"Black&Scholes model Price\", \"type\": \"scatter3d\", \"x\": [35000.0, 36000.0, 38000.0, 36000.0, 37000.0, 38000.0, 35000.0, 36000.0, 37000.0, 38000.0, 39000.0, 40000.0, 44000.0, 46000.0, 35000.0, 36000.0, 38000.0, 40000.0, 42000.0, 50000.0, 55000.0, 36000.0, 38000.0, 40000.0, 42000.0, 45000.0, 55000.0, 35000.0, 36000.0, 40000.0, 45000.0, 50000.0, 55000.0, 65000.0, 40000.0, 45000.0, 50000.0, 55000.0, 60000.0, 70000.0, 36000.0, 48000.0, 50000.0, 56000.0, 60000.0, 64000.0], \"y\": [0.0010188599700010834, 0.0010188599700010834, 0.0010188599700010834, 0.0037585859973983437, 0.0037585859973983437, 0.0037585859973983437, 0.009238038052192863, 0.009238038052192863, 0.009238038052192863, 0.009238038052192863, 0.009238038052192863, 0.009238038052192863, 0.009238038052192863, 0.009238038052192863, 0.028416120243973685, 0.028416120243973685, 0.028416120243973685, 0.028416120243973685, 0.028416120243973685, 0.028416120243973685, 0.028416120243973685, 0.04759420243575451, 0.04759420243575451, 0.04759420243575451, 0.04759420243575451, 0.04759420243575451, 0.04759420243575451, 0.08595036681931616, 0.08595036681931616, 0.08595036681931616, 0.08595036681931616, 0.08595036681931616, 0.08595036681931616, 0.08595036681931616, 0.16266269558643945, 0.16266269558643945, 0.16266269558643945, 0.16266269558643945, 0.16266269558643945, 0.16266269558643945, 0.23937502435356273, 0.23937502435356273, 0.23937502435356273, 0.23937502435356273, 0.23937502435356273, 0.23937502435356273], \"z\": [0.014138633975424142, 0.005846802744551738, 0.0005661419488411645, 0.01078101420619726, 0.006244741530168518, 0.003722328839761757, 0.035877997189682986, 0.022577379770210904, 0.017525904166059814, 0.013117386923203078, 0.006249688231195427, 0.004735310415900251, 0.0013769822420623828, 0.0005255544008582469, 0.07045221570909632, 0.07339930083597679, 0.028878556783813458, 0.07321839195915025, 0.010660331928432298, 0.0020185592205342745, 0.0011485218924892765, 0.06867648377186697, 0.04796764070410564, 0.032220732340892067, 0.02189931136079548, 0.012284827043350877, 0.0028913302159285503, 0.17198249039250868, 0.1016147119197015, 0.09220594942992655, 0.05172697590916853, 0.019301419295504108, 0.011349271968955965, 0.004439450469489958, 0.12490528761736996, 0.06650610483163666, 0.043418364455851455, 0.030170055566937304, 0.021503933951668608, 0.011901107594619653, 0.33503970759905144, 0.09120203805038152, 0.07412721882155848, 0.07229586568938817, 0.06640810207956127, 0.04920767988874353]}, {\"mode\": \"markers\", \"name\": \"Real Market Price\", \"type\": \"scatter3d\", \"x\": [35000.0, 36000.0, 38000.0, 36000.0, 37000.0, 38000.0, 35000.0, 36000.0, 37000.0, 38000.0, 39000.0, 40000.0, 44000.0, 46000.0, 35000.0, 36000.0, 38000.0, 40000.0, 42000.0, 50000.0, 55000.0, 36000.0, 38000.0, 40000.0, 42000.0, 45000.0, 55000.0, 35000.0, 36000.0, 40000.0, 45000.0, 50000.0, 55000.0, 65000.0, 40000.0, 45000.0, 50000.0, 55000.0, 60000.0, 70000.0, 36000.0, 48000.0, 50000.0, 56000.0, 60000.0, 64000.0], \"y\": [0.0010188599700010834, 0.0010188599700010834, 0.0010188599700010834, 0.0037585859973983437, 0.0037585859973983437, 0.0037585859973983437, 0.009238038052192863, 0.009238038052192863, 0.009238038052192863, 0.009238038052192863, 0.009238038052192863, 0.009238038052192863, 0.009238038052192863, 0.009238038052192863, 0.028416120243973685, 0.028416120243973685, 0.028416120243973685, 0.028416120243973685, 0.028416120243973685, 0.028416120243973685, 0.028416120243973685, 0.04759420243575451, 0.04759420243575451, 0.04759420243575451, 0.04759420243575451, 0.04759420243575451, 0.04759420243575451, 0.08595036681931616, 0.08595036681931616, 0.08595036681931616, 0.08595036681931616, 0.08595036681931616, 0.08595036681931616, 0.08595036681931616, 0.16266269558643945, 0.16266269558643945, 0.16266269558643945, 0.16266269558643945, 0.16266269558643945, 0.16266269558643945, 0.23937502435356273, 0.23937502435356273, 0.23937502435356273, 0.23937502435356273, 0.23937502435356273, 0.23937502435356273], \"z\": [0.014030595953328593, 0.005824882820276165, 0.0005648907103825137, 0.010645679726728016, 0.006189493371796743, 0.0036959929054719834, 0.0336406023222061, 0.021931060606060607, 0.017185234630929146, 0.012918537791548697, 0.00616690827153335, 0.0046805914992768365, 0.0013656069364161854, 0.0005215716486902929, 0.059482947301317465, 0.06802303997923156, 0.027662230479275712, 0.07128941047378548, 0.010390125115425301, 0.0019849915898396747, 0.0011322886297376095, 0.0602873027425429, 0.04479426264503491, 0.030669917479369844, 0.021036685745543546, 0.011891286361763492, 0.0028276895281199336, 0.1020666609004746, 0.08083726324564877, 0.0851294813054959, 0.049148067353234876, 0.018507231087157155, 0.010949041829115182, 0.004310262089331857, 0.10742269623019488, 0.06041980607903086, 0.04030962935008771, 0.02833987144462916, 0.02034365332478373, 0.011356312549078578, 0.1716231827923072, 0.08139728401981203, 0.06675595238095239, 0.06656940840952147, 0.06169077431619567, 0.04593340834983697]}, {\"mode\": \"markers\", \"name\": \"Merton Model Price\", \"type\": \"scatter3d\", \"x\": [35000.0, 36000.0, 38000.0, 36000.0, 37000.0, 38000.0, 35000.0, 36000.0, 37000.0, 38000.0, 39000.0, 40000.0, 44000.0, 46000.0, 35000.0, 36000.0, 38000.0, 40000.0, 42000.0, 50000.0, 55000.0, 36000.0, 38000.0, 40000.0, 42000.0, 45000.0, 55000.0, 35000.0, 36000.0, 40000.0, 45000.0, 50000.0, 55000.0, 65000.0, 40000.0, 45000.0, 50000.0, 55000.0, 60000.0, 70000.0, 36000.0, 48000.0, 50000.0, 56000.0, 60000.0, 64000.0], \"y\": [0.0010188599700010834, 0.0010188599700010834, 0.0010188599700010834, 0.0037585859973983437, 0.0037585859973983437, 0.0037585859973983437, 0.009238038052192863, 0.009238038052192863, 0.009238038052192863, 0.009238038052192863, 0.009238038052192863, 0.009238038052192863, 0.009238038052192863, 0.009238038052192863, 0.028416120243973685, 0.028416120243973685, 0.028416120243973685, 0.028416120243973685, 0.028416120243973685, 0.028416120243973685, 0.028416120243973685, 0.04759420243575451, 0.04759420243575451, 0.04759420243575451, 0.04759420243575451, 0.04759420243575451, 0.04759420243575451, 0.08595036681931616, 0.08595036681931616, 0.08595036681931616, 0.08595036681931616, 0.08595036681931616, 0.08595036681931616, 0.08595036681931616, 0.16266269558643945, 0.16266269558643945, 0.16266269558643945, 0.16266269558643945, 0.16266269558643945, 0.16266269558643945, 0.23937502435356273, 0.23937502435356273, 0.23937502435356273, 0.23937502435356273, 0.23937502435356273, 0.23937502435356273], \"z\": [0.014132149316603457, 0.0058430792638159285, 0.0009541778946743992, 0.010736888137393121, 0.006214198943731368, 0.003697846204837483, 0.03529412041421638, 0.022323946227922744, 0.017360754832929374, 0.012993769941125404, 0.008204774377093901, 0.007785503163518918, 0.006054926431284328, 0.0051897656524457336, 0.06545605067554588, 0.07133712785451689, 0.02774529609153854, 0.0726512168158711, 0.021215893615706957, 0.010567695594769689, 0.003916636564909084, 0.06228387737751832, 0.044868953967415436, 0.04002088341500793, 0.03564910381522777, 0.028970749302744906, 0.006677828123467429, 0.11209618896901791, 0.08869789712870053, 0.0865754144504096, 0.05266358057289834, 0.03254208917500335, 0.012471064945078984, 0.0043780556798482416, 0.1397472058387859, 0.10172220923687052, 0.06370324618296247, 0.02887322250769825, 0.02090636384368513, 0.011785105143412503, 0.2530230595935193, 0.11912844732609523, 0.09683147557200496, 0.06952181836176076, 0.0650904392794416, 0.048521455582784964]}, {\"mode\": \"markers\", \"name\": \"Heston Model Price\", \"type\": \"scatter3d\", \"x\": [35000.0, 36000.0, 38000.0, 36000.0, 37000.0, 38000.0, 35000.0, 36000.0, 37000.0, 38000.0, 39000.0, 40000.0, 44000.0, 46000.0, 35000.0, 36000.0, 38000.0, 40000.0, 42000.0, 50000.0, 55000.0, 36000.0, 38000.0, 40000.0, 42000.0, 45000.0, 55000.0, 35000.0, 36000.0, 40000.0, 45000.0, 50000.0, 55000.0, 65000.0, 40000.0, 45000.0, 50000.0, 55000.0, 60000.0, 70000.0, 36000.0, 48000.0, 50000.0, 56000.0, 60000.0, 64000.0], \"y\": [0.0010188599700010834, 0.0010188599700010834, 0.0010188599700010834, 0.0037585859973983437, 0.0037585859973983437, 0.0037585859973983437, 0.009238038052192863, 0.009238038052192863, 0.009238038052192863, 0.009238038052192863, 0.009238038052192863, 0.009238038052192863, 0.009238038052192863, 0.009238038052192863, 0.028416120243973685, 0.028416120243973685, 0.028416120243973685, 0.028416120243973685, 0.028416120243973685, 0.028416120243973685, 0.028416120243973685, 0.04759420243575451, 0.04759420243575451, 0.04759420243575451, 0.04759420243575451, 0.04759420243575451, 0.04759420243575451, 0.08595036681931616, 0.08595036681931616, 0.08595036681931616, 0.08595036681931616, 0.08595036681931616, 0.08595036681931616, 0.08595036681931616, 0.16266269558643945, 0.16266269558643945, 0.16266269558643945, 0.16266269558643945, 0.16266269558643945, 0.16266269558643945, 0.23937502435356273, 0.23937502435356273, 0.23937502435356273, 0.23937502435356273, 0.23937502435356273, 0.23937502435356273], \"z\": [0.002436049292271348, 0.0001615184811980378, 0.00029156534073436095, 0.002809218006739198, 0.0007792528523203183, 0.00017489797810421684, 0.017698595271803622, 0.009435206391205377, 0.004760635083982459, 0.0022797630275790235, 0.0010414642792585978, 0.0004743288083524021, 1.5598100297211202e-05, 2.5378632549488787e-06, 0.03696230704760555, 0.0271475595840042, 0.014180509860245426, 0.007243059475972018, 0.0037115367728889786, 0.0002517489284166186, 5.196897722383834e-05, 0.041548290397275686, 0.026258746720728237, 0.016509807596352642, 0.010520205779492028, 0.005359832900966629, 0.000641858580317851, 0.07740008969686472, 0.06595502872488322, 0.03564723515317203, 0.01727775211738038, 0.008763972672713317, 0.004620992245682514, 0.0014289840746537475, 0.07317271864737199, 0.04611057517139729, 0.03026029576948786, 0.020299156820441533, 0.01425253066116599, 0.007354184493057931, 0.14953467956385608, 0.06210169922563758, 0.05605734582511679, 0.038747841337128, 0.03145516440887301, 0.026148505267101628]}],                        {\"scene\": {\"xaxis\": {\"title\": {\"text\": \"Strike\"}}, \"yaxis\": {\"title\": {\"text\": \"Exp\"}}, \"zaxis\": {\"title\": {\"text\": \"Price\"}}}, \"template\": {\"data\": {\"bar\": [{\"error_x\": {\"color\": \"#2a3f5f\"}, \"error_y\": {\"color\": \"#2a3f5f\"}, \"marker\": {\"line\": {\"color\": \"#E5ECF6\", \"width\": 0.5}}, \"type\": \"bar\"}], \"barpolar\": [{\"marker\": {\"line\": {\"color\": \"#E5ECF6\", \"width\": 0.5}}, \"type\": \"barpolar\"}], \"carpet\": [{\"aaxis\": {\"endlinecolor\": \"#2a3f5f\", \"gridcolor\": \"white\", \"linecolor\": \"white\", \"minorgridcolor\": \"white\", \"startlinecolor\": \"#2a3f5f\"}, \"baxis\": {\"endlinecolor\": \"#2a3f5f\", \"gridcolor\": \"white\", \"linecolor\": \"white\", \"minorgridcolor\": \"white\", \"startlinecolor\": \"#2a3f5f\"}, \"type\": \"carpet\"}], \"choropleth\": [{\"colorbar\": {\"outlinewidth\": 0, \"ticks\": \"\"}, \"type\": \"choropleth\"}], \"contour\": [{\"colorbar\": {\"outlinewidth\": 0, \"ticks\": \"\"}, \"colorscale\": [[0.0, \"#0d0887\"], [0.1111111111111111, \"#46039f\"], [0.2222222222222222, \"#7201a8\"], [0.3333333333333333, \"#9c179e\"], [0.4444444444444444, \"#bd3786\"], [0.5555555555555556, \"#d8576b\"], [0.6666666666666666, \"#ed7953\"], [0.7777777777777778, \"#fb9f3a\"], [0.8888888888888888, \"#fdca26\"], [1.0, \"#f0f921\"]], \"type\": \"contour\"}], \"contourcarpet\": [{\"colorbar\": {\"outlinewidth\": 0, \"ticks\": \"\"}, \"type\": \"contourcarpet\"}], \"heatmap\": [{\"colorbar\": {\"outlinewidth\": 0, \"ticks\": \"\"}, \"colorscale\": [[0.0, \"#0d0887\"], [0.1111111111111111, \"#46039f\"], [0.2222222222222222, \"#7201a8\"], [0.3333333333333333, \"#9c179e\"], [0.4444444444444444, \"#bd3786\"], [0.5555555555555556, \"#d8576b\"], [0.6666666666666666, \"#ed7953\"], [0.7777777777777778, \"#fb9f3a\"], [0.8888888888888888, \"#fdca26\"], [1.0, \"#f0f921\"]], \"type\": \"heatmap\"}], \"heatmapgl\": [{\"colorbar\": {\"outlinewidth\": 0, \"ticks\": \"\"}, \"colorscale\": [[0.0, \"#0d0887\"], [0.1111111111111111, \"#46039f\"], [0.2222222222222222, \"#7201a8\"], [0.3333333333333333, \"#9c179e\"], [0.4444444444444444, \"#bd3786\"], [0.5555555555555556, \"#d8576b\"], [0.6666666666666666, \"#ed7953\"], [0.7777777777777778, \"#fb9f3a\"], [0.8888888888888888, \"#fdca26\"], [1.0, \"#f0f921\"]], \"type\": \"heatmapgl\"}], \"histogram\": [{\"marker\": {\"colorbar\": {\"outlinewidth\": 0, \"ticks\": \"\"}}, \"type\": \"histogram\"}], \"histogram2d\": [{\"colorbar\": {\"outlinewidth\": 0, \"ticks\": \"\"}, \"colorscale\": [[0.0, \"#0d0887\"], [0.1111111111111111, \"#46039f\"], [0.2222222222222222, \"#7201a8\"], [0.3333333333333333, \"#9c179e\"], [0.4444444444444444, \"#bd3786\"], [0.5555555555555556, \"#d8576b\"], [0.6666666666666666, \"#ed7953\"], [0.7777777777777778, \"#fb9f3a\"], [0.8888888888888888, \"#fdca26\"], [1.0, \"#f0f921\"]], \"type\": \"histogram2d\"}], \"histogram2dcontour\": [{\"colorbar\": {\"outlinewidth\": 0, \"ticks\": \"\"}, \"colorscale\": [[0.0, \"#0d0887\"], [0.1111111111111111, \"#46039f\"], [0.2222222222222222, \"#7201a8\"], [0.3333333333333333, \"#9c179e\"], [0.4444444444444444, \"#bd3786\"], [0.5555555555555556, \"#d8576b\"], [0.6666666666666666, \"#ed7953\"], [0.7777777777777778, \"#fb9f3a\"], [0.8888888888888888, \"#fdca26\"], [1.0, \"#f0f921\"]], \"type\": \"histogram2dcontour\"}], \"mesh3d\": [{\"colorbar\": {\"outlinewidth\": 0, \"ticks\": \"\"}, \"type\": \"mesh3d\"}], \"parcoords\": [{\"line\": {\"colorbar\": {\"outlinewidth\": 0, \"ticks\": \"\"}}, \"type\": \"parcoords\"}], \"pie\": [{\"automargin\": true, \"type\": \"pie\"}], \"scatter\": [{\"marker\": {\"colorbar\": {\"outlinewidth\": 0, \"ticks\": \"\"}}, \"type\": \"scatter\"}], \"scatter3d\": [{\"line\": {\"colorbar\": {\"outlinewidth\": 0, \"ticks\": \"\"}}, \"marker\": {\"colorbar\": {\"outlinewidth\": 0, \"ticks\": \"\"}}, \"type\": \"scatter3d\"}], \"scattercarpet\": [{\"marker\": {\"colorbar\": {\"outlinewidth\": 0, \"ticks\": \"\"}}, \"type\": \"scattercarpet\"}], \"scattergeo\": [{\"marker\": {\"colorbar\": {\"outlinewidth\": 0, \"ticks\": \"\"}}, \"type\": \"scattergeo\"}], \"scattergl\": [{\"marker\": {\"colorbar\": {\"outlinewidth\": 0, \"ticks\": \"\"}}, \"type\": \"scattergl\"}], \"scattermapbox\": [{\"marker\": {\"colorbar\": {\"outlinewidth\": 0, \"ticks\": \"\"}}, \"type\": \"scattermapbox\"}], \"scatterpolar\": [{\"marker\": {\"colorbar\": {\"outlinewidth\": 0, \"ticks\": \"\"}}, \"type\": \"scatterpolar\"}], \"scatterpolargl\": [{\"marker\": {\"colorbar\": {\"outlinewidth\": 0, \"ticks\": \"\"}}, \"type\": \"scatterpolargl\"}], \"scatterternary\": [{\"marker\": {\"colorbar\": {\"outlinewidth\": 0, \"ticks\": \"\"}}, \"type\": \"scatterternary\"}], \"surface\": [{\"colorbar\": {\"outlinewidth\": 0, \"ticks\": \"\"}, \"colorscale\": [[0.0, \"#0d0887\"], [0.1111111111111111, \"#46039f\"], [0.2222222222222222, \"#7201a8\"], [0.3333333333333333, \"#9c179e\"], [0.4444444444444444, \"#bd3786\"], [0.5555555555555556, \"#d8576b\"], [0.6666666666666666, \"#ed7953\"], [0.7777777777777778, \"#fb9f3a\"], [0.8888888888888888, \"#fdca26\"], [1.0, \"#f0f921\"]], \"type\": \"surface\"}], \"table\": [{\"cells\": {\"fill\": {\"color\": \"#EBF0F8\"}, \"line\": {\"color\": \"white\"}}, \"header\": {\"fill\": {\"color\": \"#C8D4E3\"}, \"line\": {\"color\": \"white\"}}, \"type\": \"table\"}]}, \"layout\": {\"annotationdefaults\": {\"arrowcolor\": \"#2a3f5f\", \"arrowhead\": 0, \"arrowwidth\": 1}, \"autotypenumbers\": \"strict\", \"coloraxis\": {\"colorbar\": {\"outlinewidth\": 0, \"ticks\": \"\"}}, \"colorscale\": {\"diverging\": [[0, \"#8e0152\"], [0.1, \"#c51b7d\"], [0.2, \"#de77ae\"], [0.3, \"#f1b6da\"], [0.4, \"#fde0ef\"], [0.5, \"#f7f7f7\"], [0.6, \"#e6f5d0\"], [0.7, \"#b8e186\"], [0.8, \"#7fbc41\"], [0.9, \"#4d9221\"], [1, \"#276419\"]], \"sequential\": [[0.0, \"#0d0887\"], [0.1111111111111111, \"#46039f\"], [0.2222222222222222, \"#7201a8\"], [0.3333333333333333, \"#9c179e\"], [0.4444444444444444, \"#bd3786\"], [0.5555555555555556, \"#d8576b\"], [0.6666666666666666, \"#ed7953\"], [0.7777777777777778, \"#fb9f3a\"], [0.8888888888888888, \"#fdca26\"], [1.0, \"#f0f921\"]], \"sequentialminus\": [[0.0, \"#0d0887\"], [0.1111111111111111, \"#46039f\"], [0.2222222222222222, \"#7201a8\"], [0.3333333333333333, \"#9c179e\"], [0.4444444444444444, \"#bd3786\"], [0.5555555555555556, \"#d8576b\"], [0.6666666666666666, \"#ed7953\"], [0.7777777777777778, \"#fb9f3a\"], [0.8888888888888888, \"#fdca26\"], [1.0, \"#f0f921\"]]}, \"colorway\": [\"#636efa\", \"#EF553B\", \"#00cc96\", \"#ab63fa\", \"#FFA15A\", \"#19d3f3\", \"#FF6692\", \"#B6E880\", \"#FF97FF\", \"#FECB52\"], \"font\": {\"color\": \"#2a3f5f\"}, \"geo\": {\"bgcolor\": \"white\", \"lakecolor\": \"white\", \"landcolor\": \"#E5ECF6\", \"showlakes\": true, \"showland\": true, \"subunitcolor\": \"white\"}, \"hoverlabel\": {\"align\": \"left\"}, \"hovermode\": \"closest\", \"mapbox\": {\"style\": \"light\"}, \"paper_bgcolor\": \"white\", \"plot_bgcolor\": \"#E5ECF6\", \"polar\": {\"angularaxis\": {\"gridcolor\": \"white\", \"linecolor\": \"white\", \"ticks\": \"\"}, \"bgcolor\": \"#E5ECF6\", \"radialaxis\": {\"gridcolor\": \"white\", \"linecolor\": \"white\", \"ticks\": \"\"}}, \"scene\": {\"xaxis\": {\"backgroundcolor\": \"#E5ECF6\", \"gridcolor\": \"white\", \"gridwidth\": 2, \"linecolor\": \"white\", \"showbackground\": true, \"ticks\": \"\", \"zerolinecolor\": \"white\"}, \"yaxis\": {\"backgroundcolor\": \"#E5ECF6\", \"gridcolor\": \"white\", \"gridwidth\": 2, \"linecolor\": \"white\", \"showbackground\": true, \"ticks\": \"\", \"zerolinecolor\": \"white\"}, \"zaxis\": {\"backgroundcolor\": \"#E5ECF6\", \"gridcolor\": \"white\", \"gridwidth\": 2, \"linecolor\": \"white\", \"showbackground\": true, \"ticks\": \"\", \"zerolinecolor\": \"white\"}}, \"shapedefaults\": {\"line\": {\"color\": \"#2a3f5f\"}}, \"ternary\": {\"aaxis\": {\"gridcolor\": \"white\", \"linecolor\": \"white\", \"ticks\": \"\"}, \"baxis\": {\"gridcolor\": \"white\", \"linecolor\": \"white\", \"ticks\": \"\"}, \"bgcolor\": \"#E5ECF6\", \"caxis\": {\"gridcolor\": \"white\", \"linecolor\": \"white\", \"ticks\": \"\"}}, \"title\": {\"x\": 0.05}, \"xaxis\": {\"automargin\": true, \"gridcolor\": \"white\", \"linecolor\": \"white\", \"ticks\": \"\", \"title\": {\"standoff\": 15}, \"zerolinecolor\": \"white\", \"zerolinewidth\": 2}, \"yaxis\": {\"automargin\": true, \"gridcolor\": \"white\", \"linecolor\": \"white\", \"ticks\": \"\", \"title\": {\"standoff\": 15}, \"zerolinecolor\": \"white\", \"zerolinewidth\": 2}}}},                        {\"responsive\": true}                    ).then(function(){\n",
       "                            \n",
       "var gd = document.getElementById('0a48ceb9-0ba8-46ed-90e3-224fdd3774d9');\n",
       "var x = new MutationObserver(function (mutations, observer) {{\n",
       "        var display = window.getComputedStyle(gd).display;\n",
       "        if (!display || display === 'none') {{\n",
       "            console.log([gd, 'removed!']);\n",
       "            Plotly.purge(gd);\n",
       "            observer.disconnect();\n",
       "        }}\n",
       "}});\n",
       "\n",
       "// Listen for the removal of the full notebook cells\n",
       "var notebookContainer = gd.closest('#notebook-container');\n",
       "if (notebookContainer) {{\n",
       "    x.observe(notebookContainer, {childList: true});\n",
       "}}\n",
       "\n",
       "// Listen for the clearing of the current output cell\n",
       "var outputEl = gd.closest('.output');\n",
       "if (outputEl) {{\n",
       "    x.observe(outputEl, {childList: true});\n",
       "}}\n",
       "\n",
       "                        })                };                });            </script>        </div>"
      ]
     },
     "metadata": {},
     "output_type": "display_data"
    },
    {
     "name": "stdout",
     "output_type": "stream",
     "text": [
      "Root Mean Squared Error | MERTON = 1.717893%\n",
      "Root Mean Squared Error | B&S    = 2.67435%\n",
      "Root Mean Squared Error | HESTON    = 1.958572%\n"
     ]
    }
   ],
   "source": [
    "x = option.df['K']\n",
    "y = option.df['_T']\n",
    "z = option.df['BS_PRICE']\n",
    "z2 = option.df['mid']\n",
    "z3 = option.df['MERTON_PRICE']\n",
    "z4 = option.df['heston_prices']/option.df['K']\n",
    "\n",
    "\n",
    "#fig = go.Figure(data=[go.Scatter3d(x=x, y=y, z=z , mode='markers', name='BS price')])\n",
    "\n",
    "fig = go.Figure(data=[go.Scatter3d(x=x, y=y, z=z , mode='markers', name='Black&Scholes model Price'),\n",
    "                      go.Scatter3d(x=x, y=y, z=z2, mode='markers', name='Real Market Price'),\n",
    "                      go.Scatter3d(x=x, y=y, z=z3, mode='markers', name='Merton Model Price'),\n",
    "                      go.Scatter3d(x=x, y=y, z=z4, mode='markers', name='Heston Model Price')])\n",
    "\n",
    "\n",
    "fig.update_scenes(xaxis_title_text='Strike', yaxis_title_text='Exp', zaxis_title_text='Price') \n",
    "fig.show()\n",
    "\n",
    "rms_merton = mean_squared_error(option.df['mid'], option.df['MERTON_PRICE'], squared=False)\n",
    "rms_bs = mean_squared_error(option.df['mid'], option.df['BS_PRICE'], squared=False)\n",
    "rms_hest = mean_squared_error(z2, z4, squared=False)\n",
    "\n",
    "\n",
    "\n",
    "print('Root Mean Squared Error | MERTON = {}%'.format(round(rms_merton*100,6)))\n",
    "print('Root Mean Squared Error | B&S    = {}%'.format(round(rms_bs*100,6)))\n",
    "print('Root Mean Squared Error | HESTON    = {}%'.format(round(rms_hest*100,6)))"
   ]
  },
  {
   "cell_type": "code",
   "execution_count": null,
   "metadata": {},
   "outputs": [],
   "source": []
  }
 ],
 "metadata": {
  "colab": {
   "collapsed_sections": [],
   "name": "main_notebook-Copy1.ipynb",
   "provenance": []
  },
  "kernelspec": {
   "display_name": "Python 3",
   "language": "python",
   "name": "python3"
  },
  "language_info": {
   "codemirror_mode": {
    "name": "ipython",
    "version": 3
   },
   "file_extension": ".py",
   "mimetype": "text/x-python",
   "name": "python",
   "nbconvert_exporter": "python",
   "pygments_lexer": "ipython3",
   "version": "3.7.4"
  }
 },
 "nbformat": 4,
 "nbformat_minor": 1
}
