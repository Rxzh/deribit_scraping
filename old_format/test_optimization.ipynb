{
 "cells": [
  {
   "cell_type": "markdown",
   "metadata": {},
   "source": [
    "Dans ce notebook, on vous propose de tester la fonction d'optimisation $\\verb+optimize_merton+$ de la classe $\\verb+Option+$. La méthode est la suivante, on split la data scrapée en deux dataframes $\\verb+train+$ et $\\verb+test+$ dont la proportion est assurée par le paramètre $\\verb+test_size+$\n",
    "\n",
    "Ensuite on va optimiser les paramètres de Merton sur le DataFrame $\\verb+train+$, puis on calcule la précision du modèle sous ces paramètres sur le DataFrame $\\verb+test+$ avec la métrique RMSE.\n",
    "\n",
    "Le plus simple est la définition d'une Pipeline de test $\\verb+testing_pipeline+$ qui effectue toutes ces étapes pour une proportion donnée, on peut ensuite faire varier ce coefficient proportionnel et regarder comment varient les précisions"
   ]
  },
  {
   "cell_type": "code",
   "execution_count": 3,
   "metadata": {},
   "outputs": [],
   "source": [
    "import deribit_data as dm\n",
    "from option import Option\n",
    "import numpy as np\n",
    "from utils import *\n",
    "from sklearn.metrics import mean_squared_error\n",
    "import plotly.graph_objects as go\n",
    "from sklearn.model_selection import train_test_split\n",
    "import time\n",
    "import pandas as pd\n",
    "from threading import Thread"
   ]
  },
  {
   "cell_type": "code",
   "execution_count": null,
   "metadata": {},
   "outputs": [],
   "source": [
    "data = dm.Scraper(currency='BTC')"
   ]
  },
  {
   "cell_type": "code",
   "execution_count": null,
   "metadata": {},
   "outputs": [],
   "source": [
    "raw_df = data.collect_data(max_workers = 15, save_csv = False)"
   ]
  },
  {
   "cell_type": "code",
   "execution_count": null,
   "metadata": {},
   "outputs": [],
   "source": [
    "def testing_pipeline(test_size = .2):\n",
    "    \n",
    "    train, test = train_test_split(raw_df, test_size = test_size)\n",
    "    \n",
    "    option_train = Option(train, 'B')\n",
    "    option_test  = Option(test , 'B')\n",
    "    \n",
    "    part1(option_test)\n",
    "    part1(option_train)\n",
    "    \n",
    "    option_train.init_merton(reset=True)\n",
    "    option_test.init_merton(reset=True)\n",
    "    \n",
    "    option_train.append_loc_vol_to_df()\n",
    "    option_test.append_loc_vol_to_df()\n",
    "    \n",
    "    option_train.append_BS_price()\n",
    "    option_test.append_BS_price()\n",
    "    \n",
    "    option_train.df.drop(option_train.df[option_train.df.BS_PRICE >= .5].index, inplace = True)\n",
    "    option_test.df.drop(option_test.df[option_test.df.BS_PRICE >= .5].index, inplace = True)\n",
    "    \n",
    "    option_train.df.dropna(inplace=True)\n",
    "    option_test.df.dropna(inplace=True)\n",
    "    \n",
    "    optimized_X = option_train.optimize_merton(tol = 1e-6, max_iter = 400)\n",
    "    option_test.init_merton(optimized_X[0], optimized_X[2], optimized_X[1])\n",
    "    \n",
    "    option_train.append_Merton_price()\n",
    "    option_test.append_Merton_price()\n",
    "    \n",
    "    \n",
    "    rms_train = mean_squared_error(option_train.df['MERTON_PRICE'], option_train.df['mid'], squared=False)\n",
    "    rms_test = mean_squared_error(option_test.df['MERTON_PRICE'], option_test.df['mid'], squared=False)\n",
    "\n",
    "\n",
    "    print('RMSE Train = {}%'.format(round(rms_train*100,3)))\n",
    "    print('RMSE Test  = {}%'.format(round(rms_test*100,3)))\n",
    "    \n",
    "    return rms_train, rms_test"
   ]
  },
  {
   "cell_type": "code",
   "execution_count": null,
   "metadata": {},
   "outputs": [],
   "source": [
    "test_sizes = np.linspace(.1,.9,9)\n",
    "print(test_sizes)"
   ]
  },
  {
   "cell_type": "markdown",
   "metadata": {},
   "source": [
    "On peut maintenant regarder comment varient les précisions pour toutes ces proportions : \n",
    "[0.1, 0.2, 0.3, 0.4, 0.5, 0.6, 0.7, 0.8, 0.9]"
   ]
  },
  {
   "cell_type": "code",
   "execution_count": null,
   "metadata": {},
   "outputs": [],
   "source": [
    "start = time.process_time()\n",
    "rms_train, rms_test = np.vectorize(testing_pipeline)(test_sizes)\n",
    "print(\"Calculé en {}s\".format(round(time.process_time() - start, 3)))\n",
    "\n"
   ]
  },
  {
   "cell_type": "markdown",
   "metadata": {},
   "source": [
    "single thread: Calculé en 1154.593s"
   ]
  },
  {
   "cell_type": "code",
   "execution_count": null,
   "metadata": {},
   "outputs": [],
   "source": [
    "test_df = pd.DataFrame([test_sizes, rms_train, rms_test],index=['test_sizes', 'rms_train', 'rms_test']).T\n",
    "#test_df.to_csv(\"test_optimisation.csv\")\n"
   ]
  },
  {
   "cell_type": "code",
   "execution_count": 4,
   "metadata": {},
   "outputs": [],
   "source": [
    "test_df = pd.read_csv('test_optimisation.csv')[['test_sizes','rms_train','rms_test']]"
   ]
  },
  {
   "cell_type": "code",
   "execution_count": 5,
   "metadata": {},
   "outputs": [
    {
     "data": {
      "text/html": [
       "<div>\n",
       "<style scoped>\n",
       "    .dataframe tbody tr th:only-of-type {\n",
       "        vertical-align: middle;\n",
       "    }\n",
       "\n",
       "    .dataframe tbody tr th {\n",
       "        vertical-align: top;\n",
       "    }\n",
       "\n",
       "    .dataframe thead th {\n",
       "        text-align: right;\n",
       "    }\n",
       "</style>\n",
       "<table border=\"1\" class=\"dataframe\">\n",
       "  <thead>\n",
       "    <tr style=\"text-align: right;\">\n",
       "      <th></th>\n",
       "      <th>test_sizes</th>\n",
       "      <th>rms_train</th>\n",
       "      <th>rms_test</th>\n",
       "    </tr>\n",
       "  </thead>\n",
       "  <tbody>\n",
       "    <tr>\n",
       "      <th>0</th>\n",
       "      <td>0.1</td>\n",
       "      <td>0.007626</td>\n",
       "      <td>0.002013</td>\n",
       "    </tr>\n",
       "    <tr>\n",
       "      <th>1</th>\n",
       "      <td>0.2</td>\n",
       "      <td>0.028188</td>\n",
       "      <td>0.031036</td>\n",
       "    </tr>\n",
       "    <tr>\n",
       "      <th>2</th>\n",
       "      <td>0.3</td>\n",
       "      <td>0.007729</td>\n",
       "      <td>0.017400</td>\n",
       "    </tr>\n",
       "    <tr>\n",
       "      <th>3</th>\n",
       "      <td>0.4</td>\n",
       "      <td>0.075675</td>\n",
       "      <td>0.062980</td>\n",
       "    </tr>\n",
       "    <tr>\n",
       "      <th>4</th>\n",
       "      <td>0.5</td>\n",
       "      <td>0.014000</td>\n",
       "      <td>0.007629</td>\n",
       "    </tr>\n",
       "    <tr>\n",
       "      <th>5</th>\n",
       "      <td>0.6</td>\n",
       "      <td>0.008158</td>\n",
       "      <td>0.013672</td>\n",
       "    </tr>\n",
       "    <tr>\n",
       "      <th>6</th>\n",
       "      <td>0.7</td>\n",
       "      <td>0.036458</td>\n",
       "      <td>0.025079</td>\n",
       "    </tr>\n",
       "    <tr>\n",
       "      <th>7</th>\n",
       "      <td>0.8</td>\n",
       "      <td>0.014861</td>\n",
       "      <td>0.030348</td>\n",
       "    </tr>\n",
       "    <tr>\n",
       "      <th>8</th>\n",
       "      <td>0.9</td>\n",
       "      <td>0.026314</td>\n",
       "      <td>0.009216</td>\n",
       "    </tr>\n",
       "  </tbody>\n",
       "</table>\n",
       "</div>"
      ],
      "text/plain": [
       "   test_sizes  rms_train  rms_test\n",
       "0         0.1   0.007626  0.002013\n",
       "1         0.2   0.028188  0.031036\n",
       "2         0.3   0.007729  0.017400\n",
       "3         0.4   0.075675  0.062980\n",
       "4         0.5   0.014000  0.007629\n",
       "5         0.6   0.008158  0.013672\n",
       "6         0.7   0.036458  0.025079\n",
       "7         0.8   0.014861  0.030348\n",
       "8         0.9   0.026314  0.009216"
      ]
     },
     "execution_count": 5,
     "metadata": {},
     "output_type": "execute_result"
    }
   ],
   "source": [
    "test_df.head(100)"
   ]
  },
  {
   "cell_type": "code",
   "execution_count": null,
   "metadata": {},
   "outputs": [],
   "source": []
  },
  {
   "cell_type": "code",
   "execution_count": 8,
   "metadata": {},
   "outputs": [
    {
     "data": {
      "image/png": "[encoded data removed]",
      "text/plain": [
       "<Figure size 432x288 with 1 Axes>"
      ]
     },
     "metadata": {
      "needs_background": "light"
     },
     "output_type": "display_data"
    }
   ],
   "source": [
    "plt.plot(test_df['test_sizes'], test_df['rms_train'],label='RMSE sur l\\'echantillon d\\'entrainement')\n",
    "plt.plot(test_df['test_sizes'], test_df['rms_test'],label='RMSE sur l\\'echantillon de test')\n",
    "plt.xlabel('test_size')\n",
    "plt.legend()\n",
    "plt.show()"
   ]
  },
  {
   "cell_type": "markdown",
   "metadata": {},
   "source": [
    "On remarque que la précision ne diminume pas significativement lorsque l'on optimise les paramètres de Merton seulement sur un petit echantillont de toute la donnée du marché. On pourra donc procéder de cette façon pour estimer les paramètres et ainsi gagner grandement en temps de calcul."
   ]
  }
 ],
 "metadata": {
  "kernelspec": {
   "display_name": "Python 3",
   "language": "python",
   "name": "python3"
  },
  "language_info": {
   "codemirror_mode": {
    "name": "ipython",
    "version": 3
   },
   "file_extension": ".py",
   "mimetype": "text/x-python",
   "name": "python",
   "nbconvert_exporter": "python",
   "pygments_lexer": "ipython3",
   "version": "3.7.4"
  }
 },
 "nbformat": 4,
 "nbformat_minor": 2
}
