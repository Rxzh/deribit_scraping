{
 "cells": [
  {
   "cell_type": "code",
   "execution_count": 1,
   "metadata": {},
   "outputs": [],
   "source": [
    "import deribit_data as dm\n",
    "from option import Option\n",
    "import numpy as np\n",
    "from utils import *\n",
    "from sklearn.metrics import mean_squared_error\n",
    "import plotly.graph_objects as go"
   ]
  },
  {
   "cell_type": "code",
   "execution_count": 2,
   "metadata": {},
   "outputs": [],
   "source": [
    "data = dm.Scraper(currency='BTC')"
   ]
  },
  {
   "cell_type": "code",
   "execution_count": 3,
   "metadata": {},
   "outputs": [
    {
     "name": "stdout",
     "output_type": "stream",
     "text": [
      "Collecting data...\n",
      "Data Collected\n"
     ]
    }
   ],
   "source": [
    "raw_df = data.collect_data(max_workers = 15, save_csv = False)"
   ]
  },
  {
   "cell_type": "code",
   "execution_count": 4,
   "metadata": {},
   "outputs": [],
   "source": [
    "#raw_df.head()"
   ]
  },
  {
   "cell_type": "code",
   "execution_count": 5,
   "metadata": {},
   "outputs": [
    {
     "name": "stderr",
     "output_type": "stream",
     "text": [
      "/Users/pierrebelamri/Documents/GitHub/deribit_scraping/utils.py:104: SettingWithCopyWarning: \n",
      "A value is trying to be set on a copy of a slice from a DataFrame.\n",
      "Try using .loc[row_indexer,col_indexer] = value instead\n",
      "\n",
      "See the caveats in the documentation: https://pandas.pydata.org/pandas-docs/stable/user_guide/indexing.html#returning-a-view-versus-a-copy\n",
      "  df['mid_iv'] = (df.bid_iv + df.ask_iv)/2\n",
      "/Users/pierrebelamri/Documents/GitHub/deribit_scraping/utils.py:128: SettingWithCopyWarning: \n",
      "A value is trying to be set on a copy of a slice from a DataFrame.\n",
      "Try using .loc[row_indexer,col_indexer] = value instead\n",
      "\n",
      "See the caveats in the documentation: https://pandas.pydata.org/pandas-docs/stable/user_guide/indexing.html#returning-a-view-versus-a-copy\n",
      "  df['_T'] = df['_T'].apply(to_ts) - datetime.datetime.timestamp(datetime.datetime.today())#btc_subset['timestamp'].apply(ms_to_s)\n",
      "/Users/pierrebelamri/Documents/GitHub/deribit_scraping/utils.py:129: SettingWithCopyWarning: \n",
      "A value is trying to be set on a copy of a slice from a DataFrame.\n",
      "Try using .loc[row_indexer,col_indexer] = value instead\n",
      "\n",
      "See the caveats in the documentation: https://pandas.pydata.org/pandas-docs/stable/user_guide/indexing.html#returning-a-view-versus-a-copy\n",
      "  df['_T'] = df['_T'].apply(ts_to_years)\n",
      "/Users/pierrebelamri/Documents/GitHub/deribit_scraping/utils.py:138: SettingWithCopyWarning: \n",
      "A value is trying to be set on a copy of a slice from a DataFrame.\n",
      "Try using .loc[row_indexer,col_indexer] = value instead\n",
      "\n",
      "See the caveats in the documentation: https://pandas.pydata.org/pandas-docs/stable/user_guide/indexing.html#returning-a-view-versus-a-copy\n",
      "  df['bids'] = df['bids'].apply(somme_ponderee)\n",
      "/Users/pierrebelamri/Documents/GitHub/deribit_scraping/utils.py:139: SettingWithCopyWarning: \n",
      "A value is trying to be set on a copy of a slice from a DataFrame.\n",
      "Try using .loc[row_indexer,col_indexer] = value instead\n",
      "\n",
      "See the caveats in the documentation: https://pandas.pydata.org/pandas-docs/stable/user_guide/indexing.html#returning-a-view-versus-a-copy\n",
      "  df['asks'] = df['asks'].apply(somme_ponderee)\n",
      "/Users/pierrebelamri/Documents/GitHub/deribit_scraping/utils.py:140: SettingWithCopyWarning: \n",
      "A value is trying to be set on a copy of a slice from a DataFrame.\n",
      "Try using .loc[row_indexer,col_indexer] = value instead\n",
      "\n",
      "See the caveats in the documentation: https://pandas.pydata.org/pandas-docs/stable/user_guide/indexing.html#returning-a-view-versus-a-copy\n",
      "  df['mid'] = (df.bids+df.asks)/2\n"
     ]
    }
   ],
   "source": [
    "option = Option(raw_df, 'C')"
   ]
  },
  {
   "cell_type": "code",
   "execution_count": 6,
   "metadata": {},
   "outputs": [],
   "source": [
    "option.init_merton(m = 0.4, lam =1, v = 0.3,  )"
   ]
  },
  {
   "cell_type": "code",
   "execution_count": 7,
   "metadata": {},
   "outputs": [
    {
     "name": "stderr",
     "output_type": "stream",
     "text": [
      "/Users/pierrebelamri/Documents/GitHub/deribit_scraping/option.py:164: RuntimeWarning: divide by zero encountered in double_scalars\n",
      "  return np.sqrt(num/denom)\n",
      "/Users/pierrebelamri/Documents/GitHub/deribit_scraping/option.py:164: RuntimeWarning: invalid value encountered in sqrt\n",
      "  return np.sqrt(num/denom)\n"
     ]
    }
   ],
   "source": [
    "option.append_imp_vol_to_df()\n",
    "option.append_loc_vol_to_df()"
   ]
  },
  {
   "cell_type": "code",
   "execution_count": 8,
   "metadata": {},
   "outputs": [],
   "source": [
    "option.append_BS_price()"
   ]
  },
  {
   "cell_type": "code",
   "execution_count": 15,
   "metadata": {},
   "outputs": [],
   "source": [
    "option.df.dropna(inplace=True)\n",
    "#option.df = option.df.drop(option.df[option.df.IV_moneyness >= .5*10**6].index)"
   ]
  },
  {
   "cell_type": "code",
   "execution_count": null,
   "metadata": {},
   "outputs": [],
   "source": [
    "start = time.process_time()\n",
    "option.optimize_merton(tol=1e-20,max_iter = 1000)\n",
    "t2 = time.process_time() - start\n",
    "#print(\"max iter = 50, exec time = {}\".format(t2))\n",
    "\n",
    "\n"
   ]
  },
  {
   "cell_type": "code",
   "execution_count": 28,
   "metadata": {},
   "outputs": [
    {
     "data": {
      "application/vnd.plotly.v1+json": {
       "config": {
        "plotlyServerURL": "https://plot.ly"
       },
       "data": [
        {
         "mode": "markers",
         "name": "Implied vol",
         "type": "scatter3d",
         "x": [
          0.997845,
          0.9665893548387097,
          0.9357853125000001,
          0.9091272727272728,
          0.8812767647058823,
          0.8561748571428571,
          0.8333666666666667,
          0.8104232432432432,
          0.7886334210526316,
          0.9664603225806452,
          0.9370025000000001,
          0.9067878787878788,
          0.8815355882352941,
          0.8557880000000001,
          0.998026,
          0.965581935483871,
          0.9349665625,
          0.9072421212121212,
          0.8811117647058824,
          0.8544262857142857,
          0.8316049999999999,
          0.8091035135135135,
          0.7876807894736841,
          0.74839625,
          0.7132597619047619,
          0.6799943181818182,
          0.65119,
          0.6237370833333333,
          0.5987977999999999,
          0.5345935714285714,
          0.4401891176470588,
          0.997602,
          0.9659422580645161,
          0.9342759375,
          0.9081242424242424,
          0.8804632352941176,
          0.8554302857142857,
          0.8319905555555556,
          0.8092724324324325,
          0.7874515789473684,
          0.7672605128205128,
          0.7489685,
          0.7130338095238095,
          0.6801831818181818,
          0.6657786666666667,
          0.6506669565217391,
          0.6241654166666667,
          0.5988616,
          0.9354821875,
          0.8808544117647059,
          0.8315086111111112,
          0.7869021052631578,
          0.7483005,
          0.7132164285714285,
          0.6803252272727273,
          0.5985744000000001,
          0.5441585454545455,
          0.46005815384615384,
          0.9327265625,
          0.879774705882353,
          0.8542634285714286,
          0.8310519444444444,
          0.7482095,
          0.6644608888888889,
          0.5979844,
          0.5440403636363637,
          0.49840483333333335,
          0.4599195384615385,
          0.8576877142857143,
          0.75013425,
          0.6661091111111112,
          0.5987854,
          0.5458589090909092
         ],
         "y": [
          0.0010244847953107864,
          0.0010244847953107864,
          0.0010244847953107864,
          0.0010244847953107864,
          0.0010244847953107864,
          0.0010244847953107864,
          0.0010244847953107864,
          0.0010244847953107864,
          0.0010244847953107864,
          0.0037642108227080467,
          0.0037642108227080467,
          0.0037642108227080467,
          0.0037642108227080467,
          0.0037642108227080467,
          0.0065039368501053066,
          0.0065039368501053066,
          0.0065039368501053066,
          0.0065039368501053066,
          0.0065039368501053066,
          0.0065039368501053066,
          0.0065039368501053066,
          0.0065039368501053066,
          0.0065039368501053066,
          0.0065039368501053066,
          0.0065039368501053066,
          0.0065039368501053066,
          0.0065039368501053066,
          0.0065039368501053066,
          0.0065039368501053066,
          0.0065039368501053066,
          0.0065039368501053066,
          0.02568201904188613,
          0.02568201904188613,
          0.02568201904188613,
          0.02568201904188613,
          0.02568201904188613,
          0.02568201904188613,
          0.02568201904188613,
          0.02568201904188613,
          0.02568201904188613,
          0.02568201904188613,
          0.02568201904188613,
          0.02568201904188613,
          0.02568201904188613,
          0.02568201904188613,
          0.02568201904188613,
          0.02568201904188613,
          0.02568201904188613,
          0.04486010123366695,
          0.04486010123366695,
          0.04486010123366695,
          0.04486010123366695,
          0.04486010123366695,
          0.04486010123366695,
          0.04486010123366695,
          0.04486010123366695,
          0.04486010123366695,
          0.04486010123366695,
          0.10239434780900941,
          0.10239434780900941,
          0.10239434780900941,
          0.10239434780900941,
          0.10239434780900941,
          0.10239434780900941,
          0.10239434780900941,
          0.10239434780900941,
          0.10239434780900941,
          0.10239434780900941,
          0.17910667657613272,
          0.17910667657613272,
          0.17910667657613272,
          0.17910667657613272,
          0.17910667657613272
         ],
         "z": [
          0.02528811832443788,
          0.3024421660086612,
          0.5437454866936134,
          0.7388757743323392,
          0.9360047708857803,
          1.096642515868644,
          1.2344428734749195,
          1.365736421691001,
          1.4809705487433382,
          0.16377132246892534,
          0.28970664836486026,
          0.41082794192142585,
          0.5083680669186424,
          0.6040348074035717,
          0.009870199912840601,
          0.13026901902239085,
          0.23289576642404425,
          0.321500970101711,
          0.4020916862724648,
          0.48283339944438436,
          0.549501011129443,
          0.613066041690543,
          0.6790608189091619,
          0.789441439504283,
          0.8959688494192717,
          1.0130411035695535,
          1.0873809696809236,
          1.155747369243405,
          1.215478490710349,
          1.359502751428594,
          1.5475885912260945,
          0.00617334001827965,
          0.06746967959397353,
          0.12360771413033869,
          0.1684892924103847,
          0.21507745629775293,
          0.2567843156055889,
          0.2954026730182301,
          0.332500554374091,
          0.3682524500513139,
          0.4009995343701003,
          0.43098635373302063,
          0.4905904855049338,
          0.5455863332019029,
          0.5732396109571161,
          0.5970039118810154,
          0.6400464528843409,
          0.682244819871671,
          0.09396402021678427,
          0.16651082796241404,
          0.23070639304751167,
          0.28799256617449714,
          0.33786101926520584,
          0.38257319294562997,
          0.42544032854120123,
          0.5367184609015201,
          0.6104622544069482,
          0.751648158898137,
          0.06704820500087261,
          0.11577761189821142,
          0.13903905094562719,
          0.1603341652977339,
          0.23670695353986868,
          0.316187938266034,
          0.3822761148530853,
          0.4387320866140382,
          0.4895529321183857,
          0.5337312310720056,
          0.10575165363007721,
          0.1840843941986893,
          0.24800984529251124,
          0.30197318142056895,
          0.3466615552460449
         ]
        }
       ],
       "layout": {
        "scene": {
         "xaxis": {
          "title": {
           "text": "S/K"
          }
         },
         "yaxis": {
          "title": {
           "text": "Exp"
          }
         },
         "zaxis": {
          "title": {
           "text": "IV"
          }
         }
        },
        "template": {
         "data": {
          "bar": [
           {
            "error_x": {
             "color": "#2a3f5f"
            },
            "error_y": {
             "color": "#2a3f5f"
            },
            "marker": {
             "line": {
              "color": "#E5ECF6",
              "width": 0.5
             }
            },
            "type": "bar"
           }
          ],
          "barpolar": [
           {
            "marker": {
             "line": {
              "color": "#E5ECF6",
              "width": 0.5
             }
            },
            "type": "barpolar"
           }
          ],
          "carpet": [
           {
            "aaxis": {
             "endlinecolor": "#2a3f5f",
             "gridcolor": "white",
             "linecolor": "white",
             "minorgridcolor": "white",
             "startlinecolor": "#2a3f5f"
            },
            "baxis": {
             "endlinecolor": "#2a3f5f",
             "gridcolor": "white",
             "linecolor": "white",
             "minorgridcolor": "white",
             "startlinecolor": "#2a3f5f"
            },
            "type": "carpet"
           }
          ],
          "choropleth": [
           {
            "colorbar": {
             "outlinewidth": 0,
             "ticks": ""
            },
            "type": "choropleth"
           }
          ],
          "contour": [
           {
            "colorbar": {
             "outlinewidth": 0,
             "ticks": ""
            },
            "colorscale": [
             [
              0,
              "#0d0887"
             ],
             [
              0.1111111111111111,
              "#46039f"
             ],
             [
              0.2222222222222222,
              "#7201a8"
             ],
             [
              0.3333333333333333,
              "#9c179e"
             ],
             [
              0.4444444444444444,
              "#bd3786"
             ],
             [
              0.5555555555555556,
              "#d8576b"
             ],
             [
              0.6666666666666666,
              "#ed7953"
             ],
             [
              0.7777777777777778,
              "#fb9f3a"
             ],
             [
              0.8888888888888888,
              "#fdca26"
             ],
             [
              1,
              "#f0f921"
             ]
            ],
            "type": "contour"
           }
          ],
          "contourcarpet": [
           {
            "colorbar": {
             "outlinewidth": 0,
             "ticks": ""
            },
            "type": "contourcarpet"
           }
          ],
          "heatmap": [
           {
            "colorbar": {
             "outlinewidth": 0,
             "ticks": ""
            },
            "colorscale": [
             [
              0,
              "#0d0887"
             ],
             [
              0.1111111111111111,
              "#46039f"
             ],
             [
              0.2222222222222222,
              "#7201a8"
             ],
             [
              0.3333333333333333,
              "#9c179e"
             ],
             [
              0.4444444444444444,
              "#bd3786"
             ],
             [
              0.5555555555555556,
              "#d8576b"
             ],
             [
              0.6666666666666666,
              "#ed7953"
             ],
             [
              0.7777777777777778,
              "#fb9f3a"
             ],
             [
              0.8888888888888888,
              "#fdca26"
             ],
             [
              1,
              "#f0f921"
             ]
            ],
            "type": "heatmap"
           }
          ],
          "heatmapgl": [
           {
            "colorbar": {
             "outlinewidth": 0,
             "ticks": ""
            },
            "colorscale": [
             [
              0,
              "#0d0887"
             ],
             [
              0.1111111111111111,
              "#46039f"
             ],
             [
              0.2222222222222222,
              "#7201a8"
             ],
             [
              0.3333333333333333,
              "#9c179e"
             ],
             [
              0.4444444444444444,
              "#bd3786"
             ],
             [
              0.5555555555555556,
              "#d8576b"
             ],
             [
              0.6666666666666666,
              "#ed7953"
             ],
             [
              0.7777777777777778,
              "#fb9f3a"
             ],
             [
              0.8888888888888888,
              "#fdca26"
             ],
             [
              1,
              "#f0f921"
             ]
            ],
            "type": "heatmapgl"
           }
          ],
          "histogram": [
           {
            "marker": {
             "colorbar": {
              "outlinewidth": 0,
              "ticks": ""
             }
            },
            "type": "histogram"
           }
          ],
          "histogram2d": [
           {
            "colorbar": {
             "outlinewidth": 0,
             "ticks": ""
            },
            "colorscale": [
             [
              0,
              "#0d0887"
             ],
             [
              0.1111111111111111,
              "#46039f"
             ],
             [
              0.2222222222222222,
              "#7201a8"
             ],
             [
              0.3333333333333333,
              "#9c179e"
             ],
             [
              0.4444444444444444,
              "#bd3786"
             ],
             [
              0.5555555555555556,
              "#d8576b"
             ],
             [
              0.6666666666666666,
              "#ed7953"
             ],
             [
              0.7777777777777778,
              "#fb9f3a"
             ],
             [
              0.8888888888888888,
              "#fdca26"
             ],
             [
              1,
              "#f0f921"
             ]
            ],
            "type": "histogram2d"
           }
          ],
          "histogram2dcontour": [
           {
            "colorbar": {
             "outlinewidth": 0,
             "ticks": ""
            },
            "colorscale": [
             [
              0,
              "#0d0887"
             ],
             [
              0.1111111111111111,
              "#46039f"
             ],
             [
              0.2222222222222222,
              "#7201a8"
             ],
             [
              0.3333333333333333,
              "#9c179e"
             ],
             [
              0.4444444444444444,
              "#bd3786"
             ],
             [
              0.5555555555555556,
              "#d8576b"
             ],
             [
              0.6666666666666666,
              "#ed7953"
             ],
             [
              0.7777777777777778,
              "#fb9f3a"
             ],
             [
              0.8888888888888888,
              "#fdca26"
             ],
             [
              1,
              "#f0f921"
             ]
            ],
            "type": "histogram2dcontour"
           }
          ],
          "mesh3d": [
           {
            "colorbar": {
             "outlinewidth": 0,
             "ticks": ""
            },
            "type": "mesh3d"
           }
          ],
          "parcoords": [
           {
            "line": {
             "colorbar": {
              "outlinewidth": 0,
              "ticks": ""
             }
            },
            "type": "parcoords"
           }
          ],
          "pie": [
           {
            "automargin": true,
            "type": "pie"
           }
          ],
          "scatter": [
           {
            "marker": {
             "colorbar": {
              "outlinewidth": 0,
              "ticks": ""
             }
            },
            "type": "scatter"
           }
          ],
          "scatter3d": [
           {
            "line": {
             "colorbar": {
              "outlinewidth": 0,
              "ticks": ""
             }
            },
            "marker": {
             "colorbar": {
              "outlinewidth": 0,
              "ticks": ""
             }
            },
            "type": "scatter3d"
           }
          ],
          "scattercarpet": [
           {
            "marker": {
             "colorbar": {
              "outlinewidth": 0,
              "ticks": ""
             }
            },
            "type": "scattercarpet"
           }
          ],
          "scattergeo": [
           {
            "marker": {
             "colorbar": {
              "outlinewidth": 0,
              "ticks": ""
             }
            },
            "type": "scattergeo"
           }
          ],
          "scattergl": [
           {
            "marker": {
             "colorbar": {
              "outlinewidth": 0,
              "ticks": ""
             }
            },
            "type": "scattergl"
           }
          ],
          "scattermapbox": [
           {
            "marker": {
             "colorbar": {
              "outlinewidth": 0,
              "ticks": ""
             }
            },
            "type": "scattermapbox"
           }
          ],
          "scatterpolar": [
           {
            "marker": {
             "colorbar": {
              "outlinewidth": 0,
              "ticks": ""
             }
            },
            "type": "scatterpolar"
           }
          ],
          "scatterpolargl": [
           {
            "marker": {
             "colorbar": {
              "outlinewidth": 0,
              "ticks": ""
             }
            },
            "type": "scatterpolargl"
           }
          ],
          "scatterternary": [
           {
            "marker": {
             "colorbar": {
              "outlinewidth": 0,
              "ticks": ""
             }
            },
            "type": "scatterternary"
           }
          ],
          "surface": [
           {
            "colorbar": {
             "outlinewidth": 0,
             "ticks": ""
            },
            "colorscale": [
             [
              0,
              "#0d0887"
             ],
             [
              0.1111111111111111,
              "#46039f"
             ],
             [
              0.2222222222222222,
              "#7201a8"
             ],
             [
              0.3333333333333333,
              "#9c179e"
             ],
             [
              0.4444444444444444,
              "#bd3786"
             ],
             [
              0.5555555555555556,
              "#d8576b"
             ],
             [
              0.6666666666666666,
              "#ed7953"
             ],
             [
              0.7777777777777778,
              "#fb9f3a"
             ],
             [
              0.8888888888888888,
              "#fdca26"
             ],
             [
              1,
              "#f0f921"
             ]
            ],
            "type": "surface"
           }
          ],
          "table": [
           {
            "cells": {
             "fill": {
              "color": "#EBF0F8"
             },
             "line": {
              "color": "white"
             }
            },
            "header": {
             "fill": {
              "color": "#C8D4E3"
             },
             "line": {
              "color": "white"
             }
            },
            "type": "table"
           }
          ]
         },
         "layout": {
          "annotationdefaults": {
           "arrowcolor": "#2a3f5f",
           "arrowhead": 0,
           "arrowwidth": 1
          },
          "autotypenumbers": "strict",
          "coloraxis": {
           "colorbar": {
            "outlinewidth": 0,
            "ticks": ""
           }
          },
          "colorscale": {
           "diverging": [
            [
             0,
             "#8e0152"
            ],
            [
             0.1,
             "#c51b7d"
            ],
            [
             0.2,
             "#de77ae"
            ],
            [
             0.3,
             "#f1b6da"
            ],
            [
             0.4,
             "#fde0ef"
            ],
            [
             0.5,
             "#f7f7f7"
            ],
            [
             0.6,
             "#e6f5d0"
            ],
            [
             0.7,
             "#b8e186"
            ],
            [
             0.8,
             "#7fbc41"
            ],
            [
             0.9,
             "#4d9221"
            ],
            [
             1,
             "#276419"
            ]
           ],
           "sequential": [
            [
             0,
             "#0d0887"
            ],
            [
             0.1111111111111111,
             "#46039f"
            ],
            [
             0.2222222222222222,
             "#7201a8"
            ],
            [
             0.3333333333333333,
             "#9c179e"
            ],
            [
             0.4444444444444444,
             "#bd3786"
            ],
            [
             0.5555555555555556,
             "#d8576b"
            ],
            [
             0.6666666666666666,
             "#ed7953"
            ],
            [
             0.7777777777777778,
             "#fb9f3a"
            ],
            [
             0.8888888888888888,
             "#fdca26"
            ],
            [
             1,
             "#f0f921"
            ]
           ],
           "sequentialminus": [
            [
             0,
             "#0d0887"
            ],
            [
             0.1111111111111111,
             "#46039f"
            ],
            [
             0.2222222222222222,
             "#7201a8"
            ],
            [
             0.3333333333333333,
             "#9c179e"
            ],
            [
             0.4444444444444444,
             "#bd3786"
            ],
            [
             0.5555555555555556,
             "#d8576b"
            ],
            [
             0.6666666666666666,
             "#ed7953"
            ],
            [
             0.7777777777777778,
             "#fb9f3a"
            ],
            [
             0.8888888888888888,
             "#fdca26"
            ],
            [
             1,
             "#f0f921"
            ]
           ]
          },
          "colorway": [
           "#636efa",
           "#EF553B",
           "#00cc96",
           "#ab63fa",
           "#FFA15A",
           "#19d3f3",
           "#FF6692",
           "#B6E880",
           "#FF97FF",
           "#FECB52"
          ],
          "font": {
           "color": "#2a3f5f"
          },
          "geo": {
           "bgcolor": "white",
           "lakecolor": "white",
           "landcolor": "#E5ECF6",
           "showlakes": true,
           "showland": true,
           "subunitcolor": "white"
          },
          "hoverlabel": {
           "align": "left"
          },
          "hovermode": "closest",
          "mapbox": {
           "style": "light"
          },
          "paper_bgcolor": "white",
          "plot_bgcolor": "#E5ECF6",
          "polar": {
           "angularaxis": {
            "gridcolor": "white",
            "linecolor": "white",
            "ticks": ""
           },
           "bgcolor": "#E5ECF6",
           "radialaxis": {
            "gridcolor": "white",
            "linecolor": "white",
            "ticks": ""
           }
          },
          "scene": {
           "xaxis": {
            "backgroundcolor": "#E5ECF6",
            "gridcolor": "white",
            "gridwidth": 2,
            "linecolor": "white",
            "showbackground": true,
            "ticks": "",
            "zerolinecolor": "white"
           },
           "yaxis": {
            "backgroundcolor": "#E5ECF6",
            "gridcolor": "white",
            "gridwidth": 2,
            "linecolor": "white",
            "showbackground": true,
            "ticks": "",
            "zerolinecolor": "white"
           },
           "zaxis": {
            "backgroundcolor": "#E5ECF6",
            "gridcolor": "white",
            "gridwidth": 2,
            "linecolor": "white",
            "showbackground": true,
            "ticks": "",
            "zerolinecolor": "white"
           }
          },
          "shapedefaults": {
           "line": {
            "color": "#2a3f5f"
           }
          },
          "ternary": {
           "aaxis": {
            "gridcolor": "white",
            "linecolor": "white",
            "ticks": ""
           },
           "baxis": {
            "gridcolor": "white",
            "linecolor": "white",
            "ticks": ""
           },
           "bgcolor": "#E5ECF6",
           "caxis": {
            "gridcolor": "white",
            "linecolor": "white",
            "ticks": ""
           }
          },
          "title": {
           "x": 0.05
          },
          "xaxis": {
           "automargin": true,
           "gridcolor": "white",
           "linecolor": "white",
           "ticks": "",
           "title": {
            "standoff": 15
           },
           "zerolinecolor": "white",
           "zerolinewidth": 2
          },
          "yaxis": {
           "automargin": true,
           "gridcolor": "white",
           "linecolor": "white",
           "ticks": "",
           "title": {
            "standoff": 15
           },
           "zerolinecolor": "white",
           "zerolinewidth": 2
          }
         }
        }
       }
      },
      "text/html": [
       "<div>                            <div id=\"783ddfb6-e7c0-4582-9081-f6599e1e5c08\" class=\"plotly-graph-div\" style=\"height:525px; width:100%;\"></div>            <script type=\"text/javascript\">                require([\"plotly\"], function(Plotly) {                    window.PLOTLYENV=window.PLOTLYENV || {};                                    if (document.getElementById(\"783ddfb6-e7c0-4582-9081-f6599e1e5c08\")) {                    Plotly.newPlot(                        \"783ddfb6-e7c0-4582-9081-f6599e1e5c08\",                        [{\"mode\": \"markers\", \"name\": \"Implied vol\", \"type\": \"scatter3d\", \"x\": [0.997845, 0.9665893548387097, 0.9357853125000001, 0.9091272727272728, 0.8812767647058823, 0.8561748571428571, 0.8333666666666667, 0.8104232432432432, 0.7886334210526316, 0.9664603225806452, 0.9370025000000001, 0.9067878787878788, 0.8815355882352941, 0.8557880000000001, 0.998026, 0.965581935483871, 0.9349665625, 0.9072421212121212, 0.8811117647058824, 0.8544262857142857, 0.8316049999999999, 0.8091035135135135, 0.7876807894736841, 0.74839625, 0.7132597619047619, 0.6799943181818182, 0.65119, 0.6237370833333333, 0.5987977999999999, 0.5345935714285714, 0.4401891176470588, 0.997602, 0.9659422580645161, 0.9342759375, 0.9081242424242424, 0.8804632352941176, 0.8554302857142857, 0.8319905555555556, 0.8092724324324325, 0.7874515789473684, 0.7672605128205128, 0.7489685, 0.7130338095238095, 0.6801831818181818, 0.6657786666666667, 0.6506669565217391, 0.6241654166666667, 0.5988616, 0.9354821875, 0.8808544117647059, 0.8315086111111112, 0.7869021052631578, 0.7483005, 0.7132164285714285, 0.6803252272727273, 0.5985744000000001, 0.5441585454545455, 0.46005815384615384, 0.9327265625, 0.879774705882353, 0.8542634285714286, 0.8310519444444444, 0.7482095, 0.6644608888888889, 0.5979844, 0.5440403636363637, 0.49840483333333335, 0.4599195384615385, 0.8576877142857143, 0.75013425, 0.6661091111111112, 0.5987854, 0.5458589090909092], \"y\": [0.0010244847953107864, 0.0010244847953107864, 0.0010244847953107864, 0.0010244847953107864, 0.0010244847953107864, 0.0010244847953107864, 0.0010244847953107864, 0.0010244847953107864, 0.0010244847953107864, 0.0037642108227080467, 0.0037642108227080467, 0.0037642108227080467, 0.0037642108227080467, 0.0037642108227080467, 0.0065039368501053066, 0.0065039368501053066, 0.0065039368501053066, 0.0065039368501053066, 0.0065039368501053066, 0.0065039368501053066, 0.0065039368501053066, 0.0065039368501053066, 0.0065039368501053066, 0.0065039368501053066, 0.0065039368501053066, 0.0065039368501053066, 0.0065039368501053066, 0.0065039368501053066, 0.0065039368501053066, 0.0065039368501053066, 0.0065039368501053066, 0.02568201904188613, 0.02568201904188613, 0.02568201904188613, 0.02568201904188613, 0.02568201904188613, 0.02568201904188613, 0.02568201904188613, 0.02568201904188613, 0.02568201904188613, 0.02568201904188613, 0.02568201904188613, 0.02568201904188613, 0.02568201904188613, 0.02568201904188613, 0.02568201904188613, 0.02568201904188613, 0.02568201904188613, 0.04486010123366695, 0.04486010123366695, 0.04486010123366695, 0.04486010123366695, 0.04486010123366695, 0.04486010123366695, 0.04486010123366695, 0.04486010123366695, 0.04486010123366695, 0.04486010123366695, 0.10239434780900941, 0.10239434780900941, 0.10239434780900941, 0.10239434780900941, 0.10239434780900941, 0.10239434780900941, 0.10239434780900941, 0.10239434780900941, 0.10239434780900941, 0.10239434780900941, 0.17910667657613272, 0.17910667657613272, 0.17910667657613272, 0.17910667657613272, 0.17910667657613272], \"z\": [0.02528811832443788, 0.3024421660086612, 0.5437454866936134, 0.7388757743323392, 0.9360047708857803, 1.096642515868644, 1.2344428734749195, 1.365736421691001, 1.4809705487433382, 0.16377132246892534, 0.28970664836486026, 0.41082794192142585, 0.5083680669186424, 0.6040348074035717, 0.009870199912840601, 0.13026901902239085, 0.23289576642404425, 0.321500970101711, 0.4020916862724648, 0.48283339944438436, 0.549501011129443, 0.613066041690543, 0.6790608189091619, 0.789441439504283, 0.8959688494192717, 1.0130411035695535, 1.0873809696809236, 1.155747369243405, 1.215478490710349, 1.359502751428594, 1.5475885912260945, 0.00617334001827965, 0.06746967959397353, 0.12360771413033869, 0.1684892924103847, 0.21507745629775293, 0.2567843156055889, 0.2954026730182301, 0.332500554374091, 0.3682524500513139, 0.4009995343701003, 0.43098635373302063, 0.4905904855049338, 0.5455863332019029, 0.5732396109571161, 0.5970039118810154, 0.6400464528843409, 0.682244819871671, 0.09396402021678427, 0.16651082796241404, 0.23070639304751167, 0.28799256617449714, 0.33786101926520584, 0.38257319294562997, 0.42544032854120123, 0.5367184609015201, 0.6104622544069482, 0.751648158898137, 0.06704820500087261, 0.11577761189821142, 0.13903905094562719, 0.1603341652977339, 0.23670695353986868, 0.316187938266034, 0.3822761148530853, 0.4387320866140382, 0.4895529321183857, 0.5337312310720056, 0.10575165363007721, 0.1840843941986893, 0.24800984529251124, 0.30197318142056895, 0.3466615552460449]}],                        {\"scene\": {\"xaxis\": {\"title\": {\"text\": \"S/K\"}}, \"yaxis\": {\"title\": {\"text\": \"Exp\"}}, \"zaxis\": {\"title\": {\"text\": \"IV\"}}}, \"template\": {\"data\": {\"bar\": [{\"error_x\": {\"color\": \"#2a3f5f\"}, \"error_y\": {\"color\": \"#2a3f5f\"}, \"marker\": {\"line\": {\"color\": \"#E5ECF6\", \"width\": 0.5}}, \"type\": \"bar\"}], \"barpolar\": [{\"marker\": {\"line\": {\"color\": \"#E5ECF6\", \"width\": 0.5}}, \"type\": \"barpolar\"}], \"carpet\": [{\"aaxis\": {\"endlinecolor\": \"#2a3f5f\", \"gridcolor\": \"white\", \"linecolor\": \"white\", \"minorgridcolor\": \"white\", \"startlinecolor\": \"#2a3f5f\"}, \"baxis\": {\"endlinecolor\": \"#2a3f5f\", \"gridcolor\": \"white\", \"linecolor\": \"white\", \"minorgridcolor\": \"white\", \"startlinecolor\": \"#2a3f5f\"}, \"type\": \"carpet\"}], \"choropleth\": [{\"colorbar\": {\"outlinewidth\": 0, \"ticks\": \"\"}, \"type\": \"choropleth\"}], \"contour\": [{\"colorbar\": {\"outlinewidth\": 0, \"ticks\": \"\"}, \"colorscale\": [[0.0, \"#0d0887\"], [0.1111111111111111, \"#46039f\"], [0.2222222222222222, \"#7201a8\"], [0.3333333333333333, \"#9c179e\"], [0.4444444444444444, \"#bd3786\"], [0.5555555555555556, \"#d8576b\"], [0.6666666666666666, \"#ed7953\"], [0.7777777777777778, \"#fb9f3a\"], [0.8888888888888888, \"#fdca26\"], [1.0, \"#f0f921\"]], \"type\": \"contour\"}], \"contourcarpet\": [{\"colorbar\": {\"outlinewidth\": 0, \"ticks\": \"\"}, \"type\": \"contourcarpet\"}], \"heatmap\": [{\"colorbar\": {\"outlinewidth\": 0, \"ticks\": \"\"}, \"colorscale\": [[0.0, \"#0d0887\"], [0.1111111111111111, \"#46039f\"], [0.2222222222222222, \"#7201a8\"], [0.3333333333333333, \"#9c179e\"], [0.4444444444444444, \"#bd3786\"], [0.5555555555555556, \"#d8576b\"], [0.6666666666666666, \"#ed7953\"], [0.7777777777777778, \"#fb9f3a\"], [0.8888888888888888, \"#fdca26\"], [1.0, \"#f0f921\"]], \"type\": \"heatmap\"}], \"heatmapgl\": [{\"colorbar\": {\"outlinewidth\": 0, \"ticks\": \"\"}, \"colorscale\": [[0.0, \"#0d0887\"], [0.1111111111111111, \"#46039f\"], [0.2222222222222222, \"#7201a8\"], [0.3333333333333333, \"#9c179e\"], [0.4444444444444444, \"#bd3786\"], [0.5555555555555556, \"#d8576b\"], [0.6666666666666666, \"#ed7953\"], [0.7777777777777778, \"#fb9f3a\"], [0.8888888888888888, \"#fdca26\"], [1.0, \"#f0f921\"]], \"type\": \"heatmapgl\"}], \"histogram\": [{\"marker\": {\"colorbar\": {\"outlinewidth\": 0, \"ticks\": \"\"}}, \"type\": \"histogram\"}], \"histogram2d\": [{\"colorbar\": {\"outlinewidth\": 0, \"ticks\": \"\"}, \"colorscale\": [[0.0, \"#0d0887\"], [0.1111111111111111, \"#46039f\"], [0.2222222222222222, \"#7201a8\"], [0.3333333333333333, \"#9c179e\"], [0.4444444444444444, \"#bd3786\"], [0.5555555555555556, \"#d8576b\"], [0.6666666666666666, \"#ed7953\"], [0.7777777777777778, \"#fb9f3a\"], [0.8888888888888888, \"#fdca26\"], [1.0, \"#f0f921\"]], \"type\": \"histogram2d\"}], \"histogram2dcontour\": [{\"colorbar\": {\"outlinewidth\": 0, \"ticks\": \"\"}, \"colorscale\": [[0.0, \"#0d0887\"], [0.1111111111111111, \"#46039f\"], [0.2222222222222222, \"#7201a8\"], [0.3333333333333333, \"#9c179e\"], [0.4444444444444444, \"#bd3786\"], [0.5555555555555556, \"#d8576b\"], [0.6666666666666666, \"#ed7953\"], [0.7777777777777778, \"#fb9f3a\"], [0.8888888888888888, \"#fdca26\"], [1.0, \"#f0f921\"]], \"type\": \"histogram2dcontour\"}], \"mesh3d\": [{\"colorbar\": {\"outlinewidth\": 0, \"ticks\": \"\"}, \"type\": \"mesh3d\"}], \"parcoords\": [{\"line\": {\"colorbar\": {\"outlinewidth\": 0, \"ticks\": \"\"}}, \"type\": \"parcoords\"}], \"pie\": [{\"automargin\": true, \"type\": \"pie\"}], \"scatter\": [{\"marker\": {\"colorbar\": {\"outlinewidth\": 0, \"ticks\": \"\"}}, \"type\": \"scatter\"}], \"scatter3d\": [{\"line\": {\"colorbar\": {\"outlinewidth\": 0, \"ticks\": \"\"}}, \"marker\": {\"colorbar\": {\"outlinewidth\": 0, \"ticks\": \"\"}}, \"type\": \"scatter3d\"}], \"scattercarpet\": [{\"marker\": {\"colorbar\": {\"outlinewidth\": 0, \"ticks\": \"\"}}, \"type\": \"scattercarpet\"}], \"scattergeo\": [{\"marker\": {\"colorbar\": {\"outlinewidth\": 0, \"ticks\": \"\"}}, \"type\": \"scattergeo\"}], \"scattergl\": [{\"marker\": {\"colorbar\": {\"outlinewidth\": 0, \"ticks\": \"\"}}, \"type\": \"scattergl\"}], \"scattermapbox\": [{\"marker\": {\"colorbar\": {\"outlinewidth\": 0, \"ticks\": \"\"}}, \"type\": \"scattermapbox\"}], \"scatterpolar\": [{\"marker\": {\"colorbar\": {\"outlinewidth\": 0, \"ticks\": \"\"}}, \"type\": \"scatterpolar\"}], \"scatterpolargl\": [{\"marker\": {\"colorbar\": {\"outlinewidth\": 0, \"ticks\": \"\"}}, \"type\": \"scatterpolargl\"}], \"scatterternary\": [{\"marker\": {\"colorbar\": {\"outlinewidth\": 0, \"ticks\": \"\"}}, \"type\": \"scatterternary\"}], \"surface\": [{\"colorbar\": {\"outlinewidth\": 0, \"ticks\": \"\"}, \"colorscale\": [[0.0, \"#0d0887\"], [0.1111111111111111, \"#46039f\"], [0.2222222222222222, \"#7201a8\"], [0.3333333333333333, \"#9c179e\"], [0.4444444444444444, \"#bd3786\"], [0.5555555555555556, \"#d8576b\"], [0.6666666666666666, \"#ed7953\"], [0.7777777777777778, \"#fb9f3a\"], [0.8888888888888888, \"#fdca26\"], [1.0, \"#f0f921\"]], \"type\": \"surface\"}], \"table\": [{\"cells\": {\"fill\": {\"color\": \"#EBF0F8\"}, \"line\": {\"color\": \"white\"}}, \"header\": {\"fill\": {\"color\": \"#C8D4E3\"}, \"line\": {\"color\": \"white\"}}, \"type\": \"table\"}]}, \"layout\": {\"annotationdefaults\": {\"arrowcolor\": \"#2a3f5f\", \"arrowhead\": 0, \"arrowwidth\": 1}, \"autotypenumbers\": \"strict\", \"coloraxis\": {\"colorbar\": {\"outlinewidth\": 0, \"ticks\": \"\"}}, \"colorscale\": {\"diverging\": [[0, \"#8e0152\"], [0.1, \"#c51b7d\"], [0.2, \"#de77ae\"], [0.3, \"#f1b6da\"], [0.4, \"#fde0ef\"], [0.5, \"#f7f7f7\"], [0.6, \"#e6f5d0\"], [0.7, \"#b8e186\"], [0.8, \"#7fbc41\"], [0.9, \"#4d9221\"], [1, \"#276419\"]], \"sequential\": [[0.0, \"#0d0887\"], [0.1111111111111111, \"#46039f\"], [0.2222222222222222, \"#7201a8\"], [0.3333333333333333, \"#9c179e\"], [0.4444444444444444, \"#bd3786\"], [0.5555555555555556, \"#d8576b\"], [0.6666666666666666, \"#ed7953\"], [0.7777777777777778, \"#fb9f3a\"], [0.8888888888888888, \"#fdca26\"], [1.0, \"#f0f921\"]], \"sequentialminus\": [[0.0, \"#0d0887\"], [0.1111111111111111, \"#46039f\"], [0.2222222222222222, \"#7201a8\"], [0.3333333333333333, \"#9c179e\"], [0.4444444444444444, \"#bd3786\"], [0.5555555555555556, \"#d8576b\"], [0.6666666666666666, \"#ed7953\"], [0.7777777777777778, \"#fb9f3a\"], [0.8888888888888888, \"#fdca26\"], [1.0, \"#f0f921\"]]}, \"colorway\": [\"#636efa\", \"#EF553B\", \"#00cc96\", \"#ab63fa\", \"#FFA15A\", \"#19d3f3\", \"#FF6692\", \"#B6E880\", \"#FF97FF\", \"#FECB52\"], \"font\": {\"color\": \"#2a3f5f\"}, \"geo\": {\"bgcolor\": \"white\", \"lakecolor\": \"white\", \"landcolor\": \"#E5ECF6\", \"showlakes\": true, \"showland\": true, \"subunitcolor\": \"white\"}, \"hoverlabel\": {\"align\": \"left\"}, \"hovermode\": \"closest\", \"mapbox\": {\"style\": \"light\"}, \"paper_bgcolor\": \"white\", \"plot_bgcolor\": \"#E5ECF6\", \"polar\": {\"angularaxis\": {\"gridcolor\": \"white\", \"linecolor\": \"white\", \"ticks\": \"\"}, \"bgcolor\": \"#E5ECF6\", \"radialaxis\": {\"gridcolor\": \"white\", \"linecolor\": \"white\", \"ticks\": \"\"}}, \"scene\": {\"xaxis\": {\"backgroundcolor\": \"#E5ECF6\", \"gridcolor\": \"white\", \"gridwidth\": 2, \"linecolor\": \"white\", \"showbackground\": true, \"ticks\": \"\", \"zerolinecolor\": \"white\"}, \"yaxis\": {\"backgroundcolor\": \"#E5ECF6\", \"gridcolor\": \"white\", \"gridwidth\": 2, \"linecolor\": \"white\", \"showbackground\": true, \"ticks\": \"\", \"zerolinecolor\": \"white\"}, \"zaxis\": {\"backgroundcolor\": \"#E5ECF6\", \"gridcolor\": \"white\", \"gridwidth\": 2, \"linecolor\": \"white\", \"showbackground\": true, \"ticks\": \"\", \"zerolinecolor\": \"white\"}}, \"shapedefaults\": {\"line\": {\"color\": \"#2a3f5f\"}}, \"ternary\": {\"aaxis\": {\"gridcolor\": \"white\", \"linecolor\": \"white\", \"ticks\": \"\"}, \"baxis\": {\"gridcolor\": \"white\", \"linecolor\": \"white\", \"ticks\": \"\"}, \"bgcolor\": \"#E5ECF6\", \"caxis\": {\"gridcolor\": \"white\", \"linecolor\": \"white\", \"ticks\": \"\"}}, \"title\": {\"x\": 0.05}, \"xaxis\": {\"automargin\": true, \"gridcolor\": \"white\", \"linecolor\": \"white\", \"ticks\": \"\", \"title\": {\"standoff\": 15}, \"zerolinecolor\": \"white\", \"zerolinewidth\": 2}, \"yaxis\": {\"automargin\": true, \"gridcolor\": \"white\", \"linecolor\": \"white\", \"ticks\": \"\", \"title\": {\"standoff\": 15}, \"zerolinecolor\": \"white\", \"zerolinewidth\": 2}}}},                        {\"responsive\": true}                    ).then(function(){\n",
       "                            \n",
       "var gd = document.getElementById('783ddfb6-e7c0-4582-9081-f6599e1e5c08');\n",
       "var x = new MutationObserver(function (mutations, observer) {{\n",
       "        var display = window.getComputedStyle(gd).display;\n",
       "        if (!display || display === 'none') {{\n",
       "            console.log([gd, 'removed!']);\n",
       "            Plotly.purge(gd);\n",
       "            observer.disconnect();\n",
       "        }}\n",
       "}});\n",
       "\n",
       "// Listen for the removal of the full notebook cells\n",
       "var notebookContainer = gd.closest('#notebook-container');\n",
       "if (notebookContainer) {{\n",
       "    x.observe(notebookContainer, {childList: true});\n",
       "}}\n",
       "\n",
       "// Listen for the clearing of the current output cell\n",
       "var outputEl = gd.closest('.output');\n",
       "if (outputEl) {{\n",
       "    x.observe(outputEl, {childList: true});\n",
       "}}\n",
       "\n",
       "                        })                };                });            </script>        </div>"
      ]
     },
     "metadata": {},
     "output_type": "display_data"
    }
   ],
   "source": [
    "x = option.df['S']/option.df['K']\n",
    "\n",
    "#x = option.df['K']\n",
    "y = option.df['_T']\n",
    "z = option.df['I_VOL_BS']\n",
    "z2 = option.df['mark_iv']/100\n",
    "\n",
    "\n",
    "fig = go.Figure(data=[go.Scatter3d(x=x, y=y, z=z , mode='markers', name='Implied vol')])\n",
    "                      #go.Scatter3d(x=x, y=y, z=z2 , mode='markers', name='Implied vol deribit')])\n",
    "\"\"\"\n",
    "fig = go.Figure(data=[go.Scatter3d(x=x, y=y, z=z , mode='markers', name='Black&Scholes model Price'),\n",
    "                      go.Scatter3d(x=x, y=y, z=z2, mode='markers', name='Real Market Price')])\n",
    "\"\"\"\n",
    "\n",
    "fig.update_scenes(xaxis_title_text='S/K', yaxis_title_text='Exp', zaxis_title_text='IV') \n",
    "fig.show()"
   ]
  },
  {
   "cell_type": "code",
   "execution_count": 29,
   "metadata": {},
   "outputs": [
    {
     "name": "stdout",
     "output_type": "stream",
     "text": [
      "Root Mean Squared Error = 3.266%\n"
     ]
    }
   ],
   "source": [
    "rms = mean_squared_error(option.df['MERTON_PRICE'], option.df['mark_price'], squared=False)\n",
    "print('Root Mean Squared Error = {}%'.format(round(rms*100,3)))"
   ]
  },
  {
   "cell_type": "code",
   "execution_count": 30,
   "metadata": {},
   "outputs": [],
   "source": [
    "option.df.dropna(inplace=True)\n",
    "#option.df = option.df.drop(option.df[option.df.MERTON_PRICE >= .2].index)"
   ]
  },
  {
   "cell_type": "code",
   "execution_count": 32,
   "metadata": {},
   "outputs": [
    {
     "data": {
      "application/vnd.plotly.v1+json": {
       "config": {
        "plotlyServerURL": "https://plot.ly"
       },
       "data": [
        {
         "mode": "markers",
         "name": "Black&Scholes model Price",
         "type": "scatter3d",
         "x": [
          30000,
          31000,
          32000,
          33000,
          34000,
          35000,
          36000,
          37000,
          38000,
          31000,
          32000,
          33000,
          34000,
          35000,
          30000,
          31000,
          32000,
          33000,
          34000,
          35000,
          36000,
          37000,
          38000,
          40000,
          42000,
          44000,
          46000,
          48000,
          50000,
          56000,
          68000,
          30000,
          31000,
          32000,
          33000,
          34000,
          35000,
          36000,
          37000,
          38000,
          39000,
          40000,
          42000,
          44000,
          45000,
          46000,
          48000,
          50000,
          32000,
          34000,
          36000,
          38000,
          40000,
          42000,
          44000,
          50000,
          55000,
          65000,
          32000,
          34000,
          35000,
          36000,
          40000,
          45000,
          50000,
          55000,
          60000,
          65000,
          35000,
          40000,
          45000,
          50000,
          55000
         ],
         "y": [
          0.0010244847953107864,
          0.0010244847953107864,
          0.0010244847953107864,
          0.0010244847953107864,
          0.0010244847953107864,
          0.0010244847953107864,
          0.0010244847953107864,
          0.0010244847953107864,
          0.0010244847953107864,
          0.0037642108227080467,
          0.0037642108227080467,
          0.0037642108227080467,
          0.0037642108227080467,
          0.0037642108227080467,
          0.0065039368501053066,
          0.0065039368501053066,
          0.0065039368501053066,
          0.0065039368501053066,
          0.0065039368501053066,
          0.0065039368501053066,
          0.0065039368501053066,
          0.0065039368501053066,
          0.0065039368501053066,
          0.0065039368501053066,
          0.0065039368501053066,
          0.0065039368501053066,
          0.0065039368501053066,
          0.0065039368501053066,
          0.0065039368501053066,
          0.0065039368501053066,
          0.0065039368501053066,
          0.02568201904188613,
          0.02568201904188613,
          0.02568201904188613,
          0.02568201904188613,
          0.02568201904188613,
          0.02568201904188613,
          0.02568201904188613,
          0.02568201904188613,
          0.02568201904188613,
          0.02568201904188613,
          0.02568201904188613,
          0.02568201904188613,
          0.02568201904188613,
          0.02568201904188613,
          0.02568201904188613,
          0.02568201904188613,
          0.02568201904188613,
          0.04486010123366695,
          0.04486010123366695,
          0.04486010123366695,
          0.04486010123366695,
          0.04486010123366695,
          0.04486010123366695,
          0.04486010123366695,
          0.04486010123366695,
          0.04486010123366695,
          0.04486010123366695,
          0.10239434780900941,
          0.10239434780900941,
          0.10239434780900941,
          0.10239434780900941,
          0.10239434780900941,
          0.10239434780900941,
          0.10239434780900941,
          0.10239434780900941,
          0.10239434780900941,
          0.10239434780900941,
          0.17910667657613272,
          0.17910667657613272,
          0.17910667657613272,
          0.17910667657613272,
          0.17910667657613272
         ],
         "z": [
          0.029992160667561052,
          0.016628462566427693,
          0.008682987918143592,
          0.004695076648789875,
          0.0025412733108856056,
          0.0011439766709771815,
          0.0005150276314601354,
          0.00021383786363086965,
          8.1415035589524e-05,
          0.027426778523343742,
          0.01693022980151282,
          0.009550616526673439,
          0.005915268751938374,
          0.0034487376724981478,
          0.06477365307344485,
          0.03665944415049971,
          0.024978246091464484,
          0.016997890527054693,
          0.011405862200202899,
          0.007578475362731596,
          0.005064373206506101,
          0.0032304609885095426,
          0.002558620930099731,
          0.0011883083546615214,
          0.0007422002353886861,
          0.0006854536294949795,
          0.000310600975512363,
          0.0001339570484776417,
          5.7238434067018694e-05,
          4.164645588704399e-06,
          2.0069265493674546e-08,
          0.15894050696454087,
          0.06546030064782116,
          0.049298674047044244,
          0.039088369278516666,
          0.030190314607801305,
          0.023824121099578655,
          0.01877865655970057,
          0.014678910559543068,
          0.01164679036912497,
          0.009207494926302795,
          0.007525601402773419,
          0.005082017803749783,
          0.0034898470383474267,
          0.003360930667077433,
          0.0025946141688841795,
          0.0017059743445361486,
          0.0011541671475469861,
          0.07028563814812827,
          0.046865575649070124,
          0.031404807402721335,
          0.020731628835723104,
          0.01442880314556061,
          0.009732831559265853,
          0.006830803639167271,
          0.002893380951473623,
          0.0013208633444247442,
          0.0007293705749701722,
          0.12353143555664303,
          0.09109947589435485,
          0.07848533459038265,
          0.0693351118700356,
          0.041609691568305074,
          0.023157275534401833,
          0.013954051299797654,
          0.008994848954743784,
          0.006189616640198042,
          0.004240869960065674,
          0.13050163270440152,
          0.07996196286215262,
          0.05200172944629067,
          0.03539399892305273,
          0.02543308107002573
         ]
        },
        {
         "mode": "markers",
         "name": "Real Market Price",
         "type": "scatter3d",
         "x": [
          30000,
          31000,
          32000,
          33000,
          34000,
          35000,
          36000,
          37000,
          38000,
          31000,
          32000,
          33000,
          34000,
          35000,
          30000,
          31000,
          32000,
          33000,
          34000,
          35000,
          36000,
          37000,
          38000,
          40000,
          42000,
          44000,
          46000,
          48000,
          50000,
          56000,
          68000,
          30000,
          31000,
          32000,
          33000,
          34000,
          35000,
          36000,
          37000,
          38000,
          39000,
          40000,
          42000,
          44000,
          45000,
          46000,
          48000,
          50000,
          32000,
          34000,
          36000,
          38000,
          40000,
          42000,
          44000,
          50000,
          55000,
          65000,
          32000,
          34000,
          35000,
          36000,
          40000,
          45000,
          50000,
          55000,
          60000,
          65000,
          35000,
          40000,
          45000,
          50000,
          55000
         ],
         "y": [
          0.0010244847953107864,
          0.0010244847953107864,
          0.0010244847953107864,
          0.0010244847953107864,
          0.0010244847953107864,
          0.0010244847953107864,
          0.0010244847953107864,
          0.0010244847953107864,
          0.0010244847953107864,
          0.0037642108227080467,
          0.0037642108227080467,
          0.0037642108227080467,
          0.0037642108227080467,
          0.0037642108227080467,
          0.0065039368501053066,
          0.0065039368501053066,
          0.0065039368501053066,
          0.0065039368501053066,
          0.0065039368501053066,
          0.0065039368501053066,
          0.0065039368501053066,
          0.0065039368501053066,
          0.0065039368501053066,
          0.0065039368501053066,
          0.0065039368501053066,
          0.0065039368501053066,
          0.0065039368501053066,
          0.0065039368501053066,
          0.0065039368501053066,
          0.0065039368501053066,
          0.0065039368501053066,
          0.02568201904188613,
          0.02568201904188613,
          0.02568201904188613,
          0.02568201904188613,
          0.02568201904188613,
          0.02568201904188613,
          0.02568201904188613,
          0.02568201904188613,
          0.02568201904188613,
          0.02568201904188613,
          0.02568201904188613,
          0.02568201904188613,
          0.02568201904188613,
          0.02568201904188613,
          0.02568201904188613,
          0.02568201904188613,
          0.02568201904188613,
          0.04486010123366695,
          0.04486010123366695,
          0.04486010123366695,
          0.04486010123366695,
          0.04486010123366695,
          0.04486010123366695,
          0.04486010123366695,
          0.04486010123366695,
          0.04486010123366695,
          0.04486010123366695,
          0.10239434780900941,
          0.10239434780900941,
          0.10239434780900941,
          0.10239434780900941,
          0.10239434780900941,
          0.10239434780900941,
          0.10239434780900941,
          0.10239434780900941,
          0.10239434780900941,
          0.10239434780900941,
          0.17910667657613272,
          0.17910667657613272,
          0.17910667657613272,
          0.17910667657613272,
          0.17910667657613272
         ],
         "z": [
          0.02878554,
          0.01655904,
          0.00866151,
          0.00468601,
          0.00253729,
          0.00114242,
          0.00051438,
          0.00021359,
          8.132e-05,
          0.02703194,
          0.01678402,
          0.00948915,
          0.0058836,
          0.00343265,
          0.05051195,
          0.03580216,
          0.02463053,
          0.01681938,
          0.01130702,
          0.0075221,
          0.00503049,
          0.00321075,
          0.00254438,
          0.00118234,
          0.00073886,
          0.00068273,
          0.00030941,
          0.00013345,
          5.703e-05,
          4.15e-06,
          2e-08,
          0.07439322,
          0.05995338,
          0.04686794,
          0.03762258,
          0.02927434,
          0.02320528,
          0.01834632,
          0.01437215,
          0.01142365,
          0.00904302,
          0.00739899,
          0.00500487,
          0.00344148,
          0.00331617,
          0.0025612,
          0.00168504,
          0.00114064,
          0.06447826,
          0.04451753,
          0.03021773,
          0.02008211,
          0.01403285,
          0.00949072,
          0.00667491,
          0.00283851,
          0.00129809,
          0.00071881,
          0.10344381,
          0.08176818,
          0.07161582,
          0.06396687,
          0.03929674,
          0.02214466,
          0.01343171,
          0.00869334,
          0.00600001,
          0.00411913,
          0.11175972,
          0.07276806,
          0.04836078,
          0.03328921,
          0.02408152
         ]
        },
        {
         "mode": "markers",
         "name": "Merton Model Price",
         "type": "scatter3d",
         "x": [
          30000,
          31000,
          32000,
          33000,
          34000,
          35000,
          36000,
          37000,
          38000,
          31000,
          32000,
          33000,
          34000,
          35000,
          30000,
          31000,
          32000,
          33000,
          34000,
          35000,
          36000,
          37000,
          38000,
          40000,
          42000,
          44000,
          46000,
          48000,
          50000,
          56000,
          68000,
          30000,
          31000,
          32000,
          33000,
          34000,
          35000,
          36000,
          37000,
          38000,
          39000,
          40000,
          42000,
          44000,
          45000,
          46000,
          48000,
          50000,
          32000,
          34000,
          36000,
          38000,
          40000,
          42000,
          44000,
          50000,
          55000,
          65000,
          32000,
          34000,
          35000,
          36000,
          40000,
          45000,
          50000,
          55000,
          60000,
          65000,
          35000,
          40000,
          45000,
          50000,
          55000
         ],
         "y": [
          0.0010244847953107864,
          0.0010244847953107864,
          0.0010244847953107864,
          0.0010244847953107864,
          0.0010244847953107864,
          0.0010244847953107864,
          0.0010244847953107864,
          0.0010244847953107864,
          0.0010244847953107864,
          0.0037642108227080467,
          0.0037642108227080467,
          0.0037642108227080467,
          0.0037642108227080467,
          0.0037642108227080467,
          0.0065039368501053066,
          0.0065039368501053066,
          0.0065039368501053066,
          0.0065039368501053066,
          0.0065039368501053066,
          0.0065039368501053066,
          0.0065039368501053066,
          0.0065039368501053066,
          0.0065039368501053066,
          0.0065039368501053066,
          0.0065039368501053066,
          0.0065039368501053066,
          0.0065039368501053066,
          0.0065039368501053066,
          0.0065039368501053066,
          0.0065039368501053066,
          0.0065039368501053066,
          0.02568201904188613,
          0.02568201904188613,
          0.02568201904188613,
          0.02568201904188613,
          0.02568201904188613,
          0.02568201904188613,
          0.02568201904188613,
          0.02568201904188613,
          0.02568201904188613,
          0.02568201904188613,
          0.02568201904188613,
          0.02568201904188613,
          0.02568201904188613,
          0.02568201904188613,
          0.02568201904188613,
          0.02568201904188613,
          0.02568201904188613,
          0.04486010123366695,
          0.04486010123366695,
          0.04486010123366695,
          0.04486010123366695,
          0.04486010123366695,
          0.04486010123366695,
          0.04486010123366695,
          0.04486010123366695,
          0.04486010123366695,
          0.04486010123366695,
          0.10239434780900941,
          0.10239434780900941,
          0.10239434780900941,
          0.10239434780900941,
          0.10239434780900941,
          0.10239434780900941,
          0.10239434780900941,
          0.10239434780900941,
          0.10239434780900941,
          0.10239434780900941,
          0.17910667657613272,
          0.17910667657613272,
          0.17910667657613272,
          0.17910667657613272,
          0.17910667657613272
         ],
         "z": [
          0.0006882911593456417,
          0.011854237244498881,
          0.006713727714580252,
          0.0036262025717794435,
          0.0019184262948650807,
          0.0007698006870077177,
          0.00027158603721937725,
          5.3432515361190334e-05,
          0,
          0.008615217587284443,
          0.0078090426445785515,
          0.004860087192338072,
          0.0030588720138382316,
          0.0017138775640945265,
          0,
          0.005206083898899346,
          0.007627882606531006,
          0.006573278937491112,
          0.004904009803058708,
          0.0034789505915595884,
          0.0023574517189217633,
          0.0014696109198907206,
          0.0012489396959416462,
          0.0005548416977153517,
          0.00037481768547367907,
          0.0004223028312212215,
          0.00017707495917480143,
          6.626722261942171e-05,
          2.1807495492171666e-05,
          1.8842046292300623e-10,
          0,
          0,
          6.392800505582966e-08,
          0.0002320068412399892,
          0.0009414137907463141,
          0.0017115765674860651,
          0.002183051864760307,
          0.0023470392471194312,
          0.002293999053027927,
          0.0021781931753939543,
          0.0019592020519964095,
          0.0017842970160578378,
          0.0014479461906705357,
          0.0011369237610001654,
          0.001196339808896907,
          0.0009484006479696864,
          0.0006574520568758313,
          0.0004682022887116163,
          7.804710331189275e-08,
          0.000208036450162077,
          0.0008938179328053828,
          0.0013323557542324553,
          0.0014731624905525342,
          0.0013159107499941592,
          0.0011520888612308825,
          0.0007357756787652383,
          0.00039266868347175563,
          0.000284584437102384,
          0,
          8.359337997817701e-15,
          4.1330429801078956e-08,
          2.1602142595142585e-06,
          0.0002142385078604144,
          0.0006822736731901381,
          0.0008575593232710533,
          0.00082963238047431,
          0.0007470817818626627,
          0.0006116336830112513,
          0,
          4.234883321443861e-07,
          5.3828888724198156e-05,
          0.00021498415210831467,
          0.00036523737717946043
         ]
        }
       ],
       "layout": {
        "scene": {
         "xaxis": {
          "title": {
           "text": "Strike"
          }
         },
         "yaxis": {
          "title": {
           "text": "Exp"
          }
         },
         "zaxis": {
          "title": {
           "text": "Price"
          }
         }
        },
        "template": {
         "data": {
          "bar": [
           {
            "error_x": {
             "color": "#2a3f5f"
            },
            "error_y": {
             "color": "#2a3f5f"
            },
            "marker": {
             "line": {
              "color": "#E5ECF6",
              "width": 0.5
             }
            },
            "type": "bar"
           }
          ],
          "barpolar": [
           {
            "marker": {
             "line": {
              "color": "#E5ECF6",
              "width": 0.5
             }
            },
            "type": "barpolar"
           }
          ],
          "carpet": [
           {
            "aaxis": {
             "endlinecolor": "#2a3f5f",
             "gridcolor": "white",
             "linecolor": "white",
             "minorgridcolor": "white",
             "startlinecolor": "#2a3f5f"
            },
            "baxis": {
             "endlinecolor": "#2a3f5f",
             "gridcolor": "white",
             "linecolor": "white",
             "minorgridcolor": "white",
             "startlinecolor": "#2a3f5f"
            },
            "type": "carpet"
           }
          ],
          "choropleth": [
           {
            "colorbar": {
             "outlinewidth": 0,
             "ticks": ""
            },
            "type": "choropleth"
           }
          ],
          "contour": [
           {
            "colorbar": {
             "outlinewidth": 0,
             "ticks": ""
            },
            "colorscale": [
             [
              0,
              "#0d0887"
             ],
             [
              0.1111111111111111,
              "#46039f"
             ],
             [
              0.2222222222222222,
              "#7201a8"
             ],
             [
              0.3333333333333333,
              "#9c179e"
             ],
             [
              0.4444444444444444,
              "#bd3786"
             ],
             [
              0.5555555555555556,
              "#d8576b"
             ],
             [
              0.6666666666666666,
              "#ed7953"
             ],
             [
              0.7777777777777778,
              "#fb9f3a"
             ],
             [
              0.8888888888888888,
              "#fdca26"
             ],
             [
              1,
              "#f0f921"
             ]
            ],
            "type": "contour"
           }
          ],
          "contourcarpet": [
           {
            "colorbar": {
             "outlinewidth": 0,
             "ticks": ""
            },
            "type": "contourcarpet"
           }
          ],
          "heatmap": [
           {
            "colorbar": {
             "outlinewidth": 0,
             "ticks": ""
            },
            "colorscale": [
             [
              0,
              "#0d0887"
             ],
             [
              0.1111111111111111,
              "#46039f"
             ],
             [
              0.2222222222222222,
              "#7201a8"
             ],
             [
              0.3333333333333333,
              "#9c179e"
             ],
             [
              0.4444444444444444,
              "#bd3786"
             ],
             [
              0.5555555555555556,
              "#d8576b"
             ],
             [
              0.6666666666666666,
              "#ed7953"
             ],
             [
              0.7777777777777778,
              "#fb9f3a"
             ],
             [
              0.8888888888888888,
              "#fdca26"
             ],
             [
              1,
              "#f0f921"
             ]
            ],
            "type": "heatmap"
           }
          ],
          "heatmapgl": [
           {
            "colorbar": {
             "outlinewidth": 0,
             "ticks": ""
            },
            "colorscale": [
             [
              0,
              "#0d0887"
             ],
             [
              0.1111111111111111,
              "#46039f"
             ],
             [
              0.2222222222222222,
              "#7201a8"
             ],
             [
              0.3333333333333333,
              "#9c179e"
             ],
             [
              0.4444444444444444,
              "#bd3786"
             ],
             [
              0.5555555555555556,
              "#d8576b"
             ],
             [
              0.6666666666666666,
              "#ed7953"
             ],
             [
              0.7777777777777778,
              "#fb9f3a"
             ],
             [
              0.8888888888888888,
              "#fdca26"
             ],
             [
              1,
              "#f0f921"
             ]
            ],
            "type": "heatmapgl"
           }
          ],
          "histogram": [
           {
            "marker": {
             "colorbar": {
              "outlinewidth": 0,
              "ticks": ""
             }
            },
            "type": "histogram"
           }
          ],
          "histogram2d": [
           {
            "colorbar": {
             "outlinewidth": 0,
             "ticks": ""
            },
            "colorscale": [
             [
              0,
              "#0d0887"
             ],
             [
              0.1111111111111111,
              "#46039f"
             ],
             [
              0.2222222222222222,
              "#7201a8"
             ],
             [
              0.3333333333333333,
              "#9c179e"
             ],
             [
              0.4444444444444444,
              "#bd3786"
             ],
             [
              0.5555555555555556,
              "#d8576b"
             ],
             [
              0.6666666666666666,
              "#ed7953"
             ],
             [
              0.7777777777777778,
              "#fb9f3a"
             ],
             [
              0.8888888888888888,
              "#fdca26"
             ],
             [
              1,
              "#f0f921"
             ]
            ],
            "type": "histogram2d"
           }
          ],
          "histogram2dcontour": [
           {
            "colorbar": {
             "outlinewidth": 0,
             "ticks": ""
            },
            "colorscale": [
             [
              0,
              "#0d0887"
             ],
             [
              0.1111111111111111,
              "#46039f"
             ],
             [
              0.2222222222222222,
              "#7201a8"
             ],
             [
              0.3333333333333333,
              "#9c179e"
             ],
             [
              0.4444444444444444,
              "#bd3786"
             ],
             [
              0.5555555555555556,
              "#d8576b"
             ],
             [
              0.6666666666666666,
              "#ed7953"
             ],
             [
              0.7777777777777778,
              "#fb9f3a"
             ],
             [
              0.8888888888888888,
              "#fdca26"
             ],
             [
              1,
              "#f0f921"
             ]
            ],
            "type": "histogram2dcontour"
           }
          ],
          "mesh3d": [
           {
            "colorbar": {
             "outlinewidth": 0,
             "ticks": ""
            },
            "type": "mesh3d"
           }
          ],
          "parcoords": [
           {
            "line": {
             "colorbar": {
              "outlinewidth": 0,
              "ticks": ""
             }
            },
            "type": "parcoords"
           }
          ],
          "pie": [
           {
            "automargin": true,
            "type": "pie"
           }
          ],
          "scatter": [
           {
            "marker": {
             "colorbar": {
              "outlinewidth": 0,
              "ticks": ""
             }
            },
            "type": "scatter"
           }
          ],
          "scatter3d": [
           {
            "line": {
             "colorbar": {
              "outlinewidth": 0,
              "ticks": ""
             }
            },
            "marker": {
             "colorbar": {
              "outlinewidth": 0,
              "ticks": ""
             }
            },
            "type": "scatter3d"
           }
          ],
          "scattercarpet": [
           {
            "marker": {
             "colorbar": {
              "outlinewidth": 0,
              "ticks": ""
             }
            },
            "type": "scattercarpet"
           }
          ],
          "scattergeo": [
           {
            "marker": {
             "colorbar": {
              "outlinewidth": 0,
              "ticks": ""
             }
            },
            "type": "scattergeo"
           }
          ],
          "scattergl": [
           {
            "marker": {
             "colorbar": {
              "outlinewidth": 0,
              "ticks": ""
             }
            },
            "type": "scattergl"
           }
          ],
          "scattermapbox": [
           {
            "marker": {
             "colorbar": {
              "outlinewidth": 0,
              "ticks": ""
             }
            },
            "type": "scattermapbox"
           }
          ],
          "scatterpolar": [
           {
            "marker": {
             "colorbar": {
              "outlinewidth": 0,
              "ticks": ""
             }
            },
            "type": "scatterpolar"
           }
          ],
          "scatterpolargl": [
           {
            "marker": {
             "colorbar": {
              "outlinewidth": 0,
              "ticks": ""
             }
            },
            "type": "scatterpolargl"
           }
          ],
          "scatterternary": [
           {
            "marker": {
             "colorbar": {
              "outlinewidth": 0,
              "ticks": ""
             }
            },
            "type": "scatterternary"
           }
          ],
          "surface": [
           {
            "colorbar": {
             "outlinewidth": 0,
             "ticks": ""
            },
            "colorscale": [
             [
              0,
              "#0d0887"
             ],
             [
              0.1111111111111111,
              "#46039f"
             ],
             [
              0.2222222222222222,
              "#7201a8"
             ],
             [
              0.3333333333333333,
              "#9c179e"
             ],
             [
              0.4444444444444444,
              "#bd3786"
             ],
             [
              0.5555555555555556,
              "#d8576b"
             ],
             [
              0.6666666666666666,
              "#ed7953"
             ],
             [
              0.7777777777777778,
              "#fb9f3a"
             ],
             [
              0.8888888888888888,
              "#fdca26"
             ],
             [
              1,
              "#f0f921"
             ]
            ],
            "type": "surface"
           }
          ],
          "table": [
           {
            "cells": {
             "fill": {
              "color": "#EBF0F8"
             },
             "line": {
              "color": "white"
             }
            },
            "header": {
             "fill": {
              "color": "#C8D4E3"
             },
             "line": {
              "color": "white"
             }
            },
            "type": "table"
           }
          ]
         },
         "layout": {
          "annotationdefaults": {
           "arrowcolor": "#2a3f5f",
           "arrowhead": 0,
           "arrowwidth": 1
          },
          "autotypenumbers": "strict",
          "coloraxis": {
           "colorbar": {
            "outlinewidth": 0,
            "ticks": ""
           }
          },
          "colorscale": {
           "diverging": [
            [
             0,
             "#8e0152"
            ],
            [
             0.1,
             "#c51b7d"
            ],
            [
             0.2,
             "#de77ae"
            ],
            [
             0.3,
             "#f1b6da"
            ],
            [
             0.4,
             "#fde0ef"
            ],
            [
             0.5,
             "#f7f7f7"
            ],
            [
             0.6,
             "#e6f5d0"
            ],
            [
             0.7,
             "#b8e186"
            ],
            [
             0.8,
             "#7fbc41"
            ],
            [
             0.9,
             "#4d9221"
            ],
            [
             1,
             "#276419"
            ]
           ],
           "sequential": [
            [
             0,
             "#0d0887"
            ],
            [
             0.1111111111111111,
             "#46039f"
            ],
            [
             0.2222222222222222,
             "#7201a8"
            ],
            [
             0.3333333333333333,
             "#9c179e"
            ],
            [
             0.4444444444444444,
             "#bd3786"
            ],
            [
             0.5555555555555556,
             "#d8576b"
            ],
            [
             0.6666666666666666,
             "#ed7953"
            ],
            [
             0.7777777777777778,
             "#fb9f3a"
            ],
            [
             0.8888888888888888,
             "#fdca26"
            ],
            [
             1,
             "#f0f921"
            ]
           ],
           "sequentialminus": [
            [
             0,
             "#0d0887"
            ],
            [
             0.1111111111111111,
             "#46039f"
            ],
            [
             0.2222222222222222,
             "#7201a8"
            ],
            [
             0.3333333333333333,
             "#9c179e"
            ],
            [
             0.4444444444444444,
             "#bd3786"
            ],
            [
             0.5555555555555556,
             "#d8576b"
            ],
            [
             0.6666666666666666,
             "#ed7953"
            ],
            [
             0.7777777777777778,
             "#fb9f3a"
            ],
            [
             0.8888888888888888,
             "#fdca26"
            ],
            [
             1,
             "#f0f921"
            ]
           ]
          },
          "colorway": [
           "#636efa",
           "#EF553B",
           "#00cc96",
           "#ab63fa",
           "#FFA15A",
           "#19d3f3",
           "#FF6692",
           "#B6E880",
           "#FF97FF",
           "#FECB52"
          ],
          "font": {
           "color": "#2a3f5f"
          },
          "geo": {
           "bgcolor": "white",
           "lakecolor": "white",
           "landcolor": "#E5ECF6",
           "showlakes": true,
           "showland": true,
           "subunitcolor": "white"
          },
          "hoverlabel": {
           "align": "left"
          },
          "hovermode": "closest",
          "mapbox": {
           "style": "light"
          },
          "paper_bgcolor": "white",
          "plot_bgcolor": "#E5ECF6",
          "polar": {
           "angularaxis": {
            "gridcolor": "white",
            "linecolor": "white",
            "ticks": ""
           },
           "bgcolor": "#E5ECF6",
           "radialaxis": {
            "gridcolor": "white",
            "linecolor": "white",
            "ticks": ""
           }
          },
          "scene": {
           "xaxis": {
            "backgroundcolor": "#E5ECF6",
            "gridcolor": "white",
            "gridwidth": 2,
            "linecolor": "white",
            "showbackground": true,
            "ticks": "",
            "zerolinecolor": "white"
           },
           "yaxis": {
            "backgroundcolor": "#E5ECF6",
            "gridcolor": "white",
            "gridwidth": 2,
            "linecolor": "white",
            "showbackground": true,
            "ticks": "",
            "zerolinecolor": "white"
           },
           "zaxis": {
            "backgroundcolor": "#E5ECF6",
            "gridcolor": "white",
            "gridwidth": 2,
            "linecolor": "white",
            "showbackground": true,
            "ticks": "",
            "zerolinecolor": "white"
           }
          },
          "shapedefaults": {
           "line": {
            "color": "#2a3f5f"
           }
          },
          "ternary": {
           "aaxis": {
            "gridcolor": "white",
            "linecolor": "white",
            "ticks": ""
           },
           "baxis": {
            "gridcolor": "white",
            "linecolor": "white",
            "ticks": ""
           },
           "bgcolor": "#E5ECF6",
           "caxis": {
            "gridcolor": "white",
            "linecolor": "white",
            "ticks": ""
           }
          },
          "title": {
           "x": 0.05
          },
          "xaxis": {
           "automargin": true,
           "gridcolor": "white",
           "linecolor": "white",
           "ticks": "",
           "title": {
            "standoff": 15
           },
           "zerolinecolor": "white",
           "zerolinewidth": 2
          },
          "yaxis": {
           "automargin": true,
           "gridcolor": "white",
           "linecolor": "white",
           "ticks": "",
           "title": {
            "standoff": 15
           },
           "zerolinecolor": "white",
           "zerolinewidth": 2
          }
         }
        }
       }
      },
      "text/html": [
       "<div>                            <div id=\"4fbe8b28-859f-4771-8cb4-393c2b929189\" class=\"plotly-graph-div\" style=\"height:525px; width:100%;\"></div>            <script type=\"text/javascript\">                require([\"plotly\"], function(Plotly) {                    window.PLOTLYENV=window.PLOTLYENV || {};                                    if (document.getElementById(\"4fbe8b28-859f-4771-8cb4-393c2b929189\")) {                    Plotly.newPlot(                        \"4fbe8b28-859f-4771-8cb4-393c2b929189\",                        [{\"mode\": \"markers\", \"name\": \"Black&Scholes model Price\", \"type\": \"scatter3d\", \"x\": [30000.0, 31000.0, 32000.0, 33000.0, 34000.0, 35000.0, 36000.0, 37000.0, 38000.0, 31000.0, 32000.0, 33000.0, 34000.0, 35000.0, 30000.0, 31000.0, 32000.0, 33000.0, 34000.0, 35000.0, 36000.0, 37000.0, 38000.0, 40000.0, 42000.0, 44000.0, 46000.0, 48000.0, 50000.0, 56000.0, 68000.0, 30000.0, 31000.0, 32000.0, 33000.0, 34000.0, 35000.0, 36000.0, 37000.0, 38000.0, 39000.0, 40000.0, 42000.0, 44000.0, 45000.0, 46000.0, 48000.0, 50000.0, 32000.0, 34000.0, 36000.0, 38000.0, 40000.0, 42000.0, 44000.0, 50000.0, 55000.0, 65000.0, 32000.0, 34000.0, 35000.0, 36000.0, 40000.0, 45000.0, 50000.0, 55000.0, 60000.0, 65000.0, 35000.0, 40000.0, 45000.0, 50000.0, 55000.0], \"y\": [0.0010244847953107864, 0.0010244847953107864, 0.0010244847953107864, 0.0010244847953107864, 0.0010244847953107864, 0.0010244847953107864, 0.0010244847953107864, 0.0010244847953107864, 0.0010244847953107864, 0.0037642108227080467, 0.0037642108227080467, 0.0037642108227080467, 0.0037642108227080467, 0.0037642108227080467, 0.0065039368501053066, 0.0065039368501053066, 0.0065039368501053066, 0.0065039368501053066, 0.0065039368501053066, 0.0065039368501053066, 0.0065039368501053066, 0.0065039368501053066, 0.0065039368501053066, 0.0065039368501053066, 0.0065039368501053066, 0.0065039368501053066, 0.0065039368501053066, 0.0065039368501053066, 0.0065039368501053066, 0.0065039368501053066, 0.0065039368501053066, 0.02568201904188613, 0.02568201904188613, 0.02568201904188613, 0.02568201904188613, 0.02568201904188613, 0.02568201904188613, 0.02568201904188613, 0.02568201904188613, 0.02568201904188613, 0.02568201904188613, 0.02568201904188613, 0.02568201904188613, 0.02568201904188613, 0.02568201904188613, 0.02568201904188613, 0.02568201904188613, 0.02568201904188613, 0.04486010123366695, 0.04486010123366695, 0.04486010123366695, 0.04486010123366695, 0.04486010123366695, 0.04486010123366695, 0.04486010123366695, 0.04486010123366695, 0.04486010123366695, 0.04486010123366695, 0.10239434780900941, 0.10239434780900941, 0.10239434780900941, 0.10239434780900941, 0.10239434780900941, 0.10239434780900941, 0.10239434780900941, 0.10239434780900941, 0.10239434780900941, 0.10239434780900941, 0.17910667657613272, 0.17910667657613272, 0.17910667657613272, 0.17910667657613272, 0.17910667657613272], \"z\": [0.029992160667561052, 0.016628462566427693, 0.008682987918143592, 0.004695076648789875, 0.0025412733108856056, 0.0011439766709771815, 0.0005150276314601354, 0.00021383786363086965, 8.1415035589524e-05, 0.027426778523343742, 0.01693022980151282, 0.009550616526673439, 0.005915268751938374, 0.0034487376724981478, 0.06477365307344485, 0.03665944415049971, 0.024978246091464484, 0.016997890527054693, 0.011405862200202899, 0.007578475362731596, 0.005064373206506101, 0.0032304609885095426, 0.002558620930099731, 0.0011883083546615214, 0.0007422002353886861, 0.0006854536294949795, 0.000310600975512363, 0.0001339570484776417, 5.7238434067018694e-05, 4.164645588704399e-06, 2.0069265493674546e-08, 0.15894050696454087, 0.06546030064782116, 0.049298674047044244, 0.039088369278516666, 0.030190314607801305, 0.023824121099578655, 0.01877865655970057, 0.014678910559543068, 0.01164679036912497, 0.009207494926302795, 0.007525601402773419, 0.005082017803749783, 0.0034898470383474267, 0.003360930667077433, 0.0025946141688841795, 0.0017059743445361486, 0.0011541671475469861, 0.07028563814812827, 0.046865575649070124, 0.031404807402721335, 0.020731628835723104, 0.01442880314556061, 0.009732831559265853, 0.006830803639167271, 0.002893380951473623, 0.0013208633444247442, 0.0007293705749701722, 0.12353143555664303, 0.09109947589435485, 0.07848533459038265, 0.0693351118700356, 0.041609691568305074, 0.023157275534401833, 0.013954051299797654, 0.008994848954743784, 0.006189616640198042, 0.004240869960065674, 0.13050163270440152, 0.07996196286215262, 0.05200172944629067, 0.03539399892305273, 0.02543308107002573]}, {\"mode\": \"markers\", \"name\": \"Real Market Price\", \"type\": \"scatter3d\", \"x\": [30000.0, 31000.0, 32000.0, 33000.0, 34000.0, 35000.0, 36000.0, 37000.0, 38000.0, 31000.0, 32000.0, 33000.0, 34000.0, 35000.0, 30000.0, 31000.0, 32000.0, 33000.0, 34000.0, 35000.0, 36000.0, 37000.0, 38000.0, 40000.0, 42000.0, 44000.0, 46000.0, 48000.0, 50000.0, 56000.0, 68000.0, 30000.0, 31000.0, 32000.0, 33000.0, 34000.0, 35000.0, 36000.0, 37000.0, 38000.0, 39000.0, 40000.0, 42000.0, 44000.0, 45000.0, 46000.0, 48000.0, 50000.0, 32000.0, 34000.0, 36000.0, 38000.0, 40000.0, 42000.0, 44000.0, 50000.0, 55000.0, 65000.0, 32000.0, 34000.0, 35000.0, 36000.0, 40000.0, 45000.0, 50000.0, 55000.0, 60000.0, 65000.0, 35000.0, 40000.0, 45000.0, 50000.0, 55000.0], \"y\": [0.0010244847953107864, 0.0010244847953107864, 0.0010244847953107864, 0.0010244847953107864, 0.0010244847953107864, 0.0010244847953107864, 0.0010244847953107864, 0.0010244847953107864, 0.0010244847953107864, 0.0037642108227080467, 0.0037642108227080467, 0.0037642108227080467, 0.0037642108227080467, 0.0037642108227080467, 0.0065039368501053066, 0.0065039368501053066, 0.0065039368501053066, 0.0065039368501053066, 0.0065039368501053066, 0.0065039368501053066, 0.0065039368501053066, 0.0065039368501053066, 0.0065039368501053066, 0.0065039368501053066, 0.0065039368501053066, 0.0065039368501053066, 0.0065039368501053066, 0.0065039368501053066, 0.0065039368501053066, 0.0065039368501053066, 0.0065039368501053066, 0.02568201904188613, 0.02568201904188613, 0.02568201904188613, 0.02568201904188613, 0.02568201904188613, 0.02568201904188613, 0.02568201904188613, 0.02568201904188613, 0.02568201904188613, 0.02568201904188613, 0.02568201904188613, 0.02568201904188613, 0.02568201904188613, 0.02568201904188613, 0.02568201904188613, 0.02568201904188613, 0.02568201904188613, 0.04486010123366695, 0.04486010123366695, 0.04486010123366695, 0.04486010123366695, 0.04486010123366695, 0.04486010123366695, 0.04486010123366695, 0.04486010123366695, 0.04486010123366695, 0.04486010123366695, 0.10239434780900941, 0.10239434780900941, 0.10239434780900941, 0.10239434780900941, 0.10239434780900941, 0.10239434780900941, 0.10239434780900941, 0.10239434780900941, 0.10239434780900941, 0.10239434780900941, 0.17910667657613272, 0.17910667657613272, 0.17910667657613272, 0.17910667657613272, 0.17910667657613272], \"z\": [0.02878554, 0.01655904, 0.00866151, 0.00468601, 0.00253729, 0.00114242, 0.00051438, 0.00021359, 8.132e-05, 0.02703194, 0.01678402, 0.00948915, 0.0058836, 0.00343265, 0.05051195, 0.03580216, 0.02463053, 0.01681938, 0.01130702, 0.0075221, 0.00503049, 0.00321075, 0.00254438, 0.00118234, 0.00073886, 0.00068273, 0.00030941, 0.00013345, 5.703e-05, 4.15e-06, 2e-08, 0.07439322, 0.05995338, 0.04686794, 0.03762258, 0.02927434, 0.02320528, 0.01834632, 0.01437215, 0.01142365, 0.00904302, 0.00739899, 0.00500487, 0.00344148, 0.00331617, 0.0025612, 0.00168504, 0.00114064, 0.06447826, 0.04451753, 0.03021773, 0.02008211, 0.01403285, 0.00949072, 0.00667491, 0.00283851, 0.00129809, 0.00071881, 0.10344381, 0.08176818, 0.07161582, 0.06396687, 0.03929674, 0.02214466, 0.01343171, 0.00869334, 0.00600001, 0.00411913, 0.11175972, 0.07276806, 0.04836078, 0.03328921, 0.02408152]}, {\"mode\": \"markers\", \"name\": \"Merton Model Price\", \"type\": \"scatter3d\", \"x\": [30000.0, 31000.0, 32000.0, 33000.0, 34000.0, 35000.0, 36000.0, 37000.0, 38000.0, 31000.0, 32000.0, 33000.0, 34000.0, 35000.0, 30000.0, 31000.0, 32000.0, 33000.0, 34000.0, 35000.0, 36000.0, 37000.0, 38000.0, 40000.0, 42000.0, 44000.0, 46000.0, 48000.0, 50000.0, 56000.0, 68000.0, 30000.0, 31000.0, 32000.0, 33000.0, 34000.0, 35000.0, 36000.0, 37000.0, 38000.0, 39000.0, 40000.0, 42000.0, 44000.0, 45000.0, 46000.0, 48000.0, 50000.0, 32000.0, 34000.0, 36000.0, 38000.0, 40000.0, 42000.0, 44000.0, 50000.0, 55000.0, 65000.0, 32000.0, 34000.0, 35000.0, 36000.0, 40000.0, 45000.0, 50000.0, 55000.0, 60000.0, 65000.0, 35000.0, 40000.0, 45000.0, 50000.0, 55000.0], \"y\": [0.0010244847953107864, 0.0010244847953107864, 0.0010244847953107864, 0.0010244847953107864, 0.0010244847953107864, 0.0010244847953107864, 0.0010244847953107864, 0.0010244847953107864, 0.0010244847953107864, 0.0037642108227080467, 0.0037642108227080467, 0.0037642108227080467, 0.0037642108227080467, 0.0037642108227080467, 0.0065039368501053066, 0.0065039368501053066, 0.0065039368501053066, 0.0065039368501053066, 0.0065039368501053066, 0.0065039368501053066, 0.0065039368501053066, 0.0065039368501053066, 0.0065039368501053066, 0.0065039368501053066, 0.0065039368501053066, 0.0065039368501053066, 0.0065039368501053066, 0.0065039368501053066, 0.0065039368501053066, 0.0065039368501053066, 0.0065039368501053066, 0.02568201904188613, 0.02568201904188613, 0.02568201904188613, 0.02568201904188613, 0.02568201904188613, 0.02568201904188613, 0.02568201904188613, 0.02568201904188613, 0.02568201904188613, 0.02568201904188613, 0.02568201904188613, 0.02568201904188613, 0.02568201904188613, 0.02568201904188613, 0.02568201904188613, 0.02568201904188613, 0.02568201904188613, 0.04486010123366695, 0.04486010123366695, 0.04486010123366695, 0.04486010123366695, 0.04486010123366695, 0.04486010123366695, 0.04486010123366695, 0.04486010123366695, 0.04486010123366695, 0.04486010123366695, 0.10239434780900941, 0.10239434780900941, 0.10239434780900941, 0.10239434780900941, 0.10239434780900941, 0.10239434780900941, 0.10239434780900941, 0.10239434780900941, 0.10239434780900941, 0.10239434780900941, 0.17910667657613272, 0.17910667657613272, 0.17910667657613272, 0.17910667657613272, 0.17910667657613272], \"z\": [0.0006882911593456417, 0.011854237244498881, 0.006713727714580252, 0.0036262025717794435, 0.0019184262948650807, 0.0007698006870077177, 0.00027158603721937725, 5.3432515361190334e-05, 0.0, 0.008615217587284443, 0.0078090426445785515, 0.004860087192338072, 0.0030588720138382316, 0.0017138775640945265, 0.0, 0.005206083898899346, 0.007627882606531006, 0.006573278937491112, 0.004904009803058708, 0.0034789505915595884, 0.0023574517189217633, 0.0014696109198907206, 0.0012489396959416462, 0.0005548416977153517, 0.00037481768547367907, 0.0004223028312212215, 0.00017707495917480143, 6.626722261942171e-05, 2.1807495492171666e-05, 1.8842046292300623e-10, 0.0, 0.0, 6.392800505582966e-08, 0.0002320068412399892, 0.0009414137907463141, 0.0017115765674860651, 0.002183051864760307, 0.0023470392471194312, 0.002293999053027927, 0.0021781931753939543, 0.0019592020519964095, 0.0017842970160578378, 0.0014479461906705357, 0.0011369237610001654, 0.001196339808896907, 0.0009484006479696864, 0.0006574520568758313, 0.0004682022887116163, 7.804710331189275e-08, 0.000208036450162077, 0.0008938179328053828, 0.0013323557542324553, 0.0014731624905525342, 0.0013159107499941592, 0.0011520888612308825, 0.0007357756787652383, 0.00039266868347175563, 0.000284584437102384, 0.0, 8.359337997817701e-15, 4.1330429801078956e-08, 2.1602142595142585e-06, 0.0002142385078604144, 0.0006822736731901381, 0.0008575593232710533, 0.00082963238047431, 0.0007470817818626627, 0.0006116336830112513, 0.0, 4.234883321443861e-07, 5.3828888724198156e-05, 0.00021498415210831467, 0.00036523737717946043]}],                        {\"scene\": {\"xaxis\": {\"title\": {\"text\": \"Strike\"}}, \"yaxis\": {\"title\": {\"text\": \"Exp\"}}, \"zaxis\": {\"title\": {\"text\": \"Price\"}}}, \"template\": {\"data\": {\"bar\": [{\"error_x\": {\"color\": \"#2a3f5f\"}, \"error_y\": {\"color\": \"#2a3f5f\"}, \"marker\": {\"line\": {\"color\": \"#E5ECF6\", \"width\": 0.5}}, \"type\": \"bar\"}], \"barpolar\": [{\"marker\": {\"line\": {\"color\": \"#E5ECF6\", \"width\": 0.5}}, \"type\": \"barpolar\"}], \"carpet\": [{\"aaxis\": {\"endlinecolor\": \"#2a3f5f\", \"gridcolor\": \"white\", \"linecolor\": \"white\", \"minorgridcolor\": \"white\", \"startlinecolor\": \"#2a3f5f\"}, \"baxis\": {\"endlinecolor\": \"#2a3f5f\", \"gridcolor\": \"white\", \"linecolor\": \"white\", \"minorgridcolor\": \"white\", \"startlinecolor\": \"#2a3f5f\"}, \"type\": \"carpet\"}], \"choropleth\": [{\"colorbar\": {\"outlinewidth\": 0, \"ticks\": \"\"}, \"type\": \"choropleth\"}], \"contour\": [{\"colorbar\": {\"outlinewidth\": 0, \"ticks\": \"\"}, \"colorscale\": [[0.0, \"#0d0887\"], [0.1111111111111111, \"#46039f\"], [0.2222222222222222, \"#7201a8\"], [0.3333333333333333, \"#9c179e\"], [0.4444444444444444, \"#bd3786\"], [0.5555555555555556, \"#d8576b\"], [0.6666666666666666, \"#ed7953\"], [0.7777777777777778, \"#fb9f3a\"], [0.8888888888888888, \"#fdca26\"], [1.0, \"#f0f921\"]], \"type\": \"contour\"}], \"contourcarpet\": [{\"colorbar\": {\"outlinewidth\": 0, \"ticks\": \"\"}, \"type\": \"contourcarpet\"}], \"heatmap\": [{\"colorbar\": {\"outlinewidth\": 0, \"ticks\": \"\"}, \"colorscale\": [[0.0, \"#0d0887\"], [0.1111111111111111, \"#46039f\"], [0.2222222222222222, \"#7201a8\"], [0.3333333333333333, \"#9c179e\"], [0.4444444444444444, \"#bd3786\"], [0.5555555555555556, \"#d8576b\"], [0.6666666666666666, \"#ed7953\"], [0.7777777777777778, \"#fb9f3a\"], [0.8888888888888888, \"#fdca26\"], [1.0, \"#f0f921\"]], \"type\": \"heatmap\"}], \"heatmapgl\": [{\"colorbar\": {\"outlinewidth\": 0, \"ticks\": \"\"}, \"colorscale\": [[0.0, \"#0d0887\"], [0.1111111111111111, \"#46039f\"], [0.2222222222222222, \"#7201a8\"], [0.3333333333333333, \"#9c179e\"], [0.4444444444444444, \"#bd3786\"], [0.5555555555555556, \"#d8576b\"], [0.6666666666666666, \"#ed7953\"], [0.7777777777777778, \"#fb9f3a\"], [0.8888888888888888, \"#fdca26\"], [1.0, \"#f0f921\"]], \"type\": \"heatmapgl\"}], \"histogram\": [{\"marker\": {\"colorbar\": {\"outlinewidth\": 0, \"ticks\": \"\"}}, \"type\": \"histogram\"}], \"histogram2d\": [{\"colorbar\": {\"outlinewidth\": 0, \"ticks\": \"\"}, \"colorscale\": [[0.0, \"#0d0887\"], [0.1111111111111111, \"#46039f\"], [0.2222222222222222, \"#7201a8\"], [0.3333333333333333, \"#9c179e\"], [0.4444444444444444, \"#bd3786\"], [0.5555555555555556, \"#d8576b\"], [0.6666666666666666, \"#ed7953\"], [0.7777777777777778, \"#fb9f3a\"], [0.8888888888888888, \"#fdca26\"], [1.0, \"#f0f921\"]], \"type\": \"histogram2d\"}], \"histogram2dcontour\": [{\"colorbar\": {\"outlinewidth\": 0, \"ticks\": \"\"}, \"colorscale\": [[0.0, \"#0d0887\"], [0.1111111111111111, \"#46039f\"], [0.2222222222222222, \"#7201a8\"], [0.3333333333333333, \"#9c179e\"], [0.4444444444444444, \"#bd3786\"], [0.5555555555555556, \"#d8576b\"], [0.6666666666666666, \"#ed7953\"], [0.7777777777777778, \"#fb9f3a\"], [0.8888888888888888, \"#fdca26\"], [1.0, \"#f0f921\"]], \"type\": \"histogram2dcontour\"}], \"mesh3d\": [{\"colorbar\": {\"outlinewidth\": 0, \"ticks\": \"\"}, \"type\": \"mesh3d\"}], \"parcoords\": [{\"line\": {\"colorbar\": {\"outlinewidth\": 0, \"ticks\": \"\"}}, \"type\": \"parcoords\"}], \"pie\": [{\"automargin\": true, \"type\": \"pie\"}], \"scatter\": [{\"marker\": {\"colorbar\": {\"outlinewidth\": 0, \"ticks\": \"\"}}, \"type\": \"scatter\"}], \"scatter3d\": [{\"line\": {\"colorbar\": {\"outlinewidth\": 0, \"ticks\": \"\"}}, \"marker\": {\"colorbar\": {\"outlinewidth\": 0, \"ticks\": \"\"}}, \"type\": \"scatter3d\"}], \"scattercarpet\": [{\"marker\": {\"colorbar\": {\"outlinewidth\": 0, \"ticks\": \"\"}}, \"type\": \"scattercarpet\"}], \"scattergeo\": [{\"marker\": {\"colorbar\": {\"outlinewidth\": 0, \"ticks\": \"\"}}, \"type\": \"scattergeo\"}], \"scattergl\": [{\"marker\": {\"colorbar\": {\"outlinewidth\": 0, \"ticks\": \"\"}}, \"type\": \"scattergl\"}], \"scattermapbox\": [{\"marker\": {\"colorbar\": {\"outlinewidth\": 0, \"ticks\": \"\"}}, \"type\": \"scattermapbox\"}], \"scatterpolar\": [{\"marker\": {\"colorbar\": {\"outlinewidth\": 0, \"ticks\": \"\"}}, \"type\": \"scatterpolar\"}], \"scatterpolargl\": [{\"marker\": {\"colorbar\": {\"outlinewidth\": 0, \"ticks\": \"\"}}, \"type\": \"scatterpolargl\"}], \"scatterternary\": [{\"marker\": {\"colorbar\": {\"outlinewidth\": 0, \"ticks\": \"\"}}, \"type\": \"scatterternary\"}], \"surface\": [{\"colorbar\": {\"outlinewidth\": 0, \"ticks\": \"\"}, \"colorscale\": [[0.0, \"#0d0887\"], [0.1111111111111111, \"#46039f\"], [0.2222222222222222, \"#7201a8\"], [0.3333333333333333, \"#9c179e\"], [0.4444444444444444, \"#bd3786\"], [0.5555555555555556, \"#d8576b\"], [0.6666666666666666, \"#ed7953\"], [0.7777777777777778, \"#fb9f3a\"], [0.8888888888888888, \"#fdca26\"], [1.0, \"#f0f921\"]], \"type\": \"surface\"}], \"table\": [{\"cells\": {\"fill\": {\"color\": \"#EBF0F8\"}, \"line\": {\"color\": \"white\"}}, \"header\": {\"fill\": {\"color\": \"#C8D4E3\"}, \"line\": {\"color\": \"white\"}}, \"type\": \"table\"}]}, \"layout\": {\"annotationdefaults\": {\"arrowcolor\": \"#2a3f5f\", \"arrowhead\": 0, \"arrowwidth\": 1}, \"autotypenumbers\": \"strict\", \"coloraxis\": {\"colorbar\": {\"outlinewidth\": 0, \"ticks\": \"\"}}, \"colorscale\": {\"diverging\": [[0, \"#8e0152\"], [0.1, \"#c51b7d\"], [0.2, \"#de77ae\"], [0.3, \"#f1b6da\"], [0.4, \"#fde0ef\"], [0.5, \"#f7f7f7\"], [0.6, \"#e6f5d0\"], [0.7, \"#b8e186\"], [0.8, \"#7fbc41\"], [0.9, \"#4d9221\"], [1, \"#276419\"]], \"sequential\": [[0.0, \"#0d0887\"], [0.1111111111111111, \"#46039f\"], [0.2222222222222222, \"#7201a8\"], [0.3333333333333333, \"#9c179e\"], [0.4444444444444444, \"#bd3786\"], [0.5555555555555556, \"#d8576b\"], [0.6666666666666666, \"#ed7953\"], [0.7777777777777778, \"#fb9f3a\"], [0.8888888888888888, \"#fdca26\"], [1.0, \"#f0f921\"]], \"sequentialminus\": [[0.0, \"#0d0887\"], [0.1111111111111111, \"#46039f\"], [0.2222222222222222, \"#7201a8\"], [0.3333333333333333, \"#9c179e\"], [0.4444444444444444, \"#bd3786\"], [0.5555555555555556, \"#d8576b\"], [0.6666666666666666, \"#ed7953\"], [0.7777777777777778, \"#fb9f3a\"], [0.8888888888888888, \"#fdca26\"], [1.0, \"#f0f921\"]]}, \"colorway\": [\"#636efa\", \"#EF553B\", \"#00cc96\", \"#ab63fa\", \"#FFA15A\", \"#19d3f3\", \"#FF6692\", \"#B6E880\", \"#FF97FF\", \"#FECB52\"], \"font\": {\"color\": \"#2a3f5f\"}, \"geo\": {\"bgcolor\": \"white\", \"lakecolor\": \"white\", \"landcolor\": \"#E5ECF6\", \"showlakes\": true, \"showland\": true, \"subunitcolor\": \"white\"}, \"hoverlabel\": {\"align\": \"left\"}, \"hovermode\": \"closest\", \"mapbox\": {\"style\": \"light\"}, \"paper_bgcolor\": \"white\", \"plot_bgcolor\": \"#E5ECF6\", \"polar\": {\"angularaxis\": {\"gridcolor\": \"white\", \"linecolor\": \"white\", \"ticks\": \"\"}, \"bgcolor\": \"#E5ECF6\", \"radialaxis\": {\"gridcolor\": \"white\", \"linecolor\": \"white\", \"ticks\": \"\"}}, \"scene\": {\"xaxis\": {\"backgroundcolor\": \"#E5ECF6\", \"gridcolor\": \"white\", \"gridwidth\": 2, \"linecolor\": \"white\", \"showbackground\": true, \"ticks\": \"\", \"zerolinecolor\": \"white\"}, \"yaxis\": {\"backgroundcolor\": \"#E5ECF6\", \"gridcolor\": \"white\", \"gridwidth\": 2, \"linecolor\": \"white\", \"showbackground\": true, \"ticks\": \"\", \"zerolinecolor\": \"white\"}, \"zaxis\": {\"backgroundcolor\": \"#E5ECF6\", \"gridcolor\": \"white\", \"gridwidth\": 2, \"linecolor\": \"white\", \"showbackground\": true, \"ticks\": \"\", \"zerolinecolor\": \"white\"}}, \"shapedefaults\": {\"line\": {\"color\": \"#2a3f5f\"}}, \"ternary\": {\"aaxis\": {\"gridcolor\": \"white\", \"linecolor\": \"white\", \"ticks\": \"\"}, \"baxis\": {\"gridcolor\": \"white\", \"linecolor\": \"white\", \"ticks\": \"\"}, \"bgcolor\": \"#E5ECF6\", \"caxis\": {\"gridcolor\": \"white\", \"linecolor\": \"white\", \"ticks\": \"\"}}, \"title\": {\"x\": 0.05}, \"xaxis\": {\"automargin\": true, \"gridcolor\": \"white\", \"linecolor\": \"white\", \"ticks\": \"\", \"title\": {\"standoff\": 15}, \"zerolinecolor\": \"white\", \"zerolinewidth\": 2}, \"yaxis\": {\"automargin\": true, \"gridcolor\": \"white\", \"linecolor\": \"white\", \"ticks\": \"\", \"title\": {\"standoff\": 15}, \"zerolinecolor\": \"white\", \"zerolinewidth\": 2}}}},                        {\"responsive\": true}                    ).then(function(){\n",
       "                            \n",
       "var gd = document.getElementById('4fbe8b28-859f-4771-8cb4-393c2b929189');\n",
       "var x = new MutationObserver(function (mutations, observer) {{\n",
       "        var display = window.getComputedStyle(gd).display;\n",
       "        if (!display || display === 'none') {{\n",
       "            console.log([gd, 'removed!']);\n",
       "            Plotly.purge(gd);\n",
       "            observer.disconnect();\n",
       "        }}\n",
       "}});\n",
       "\n",
       "// Listen for the removal of the full notebook cells\n",
       "var notebookContainer = gd.closest('#notebook-container');\n",
       "if (notebookContainer) {{\n",
       "    x.observe(notebookContainer, {childList: true});\n",
       "}}\n",
       "\n",
       "// Listen for the clearing of the current output cell\n",
       "var outputEl = gd.closest('.output');\n",
       "if (outputEl) {{\n",
       "    x.observe(outputEl, {childList: true});\n",
       "}}\n",
       "\n",
       "                        })                };                });            </script>        </div>"
      ]
     },
     "metadata": {},
     "output_type": "display_data"
    },
    {
     "name": "stdout",
     "output_type": "stream",
     "text": [
      "Root Mean Squared Error | MERTON = 3.266%\n",
      "Root Mean Squared Error | B&S    = 1.075%\n"
     ]
    }
   ],
   "source": [
    "option.append_Merton_price()\n",
    "\n",
    "x = option.df['K']\n",
    "y = option.df['_T']\n",
    "z = option.df['BS_PRICE']\n",
    "z2 = option.df['mark_price']\n",
    "z3 = option.df['MERTON_PRICE']\n",
    "\n",
    "\n",
    "#fig = go.Figure(data=[go.Scatter3d(x=x, y=y, z=z , mode='markers', name='BS price')])\n",
    "\n",
    "fig = go.Figure(data=[go.Scatter3d(x=x, y=y, z=z , mode='markers', name='Black&Scholes model Price'),\n",
    "                      go.Scatter3d(x=x, y=y, z=z2, mode='markers', name='Real Market Price'),\n",
    "                      go.Scatter3d(x=x, y=y, z=z3, mode='markers', name='Merton Model Price')])\n",
    "\n",
    "\n",
    "fig.update_scenes(xaxis_title_text='Strike', yaxis_title_text='Exp', zaxis_title_text='Price') \n",
    "fig.show()\n",
    "\n",
    "rms_merton = mean_squared_error(option.df['mark_price'], option.df['MERTON_PRICE'], squared=False)\n",
    "rms_bs = mean_squared_error(option.df['mark_price'], option.df['BS_PRICE'], squared=False)\n",
    "\n",
    "print('Root Mean Squared Error | MERTON = {}%'.format(round(rms_merton*100,3)))\n",
    "print('Root Mean Squared Error | B&S    = {}%'.format(round(rms_bs*100,3)))"
   ]
  },
  {
   "cell_type": "code",
   "execution_count": null,
   "metadata": {},
   "outputs": [],
   "source": []
  },
  {
   "cell_type": "code",
   "execution_count": null,
   "metadata": {},
   "outputs": [],
   "source": []
  },
  {
   "cell_type": "code",
   "execution_count": null,
   "metadata": {},
   "outputs": [],
   "source": []
  },
  {
   "cell_type": "code",
   "execution_count": null,
   "metadata": {},
   "outputs": [],
   "source": []
  },
  {
   "cell_type": "code",
   "execution_count": null,
   "metadata": {},
   "outputs": [],
   "source": []
  }
 ],
 "metadata": {
  "kernelspec": {
   "display_name": "Python 3",
   "language": "python",
   "name": "python3"
  },
  "language_info": {
   "codemirror_mode": {
    "name": "ipython",
    "version": 3
   },
   "file_extension": ".py",
   "mimetype": "text/x-python",
   "name": "python",
   "nbconvert_exporter": "python",
   "pygments_lexer": "ipython3",
   "version": "3.7.4"
  }
 },
 "nbformat": 4,
 "nbformat_minor": 2
}
