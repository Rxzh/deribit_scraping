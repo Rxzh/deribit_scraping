{
 "cells": [
  {
   "cell_type": "code",
   "execution_count": 18,
   "metadata": {},
   "outputs": [],
   "source": [
    "import deribit_data as dm\n",
    "from option import Option\n",
    "import numpy as np\n",
    "from utils import *\n",
    "from sklearn.metrics import mean_squared_error"
   ]
  },
  {
   "cell_type": "code",
   "execution_count": 19,
   "metadata": {},
   "outputs": [],
   "source": [
    "data = dm.Scraper(currency='BTC')"
   ]
  },
  {
   "cell_type": "code",
   "execution_count": 20,
   "metadata": {},
   "outputs": [],
   "source": [
    "hist_vol = data.get_hist_vol(save_csv=False)"
   ]
  },
  {
   "cell_type": "code",
   "execution_count": 21,
   "metadata": {},
   "outputs": [
    {
     "name": "stdout",
     "output_type": "stream",
     "text": [
      "Collecting data...\n",
      "Data Collected\n"
     ]
    }
   ],
   "source": [
    "raw_df = data.collect_data(max_workers = 10, save_csv = False)"
   ]
  },
  {
   "cell_type": "code",
   "execution_count": 22,
   "metadata": {},
   "outputs": [
    {
     "name": "stderr",
     "output_type": "stream",
     "text": [
      "/Users/pierrebelamri/Documents/GitHub/deribit_scraping/utils.py:104: SettingWithCopyWarning:\n",
      "\n",
      "\n",
      "A value is trying to be set on a copy of a slice from a DataFrame.\n",
      "Try using .loc[row_indexer,col_indexer] = value instead\n",
      "\n",
      "See the caveats in the documentation: https://pandas.pydata.org/pandas-docs/stable/user_guide/indexing.html#returning-a-view-versus-a-copy\n",
      "\n",
      "/Users/pierrebelamri/Documents/GitHub/deribit_scraping/utils.py:128: SettingWithCopyWarning:\n",
      "\n",
      "\n",
      "A value is trying to be set on a copy of a slice from a DataFrame.\n",
      "Try using .loc[row_indexer,col_indexer] = value instead\n",
      "\n",
      "See the caveats in the documentation: https://pandas.pydata.org/pandas-docs/stable/user_guide/indexing.html#returning-a-view-versus-a-copy\n",
      "\n",
      "/Users/pierrebelamri/Documents/GitHub/deribit_scraping/utils.py:129: SettingWithCopyWarning:\n",
      "\n",
      "\n",
      "A value is trying to be set on a copy of a slice from a DataFrame.\n",
      "Try using .loc[row_indexer,col_indexer] = value instead\n",
      "\n",
      "See the caveats in the documentation: https://pandas.pydata.org/pandas-docs/stable/user_guide/indexing.html#returning-a-view-versus-a-copy\n",
      "\n",
      "/Users/pierrebelamri/Documents/GitHub/deribit_scraping/utils.py:138: SettingWithCopyWarning:\n",
      "\n",
      "\n",
      "A value is trying to be set on a copy of a slice from a DataFrame.\n",
      "Try using .loc[row_indexer,col_indexer] = value instead\n",
      "\n",
      "See the caveats in the documentation: https://pandas.pydata.org/pandas-docs/stable/user_guide/indexing.html#returning-a-view-versus-a-copy\n",
      "\n",
      "/Users/pierrebelamri/Documents/GitHub/deribit_scraping/utils.py:139: SettingWithCopyWarning:\n",
      "\n",
      "\n",
      "A value is trying to be set on a copy of a slice from a DataFrame.\n",
      "Try using .loc[row_indexer,col_indexer] = value instead\n",
      "\n",
      "See the caveats in the documentation: https://pandas.pydata.org/pandas-docs/stable/user_guide/indexing.html#returning-a-view-versus-a-copy\n",
      "\n",
      "/Users/pierrebelamri/Documents/GitHub/deribit_scraping/utils.py:140: SettingWithCopyWarning:\n",
      "\n",
      "\n",
      "A value is trying to be set on a copy of a slice from a DataFrame.\n",
      "Try using .loc[row_indexer,col_indexer] = value instead\n",
      "\n",
      "See the caveats in the documentation: https://pandas.pydata.org/pandas-docs/stable/user_guide/indexing.html#returning-a-view-versus-a-copy\n",
      "\n"
     ]
    }
   ],
   "source": [
    "option = Option(raw_df, 'C')"
   ]
  },
  {
   "cell_type": "code",
   "execution_count": null,
   "metadata": {},
   "outputs": [],
   "source": []
  },
  {
   "cell_type": "code",
   "execution_count": 23,
   "metadata": {},
   "outputs": [],
   "source": [
    "option.append_imp_vol_to_df()"
   ]
  },
  {
   "cell_type": "code",
   "execution_count": 24,
   "metadata": {},
   "outputs": [
    {
     "data": {
      "text/html": [
       "<div>\n",
       "<style scoped>\n",
       "    .dataframe tbody tr th:only-of-type {\n",
       "        vertical-align: middle;\n",
       "    }\n",
       "\n",
       "    .dataframe tbody tr th {\n",
       "        vertical-align: top;\n",
       "    }\n",
       "\n",
       "    .dataframe thead th {\n",
       "        text-align: right;\n",
       "    }\n",
       "</style>\n",
       "<table border=\"1\" class=\"dataframe\">\n",
       "  <thead>\n",
       "    <tr style=\"text-align: right;\">\n",
       "      <th></th>\n",
       "      <th>S</th>\n",
       "      <th>K</th>\n",
       "      <th>V</th>\n",
       "      <th>_T</th>\n",
       "      <th>bids</th>\n",
       "      <th>asks</th>\n",
       "      <th>last_price</th>\n",
       "      <th>mid_iv</th>\n",
       "      <th>option_type</th>\n",
       "      <th>mid</th>\n",
       "      <th>moneyness</th>\n",
       "      <th>I_VOL</th>\n",
       "    </tr>\n",
       "  </thead>\n",
       "  <tbody>\n",
       "    <tr>\n",
       "      <th>158</th>\n",
       "      <td>32897.84</td>\n",
       "      <td>32000.0</td>\n",
       "      <td>41.4</td>\n",
       "      <td>0.000822</td>\n",
       "      <td>0.035984</td>\n",
       "      <td>0.042711</td>\n",
       "      <td>0.0315</td>\n",
       "      <td>133.980</td>\n",
       "      <td>C</td>\n",
       "      <td>0.039347</td>\n",
       "      <td>1.028057</td>\n",
       "      <td>4.768374e-07</td>\n",
       "    </tr>\n",
       "    <tr>\n",
       "      <th>100</th>\n",
       "      <td>32903.50</td>\n",
       "      <td>33000.0</td>\n",
       "      <td>121.1</td>\n",
       "      <td>0.000822</td>\n",
       "      <td>0.018428</td>\n",
       "      <td>0.024842</td>\n",
       "      <td>0.0180</td>\n",
       "      <td>129.580</td>\n",
       "      <td>C</td>\n",
       "      <td>0.021635</td>\n",
       "      <td>0.997076</td>\n",
       "      <td>3.582755e-02</td>\n",
       "    </tr>\n",
       "    <tr>\n",
       "      <th>111</th>\n",
       "      <td>32903.49</td>\n",
       "      <td>34000.0</td>\n",
       "      <td>130.0</td>\n",
       "      <td>0.000822</td>\n",
       "      <td>0.007749</td>\n",
       "      <td>0.018371</td>\n",
       "      <td>0.0080</td>\n",
       "      <td>127.485</td>\n",
       "      <td>C</td>\n",
       "      <td>0.013060</td>\n",
       "      <td>0.967750</td>\n",
       "      <td>3.195586e-01</td>\n",
       "    </tr>\n",
       "    <tr>\n",
       "      <th>29</th>\n",
       "      <td>32928.40</td>\n",
       "      <td>35000.0</td>\n",
       "      <td>155.3</td>\n",
       "      <td>0.000822</td>\n",
       "      <td>0.002462</td>\n",
       "      <td>0.006331</td>\n",
       "      <td>0.0035</td>\n",
       "      <td>125.765</td>\n",
       "      <td>C</td>\n",
       "      <td>0.004397</td>\n",
       "      <td>0.940811</td>\n",
       "      <td>5.370901e-01</td>\n",
       "    </tr>\n",
       "    <tr>\n",
       "      <th>180</th>\n",
       "      <td>32898.63</td>\n",
       "      <td>36000.0</td>\n",
       "      <td>62.8</td>\n",
       "      <td>0.000822</td>\n",
       "      <td>0.000887</td>\n",
       "      <td>0.004693</td>\n",
       "      <td>0.0015</td>\n",
       "      <td>128.710</td>\n",
       "      <td>C</td>\n",
       "      <td>0.002790</td>\n",
       "      <td>0.913851</td>\n",
       "      <td>7.583158e-01</td>\n",
       "    </tr>\n",
       "  </tbody>\n",
       "</table>\n",
       "</div>"
      ],
      "text/plain": [
       "            S        K      V        _T      bids      asks  last_price  \\\n",
       "158  32897.84  32000.0   41.4  0.000822  0.035984  0.042711      0.0315   \n",
       "100  32903.50  33000.0  121.1  0.000822  0.018428  0.024842      0.0180   \n",
       "111  32903.49  34000.0  130.0  0.000822  0.007749  0.018371      0.0080   \n",
       "29   32928.40  35000.0  155.3  0.000822  0.002462  0.006331      0.0035   \n",
       "180  32898.63  36000.0   62.8  0.000822  0.000887  0.004693      0.0015   \n",
       "\n",
       "      mid_iv option_type       mid  moneyness         I_VOL  \n",
       "158  133.980           C  0.039347   1.028057  4.768374e-07  \n",
       "100  129.580           C  0.021635   0.997076  3.582755e-02  \n",
       "111  127.485           C  0.013060   0.967750  3.195586e-01  \n",
       "29   125.765           C  0.004397   0.940811  5.370901e-01  \n",
       "180  128.710           C  0.002790   0.913851  7.583158e-01  "
      ]
     },
     "execution_count": 24,
     "metadata": {},
     "output_type": "execute_result"
    }
   ],
   "source": [
    "option.df.head()"
   ]
  },
  {
   "cell_type": "code",
   "execution_count": 25,
   "metadata": {},
   "outputs": [
    {
     "name": "stderr",
     "output_type": "stream",
     "text": [
      "/Users/pierrebelamri/Documents/GitHub/deribit_scraping/option.py:140: RuntimeWarning:\n",
      "\n",
      "divide by zero encountered in double_scalars\n",
      "\n",
      "/Users/pierrebelamri/Documents/GitHub/deribit_scraping/option.py:140: RuntimeWarning:\n",
      "\n",
      "invalid value encountered in sqrt\n",
      "\n"
     ]
    }
   ],
   "source": [
    "option.append_loc_vol_to_df()"
   ]
  },
  {
   "cell_type": "code",
   "execution_count": 26,
   "metadata": {},
   "outputs": [],
   "source": [
    "option.append_BS_price()"
   ]
  },
  {
   "cell_type": "code",
   "execution_count": 27,
   "metadata": {},
   "outputs": [],
   "source": [
    "option.df.dropna(inplace=True)\n",
    "#option.df = option.df.drop(option.df[option.df.BS_PRICE >= 1.0].index)"
   ]
  },
  {
   "cell_type": "code",
   "execution_count": 28,
   "metadata": {},
   "outputs": [
    {
     "data": {
      "application/vnd.plotly.v1+json": {
       "config": {
        "plotlyServerURL": "https://plot.ly"
       },
       "data": [
        {
         "mode": "markers",
         "name": "Black&Scholes model Price",
         "type": "scatter3d",
         "x": [
          33000,
          34000,
          35000,
          36000,
          37000,
          38000,
          39000,
          33000,
          34000,
          35000,
          36000,
          37000,
          33000,
          34000,
          35000,
          36000,
          37000,
          38000,
          39000,
          40000,
          42000,
          44000,
          46000,
          48000,
          50000,
          33000,
          34000,
          35000,
          36000,
          37000,
          38000,
          39000,
          40000,
          42000,
          44000,
          45000,
          46000,
          34000,
          36000,
          38000,
          40000,
          42000,
          44000,
          45000,
          46000,
          55000,
          34000,
          35000,
          36000,
          40000,
          45000,
          50000,
          55000,
          60000,
          70000,
          35000,
          40000,
          45000,
          50000,
          55000,
          60000,
          70000
         ],
         "y": [
          0.0008216581027075943,
          0.0008216581027075943,
          0.0008216581027075943,
          0.0008216581027075943,
          0.0008216581027075943,
          0.0008216581027075943,
          0.0008216581027075943,
          0.0035613841301048547,
          0.0035613841301048547,
          0.0035613841301048547,
          0.0035613841301048547,
          0.0035613841301048547,
          0.009040836184899375,
          0.009040836184899375,
          0.009040836184899375,
          0.009040836184899375,
          0.009040836184899375,
          0.009040836184899375,
          0.009040836184899375,
          0.009040836184899375,
          0.009040836184899375,
          0.009040836184899375,
          0.009040836184899375,
          0.009040836184899375,
          0.009040836184899375,
          0.028218918376680197,
          0.028218918376680197,
          0.028218918376680197,
          0.028218918376680197,
          0.028218918376680197,
          0.028218918376680197,
          0.028218918376680197,
          0.028218918376680197,
          0.028218918376680197,
          0.028218918376680197,
          0.028218918376680197,
          0.028218918376680197,
          0.047397000568461016,
          0.047397000568461016,
          0.047397000568461016,
          0.047397000568461016,
          0.047397000568461016,
          0.047397000568461016,
          0.047397000568461016,
          0.047397000568461016,
          0.047397000568461016,
          0.10493124714380349,
          0.10493124714380349,
          0.10493124714380349,
          0.10493124714380349,
          0.10493124714380349,
          0.10493124714380349,
          0.10493124714380349,
          0.10493124714380349,
          0.10493124714380349,
          0.18164357591092678,
          0.18164357591092678,
          0.18164357591092678,
          0.18164357591092678,
          0.18164357591092678,
          0.18164357591092678,
          0.18164357591092678
         ],
         "z": [
          0.022231347013999425,
          0.013107049408429994,
          0.004407042355465851,
          0.002794951875135232,
          0.0013932393087113248,
          0.0012037175523932908,
          0.001090022372418703,
          0.03497425609526772,
          0.018999182135068793,
          0.010370562468091205,
          0.005980238444095898,
          0.003762344855463229,
          0.05658956887495492,
          0.03092092099224253,
          0.019821317500306357,
          0.0203288024766497,
          0.008361832870604102,
          0.0082814052276452,
          0.003956051353923518,
          0.004590076449347336,
          0.0031321974171543143,
          0.004035375781505424,
          0.0051083350509110725,
          0.010609765639637891,
          0.004947892858797681,
          0.10696627235256528,
          0.058581047799105335,
          0.044398474242786534,
          0.034236488527626285,
          0.026738583018865114,
          0.02044686225289727,
          0.01568466900882015,
          0.0124724536027081,
          0.00774036654526522,
          0.005033551583086271,
          0.003832722231131569,
          0.003319834183087317,
          0.08266257967310864,
          0.05134875161265651,
          0.034570034160742225,
          0.022542230970720167,
          0.015595714478813694,
          0.014147708904484801,
          0.00921390339762096,
          0.008353052359013124,
          0.0020751708920745265,
          0.14661331442550818,
          0.1147181281886347,
          0.06070525320604503,
          0.07544760797399164,
          0.031103485524000885,
          0.038051206609599264,
          0.012160665347626831,
          0.009739838399645373,
          0.004066323919744194,
          0.18341099967334173,
          0.0956306144738388,
          0.05810004701549065,
          0.03858592846330233,
          0.026140515379337925,
          0.019151241315136125,
          0.011151364935121866
         ]
        },
        {
         "mode": "markers",
         "name": "Real Market Price",
         "type": "scatter3d",
         "x": [
          33000,
          34000,
          35000,
          36000,
          37000,
          38000,
          39000,
          33000,
          34000,
          35000,
          36000,
          37000,
          33000,
          34000,
          35000,
          36000,
          37000,
          38000,
          39000,
          40000,
          42000,
          44000,
          46000,
          48000,
          50000,
          33000,
          34000,
          35000,
          36000,
          37000,
          38000,
          39000,
          40000,
          42000,
          44000,
          45000,
          46000,
          34000,
          36000,
          38000,
          40000,
          42000,
          44000,
          45000,
          46000,
          55000,
          34000,
          35000,
          36000,
          40000,
          45000,
          50000,
          55000,
          60000,
          70000,
          35000,
          40000,
          45000,
          50000,
          55000,
          60000,
          70000
         ],
         "y": [
          0.0008216581027075943,
          0.0008216581027075943,
          0.0008216581027075943,
          0.0008216581027075943,
          0.0008216581027075943,
          0.0008216581027075943,
          0.0008216581027075943,
          0.0035613841301048547,
          0.0035613841301048547,
          0.0035613841301048547,
          0.0035613841301048547,
          0.0035613841301048547,
          0.009040836184899375,
          0.009040836184899375,
          0.009040836184899375,
          0.009040836184899375,
          0.009040836184899375,
          0.009040836184899375,
          0.009040836184899375,
          0.009040836184899375,
          0.009040836184899375,
          0.009040836184899375,
          0.009040836184899375,
          0.009040836184899375,
          0.009040836184899375,
          0.028218918376680197,
          0.028218918376680197,
          0.028218918376680197,
          0.028218918376680197,
          0.028218918376680197,
          0.028218918376680197,
          0.028218918376680197,
          0.028218918376680197,
          0.028218918376680197,
          0.028218918376680197,
          0.028218918376680197,
          0.028218918376680197,
          0.047397000568461016,
          0.047397000568461016,
          0.047397000568461016,
          0.047397000568461016,
          0.047397000568461016,
          0.047397000568461016,
          0.047397000568461016,
          0.047397000568461016,
          0.047397000568461016,
          0.10493124714380349,
          0.10493124714380349,
          0.10493124714380349,
          0.10493124714380349,
          0.10493124714380349,
          0.10493124714380349,
          0.10493124714380349,
          0.10493124714380349,
          0.10493124714380349,
          0.18164357591092678,
          0.18164357591092678,
          0.18164357591092678,
          0.18164357591092678,
          0.18164357591092678,
          0.18164357591092678,
          0.18164357591092678
         ],
         "z": [
          0.02163505025652203,
          0.013060016199363894,
          0.004396822867677168,
          0.0027901233543763016,
          0.0013912768647281921,
          0.0012022471910112357,
          0.0010889227642276423,
          0.03167656236910446,
          0.018712899783491506,
          0.010276951921789203,
          0.005938926447359586,
          0.0037410684277744168,
          0.04326489209916176,
          0.02984695369753497,
          0.019399869769327945,
          0.02001870463428253,
          0.008250905332923372,
          0.00818985956512551,
          0.003915799881760396,
          0.0045493233736187185,
          0.0031086321048705975,
          0.004010022271714923,
          0.005080769230769231,
          0.010561491935483868,
          0.0049258526187576125,
          0.06783974423196537,
          0.05298300994901747,
          0.04179728055813395,
          0.03272823426573427,
          0.02577345900751292,
          0.01981386185271781,
          0.015252230531762249,
          0.012160126050420168,
          0.007573409074982853,
          0.004937150179085664,
          0.0037627432000716205,
          0.0032619168389150252,
          0.07037026066015016,
          0.04775709837217987,
          0.032875257759567234,
          0.021656065833911872,
          0.015071489604273024,
          0.013736185755155988,
          0.008952480620155037,
          0.008128424985838163,
          0.0020323558958756215,
          0.10455881060558195,
          0.09336498313975271,
          0.051780783237599694,
          0.06974152825144206,
          0.02938350928555426,
          0.03644702468131272,
          0.011685041546757927,
          0.009401329337890122,
          0.003942589566430626,
          0.12939665490080066,
          0.08360246463116158,
          0.052934221749308875,
          0.03580054403031724,
          0.024501404646475676,
          0.018076270026016705,
          0.010614630212560148
         ]
        }
       ],
       "layout": {
        "scene": {
         "xaxis": {
          "title": {
           "text": "Strike"
          }
         },
         "yaxis": {
          "title": {
           "text": "Exp"
          }
         },
         "zaxis": {
          "title": {
           "text": "Price"
          }
         }
        },
        "template": {
         "data": {
          "bar": [
           {
            "error_x": {
             "color": "#2a3f5f"
            },
            "error_y": {
             "color": "#2a3f5f"
            },
            "marker": {
             "line": {
              "color": "#E5ECF6",
              "width": 0.5
             }
            },
            "type": "bar"
           }
          ],
          "barpolar": [
           {
            "marker": {
             "line": {
              "color": "#E5ECF6",
              "width": 0.5
             }
            },
            "type": "barpolar"
           }
          ],
          "carpet": [
           {
            "aaxis": {
             "endlinecolor": "#2a3f5f",
             "gridcolor": "white",
             "linecolor": "white",
             "minorgridcolor": "white",
             "startlinecolor": "#2a3f5f"
            },
            "baxis": {
             "endlinecolor": "#2a3f5f",
             "gridcolor": "white",
             "linecolor": "white",
             "minorgridcolor": "white",
             "startlinecolor": "#2a3f5f"
            },
            "type": "carpet"
           }
          ],
          "choropleth": [
           {
            "colorbar": {
             "outlinewidth": 0,
             "ticks": ""
            },
            "type": "choropleth"
           }
          ],
          "contour": [
           {
            "colorbar": {
             "outlinewidth": 0,
             "ticks": ""
            },
            "colorscale": [
             [
              0,
              "#0d0887"
             ],
             [
              0.1111111111111111,
              "#46039f"
             ],
             [
              0.2222222222222222,
              "#7201a8"
             ],
             [
              0.3333333333333333,
              "#9c179e"
             ],
             [
              0.4444444444444444,
              "#bd3786"
             ],
             [
              0.5555555555555556,
              "#d8576b"
             ],
             [
              0.6666666666666666,
              "#ed7953"
             ],
             [
              0.7777777777777778,
              "#fb9f3a"
             ],
             [
              0.8888888888888888,
              "#fdca26"
             ],
             [
              1,
              "#f0f921"
             ]
            ],
            "type": "contour"
           }
          ],
          "contourcarpet": [
           {
            "colorbar": {
             "outlinewidth": 0,
             "ticks": ""
            },
            "type": "contourcarpet"
           }
          ],
          "heatmap": [
           {
            "colorbar": {
             "outlinewidth": 0,
             "ticks": ""
            },
            "colorscale": [
             [
              0,
              "#0d0887"
             ],
             [
              0.1111111111111111,
              "#46039f"
             ],
             [
              0.2222222222222222,
              "#7201a8"
             ],
             [
              0.3333333333333333,
              "#9c179e"
             ],
             [
              0.4444444444444444,
              "#bd3786"
             ],
             [
              0.5555555555555556,
              "#d8576b"
             ],
             [
              0.6666666666666666,
              "#ed7953"
             ],
             [
              0.7777777777777778,
              "#fb9f3a"
             ],
             [
              0.8888888888888888,
              "#fdca26"
             ],
             [
              1,
              "#f0f921"
             ]
            ],
            "type": "heatmap"
           }
          ],
          "heatmapgl": [
           {
            "colorbar": {
             "outlinewidth": 0,
             "ticks": ""
            },
            "colorscale": [
             [
              0,
              "#0d0887"
             ],
             [
              0.1111111111111111,
              "#46039f"
             ],
             [
              0.2222222222222222,
              "#7201a8"
             ],
             [
              0.3333333333333333,
              "#9c179e"
             ],
             [
              0.4444444444444444,
              "#bd3786"
             ],
             [
              0.5555555555555556,
              "#d8576b"
             ],
             [
              0.6666666666666666,
              "#ed7953"
             ],
             [
              0.7777777777777778,
              "#fb9f3a"
             ],
             [
              0.8888888888888888,
              "#fdca26"
             ],
             [
              1,
              "#f0f921"
             ]
            ],
            "type": "heatmapgl"
           }
          ],
          "histogram": [
           {
            "marker": {
             "colorbar": {
              "outlinewidth": 0,
              "ticks": ""
             }
            },
            "type": "histogram"
           }
          ],
          "histogram2d": [
           {
            "colorbar": {
             "outlinewidth": 0,
             "ticks": ""
            },
            "colorscale": [
             [
              0,
              "#0d0887"
             ],
             [
              0.1111111111111111,
              "#46039f"
             ],
             [
              0.2222222222222222,
              "#7201a8"
             ],
             [
              0.3333333333333333,
              "#9c179e"
             ],
             [
              0.4444444444444444,
              "#bd3786"
             ],
             [
              0.5555555555555556,
              "#d8576b"
             ],
             [
              0.6666666666666666,
              "#ed7953"
             ],
             [
              0.7777777777777778,
              "#fb9f3a"
             ],
             [
              0.8888888888888888,
              "#fdca26"
             ],
             [
              1,
              "#f0f921"
             ]
            ],
            "type": "histogram2d"
           }
          ],
          "histogram2dcontour": [
           {
            "colorbar": {
             "outlinewidth": 0,
             "ticks": ""
            },
            "colorscale": [
             [
              0,
              "#0d0887"
             ],
             [
              0.1111111111111111,
              "#46039f"
             ],
             [
              0.2222222222222222,
              "#7201a8"
             ],
             [
              0.3333333333333333,
              "#9c179e"
             ],
             [
              0.4444444444444444,
              "#bd3786"
             ],
             [
              0.5555555555555556,
              "#d8576b"
             ],
             [
              0.6666666666666666,
              "#ed7953"
             ],
             [
              0.7777777777777778,
              "#fb9f3a"
             ],
             [
              0.8888888888888888,
              "#fdca26"
             ],
             [
              1,
              "#f0f921"
             ]
            ],
            "type": "histogram2dcontour"
           }
          ],
          "mesh3d": [
           {
            "colorbar": {
             "outlinewidth": 0,
             "ticks": ""
            },
            "type": "mesh3d"
           }
          ],
          "parcoords": [
           {
            "line": {
             "colorbar": {
              "outlinewidth": 0,
              "ticks": ""
             }
            },
            "type": "parcoords"
           }
          ],
          "pie": [
           {
            "automargin": true,
            "type": "pie"
           }
          ],
          "scatter": [
           {
            "marker": {
             "colorbar": {
              "outlinewidth": 0,
              "ticks": ""
             }
            },
            "type": "scatter"
           }
          ],
          "scatter3d": [
           {
            "line": {
             "colorbar": {
              "outlinewidth": 0,
              "ticks": ""
             }
            },
            "marker": {
             "colorbar": {
              "outlinewidth": 0,
              "ticks": ""
             }
            },
            "type": "scatter3d"
           }
          ],
          "scattercarpet": [
           {
            "marker": {
             "colorbar": {
              "outlinewidth": 0,
              "ticks": ""
             }
            },
            "type": "scattercarpet"
           }
          ],
          "scattergeo": [
           {
            "marker": {
             "colorbar": {
              "outlinewidth": 0,
              "ticks": ""
             }
            },
            "type": "scattergeo"
           }
          ],
          "scattergl": [
           {
            "marker": {
             "colorbar": {
              "outlinewidth": 0,
              "ticks": ""
             }
            },
            "type": "scattergl"
           }
          ],
          "scattermapbox": [
           {
            "marker": {
             "colorbar": {
              "outlinewidth": 0,
              "ticks": ""
             }
            },
            "type": "scattermapbox"
           }
          ],
          "scatterpolar": [
           {
            "marker": {
             "colorbar": {
              "outlinewidth": 0,
              "ticks": ""
             }
            },
            "type": "scatterpolar"
           }
          ],
          "scatterpolargl": [
           {
            "marker": {
             "colorbar": {
              "outlinewidth": 0,
              "ticks": ""
             }
            },
            "type": "scatterpolargl"
           }
          ],
          "scatterternary": [
           {
            "marker": {
             "colorbar": {
              "outlinewidth": 0,
              "ticks": ""
             }
            },
            "type": "scatterternary"
           }
          ],
          "surface": [
           {
            "colorbar": {
             "outlinewidth": 0,
             "ticks": ""
            },
            "colorscale": [
             [
              0,
              "#0d0887"
             ],
             [
              0.1111111111111111,
              "#46039f"
             ],
             [
              0.2222222222222222,
              "#7201a8"
             ],
             [
              0.3333333333333333,
              "#9c179e"
             ],
             [
              0.4444444444444444,
              "#bd3786"
             ],
             [
              0.5555555555555556,
              "#d8576b"
             ],
             [
              0.6666666666666666,
              "#ed7953"
             ],
             [
              0.7777777777777778,
              "#fb9f3a"
             ],
             [
              0.8888888888888888,
              "#fdca26"
             ],
             [
              1,
              "#f0f921"
             ]
            ],
            "type": "surface"
           }
          ],
          "table": [
           {
            "cells": {
             "fill": {
              "color": "#EBF0F8"
             },
             "line": {
              "color": "white"
             }
            },
            "header": {
             "fill": {
              "color": "#C8D4E3"
             },
             "line": {
              "color": "white"
             }
            },
            "type": "table"
           }
          ]
         },
         "layout": {
          "annotationdefaults": {
           "arrowcolor": "#2a3f5f",
           "arrowhead": 0,
           "arrowwidth": 1
          },
          "autotypenumbers": "strict",
          "coloraxis": {
           "colorbar": {
            "outlinewidth": 0,
            "ticks": ""
           }
          },
          "colorscale": {
           "diverging": [
            [
             0,
             "#8e0152"
            ],
            [
             0.1,
             "#c51b7d"
            ],
            [
             0.2,
             "#de77ae"
            ],
            [
             0.3,
             "#f1b6da"
            ],
            [
             0.4,
             "#fde0ef"
            ],
            [
             0.5,
             "#f7f7f7"
            ],
            [
             0.6,
             "#e6f5d0"
            ],
            [
             0.7,
             "#b8e186"
            ],
            [
             0.8,
             "#7fbc41"
            ],
            [
             0.9,
             "#4d9221"
            ],
            [
             1,
             "#276419"
            ]
           ],
           "sequential": [
            [
             0,
             "#0d0887"
            ],
            [
             0.1111111111111111,
             "#46039f"
            ],
            [
             0.2222222222222222,
             "#7201a8"
            ],
            [
             0.3333333333333333,
             "#9c179e"
            ],
            [
             0.4444444444444444,
             "#bd3786"
            ],
            [
             0.5555555555555556,
             "#d8576b"
            ],
            [
             0.6666666666666666,
             "#ed7953"
            ],
            [
             0.7777777777777778,
             "#fb9f3a"
            ],
            [
             0.8888888888888888,
             "#fdca26"
            ],
            [
             1,
             "#f0f921"
            ]
           ],
           "sequentialminus": [
            [
             0,
             "#0d0887"
            ],
            [
             0.1111111111111111,
             "#46039f"
            ],
            [
             0.2222222222222222,
             "#7201a8"
            ],
            [
             0.3333333333333333,
             "#9c179e"
            ],
            [
             0.4444444444444444,
             "#bd3786"
            ],
            [
             0.5555555555555556,
             "#d8576b"
            ],
            [
             0.6666666666666666,
             "#ed7953"
            ],
            [
             0.7777777777777778,
             "#fb9f3a"
            ],
            [
             0.8888888888888888,
             "#fdca26"
            ],
            [
             1,
             "#f0f921"
            ]
           ]
          },
          "colorway": [
           "#636efa",
           "#EF553B",
           "#00cc96",
           "#ab63fa",
           "#FFA15A",
           "#19d3f3",
           "#FF6692",
           "#B6E880",
           "#FF97FF",
           "#FECB52"
          ],
          "font": {
           "color": "#2a3f5f"
          },
          "geo": {
           "bgcolor": "white",
           "lakecolor": "white",
           "landcolor": "#E5ECF6",
           "showlakes": true,
           "showland": true,
           "subunitcolor": "white"
          },
          "hoverlabel": {
           "align": "left"
          },
          "hovermode": "closest",
          "mapbox": {
           "style": "light"
          },
          "paper_bgcolor": "white",
          "plot_bgcolor": "#E5ECF6",
          "polar": {
           "angularaxis": {
            "gridcolor": "white",
            "linecolor": "white",
            "ticks": ""
           },
           "bgcolor": "#E5ECF6",
           "radialaxis": {
            "gridcolor": "white",
            "linecolor": "white",
            "ticks": ""
           }
          },
          "scene": {
           "xaxis": {
            "backgroundcolor": "#E5ECF6",
            "gridcolor": "white",
            "gridwidth": 2,
            "linecolor": "white",
            "showbackground": true,
            "ticks": "",
            "zerolinecolor": "white"
           },
           "yaxis": {
            "backgroundcolor": "#E5ECF6",
            "gridcolor": "white",
            "gridwidth": 2,
            "linecolor": "white",
            "showbackground": true,
            "ticks": "",
            "zerolinecolor": "white"
           },
           "zaxis": {
            "backgroundcolor": "#E5ECF6",
            "gridcolor": "white",
            "gridwidth": 2,
            "linecolor": "white",
            "showbackground": true,
            "ticks": "",
            "zerolinecolor": "white"
           }
          },
          "shapedefaults": {
           "line": {
            "color": "#2a3f5f"
           }
          },
          "ternary": {
           "aaxis": {
            "gridcolor": "white",
            "linecolor": "white",
            "ticks": ""
           },
           "baxis": {
            "gridcolor": "white",
            "linecolor": "white",
            "ticks": ""
           },
           "bgcolor": "#E5ECF6",
           "caxis": {
            "gridcolor": "white",
            "linecolor": "white",
            "ticks": ""
           }
          },
          "title": {
           "x": 0.05
          },
          "xaxis": {
           "automargin": true,
           "gridcolor": "white",
           "linecolor": "white",
           "ticks": "",
           "title": {
            "standoff": 15
           },
           "zerolinecolor": "white",
           "zerolinewidth": 2
          },
          "yaxis": {
           "automargin": true,
           "gridcolor": "white",
           "linecolor": "white",
           "ticks": "",
           "title": {
            "standoff": 15
           },
           "zerolinecolor": "white",
           "zerolinewidth": 2
          }
         }
        }
       }
      },
      "text/html": [
       "<div>                            <div id=\"8889cf17-eee0-497f-9d3a-1a91d00deb0a\" class=\"plotly-graph-div\" style=\"height:525px; width:100%;\"></div>            <script type=\"text/javascript\">                require([\"plotly\"], function(Plotly) {                    window.PLOTLYENV=window.PLOTLYENV || {};                                    if (document.getElementById(\"8889cf17-eee0-497f-9d3a-1a91d00deb0a\")) {                    Plotly.newPlot(                        \"8889cf17-eee0-497f-9d3a-1a91d00deb0a\",                        [{\"mode\": \"markers\", \"name\": \"Black&Scholes model Price\", \"type\": \"scatter3d\", \"x\": [33000.0, 34000.0, 35000.0, 36000.0, 37000.0, 38000.0, 39000.0, 33000.0, 34000.0, 35000.0, 36000.0, 37000.0, 33000.0, 34000.0, 35000.0, 36000.0, 37000.0, 38000.0, 39000.0, 40000.0, 42000.0, 44000.0, 46000.0, 48000.0, 50000.0, 33000.0, 34000.0, 35000.0, 36000.0, 37000.0, 38000.0, 39000.0, 40000.0, 42000.0, 44000.0, 45000.0, 46000.0, 34000.0, 36000.0, 38000.0, 40000.0, 42000.0, 44000.0, 45000.0, 46000.0, 55000.0, 34000.0, 35000.0, 36000.0, 40000.0, 45000.0, 50000.0, 55000.0, 60000.0, 70000.0, 35000.0, 40000.0, 45000.0, 50000.0, 55000.0, 60000.0, 70000.0], \"y\": [0.0008216581027075943, 0.0008216581027075943, 0.0008216581027075943, 0.0008216581027075943, 0.0008216581027075943, 0.0008216581027075943, 0.0008216581027075943, 0.0035613841301048547, 0.0035613841301048547, 0.0035613841301048547, 0.0035613841301048547, 0.0035613841301048547, 0.009040836184899375, 0.009040836184899375, 0.009040836184899375, 0.009040836184899375, 0.009040836184899375, 0.009040836184899375, 0.009040836184899375, 0.009040836184899375, 0.009040836184899375, 0.009040836184899375, 0.009040836184899375, 0.009040836184899375, 0.009040836184899375, 0.028218918376680197, 0.028218918376680197, 0.028218918376680197, 0.028218918376680197, 0.028218918376680197, 0.028218918376680197, 0.028218918376680197, 0.028218918376680197, 0.028218918376680197, 0.028218918376680197, 0.028218918376680197, 0.028218918376680197, 0.047397000568461016, 0.047397000568461016, 0.047397000568461016, 0.047397000568461016, 0.047397000568461016, 0.047397000568461016, 0.047397000568461016, 0.047397000568461016, 0.047397000568461016, 0.10493124714380349, 0.10493124714380349, 0.10493124714380349, 0.10493124714380349, 0.10493124714380349, 0.10493124714380349, 0.10493124714380349, 0.10493124714380349, 0.10493124714380349, 0.18164357591092678, 0.18164357591092678, 0.18164357591092678, 0.18164357591092678, 0.18164357591092678, 0.18164357591092678, 0.18164357591092678], \"z\": [0.022231347013999425, 0.013107049408429994, 0.004407042355465851, 0.002794951875135232, 0.0013932393087113248, 0.0012037175523932908, 0.001090022372418703, 0.03497425609526772, 0.018999182135068793, 0.010370562468091205, 0.005980238444095898, 0.003762344855463229, 0.05658956887495492, 0.03092092099224253, 0.019821317500306357, 0.0203288024766497, 0.008361832870604102, 0.0082814052276452, 0.003956051353923518, 0.004590076449347336, 0.0031321974171543143, 0.004035375781505424, 0.0051083350509110725, 0.010609765639637891, 0.004947892858797681, 0.10696627235256528, 0.058581047799105335, 0.044398474242786534, 0.034236488527626285, 0.026738583018865114, 0.02044686225289727, 0.01568466900882015, 0.0124724536027081, 0.00774036654526522, 0.005033551583086271, 0.003832722231131569, 0.003319834183087317, 0.08266257967310864, 0.05134875161265651, 0.034570034160742225, 0.022542230970720167, 0.015595714478813694, 0.014147708904484801, 0.00921390339762096, 0.008353052359013124, 0.0020751708920745265, 0.14661331442550818, 0.1147181281886347, 0.06070525320604503, 0.07544760797399164, 0.031103485524000885, 0.038051206609599264, 0.012160665347626831, 0.009739838399645373, 0.004066323919744194, 0.18341099967334173, 0.0956306144738388, 0.05810004701549065, 0.03858592846330233, 0.026140515379337925, 0.019151241315136125, 0.011151364935121866]}, {\"mode\": \"markers\", \"name\": \"Real Market Price\", \"type\": \"scatter3d\", \"x\": [33000.0, 34000.0, 35000.0, 36000.0, 37000.0, 38000.0, 39000.0, 33000.0, 34000.0, 35000.0, 36000.0, 37000.0, 33000.0, 34000.0, 35000.0, 36000.0, 37000.0, 38000.0, 39000.0, 40000.0, 42000.0, 44000.0, 46000.0, 48000.0, 50000.0, 33000.0, 34000.0, 35000.0, 36000.0, 37000.0, 38000.0, 39000.0, 40000.0, 42000.0, 44000.0, 45000.0, 46000.0, 34000.0, 36000.0, 38000.0, 40000.0, 42000.0, 44000.0, 45000.0, 46000.0, 55000.0, 34000.0, 35000.0, 36000.0, 40000.0, 45000.0, 50000.0, 55000.0, 60000.0, 70000.0, 35000.0, 40000.0, 45000.0, 50000.0, 55000.0, 60000.0, 70000.0], \"y\": [0.0008216581027075943, 0.0008216581027075943, 0.0008216581027075943, 0.0008216581027075943, 0.0008216581027075943, 0.0008216581027075943, 0.0008216581027075943, 0.0035613841301048547, 0.0035613841301048547, 0.0035613841301048547, 0.0035613841301048547, 0.0035613841301048547, 0.009040836184899375, 0.009040836184899375, 0.009040836184899375, 0.009040836184899375, 0.009040836184899375, 0.009040836184899375, 0.009040836184899375, 0.009040836184899375, 0.009040836184899375, 0.009040836184899375, 0.009040836184899375, 0.009040836184899375, 0.009040836184899375, 0.028218918376680197, 0.028218918376680197, 0.028218918376680197, 0.028218918376680197, 0.028218918376680197, 0.028218918376680197, 0.028218918376680197, 0.028218918376680197, 0.028218918376680197, 0.028218918376680197, 0.028218918376680197, 0.028218918376680197, 0.047397000568461016, 0.047397000568461016, 0.047397000568461016, 0.047397000568461016, 0.047397000568461016, 0.047397000568461016, 0.047397000568461016, 0.047397000568461016, 0.047397000568461016, 0.10493124714380349, 0.10493124714380349, 0.10493124714380349, 0.10493124714380349, 0.10493124714380349, 0.10493124714380349, 0.10493124714380349, 0.10493124714380349, 0.10493124714380349, 0.18164357591092678, 0.18164357591092678, 0.18164357591092678, 0.18164357591092678, 0.18164357591092678, 0.18164357591092678, 0.18164357591092678], \"z\": [0.02163505025652203, 0.013060016199363894, 0.004396822867677168, 0.0027901233543763016, 0.0013912768647281921, 0.0012022471910112357, 0.0010889227642276423, 0.03167656236910446, 0.018712899783491506, 0.010276951921789203, 0.005938926447359586, 0.0037410684277744168, 0.04326489209916176, 0.02984695369753497, 0.019399869769327945, 0.02001870463428253, 0.008250905332923372, 0.00818985956512551, 0.003915799881760396, 0.0045493233736187185, 0.0031086321048705975, 0.004010022271714923, 0.005080769230769231, 0.010561491935483868, 0.0049258526187576125, 0.06783974423196537, 0.05298300994901747, 0.04179728055813395, 0.03272823426573427, 0.02577345900751292, 0.01981386185271781, 0.015252230531762249, 0.012160126050420168, 0.007573409074982853, 0.004937150179085664, 0.0037627432000716205, 0.0032619168389150252, 0.07037026066015016, 0.04775709837217987, 0.032875257759567234, 0.021656065833911872, 0.015071489604273024, 0.013736185755155988, 0.008952480620155037, 0.008128424985838163, 0.0020323558958756215, 0.10455881060558195, 0.09336498313975271, 0.051780783237599694, 0.06974152825144206, 0.02938350928555426, 0.03644702468131272, 0.011685041546757927, 0.009401329337890122, 0.003942589566430626, 0.12939665490080066, 0.08360246463116158, 0.052934221749308875, 0.03580054403031724, 0.024501404646475676, 0.018076270026016705, 0.010614630212560148]}],                        {\"scene\": {\"xaxis\": {\"title\": {\"text\": \"Strike\"}}, \"yaxis\": {\"title\": {\"text\": \"Exp\"}}, \"zaxis\": {\"title\": {\"text\": \"Price\"}}}, \"template\": {\"data\": {\"bar\": [{\"error_x\": {\"color\": \"#2a3f5f\"}, \"error_y\": {\"color\": \"#2a3f5f\"}, \"marker\": {\"line\": {\"color\": \"#E5ECF6\", \"width\": 0.5}}, \"type\": \"bar\"}], \"barpolar\": [{\"marker\": {\"line\": {\"color\": \"#E5ECF6\", \"width\": 0.5}}, \"type\": \"barpolar\"}], \"carpet\": [{\"aaxis\": {\"endlinecolor\": \"#2a3f5f\", \"gridcolor\": \"white\", \"linecolor\": \"white\", \"minorgridcolor\": \"white\", \"startlinecolor\": \"#2a3f5f\"}, \"baxis\": {\"endlinecolor\": \"#2a3f5f\", \"gridcolor\": \"white\", \"linecolor\": \"white\", \"minorgridcolor\": \"white\", \"startlinecolor\": \"#2a3f5f\"}, \"type\": \"carpet\"}], \"choropleth\": [{\"colorbar\": {\"outlinewidth\": 0, \"ticks\": \"\"}, \"type\": \"choropleth\"}], \"contour\": [{\"colorbar\": {\"outlinewidth\": 0, \"ticks\": \"\"}, \"colorscale\": [[0.0, \"#0d0887\"], [0.1111111111111111, \"#46039f\"], [0.2222222222222222, \"#7201a8\"], [0.3333333333333333, \"#9c179e\"], [0.4444444444444444, \"#bd3786\"], [0.5555555555555556, \"#d8576b\"], [0.6666666666666666, \"#ed7953\"], [0.7777777777777778, \"#fb9f3a\"], [0.8888888888888888, \"#fdca26\"], [1.0, \"#f0f921\"]], \"type\": \"contour\"}], \"contourcarpet\": [{\"colorbar\": {\"outlinewidth\": 0, \"ticks\": \"\"}, \"type\": \"contourcarpet\"}], \"heatmap\": [{\"colorbar\": {\"outlinewidth\": 0, \"ticks\": \"\"}, \"colorscale\": [[0.0, \"#0d0887\"], [0.1111111111111111, \"#46039f\"], [0.2222222222222222, \"#7201a8\"], [0.3333333333333333, \"#9c179e\"], [0.4444444444444444, \"#bd3786\"], [0.5555555555555556, \"#d8576b\"], [0.6666666666666666, \"#ed7953\"], [0.7777777777777778, \"#fb9f3a\"], [0.8888888888888888, \"#fdca26\"], [1.0, \"#f0f921\"]], \"type\": \"heatmap\"}], \"heatmapgl\": [{\"colorbar\": {\"outlinewidth\": 0, \"ticks\": \"\"}, \"colorscale\": [[0.0, \"#0d0887\"], [0.1111111111111111, \"#46039f\"], [0.2222222222222222, \"#7201a8\"], [0.3333333333333333, \"#9c179e\"], [0.4444444444444444, \"#bd3786\"], [0.5555555555555556, \"#d8576b\"], [0.6666666666666666, \"#ed7953\"], [0.7777777777777778, \"#fb9f3a\"], [0.8888888888888888, \"#fdca26\"], [1.0, \"#f0f921\"]], \"type\": \"heatmapgl\"}], \"histogram\": [{\"marker\": {\"colorbar\": {\"outlinewidth\": 0, \"ticks\": \"\"}}, \"type\": \"histogram\"}], \"histogram2d\": [{\"colorbar\": {\"outlinewidth\": 0, \"ticks\": \"\"}, \"colorscale\": [[0.0, \"#0d0887\"], [0.1111111111111111, \"#46039f\"], [0.2222222222222222, \"#7201a8\"], [0.3333333333333333, \"#9c179e\"], [0.4444444444444444, \"#bd3786\"], [0.5555555555555556, \"#d8576b\"], [0.6666666666666666, \"#ed7953\"], [0.7777777777777778, \"#fb9f3a\"], [0.8888888888888888, \"#fdca26\"], [1.0, \"#f0f921\"]], \"type\": \"histogram2d\"}], \"histogram2dcontour\": [{\"colorbar\": {\"outlinewidth\": 0, \"ticks\": \"\"}, \"colorscale\": [[0.0, \"#0d0887\"], [0.1111111111111111, \"#46039f\"], [0.2222222222222222, \"#7201a8\"], [0.3333333333333333, \"#9c179e\"], [0.4444444444444444, \"#bd3786\"], [0.5555555555555556, \"#d8576b\"], [0.6666666666666666, \"#ed7953\"], [0.7777777777777778, \"#fb9f3a\"], [0.8888888888888888, \"#fdca26\"], [1.0, \"#f0f921\"]], \"type\": \"histogram2dcontour\"}], \"mesh3d\": [{\"colorbar\": {\"outlinewidth\": 0, \"ticks\": \"\"}, \"type\": \"mesh3d\"}], \"parcoords\": [{\"line\": {\"colorbar\": {\"outlinewidth\": 0, \"ticks\": \"\"}}, \"type\": \"parcoords\"}], \"pie\": [{\"automargin\": true, \"type\": \"pie\"}], \"scatter\": [{\"marker\": {\"colorbar\": {\"outlinewidth\": 0, \"ticks\": \"\"}}, \"type\": \"scatter\"}], \"scatter3d\": [{\"line\": {\"colorbar\": {\"outlinewidth\": 0, \"ticks\": \"\"}}, \"marker\": {\"colorbar\": {\"outlinewidth\": 0, \"ticks\": \"\"}}, \"type\": \"scatter3d\"}], \"scattercarpet\": [{\"marker\": {\"colorbar\": {\"outlinewidth\": 0, \"ticks\": \"\"}}, \"type\": \"scattercarpet\"}], \"scattergeo\": [{\"marker\": {\"colorbar\": {\"outlinewidth\": 0, \"ticks\": \"\"}}, \"type\": \"scattergeo\"}], \"scattergl\": [{\"marker\": {\"colorbar\": {\"outlinewidth\": 0, \"ticks\": \"\"}}, \"type\": \"scattergl\"}], \"scattermapbox\": [{\"marker\": {\"colorbar\": {\"outlinewidth\": 0, \"ticks\": \"\"}}, \"type\": \"scattermapbox\"}], \"scatterpolar\": [{\"marker\": {\"colorbar\": {\"outlinewidth\": 0, \"ticks\": \"\"}}, \"type\": \"scatterpolar\"}], \"scatterpolargl\": [{\"marker\": {\"colorbar\": {\"outlinewidth\": 0, \"ticks\": \"\"}}, \"type\": \"scatterpolargl\"}], \"scatterternary\": [{\"marker\": {\"colorbar\": {\"outlinewidth\": 0, \"ticks\": \"\"}}, \"type\": \"scatterternary\"}], \"surface\": [{\"colorbar\": {\"outlinewidth\": 0, \"ticks\": \"\"}, \"colorscale\": [[0.0, \"#0d0887\"], [0.1111111111111111, \"#46039f\"], [0.2222222222222222, \"#7201a8\"], [0.3333333333333333, \"#9c179e\"], [0.4444444444444444, \"#bd3786\"], [0.5555555555555556, \"#d8576b\"], [0.6666666666666666, \"#ed7953\"], [0.7777777777777778, \"#fb9f3a\"], [0.8888888888888888, \"#fdca26\"], [1.0, \"#f0f921\"]], \"type\": \"surface\"}], \"table\": [{\"cells\": {\"fill\": {\"color\": \"#EBF0F8\"}, \"line\": {\"color\": \"white\"}}, \"header\": {\"fill\": {\"color\": \"#C8D4E3\"}, \"line\": {\"color\": \"white\"}}, \"type\": \"table\"}]}, \"layout\": {\"annotationdefaults\": {\"arrowcolor\": \"#2a3f5f\", \"arrowhead\": 0, \"arrowwidth\": 1}, \"autotypenumbers\": \"strict\", \"coloraxis\": {\"colorbar\": {\"outlinewidth\": 0, \"ticks\": \"\"}}, \"colorscale\": {\"diverging\": [[0, \"#8e0152\"], [0.1, \"#c51b7d\"], [0.2, \"#de77ae\"], [0.3, \"#f1b6da\"], [0.4, \"#fde0ef\"], [0.5, \"#f7f7f7\"], [0.6, \"#e6f5d0\"], [0.7, \"#b8e186\"], [0.8, \"#7fbc41\"], [0.9, \"#4d9221\"], [1, \"#276419\"]], \"sequential\": [[0.0, \"#0d0887\"], [0.1111111111111111, \"#46039f\"], [0.2222222222222222, \"#7201a8\"], [0.3333333333333333, \"#9c179e\"], [0.4444444444444444, \"#bd3786\"], [0.5555555555555556, \"#d8576b\"], [0.6666666666666666, \"#ed7953\"], [0.7777777777777778, \"#fb9f3a\"], [0.8888888888888888, \"#fdca26\"], [1.0, \"#f0f921\"]], \"sequentialminus\": [[0.0, \"#0d0887\"], [0.1111111111111111, \"#46039f\"], [0.2222222222222222, \"#7201a8\"], [0.3333333333333333, \"#9c179e\"], [0.4444444444444444, \"#bd3786\"], [0.5555555555555556, \"#d8576b\"], [0.6666666666666666, \"#ed7953\"], [0.7777777777777778, \"#fb9f3a\"], [0.8888888888888888, \"#fdca26\"], [1.0, \"#f0f921\"]]}, \"colorway\": [\"#636efa\", \"#EF553B\", \"#00cc96\", \"#ab63fa\", \"#FFA15A\", \"#19d3f3\", \"#FF6692\", \"#B6E880\", \"#FF97FF\", \"#FECB52\"], \"font\": {\"color\": \"#2a3f5f\"}, \"geo\": {\"bgcolor\": \"white\", \"lakecolor\": \"white\", \"landcolor\": \"#E5ECF6\", \"showlakes\": true, \"showland\": true, \"subunitcolor\": \"white\"}, \"hoverlabel\": {\"align\": \"left\"}, \"hovermode\": \"closest\", \"mapbox\": {\"style\": \"light\"}, \"paper_bgcolor\": \"white\", \"plot_bgcolor\": \"#E5ECF6\", \"polar\": {\"angularaxis\": {\"gridcolor\": \"white\", \"linecolor\": \"white\", \"ticks\": \"\"}, \"bgcolor\": \"#E5ECF6\", \"radialaxis\": {\"gridcolor\": \"white\", \"linecolor\": \"white\", \"ticks\": \"\"}}, \"scene\": {\"xaxis\": {\"backgroundcolor\": \"#E5ECF6\", \"gridcolor\": \"white\", \"gridwidth\": 2, \"linecolor\": \"white\", \"showbackground\": true, \"ticks\": \"\", \"zerolinecolor\": \"white\"}, \"yaxis\": {\"backgroundcolor\": \"#E5ECF6\", \"gridcolor\": \"white\", \"gridwidth\": 2, \"linecolor\": \"white\", \"showbackground\": true, \"ticks\": \"\", \"zerolinecolor\": \"white\"}, \"zaxis\": {\"backgroundcolor\": \"#E5ECF6\", \"gridcolor\": \"white\", \"gridwidth\": 2, \"linecolor\": \"white\", \"showbackground\": true, \"ticks\": \"\", \"zerolinecolor\": \"white\"}}, \"shapedefaults\": {\"line\": {\"color\": \"#2a3f5f\"}}, \"ternary\": {\"aaxis\": {\"gridcolor\": \"white\", \"linecolor\": \"white\", \"ticks\": \"\"}, \"baxis\": {\"gridcolor\": \"white\", \"linecolor\": \"white\", \"ticks\": \"\"}, \"bgcolor\": \"#E5ECF6\", \"caxis\": {\"gridcolor\": \"white\", \"linecolor\": \"white\", \"ticks\": \"\"}}, \"title\": {\"x\": 0.05}, \"xaxis\": {\"automargin\": true, \"gridcolor\": \"white\", \"linecolor\": \"white\", \"ticks\": \"\", \"title\": {\"standoff\": 15}, \"zerolinecolor\": \"white\", \"zerolinewidth\": 2}, \"yaxis\": {\"automargin\": true, \"gridcolor\": \"white\", \"linecolor\": \"white\", \"ticks\": \"\", \"title\": {\"standoff\": 15}, \"zerolinecolor\": \"white\", \"zerolinewidth\": 2}}}},                        {\"responsive\": true}                    ).then(function(){\n",
       "                            \n",
       "var gd = document.getElementById('8889cf17-eee0-497f-9d3a-1a91d00deb0a');\n",
       "var x = new MutationObserver(function (mutations, observer) {{\n",
       "        var display = window.getComputedStyle(gd).display;\n",
       "        if (!display || display === 'none') {{\n",
       "            console.log([gd, 'removed!']);\n",
       "            Plotly.purge(gd);\n",
       "            observer.disconnect();\n",
       "        }}\n",
       "}});\n",
       "\n",
       "// Listen for the removal of the full notebook cells\n",
       "var notebookContainer = gd.closest('#notebook-container');\n",
       "if (notebookContainer) {{\n",
       "    x.observe(notebookContainer, {childList: true});\n",
       "}}\n",
       "\n",
       "// Listen for the clearing of the current output cell\n",
       "var outputEl = gd.closest('.output');\n",
       "if (outputEl) {{\n",
       "    x.observe(outputEl, {childList: true});\n",
       "}}\n",
       "\n",
       "                        })                };                });            </script>        </div>"
      ]
     },
     "metadata": {},
     "output_type": "display_data"
    }
   ],
   "source": [
    "import plotly.graph_objects as go\n",
    "\n",
    "x = option.df['K']\n",
    "y = option.df['_T']\n",
    "z = option.df['BS_PRICE']\n",
    "z2 = option.df['mid']\n",
    "\n",
    "\"\"\"\n",
    "fig = go.Figure(data=[go.Scatter3d(x=x, y=y, z=z , mode='markers', name='BS price')])\n",
    "\"\"\"\n",
    "fig = go.Figure(data=[go.Scatter3d(x=x, y=y, z=z , mode='markers', name='Black&Scholes model Price'),\n",
    "                      go.Scatter3d(x=x, y=y, z=z2, mode='markers', name='Real Market Price')])\n",
    "\n",
    "\n",
    "fig.update_scenes(xaxis_title_text='Strike', yaxis_title_text='Exp', zaxis_title_text='Price') \n",
    "fig.show()"
   ]
  },
  {
   "cell_type": "code",
   "execution_count": 29,
   "metadata": {},
   "outputs": [
    {
     "name": "stdout",
     "output_type": "stream",
     "text": [
      "Root Mean Squared Error = 1.091%\n"
     ]
    }
   ],
   "source": [
    "rms = mean_squared_error(option.df['BS_PRICE'], option.df['mid'], squared=False)\n",
    "print('Root Mean Squared Error = {}%'.format(round(rms*100,3)))"
   ]
  },
  {
   "cell_type": "code",
   "execution_count": 30,
   "metadata": {},
   "outputs": [],
   "source": [
    "option.init_merton(m = 0.4, lam =1, v = 0.3,  )"
   ]
  },
  {
   "cell_type": "code",
   "execution_count": 31,
   "metadata": {},
   "outputs": [],
   "source": [
    "option.append_Merton_price()"
   ]
  },
  {
   "cell_type": "code",
   "execution_count": 32,
   "metadata": {},
   "outputs": [],
   "source": [
    "option.df.dropna(inplace=True)\n",
    "#option.df = option.df.drop(option.df[option.df.MERTON_PRICE >= .2].index)"
   ]
  },
  {
   "cell_type": "code",
   "execution_count": 33,
   "metadata": {},
   "outputs": [
    {
     "name": "stdout",
     "output_type": "stream",
     "text": [
      "Calibrated Jump Mean =  1.0352256226434133\n",
      "Calibrated Jump Std =  1.0068365141530089e-05\n",
      "Calibrated intensity =  0.0\n"
     ]
    }
   ],
   "source": [
    "option.optimize_merton()"
   ]
  },
  {
   "cell_type": "code",
   "execution_count": 36,
   "metadata": {},
   "outputs": [
    {
     "data": {
      "application/vnd.plotly.v1+json": {
       "config": {
        "plotlyServerURL": "https://plot.ly"
       },
       "data": [
        {
         "mode": "markers",
         "name": "Black&Scholes model Price",
         "type": "scatter3d",
         "x": [
          33000,
          34000,
          35000,
          36000,
          37000,
          38000,
          39000,
          33000,
          34000,
          35000,
          36000,
          37000,
          33000,
          34000,
          35000,
          36000,
          37000,
          38000,
          39000,
          40000,
          42000,
          44000,
          46000,
          48000,
          50000,
          33000,
          34000,
          35000,
          36000,
          37000,
          38000,
          39000,
          40000,
          42000,
          44000,
          45000,
          46000,
          34000,
          36000,
          38000,
          40000,
          42000,
          44000,
          45000,
          46000,
          55000,
          34000,
          35000,
          36000,
          40000,
          45000,
          50000,
          55000,
          60000,
          70000,
          35000,
          40000,
          45000,
          50000,
          55000,
          60000,
          70000
         ],
         "y": [
          0.0008216581027075943,
          0.0008216581027075943,
          0.0008216581027075943,
          0.0008216581027075943,
          0.0008216581027075943,
          0.0008216581027075943,
          0.0008216581027075943,
          0.0035613841301048547,
          0.0035613841301048547,
          0.0035613841301048547,
          0.0035613841301048547,
          0.0035613841301048547,
          0.009040836184899375,
          0.009040836184899375,
          0.009040836184899375,
          0.009040836184899375,
          0.009040836184899375,
          0.009040836184899375,
          0.009040836184899375,
          0.009040836184899375,
          0.009040836184899375,
          0.009040836184899375,
          0.009040836184899375,
          0.009040836184899375,
          0.009040836184899375,
          0.028218918376680197,
          0.028218918376680197,
          0.028218918376680197,
          0.028218918376680197,
          0.028218918376680197,
          0.028218918376680197,
          0.028218918376680197,
          0.028218918376680197,
          0.028218918376680197,
          0.028218918376680197,
          0.028218918376680197,
          0.028218918376680197,
          0.047397000568461016,
          0.047397000568461016,
          0.047397000568461016,
          0.047397000568461016,
          0.047397000568461016,
          0.047397000568461016,
          0.047397000568461016,
          0.047397000568461016,
          0.047397000568461016,
          0.10493124714380349,
          0.10493124714380349,
          0.10493124714380349,
          0.10493124714380349,
          0.10493124714380349,
          0.10493124714380349,
          0.10493124714380349,
          0.10493124714380349,
          0.10493124714380349,
          0.18164357591092678,
          0.18164357591092678,
          0.18164357591092678,
          0.18164357591092678,
          0.18164357591092678,
          0.18164357591092678,
          0.18164357591092678
         ],
         "z": [
          0.022231347013999425,
          0.013107049408429994,
          0.004407042355465851,
          0.002794951875135232,
          0.0013932393087113248,
          0.0012037175523932908,
          0.001090022372418703,
          0.03497425609526772,
          0.018999182135068793,
          0.010370562468091205,
          0.005980238444095898,
          0.003762344855463229,
          0.05658956887495492,
          0.03092092099224253,
          0.019821317500306357,
          0.0203288024766497,
          0.008361832870604102,
          0.0082814052276452,
          0.003956051353923518,
          0.004590076449347336,
          0.0031321974171543143,
          0.004035375781505424,
          0.0051083350509110725,
          0.010609765639637891,
          0.004947892858797681,
          0.10696627235256528,
          0.058581047799105335,
          0.044398474242786534,
          0.034236488527626285,
          0.026738583018865114,
          0.02044686225289727,
          0.01568466900882015,
          0.0124724536027081,
          0.00774036654526522,
          0.005033551583086271,
          0.003832722231131569,
          0.003319834183087317,
          0.08266257967310864,
          0.05134875161265651,
          0.034570034160742225,
          0.022542230970720167,
          0.015595714478813694,
          0.014147708904484801,
          0.00921390339762096,
          0.008353052359013124,
          0.0020751708920745265,
          0.14661331442550818,
          0.1147181281886347,
          0.06070525320604503,
          0.07544760797399164,
          0.031103485524000885,
          0.038051206609599264,
          0.012160665347626831,
          0.009739838399645373,
          0.004066323919744194,
          0.18341099967334173,
          0.0956306144738388,
          0.05810004701549065,
          0.03858592846330233,
          0.026140515379337925,
          0.019151241315136125,
          0.011151364935121866
         ]
        },
        {
         "mode": "markers",
         "name": "Real Market Price",
         "type": "scatter3d",
         "x": [
          33000,
          34000,
          35000,
          36000,
          37000,
          38000,
          39000,
          33000,
          34000,
          35000,
          36000,
          37000,
          33000,
          34000,
          35000,
          36000,
          37000,
          38000,
          39000,
          40000,
          42000,
          44000,
          46000,
          48000,
          50000,
          33000,
          34000,
          35000,
          36000,
          37000,
          38000,
          39000,
          40000,
          42000,
          44000,
          45000,
          46000,
          34000,
          36000,
          38000,
          40000,
          42000,
          44000,
          45000,
          46000,
          55000,
          34000,
          35000,
          36000,
          40000,
          45000,
          50000,
          55000,
          60000,
          70000,
          35000,
          40000,
          45000,
          50000,
          55000,
          60000,
          70000
         ],
         "y": [
          0.0008216581027075943,
          0.0008216581027075943,
          0.0008216581027075943,
          0.0008216581027075943,
          0.0008216581027075943,
          0.0008216581027075943,
          0.0008216581027075943,
          0.0035613841301048547,
          0.0035613841301048547,
          0.0035613841301048547,
          0.0035613841301048547,
          0.0035613841301048547,
          0.009040836184899375,
          0.009040836184899375,
          0.009040836184899375,
          0.009040836184899375,
          0.009040836184899375,
          0.009040836184899375,
          0.009040836184899375,
          0.009040836184899375,
          0.009040836184899375,
          0.009040836184899375,
          0.009040836184899375,
          0.009040836184899375,
          0.009040836184899375,
          0.028218918376680197,
          0.028218918376680197,
          0.028218918376680197,
          0.028218918376680197,
          0.028218918376680197,
          0.028218918376680197,
          0.028218918376680197,
          0.028218918376680197,
          0.028218918376680197,
          0.028218918376680197,
          0.028218918376680197,
          0.028218918376680197,
          0.047397000568461016,
          0.047397000568461016,
          0.047397000568461016,
          0.047397000568461016,
          0.047397000568461016,
          0.047397000568461016,
          0.047397000568461016,
          0.047397000568461016,
          0.047397000568461016,
          0.10493124714380349,
          0.10493124714380349,
          0.10493124714380349,
          0.10493124714380349,
          0.10493124714380349,
          0.10493124714380349,
          0.10493124714380349,
          0.10493124714380349,
          0.10493124714380349,
          0.18164357591092678,
          0.18164357591092678,
          0.18164357591092678,
          0.18164357591092678,
          0.18164357591092678,
          0.18164357591092678,
          0.18164357591092678
         ],
         "z": [
          0.02163505025652203,
          0.013060016199363894,
          0.004396822867677168,
          0.0027901233543763016,
          0.0013912768647281921,
          0.0012022471910112357,
          0.0010889227642276423,
          0.03167656236910446,
          0.018712899783491506,
          0.010276951921789203,
          0.005938926447359586,
          0.0037410684277744168,
          0.04326489209916176,
          0.02984695369753497,
          0.019399869769327945,
          0.02001870463428253,
          0.008250905332923372,
          0.00818985956512551,
          0.003915799881760396,
          0.0045493233736187185,
          0.0031086321048705975,
          0.004010022271714923,
          0.005080769230769231,
          0.010561491935483868,
          0.0049258526187576125,
          0.06783974423196537,
          0.05298300994901747,
          0.04179728055813395,
          0.03272823426573427,
          0.02577345900751292,
          0.01981386185271781,
          0.015252230531762249,
          0.012160126050420168,
          0.007573409074982853,
          0.004937150179085664,
          0.0037627432000716205,
          0.0032619168389150252,
          0.07037026066015016,
          0.04775709837217987,
          0.032875257759567234,
          0.021656065833911872,
          0.015071489604273024,
          0.013736185755155988,
          0.008952480620155037,
          0.008128424985838163,
          0.0020323558958756215,
          0.10455881060558195,
          0.09336498313975271,
          0.051780783237599694,
          0.06974152825144206,
          0.02938350928555426,
          0.03644702468131272,
          0.011685041546757927,
          0.009401329337890122,
          0.003942589566430626,
          0.12939665490080066,
          0.08360246463116158,
          0.052934221749308875,
          0.03580054403031724,
          0.024501404646475676,
          0.018076270026016705,
          0.010614630212560148
         ]
        }
       ],
       "layout": {
        "scene": {
         "xaxis": {
          "title": {
           "text": "Strike"
          }
         },
         "yaxis": {
          "title": {
           "text": "Exp"
          }
         },
         "zaxis": {
          "title": {
           "text": "Price"
          }
         }
        },
        "template": {
         "data": {
          "bar": [
           {
            "error_x": {
             "color": "#2a3f5f"
            },
            "error_y": {
             "color": "#2a3f5f"
            },
            "marker": {
             "line": {
              "color": "#E5ECF6",
              "width": 0.5
             }
            },
            "type": "bar"
           }
          ],
          "barpolar": [
           {
            "marker": {
             "line": {
              "color": "#E5ECF6",
              "width": 0.5
             }
            },
            "type": "barpolar"
           }
          ],
          "carpet": [
           {
            "aaxis": {
             "endlinecolor": "#2a3f5f",
             "gridcolor": "white",
             "linecolor": "white",
             "minorgridcolor": "white",
             "startlinecolor": "#2a3f5f"
            },
            "baxis": {
             "endlinecolor": "#2a3f5f",
             "gridcolor": "white",
             "linecolor": "white",
             "minorgridcolor": "white",
             "startlinecolor": "#2a3f5f"
            },
            "type": "carpet"
           }
          ],
          "choropleth": [
           {
            "colorbar": {
             "outlinewidth": 0,
             "ticks": ""
            },
            "type": "choropleth"
           }
          ],
          "contour": [
           {
            "colorbar": {
             "outlinewidth": 0,
             "ticks": ""
            },
            "colorscale": [
             [
              0,
              "#0d0887"
             ],
             [
              0.1111111111111111,
              "#46039f"
             ],
             [
              0.2222222222222222,
              "#7201a8"
             ],
             [
              0.3333333333333333,
              "#9c179e"
             ],
             [
              0.4444444444444444,
              "#bd3786"
             ],
             [
              0.5555555555555556,
              "#d8576b"
             ],
             [
              0.6666666666666666,
              "#ed7953"
             ],
             [
              0.7777777777777778,
              "#fb9f3a"
             ],
             [
              0.8888888888888888,
              "#fdca26"
             ],
             [
              1,
              "#f0f921"
             ]
            ],
            "type": "contour"
           }
          ],
          "contourcarpet": [
           {
            "colorbar": {
             "outlinewidth": 0,
             "ticks": ""
            },
            "type": "contourcarpet"
           }
          ],
          "heatmap": [
           {
            "colorbar": {
             "outlinewidth": 0,
             "ticks": ""
            },
            "colorscale": [
             [
              0,
              "#0d0887"
             ],
             [
              0.1111111111111111,
              "#46039f"
             ],
             [
              0.2222222222222222,
              "#7201a8"
             ],
             [
              0.3333333333333333,
              "#9c179e"
             ],
             [
              0.4444444444444444,
              "#bd3786"
             ],
             [
              0.5555555555555556,
              "#d8576b"
             ],
             [
              0.6666666666666666,
              "#ed7953"
             ],
             [
              0.7777777777777778,
              "#fb9f3a"
             ],
             [
              0.8888888888888888,
              "#fdca26"
             ],
             [
              1,
              "#f0f921"
             ]
            ],
            "type": "heatmap"
           }
          ],
          "heatmapgl": [
           {
            "colorbar": {
             "outlinewidth": 0,
             "ticks": ""
            },
            "colorscale": [
             [
              0,
              "#0d0887"
             ],
             [
              0.1111111111111111,
              "#46039f"
             ],
             [
              0.2222222222222222,
              "#7201a8"
             ],
             [
              0.3333333333333333,
              "#9c179e"
             ],
             [
              0.4444444444444444,
              "#bd3786"
             ],
             [
              0.5555555555555556,
              "#d8576b"
             ],
             [
              0.6666666666666666,
              "#ed7953"
             ],
             [
              0.7777777777777778,
              "#fb9f3a"
             ],
             [
              0.8888888888888888,
              "#fdca26"
             ],
             [
              1,
              "#f0f921"
             ]
            ],
            "type": "heatmapgl"
           }
          ],
          "histogram": [
           {
            "marker": {
             "colorbar": {
              "outlinewidth": 0,
              "ticks": ""
             }
            },
            "type": "histogram"
           }
          ],
          "histogram2d": [
           {
            "colorbar": {
             "outlinewidth": 0,
             "ticks": ""
            },
            "colorscale": [
             [
              0,
              "#0d0887"
             ],
             [
              0.1111111111111111,
              "#46039f"
             ],
             [
              0.2222222222222222,
              "#7201a8"
             ],
             [
              0.3333333333333333,
              "#9c179e"
             ],
             [
              0.4444444444444444,
              "#bd3786"
             ],
             [
              0.5555555555555556,
              "#d8576b"
             ],
             [
              0.6666666666666666,
              "#ed7953"
             ],
             [
              0.7777777777777778,
              "#fb9f3a"
             ],
             [
              0.8888888888888888,
              "#fdca26"
             ],
             [
              1,
              "#f0f921"
             ]
            ],
            "type": "histogram2d"
           }
          ],
          "histogram2dcontour": [
           {
            "colorbar": {
             "outlinewidth": 0,
             "ticks": ""
            },
            "colorscale": [
             [
              0,
              "#0d0887"
             ],
             [
              0.1111111111111111,
              "#46039f"
             ],
             [
              0.2222222222222222,
              "#7201a8"
             ],
             [
              0.3333333333333333,
              "#9c179e"
             ],
             [
              0.4444444444444444,
              "#bd3786"
             ],
             [
              0.5555555555555556,
              "#d8576b"
             ],
             [
              0.6666666666666666,
              "#ed7953"
             ],
             [
              0.7777777777777778,
              "#fb9f3a"
             ],
             [
              0.8888888888888888,
              "#fdca26"
             ],
             [
              1,
              "#f0f921"
             ]
            ],
            "type": "histogram2dcontour"
           }
          ],
          "mesh3d": [
           {
            "colorbar": {
             "outlinewidth": 0,
             "ticks": ""
            },
            "type": "mesh3d"
           }
          ],
          "parcoords": [
           {
            "line": {
             "colorbar": {
              "outlinewidth": 0,
              "ticks": ""
             }
            },
            "type": "parcoords"
           }
          ],
          "pie": [
           {
            "automargin": true,
            "type": "pie"
           }
          ],
          "scatter": [
           {
            "marker": {
             "colorbar": {
              "outlinewidth": 0,
              "ticks": ""
             }
            },
            "type": "scatter"
           }
          ],
          "scatter3d": [
           {
            "line": {
             "colorbar": {
              "outlinewidth": 0,
              "ticks": ""
             }
            },
            "marker": {
             "colorbar": {
              "outlinewidth": 0,
              "ticks": ""
             }
            },
            "type": "scatter3d"
           }
          ],
          "scattercarpet": [
           {
            "marker": {
             "colorbar": {
              "outlinewidth": 0,
              "ticks": ""
             }
            },
            "type": "scattercarpet"
           }
          ],
          "scattergeo": [
           {
            "marker": {
             "colorbar": {
              "outlinewidth": 0,
              "ticks": ""
             }
            },
            "type": "scattergeo"
           }
          ],
          "scattergl": [
           {
            "marker": {
             "colorbar": {
              "outlinewidth": 0,
              "ticks": ""
             }
            },
            "type": "scattergl"
           }
          ],
          "scattermapbox": [
           {
            "marker": {
             "colorbar": {
              "outlinewidth": 0,
              "ticks": ""
             }
            },
            "type": "scattermapbox"
           }
          ],
          "scatterpolar": [
           {
            "marker": {
             "colorbar": {
              "outlinewidth": 0,
              "ticks": ""
             }
            },
            "type": "scatterpolar"
           }
          ],
          "scatterpolargl": [
           {
            "marker": {
             "colorbar": {
              "outlinewidth": 0,
              "ticks": ""
             }
            },
            "type": "scatterpolargl"
           }
          ],
          "scatterternary": [
           {
            "marker": {
             "colorbar": {
              "outlinewidth": 0,
              "ticks": ""
             }
            },
            "type": "scatterternary"
           }
          ],
          "surface": [
           {
            "colorbar": {
             "outlinewidth": 0,
             "ticks": ""
            },
            "colorscale": [
             [
              0,
              "#0d0887"
             ],
             [
              0.1111111111111111,
              "#46039f"
             ],
             [
              0.2222222222222222,
              "#7201a8"
             ],
             [
              0.3333333333333333,
              "#9c179e"
             ],
             [
              0.4444444444444444,
              "#bd3786"
             ],
             [
              0.5555555555555556,
              "#d8576b"
             ],
             [
              0.6666666666666666,
              "#ed7953"
             ],
             [
              0.7777777777777778,
              "#fb9f3a"
             ],
             [
              0.8888888888888888,
              "#fdca26"
             ],
             [
              1,
              "#f0f921"
             ]
            ],
            "type": "surface"
           }
          ],
          "table": [
           {
            "cells": {
             "fill": {
              "color": "#EBF0F8"
             },
             "line": {
              "color": "white"
             }
            },
            "header": {
             "fill": {
              "color": "#C8D4E3"
             },
             "line": {
              "color": "white"
             }
            },
            "type": "table"
           }
          ]
         },
         "layout": {
          "annotationdefaults": {
           "arrowcolor": "#2a3f5f",
           "arrowhead": 0,
           "arrowwidth": 1
          },
          "autotypenumbers": "strict",
          "coloraxis": {
           "colorbar": {
            "outlinewidth": 0,
            "ticks": ""
           }
          },
          "colorscale": {
           "diverging": [
            [
             0,
             "#8e0152"
            ],
            [
             0.1,
             "#c51b7d"
            ],
            [
             0.2,
             "#de77ae"
            ],
            [
             0.3,
             "#f1b6da"
            ],
            [
             0.4,
             "#fde0ef"
            ],
            [
             0.5,
             "#f7f7f7"
            ],
            [
             0.6,
             "#e6f5d0"
            ],
            [
             0.7,
             "#b8e186"
            ],
            [
             0.8,
             "#7fbc41"
            ],
            [
             0.9,
             "#4d9221"
            ],
            [
             1,
             "#276419"
            ]
           ],
           "sequential": [
            [
             0,
             "#0d0887"
            ],
            [
             0.1111111111111111,
             "#46039f"
            ],
            [
             0.2222222222222222,
             "#7201a8"
            ],
            [
             0.3333333333333333,
             "#9c179e"
            ],
            [
             0.4444444444444444,
             "#bd3786"
            ],
            [
             0.5555555555555556,
             "#d8576b"
            ],
            [
             0.6666666666666666,
             "#ed7953"
            ],
            [
             0.7777777777777778,
             "#fb9f3a"
            ],
            [
             0.8888888888888888,
             "#fdca26"
            ],
            [
             1,
             "#f0f921"
            ]
           ],
           "sequentialminus": [
            [
             0,
             "#0d0887"
            ],
            [
             0.1111111111111111,
             "#46039f"
            ],
            [
             0.2222222222222222,
             "#7201a8"
            ],
            [
             0.3333333333333333,
             "#9c179e"
            ],
            [
             0.4444444444444444,
             "#bd3786"
            ],
            [
             0.5555555555555556,
             "#d8576b"
            ],
            [
             0.6666666666666666,
             "#ed7953"
            ],
            [
             0.7777777777777778,
             "#fb9f3a"
            ],
            [
             0.8888888888888888,
             "#fdca26"
            ],
            [
             1,
             "#f0f921"
            ]
           ]
          },
          "colorway": [
           "#636efa",
           "#EF553B",
           "#00cc96",
           "#ab63fa",
           "#FFA15A",
           "#19d3f3",
           "#FF6692",
           "#B6E880",
           "#FF97FF",
           "#FECB52"
          ],
          "font": {
           "color": "#2a3f5f"
          },
          "geo": {
           "bgcolor": "white",
           "lakecolor": "white",
           "landcolor": "#E5ECF6",
           "showlakes": true,
           "showland": true,
           "subunitcolor": "white"
          },
          "hoverlabel": {
           "align": "left"
          },
          "hovermode": "closest",
          "mapbox": {
           "style": "light"
          },
          "paper_bgcolor": "white",
          "plot_bgcolor": "#E5ECF6",
          "polar": {
           "angularaxis": {
            "gridcolor": "white",
            "linecolor": "white",
            "ticks": ""
           },
           "bgcolor": "#E5ECF6",
           "radialaxis": {
            "gridcolor": "white",
            "linecolor": "white",
            "ticks": ""
           }
          },
          "scene": {
           "xaxis": {
            "backgroundcolor": "#E5ECF6",
            "gridcolor": "white",
            "gridwidth": 2,
            "linecolor": "white",
            "showbackground": true,
            "ticks": "",
            "zerolinecolor": "white"
           },
           "yaxis": {
            "backgroundcolor": "#E5ECF6",
            "gridcolor": "white",
            "gridwidth": 2,
            "linecolor": "white",
            "showbackground": true,
            "ticks": "",
            "zerolinecolor": "white"
           },
           "zaxis": {
            "backgroundcolor": "#E5ECF6",
            "gridcolor": "white",
            "gridwidth": 2,
            "linecolor": "white",
            "showbackground": true,
            "ticks": "",
            "zerolinecolor": "white"
           }
          },
          "shapedefaults": {
           "line": {
            "color": "#2a3f5f"
           }
          },
          "ternary": {
           "aaxis": {
            "gridcolor": "white",
            "linecolor": "white",
            "ticks": ""
           },
           "baxis": {
            "gridcolor": "white",
            "linecolor": "white",
            "ticks": ""
           },
           "bgcolor": "#E5ECF6",
           "caxis": {
            "gridcolor": "white",
            "linecolor": "white",
            "ticks": ""
           }
          },
          "title": {
           "x": 0.05
          },
          "xaxis": {
           "automargin": true,
           "gridcolor": "white",
           "linecolor": "white",
           "ticks": "",
           "title": {
            "standoff": 15
           },
           "zerolinecolor": "white",
           "zerolinewidth": 2
          },
          "yaxis": {
           "automargin": true,
           "gridcolor": "white",
           "linecolor": "white",
           "ticks": "",
           "title": {
            "standoff": 15
           },
           "zerolinecolor": "white",
           "zerolinewidth": 2
          }
         }
        }
       }
      },
      "text/html": [
       "<div>                            <div id=\"a30c65d8-3e81-4590-b638-f5b4acbfc824\" class=\"plotly-graph-div\" style=\"height:525px; width:100%;\"></div>            <script type=\"text/javascript\">                require([\"plotly\"], function(Plotly) {                    window.PLOTLYENV=window.PLOTLYENV || {};                                    if (document.getElementById(\"a30c65d8-3e81-4590-b638-f5b4acbfc824\")) {                    Plotly.newPlot(                        \"a30c65d8-3e81-4590-b638-f5b4acbfc824\",                        [{\"mode\": \"markers\", \"name\": \"Black&Scholes model Price\", \"type\": \"scatter3d\", \"x\": [33000.0, 34000.0, 35000.0, 36000.0, 37000.0, 38000.0, 39000.0, 33000.0, 34000.0, 35000.0, 36000.0, 37000.0, 33000.0, 34000.0, 35000.0, 36000.0, 37000.0, 38000.0, 39000.0, 40000.0, 42000.0, 44000.0, 46000.0, 48000.0, 50000.0, 33000.0, 34000.0, 35000.0, 36000.0, 37000.0, 38000.0, 39000.0, 40000.0, 42000.0, 44000.0, 45000.0, 46000.0, 34000.0, 36000.0, 38000.0, 40000.0, 42000.0, 44000.0, 45000.0, 46000.0, 55000.0, 34000.0, 35000.0, 36000.0, 40000.0, 45000.0, 50000.0, 55000.0, 60000.0, 70000.0, 35000.0, 40000.0, 45000.0, 50000.0, 55000.0, 60000.0, 70000.0], \"y\": [0.0008216581027075943, 0.0008216581027075943, 0.0008216581027075943, 0.0008216581027075943, 0.0008216581027075943, 0.0008216581027075943, 0.0008216581027075943, 0.0035613841301048547, 0.0035613841301048547, 0.0035613841301048547, 0.0035613841301048547, 0.0035613841301048547, 0.009040836184899375, 0.009040836184899375, 0.009040836184899375, 0.009040836184899375, 0.009040836184899375, 0.009040836184899375, 0.009040836184899375, 0.009040836184899375, 0.009040836184899375, 0.009040836184899375, 0.009040836184899375, 0.009040836184899375, 0.009040836184899375, 0.028218918376680197, 0.028218918376680197, 0.028218918376680197, 0.028218918376680197, 0.028218918376680197, 0.028218918376680197, 0.028218918376680197, 0.028218918376680197, 0.028218918376680197, 0.028218918376680197, 0.028218918376680197, 0.028218918376680197, 0.047397000568461016, 0.047397000568461016, 0.047397000568461016, 0.047397000568461016, 0.047397000568461016, 0.047397000568461016, 0.047397000568461016, 0.047397000568461016, 0.047397000568461016, 0.10493124714380349, 0.10493124714380349, 0.10493124714380349, 0.10493124714380349, 0.10493124714380349, 0.10493124714380349, 0.10493124714380349, 0.10493124714380349, 0.10493124714380349, 0.18164357591092678, 0.18164357591092678, 0.18164357591092678, 0.18164357591092678, 0.18164357591092678, 0.18164357591092678, 0.18164357591092678], \"z\": [0.022231347013999425, 0.013107049408429994, 0.004407042355465851, 0.002794951875135232, 0.0013932393087113248, 0.0012037175523932908, 0.001090022372418703, 0.03497425609526772, 0.018999182135068793, 0.010370562468091205, 0.005980238444095898, 0.003762344855463229, 0.05658956887495492, 0.03092092099224253, 0.019821317500306357, 0.0203288024766497, 0.008361832870604102, 0.0082814052276452, 0.003956051353923518, 0.004590076449347336, 0.0031321974171543143, 0.004035375781505424, 0.0051083350509110725, 0.010609765639637891, 0.004947892858797681, 0.10696627235256528, 0.058581047799105335, 0.044398474242786534, 0.034236488527626285, 0.026738583018865114, 0.02044686225289727, 0.01568466900882015, 0.0124724536027081, 0.00774036654526522, 0.005033551583086271, 0.003832722231131569, 0.003319834183087317, 0.08266257967310864, 0.05134875161265651, 0.034570034160742225, 0.022542230970720167, 0.015595714478813694, 0.014147708904484801, 0.00921390339762096, 0.008353052359013124, 0.0020751708920745265, 0.14661331442550818, 0.1147181281886347, 0.06070525320604503, 0.07544760797399164, 0.031103485524000885, 0.038051206609599264, 0.012160665347626831, 0.009739838399645373, 0.004066323919744194, 0.18341099967334173, 0.0956306144738388, 0.05810004701549065, 0.03858592846330233, 0.026140515379337925, 0.019151241315136125, 0.011151364935121866]}, {\"mode\": \"markers\", \"name\": \"Real Market Price\", \"type\": \"scatter3d\", \"x\": [33000.0, 34000.0, 35000.0, 36000.0, 37000.0, 38000.0, 39000.0, 33000.0, 34000.0, 35000.0, 36000.0, 37000.0, 33000.0, 34000.0, 35000.0, 36000.0, 37000.0, 38000.0, 39000.0, 40000.0, 42000.0, 44000.0, 46000.0, 48000.0, 50000.0, 33000.0, 34000.0, 35000.0, 36000.0, 37000.0, 38000.0, 39000.0, 40000.0, 42000.0, 44000.0, 45000.0, 46000.0, 34000.0, 36000.0, 38000.0, 40000.0, 42000.0, 44000.0, 45000.0, 46000.0, 55000.0, 34000.0, 35000.0, 36000.0, 40000.0, 45000.0, 50000.0, 55000.0, 60000.0, 70000.0, 35000.0, 40000.0, 45000.0, 50000.0, 55000.0, 60000.0, 70000.0], \"y\": [0.0008216581027075943, 0.0008216581027075943, 0.0008216581027075943, 0.0008216581027075943, 0.0008216581027075943, 0.0008216581027075943, 0.0008216581027075943, 0.0035613841301048547, 0.0035613841301048547, 0.0035613841301048547, 0.0035613841301048547, 0.0035613841301048547, 0.009040836184899375, 0.009040836184899375, 0.009040836184899375, 0.009040836184899375, 0.009040836184899375, 0.009040836184899375, 0.009040836184899375, 0.009040836184899375, 0.009040836184899375, 0.009040836184899375, 0.009040836184899375, 0.009040836184899375, 0.009040836184899375, 0.028218918376680197, 0.028218918376680197, 0.028218918376680197, 0.028218918376680197, 0.028218918376680197, 0.028218918376680197, 0.028218918376680197, 0.028218918376680197, 0.028218918376680197, 0.028218918376680197, 0.028218918376680197, 0.028218918376680197, 0.047397000568461016, 0.047397000568461016, 0.047397000568461016, 0.047397000568461016, 0.047397000568461016, 0.047397000568461016, 0.047397000568461016, 0.047397000568461016, 0.047397000568461016, 0.10493124714380349, 0.10493124714380349, 0.10493124714380349, 0.10493124714380349, 0.10493124714380349, 0.10493124714380349, 0.10493124714380349, 0.10493124714380349, 0.10493124714380349, 0.18164357591092678, 0.18164357591092678, 0.18164357591092678, 0.18164357591092678, 0.18164357591092678, 0.18164357591092678, 0.18164357591092678], \"z\": [0.02163505025652203, 0.013060016199363894, 0.004396822867677168, 0.0027901233543763016, 0.0013912768647281921, 0.0012022471910112357, 0.0010889227642276423, 0.03167656236910446, 0.018712899783491506, 0.010276951921789203, 0.005938926447359586, 0.0037410684277744168, 0.04326489209916176, 0.02984695369753497, 0.019399869769327945, 0.02001870463428253, 0.008250905332923372, 0.00818985956512551, 0.003915799881760396, 0.0045493233736187185, 0.0031086321048705975, 0.004010022271714923, 0.005080769230769231, 0.010561491935483868, 0.0049258526187576125, 0.06783974423196537, 0.05298300994901747, 0.04179728055813395, 0.03272823426573427, 0.02577345900751292, 0.01981386185271781, 0.015252230531762249, 0.012160126050420168, 0.007573409074982853, 0.004937150179085664, 0.0037627432000716205, 0.0032619168389150252, 0.07037026066015016, 0.04775709837217987, 0.032875257759567234, 0.021656065833911872, 0.015071489604273024, 0.013736185755155988, 0.008952480620155037, 0.008128424985838163, 0.0020323558958756215, 0.10455881060558195, 0.09336498313975271, 0.051780783237599694, 0.06974152825144206, 0.02938350928555426, 0.03644702468131272, 0.011685041546757927, 0.009401329337890122, 0.003942589566430626, 0.12939665490080066, 0.08360246463116158, 0.052934221749308875, 0.03580054403031724, 0.024501404646475676, 0.018076270026016705, 0.010614630212560148]}],                        {\"scene\": {\"xaxis\": {\"title\": {\"text\": \"Strike\"}}, \"yaxis\": {\"title\": {\"text\": \"Exp\"}}, \"zaxis\": {\"title\": {\"text\": \"Price\"}}}, \"template\": {\"data\": {\"bar\": [{\"error_x\": {\"color\": \"#2a3f5f\"}, \"error_y\": {\"color\": \"#2a3f5f\"}, \"marker\": {\"line\": {\"color\": \"#E5ECF6\", \"width\": 0.5}}, \"type\": \"bar\"}], \"barpolar\": [{\"marker\": {\"line\": {\"color\": \"#E5ECF6\", \"width\": 0.5}}, \"type\": \"barpolar\"}], \"carpet\": [{\"aaxis\": {\"endlinecolor\": \"#2a3f5f\", \"gridcolor\": \"white\", \"linecolor\": \"white\", \"minorgridcolor\": \"white\", \"startlinecolor\": \"#2a3f5f\"}, \"baxis\": {\"endlinecolor\": \"#2a3f5f\", \"gridcolor\": \"white\", \"linecolor\": \"white\", \"minorgridcolor\": \"white\", \"startlinecolor\": \"#2a3f5f\"}, \"type\": \"carpet\"}], \"choropleth\": [{\"colorbar\": {\"outlinewidth\": 0, \"ticks\": \"\"}, \"type\": \"choropleth\"}], \"contour\": [{\"colorbar\": {\"outlinewidth\": 0, \"ticks\": \"\"}, \"colorscale\": [[0.0, \"#0d0887\"], [0.1111111111111111, \"#46039f\"], [0.2222222222222222, \"#7201a8\"], [0.3333333333333333, \"#9c179e\"], [0.4444444444444444, \"#bd3786\"], [0.5555555555555556, \"#d8576b\"], [0.6666666666666666, \"#ed7953\"], [0.7777777777777778, \"#fb9f3a\"], [0.8888888888888888, \"#fdca26\"], [1.0, \"#f0f921\"]], \"type\": \"contour\"}], \"contourcarpet\": [{\"colorbar\": {\"outlinewidth\": 0, \"ticks\": \"\"}, \"type\": \"contourcarpet\"}], \"heatmap\": [{\"colorbar\": {\"outlinewidth\": 0, \"ticks\": \"\"}, \"colorscale\": [[0.0, \"#0d0887\"], [0.1111111111111111, \"#46039f\"], [0.2222222222222222, \"#7201a8\"], [0.3333333333333333, \"#9c179e\"], [0.4444444444444444, \"#bd3786\"], [0.5555555555555556, \"#d8576b\"], [0.6666666666666666, \"#ed7953\"], [0.7777777777777778, \"#fb9f3a\"], [0.8888888888888888, \"#fdca26\"], [1.0, \"#f0f921\"]], \"type\": \"heatmap\"}], \"heatmapgl\": [{\"colorbar\": {\"outlinewidth\": 0, \"ticks\": \"\"}, \"colorscale\": [[0.0, \"#0d0887\"], [0.1111111111111111, \"#46039f\"], [0.2222222222222222, \"#7201a8\"], [0.3333333333333333, \"#9c179e\"], [0.4444444444444444, \"#bd3786\"], [0.5555555555555556, \"#d8576b\"], [0.6666666666666666, \"#ed7953\"], [0.7777777777777778, \"#fb9f3a\"], [0.8888888888888888, \"#fdca26\"], [1.0, \"#f0f921\"]], \"type\": \"heatmapgl\"}], \"histogram\": [{\"marker\": {\"colorbar\": {\"outlinewidth\": 0, \"ticks\": \"\"}}, \"type\": \"histogram\"}], \"histogram2d\": [{\"colorbar\": {\"outlinewidth\": 0, \"ticks\": \"\"}, \"colorscale\": [[0.0, \"#0d0887\"], [0.1111111111111111, \"#46039f\"], [0.2222222222222222, \"#7201a8\"], [0.3333333333333333, \"#9c179e\"], [0.4444444444444444, \"#bd3786\"], [0.5555555555555556, \"#d8576b\"], [0.6666666666666666, \"#ed7953\"], [0.7777777777777778, \"#fb9f3a\"], [0.8888888888888888, \"#fdca26\"], [1.0, \"#f0f921\"]], \"type\": \"histogram2d\"}], \"histogram2dcontour\": [{\"colorbar\": {\"outlinewidth\": 0, \"ticks\": \"\"}, \"colorscale\": [[0.0, \"#0d0887\"], [0.1111111111111111, \"#46039f\"], [0.2222222222222222, \"#7201a8\"], [0.3333333333333333, \"#9c179e\"], [0.4444444444444444, \"#bd3786\"], [0.5555555555555556, \"#d8576b\"], [0.6666666666666666, \"#ed7953\"], [0.7777777777777778, \"#fb9f3a\"], [0.8888888888888888, \"#fdca26\"], [1.0, \"#f0f921\"]], \"type\": \"histogram2dcontour\"}], \"mesh3d\": [{\"colorbar\": {\"outlinewidth\": 0, \"ticks\": \"\"}, \"type\": \"mesh3d\"}], \"parcoords\": [{\"line\": {\"colorbar\": {\"outlinewidth\": 0, \"ticks\": \"\"}}, \"type\": \"parcoords\"}], \"pie\": [{\"automargin\": true, \"type\": \"pie\"}], \"scatter\": [{\"marker\": {\"colorbar\": {\"outlinewidth\": 0, \"ticks\": \"\"}}, \"type\": \"scatter\"}], \"scatter3d\": [{\"line\": {\"colorbar\": {\"outlinewidth\": 0, \"ticks\": \"\"}}, \"marker\": {\"colorbar\": {\"outlinewidth\": 0, \"ticks\": \"\"}}, \"type\": \"scatter3d\"}], \"scattercarpet\": [{\"marker\": {\"colorbar\": {\"outlinewidth\": 0, \"ticks\": \"\"}}, \"type\": \"scattercarpet\"}], \"scattergeo\": [{\"marker\": {\"colorbar\": {\"outlinewidth\": 0, \"ticks\": \"\"}}, \"type\": \"scattergeo\"}], \"scattergl\": [{\"marker\": {\"colorbar\": {\"outlinewidth\": 0, \"ticks\": \"\"}}, \"type\": \"scattergl\"}], \"scattermapbox\": [{\"marker\": {\"colorbar\": {\"outlinewidth\": 0, \"ticks\": \"\"}}, \"type\": \"scattermapbox\"}], \"scatterpolar\": [{\"marker\": {\"colorbar\": {\"outlinewidth\": 0, \"ticks\": \"\"}}, \"type\": \"scatterpolar\"}], \"scatterpolargl\": [{\"marker\": {\"colorbar\": {\"outlinewidth\": 0, \"ticks\": \"\"}}, \"type\": \"scatterpolargl\"}], \"scatterternary\": [{\"marker\": {\"colorbar\": {\"outlinewidth\": 0, \"ticks\": \"\"}}, \"type\": \"scatterternary\"}], \"surface\": [{\"colorbar\": {\"outlinewidth\": 0, \"ticks\": \"\"}, \"colorscale\": [[0.0, \"#0d0887\"], [0.1111111111111111, \"#46039f\"], [0.2222222222222222, \"#7201a8\"], [0.3333333333333333, \"#9c179e\"], [0.4444444444444444, \"#bd3786\"], [0.5555555555555556, \"#d8576b\"], [0.6666666666666666, \"#ed7953\"], [0.7777777777777778, \"#fb9f3a\"], [0.8888888888888888, \"#fdca26\"], [1.0, \"#f0f921\"]], \"type\": \"surface\"}], \"table\": [{\"cells\": {\"fill\": {\"color\": \"#EBF0F8\"}, \"line\": {\"color\": \"white\"}}, \"header\": {\"fill\": {\"color\": \"#C8D4E3\"}, \"line\": {\"color\": \"white\"}}, \"type\": \"table\"}]}, \"layout\": {\"annotationdefaults\": {\"arrowcolor\": \"#2a3f5f\", \"arrowhead\": 0, \"arrowwidth\": 1}, \"autotypenumbers\": \"strict\", \"coloraxis\": {\"colorbar\": {\"outlinewidth\": 0, \"ticks\": \"\"}}, \"colorscale\": {\"diverging\": [[0, \"#8e0152\"], [0.1, \"#c51b7d\"], [0.2, \"#de77ae\"], [0.3, \"#f1b6da\"], [0.4, \"#fde0ef\"], [0.5, \"#f7f7f7\"], [0.6, \"#e6f5d0\"], [0.7, \"#b8e186\"], [0.8, \"#7fbc41\"], [0.9, \"#4d9221\"], [1, \"#276419\"]], \"sequential\": [[0.0, \"#0d0887\"], [0.1111111111111111, \"#46039f\"], [0.2222222222222222, \"#7201a8\"], [0.3333333333333333, \"#9c179e\"], [0.4444444444444444, \"#bd3786\"], [0.5555555555555556, \"#d8576b\"], [0.6666666666666666, \"#ed7953\"], [0.7777777777777778, \"#fb9f3a\"], [0.8888888888888888, \"#fdca26\"], [1.0, \"#f0f921\"]], \"sequentialminus\": [[0.0, \"#0d0887\"], [0.1111111111111111, \"#46039f\"], [0.2222222222222222, \"#7201a8\"], [0.3333333333333333, \"#9c179e\"], [0.4444444444444444, \"#bd3786\"], [0.5555555555555556, \"#d8576b\"], [0.6666666666666666, \"#ed7953\"], [0.7777777777777778, \"#fb9f3a\"], [0.8888888888888888, \"#fdca26\"], [1.0, \"#f0f921\"]]}, \"colorway\": [\"#636efa\", \"#EF553B\", \"#00cc96\", \"#ab63fa\", \"#FFA15A\", \"#19d3f3\", \"#FF6692\", \"#B6E880\", \"#FF97FF\", \"#FECB52\"], \"font\": {\"color\": \"#2a3f5f\"}, \"geo\": {\"bgcolor\": \"white\", \"lakecolor\": \"white\", \"landcolor\": \"#E5ECF6\", \"showlakes\": true, \"showland\": true, \"subunitcolor\": \"white\"}, \"hoverlabel\": {\"align\": \"left\"}, \"hovermode\": \"closest\", \"mapbox\": {\"style\": \"light\"}, \"paper_bgcolor\": \"white\", \"plot_bgcolor\": \"#E5ECF6\", \"polar\": {\"angularaxis\": {\"gridcolor\": \"white\", \"linecolor\": \"white\", \"ticks\": \"\"}, \"bgcolor\": \"#E5ECF6\", \"radialaxis\": {\"gridcolor\": \"white\", \"linecolor\": \"white\", \"ticks\": \"\"}}, \"scene\": {\"xaxis\": {\"backgroundcolor\": \"#E5ECF6\", \"gridcolor\": \"white\", \"gridwidth\": 2, \"linecolor\": \"white\", \"showbackground\": true, \"ticks\": \"\", \"zerolinecolor\": \"white\"}, \"yaxis\": {\"backgroundcolor\": \"#E5ECF6\", \"gridcolor\": \"white\", \"gridwidth\": 2, \"linecolor\": \"white\", \"showbackground\": true, \"ticks\": \"\", \"zerolinecolor\": \"white\"}, \"zaxis\": {\"backgroundcolor\": \"#E5ECF6\", \"gridcolor\": \"white\", \"gridwidth\": 2, \"linecolor\": \"white\", \"showbackground\": true, \"ticks\": \"\", \"zerolinecolor\": \"white\"}}, \"shapedefaults\": {\"line\": {\"color\": \"#2a3f5f\"}}, \"ternary\": {\"aaxis\": {\"gridcolor\": \"white\", \"linecolor\": \"white\", \"ticks\": \"\"}, \"baxis\": {\"gridcolor\": \"white\", \"linecolor\": \"white\", \"ticks\": \"\"}, \"bgcolor\": \"#E5ECF6\", \"caxis\": {\"gridcolor\": \"white\", \"linecolor\": \"white\", \"ticks\": \"\"}}, \"title\": {\"x\": 0.05}, \"xaxis\": {\"automargin\": true, \"gridcolor\": \"white\", \"linecolor\": \"white\", \"ticks\": \"\", \"title\": {\"standoff\": 15}, \"zerolinecolor\": \"white\", \"zerolinewidth\": 2}, \"yaxis\": {\"automargin\": true, \"gridcolor\": \"white\", \"linecolor\": \"white\", \"ticks\": \"\", \"title\": {\"standoff\": 15}, \"zerolinecolor\": \"white\", \"zerolinewidth\": 2}}}},                        {\"responsive\": true}                    ).then(function(){\n",
       "                            \n",
       "var gd = document.getElementById('a30c65d8-3e81-4590-b638-f5b4acbfc824');\n",
       "var x = new MutationObserver(function (mutations, observer) {{\n",
       "        var display = window.getComputedStyle(gd).display;\n",
       "        if (!display || display === 'none') {{\n",
       "            console.log([gd, 'removed!']);\n",
       "            Plotly.purge(gd);\n",
       "            observer.disconnect();\n",
       "        }}\n",
       "}});\n",
       "\n",
       "// Listen for the removal of the full notebook cells\n",
       "var notebookContainer = gd.closest('#notebook-container');\n",
       "if (notebookContainer) {{\n",
       "    x.observe(notebookContainer, {childList: true});\n",
       "}}\n",
       "\n",
       "// Listen for the clearing of the current output cell\n",
       "var outputEl = gd.closest('.output');\n",
       "if (outputEl) {{\n",
       "    x.observe(outputEl, {childList: true});\n",
       "}}\n",
       "\n",
       "                        })                };                });            </script>        </div>"
      ]
     },
     "metadata": {},
     "output_type": "display_data"
    },
    {
     "name": "stdout",
     "output_type": "stream",
     "text": [
      "Root Mean Squared Error | MERTON = 9073.198438652968%\n",
      "Root Mean Squared Error | B&S    = 1.090642756694224%\n"
     ]
    }
   ],
   "source": [
    "import plotly.graph_objects as go\n",
    "\n",
    "option.append_Merton_price()\n",
    "\n",
    "x = option.df['K']\n",
    "y = option.df['_T']\n",
    "z = option.df['BS_PRICE']\n",
    "z2 = option.df['mid']\n",
    "z3 = option.df['MERTON_PRICE']\n",
    "\n",
    "\n",
    "#fig = go.Figure(data=[go.Scatter3d(x=x, y=y, z=z , mode='markers', name='BS price')])\n",
    "\n",
    "fig = go.Figure(data=[go.Scatter3d(x=x, y=y, z=z , mode='markers', name='Black&Scholes model Price'),\n",
    "                      go.Scatter3d(x=x, y=y, z=z2, mode='markers', name='Real Market Price'),\n",
    "                      go.Scatter3d(x=x, y=y, z=z3, mode='markers', name='Merton Model Price')])\n",
    "\n",
    "\n",
    "fig.update_scenes(xaxis_title_text='Strike', yaxis_title_text='Exp', zaxis_title_text='Price') \n",
    "fig.show()\n",
    "\n",
    "rms_merton = mean_squared_error(option.df['mid'], option.df['MERTON_PRICE'], squared=False)\n",
    "rms_bs = mean_squared_error(option.df['mid'], option.df['BS_PRICE'], squared=False)\n",
    "\n",
    "print('Root Mean Squared Error | MERTON = {}%'.format(rms_merton*100))\n",
    "print('Root Mean Squared Error | B&S    = {}%'.format(rms_bs*100))"
   ]
  },
  {
   "cell_type": "code",
   "execution_count": null,
   "metadata": {},
   "outputs": [],
   "source": []
  },
  {
   "cell_type": "code",
   "execution_count": null,
   "metadata": {},
   "outputs": [],
   "source": []
  },
  {
   "cell_type": "code",
   "execution_count": null,
   "metadata": {},
   "outputs": [],
   "source": []
  }
 ],
 "metadata": {
  "kernelspec": {
   "display_name": "Python 3",
   "language": "python",
   "name": "python3"
  },
  "language_info": {
   "codemirror_mode": {
    "name": "ipython",
    "version": 3
   },
   "file_extension": ".py",
   "mimetype": "text/x-python",
   "name": "python",
   "nbconvert_exporter": "python",
   "pygments_lexer": "ipython3",
   "version": "3.7.4"
  }
 },
 "nbformat": 4,
 "nbformat_minor": 2
}
